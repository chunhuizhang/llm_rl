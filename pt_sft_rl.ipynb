{
 "cells": [
  {
   "cell_type": "markdown",
   "id": "fc81cd9b-3c7a-4890-87ff-afc3454a1ffa",
   "metadata": {},
   "source": [
    "### batch size\n"
   ]
  },
  {
   "cell_type": "markdown",
   "id": "1e2becf4-3a44-4901-bc3a-f633c7c339a9",
   "metadata": {},
   "source": [
    "> For very large pretraining jobs, the batch size could be in the many millions like in Llama 3.1 to reduce overfitting and improve generalization capabilities. \n",
    "\n",
    "- 中小规模训练\n",
    "    - 小 batch 带来更多噪声（noise），能帮助模型跳出局部最优，从而提高泛化性；\n",
    "    - 大 batch 更稳定，收敛更快，但容易陷入 sharp minima（尖锐极小值），可能导致过拟合。\n",
    "- 大规模预训练中，大 batch size 的优势\n",
    "    - 在非常大的数据量上，大 batch size 提供更精确的梯度估计。\n",
    "    - 当 batch 足够大时，梯度的方差减小，优化路径更加一致，有助于找到 flatter minima（更平坦的极小值），这些往往具有更好的泛化能力。"
   ]
  }
 ],
 "metadata": {
  "kernelspec": {
   "display_name": "verl",
   "language": "python",
   "name": "verl"
  },
  "language_info": {
   "codemirror_mode": {
    "name": "ipython",
    "version": 3
   },
   "file_extension": ".py",
   "mimetype": "text/x-python",
   "name": "python",
   "nbconvert_exporter": "python",
   "pygments_lexer": "ipython3",
   "version": "3.9.0"
  }
 },
 "nbformat": 4,
 "nbformat_minor": 5
}
