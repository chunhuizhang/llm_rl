{
 "cells": [
  {
   "cell_type": "markdown",
   "id": "8e3bdfb2-c9fe-4e99-a770-84152bc8a683",
   "metadata": {},
   "source": [
    "```\n",
    "del xx\n",
    "torch.cuda.empty_cache()\n",
    "gc.collect()\n",
    "```"
   ]
  }
 ],
 "metadata": {
  "kernelspec": {
   "display_name": "Python 3 (ipykernel)",
   "language": "python",
   "name": "python3"
  },
  "language_info": {
   "codemirror_mode": {
    "name": "ipython",
    "version": 3
   },
   "file_extension": ".py",
   "mimetype": "text/x-python",
   "name": "python",
   "nbconvert_exporter": "python",
   "pygments_lexer": "ipython3",
   "version": "3.10.13"
  }
 },
 "nbformat": 4,
 "nbformat_minor": 5
}
