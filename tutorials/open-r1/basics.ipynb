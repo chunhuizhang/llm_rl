{
 "cells": [
  {
   "cell_type": "markdown",
   "id": "973c7ed4-698d-4ac4-8264-a2b22bb1c8bb",
   "metadata": {},
   "source": [
    "## sft & grpo"
   ]
  },
  {
   "cell_type": "markdown",
   "id": "dddb6644-2c63-4f92-948a-b36c7f8b1486",
   "metadata": {},
   "source": [
    "- dataset\n",
    "    - `open-r1/OpenR1-Math-220k`：93733\n",
    "        - message 字段: thinking content distilled from deepseek-r1\n",
    "    ```\n",
    "    [{'role': 'user', 'content': question}, \n",
    "     {'role': 'assistant', 'content': '<think></think>\\boxed{}'}]\n",
    "    ```"
   ]
  },
  {
   "cell_type": "markdown",
   "id": "05fb00a5-943a-4844-8510-5d8be7ce5da5",
   "metadata": {},
   "source": [
    "### sft "
   ]
  },
  {
   "cell_type": "markdown",
   "id": "e5b17183-5d1a-4294-aea0-0825e7cfc29f",
   "metadata": {},
   "source": [
    "- loss\n",
    "    - label smoother\n",
    "        - https://zhuanlan.zhihu.com/p/23082325421\n",
    "    - completion_only_loss: false\n",
    "        - prompt 部分也会产生 loss\n",
    "        - https://github.com/huggingface/open-r1/issues/648"
   ]
  },
  {
   "cell_type": "markdown",
   "id": "48469b74-6b12-47fa-ad60-ad4c40816a71",
   "metadata": {},
   "source": [
    "### grpo"
   ]
  },
  {
   "cell_type": "markdown",
   "id": "201cc05b-e1bd-4333-a989-a87bff97902b",
   "metadata": {},
   "source": [
    "- 16 / 16 : 每个设备处理的 prompts\n",
    "    - bz_per_device / num_generations\n",
    "- 16 / 16 * 7  * 4: 7 表示 7个设备，4 表示 ga；\n",
    "- 93733 / (16 / 16 * 7 * 4): 3347 steps;"
   ]
  },
  {
   "cell_type": "markdown",
   "id": "9c075e94-0f0b-4374-9917-333b2600ea3d",
   "metadata": {},
   "source": [
    "### vllm"
   ]
  },
  {
   "cell_type": "markdown",
   "id": "c763de15-e806-4ba0-a3f4-55f2fcd33eaa",
   "metadata": {},
   "source": [
    "https://huggingface.co/docs/trl/main/vllm_integration\n",
    "- POST /update_named_param/ : move model to vllm\n",
    "- POST /reset_prefix_cache/\n",
    "- POST /generate/"
   ]
  }
 ],
 "metadata": {
  "kernelspec": {
   "display_name": "Python 3 (ipykernel)",
   "language": "python",
   "name": "python3"
  },
  "language_info": {
   "codemirror_mode": {
    "name": "ipython",
    "version": 3
   },
   "file_extension": ".py",
   "mimetype": "text/x-python",
   "name": "python",
   "nbconvert_exporter": "python",
   "pygments_lexer": "ipython3",
   "version": "3.10.0"
  }
 },
 "nbformat": 4,
 "nbformat_minor": 5
}
