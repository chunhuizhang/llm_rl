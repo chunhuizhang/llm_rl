{
 "cells": [
  {
   "cell_type": "markdown",
   "id": "973c7ed4-698d-4ac4-8264-a2b22bb1c8bb",
   "metadata": {},
   "source": [
    "## sft & grpo"
   ]
  },
  {
   "cell_type": "markdown",
   "id": "dddb6644-2c63-4f92-948a-b36c7f8b1486",
   "metadata": {},
   "source": [
    "- dataset\n",
    "    - `open-r1/OpenR1-Math-220k`：93733\n",
    "        - message 字段: thinking content distilled from deepseek-r1\n",
    "    ```\n",
    "    [{'role': 'user', 'content': question}, \n",
    "     {'role': 'assistant', 'content': '<think></think>\\boxed{}'}]\n",
    "    ```"
   ]
  },
  {
   "cell_type": "markdown",
   "id": "05fb00a5-943a-4844-8510-5d8be7ce5da5",
   "metadata": {},
   "source": [
    "### sft "
   ]
  },
  {
   "cell_type": "markdown",
   "id": "e5b17183-5d1a-4294-aea0-0825e7cfc29f",
   "metadata": {},
   "source": [
    "- loss\n",
    "    - label smoother\n",
    "    - completion_only_loss: false\n",
    "        - prompt 部分也会产生 loss"
   ]
  },
  {
   "cell_type": "code",
   "execution_count": null,
   "id": "f4c5ab32-7fb7-48e6-aa68-7d75ca659b11",
   "metadata": {},
   "outputs": [],
   "source": []
  }
 ],
 "metadata": {
  "kernelspec": {
   "display_name": "Python 3 (ipykernel)",
   "language": "python",
   "name": "python3"
  },
  "language_info": {
   "codemirror_mode": {
    "name": "ipython",
    "version": 3
   },
   "file_extension": ".py",
   "mimetype": "text/x-python",
   "name": "python",
   "nbconvert_exporter": "python",
   "pygments_lexer": "ipython3",
   "version": "3.10.0"
  }
 },
 "nbformat": 4,
 "nbformat_minor": 5
}
