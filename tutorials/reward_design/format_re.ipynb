{
 "cells": [
  {
   "cell_type": "markdown",
   "id": "1bc5f83b-3599-45f6-a523-74df918a2639",
   "metadata": {},
   "source": [
    "- https://github.com/huggingface/open-r1/issues/235"
   ]
  },
  {
   "cell_type": "markdown",
   "id": "a322428b-4586-40dc-bd15-44182cfa06b5",
   "metadata": {},
   "source": [
    "### re basics"
   ]
  },
  {
   "cell_type": "markdown",
   "id": "744bb397-ac29-457a-9a6d-55f9c9a1854c",
   "metadata": {},
   "source": [
    "- `re.search`: find something **anywhere** in the string and return a match object.\n",
    "- `re.match`: find something **at the beginning** of the string and return a match object."
   ]
  },
  {
   "cell_type": "code",
   "execution_count": 14,
   "id": "a90c3bf3-7ab7-4175-8030-24d721c09625",
   "metadata": {
    "execution": {
     "iopub.execute_input": "2025-03-23T09:22:29.713881Z",
     "iopub.status.busy": "2025-03-23T09:22:29.713131Z",
     "iopub.status.idle": "2025-03-23T09:22:29.723350Z",
     "shell.execute_reply": "2025-03-23T09:22:29.720825Z",
     "shell.execute_reply.started": "2025-03-23T09:22:29.713774Z"
    }
   },
   "outputs": [],
   "source": [
    "import re"
   ]
  },
  {
   "cell_type": "code",
   "execution_count": 3,
   "id": "60d48c0b-4b4c-453d-ab79-95633318d6f8",
   "metadata": {
    "execution": {
     "iopub.execute_input": "2025-03-23T09:17:30.082783Z",
     "iopub.status.busy": "2025-03-23T09:17:30.082241Z",
     "iopub.status.idle": "2025-03-23T09:17:30.092083Z",
     "shell.execute_reply": "2025-03-23T09:17:30.089656Z",
     "shell.execute_reply.started": "2025-03-23T09:17:30.082734Z"
    }
   },
   "outputs": [],
   "source": [
    "pattern = r\"<think>.*?</think>\\s*<answer>.*?</answer>\""
   ]
  },
  {
   "cell_type": "code",
   "execution_count": 9,
   "id": "4bd86ad9-8d24-4524-8caf-8ba7425d2b52",
   "metadata": {
    "execution": {
     "iopub.execute_input": "2025-03-23T09:19:20.631589Z",
     "iopub.status.busy": "2025-03-23T09:19:20.630886Z",
     "iopub.status.idle": "2025-03-23T09:19:20.641937Z",
     "shell.execute_reply": "2025-03-23T09:19:20.639710Z",
     "shell.execute_reply.started": "2025-03-23T09:19:20.631522Z"
    }
   },
   "outputs": [],
   "source": [
    "model_resp = 'hello<think>hello</think><answer>hello</answer>hello'\n",
    "re.match(pattern, model_resp, re.DOTALL)"
   ]
  },
  {
   "cell_type": "code",
   "execution_count": 13,
   "id": "48a14872-dd3d-4f40-a4e0-79494b620edc",
   "metadata": {
    "execution": {
     "iopub.execute_input": "2025-03-23T09:22:05.452449Z",
     "iopub.status.busy": "2025-03-23T09:22:05.452038Z",
     "iopub.status.idle": "2025-03-23T09:22:05.464261Z",
     "shell.execute_reply": "2025-03-23T09:22:05.461950Z",
     "shell.execute_reply.started": "2025-03-23T09:22:05.452415Z"
    }
   },
   "outputs": [
    {
     "data": {
      "text/plain": [
       "<re.Match object; span=(0, 42), match='<think>hello</think><answer>hello</answer>'>"
      ]
     },
     "execution_count": 13,
     "metadata": {},
     "output_type": "execute_result"
    }
   ],
   "source": [
    "re.search(pattern, model_resp, re.DOTALL)"
   ]
  },
  {
   "cell_type": "code",
   "execution_count": 11,
   "id": "fa62e91c-9b4b-4b46-8b0a-71ee23fe4258",
   "metadata": {
    "execution": {
     "iopub.execute_input": "2025-03-23T09:19:32.555600Z",
     "iopub.status.busy": "2025-03-23T09:19:32.554887Z",
     "iopub.status.idle": "2025-03-23T09:19:32.570404Z",
     "shell.execute_reply": "2025-03-23T09:19:32.568149Z",
     "shell.execute_reply.started": "2025-03-23T09:19:32.555533Z"
    }
   },
   "outputs": [
    {
     "data": {
      "text/plain": [
       "<re.Match object; span=(0, 42), match='<think>hello</think><answer>hello</answer>'>"
      ]
     },
     "execution_count": 11,
     "metadata": {},
     "output_type": "execute_result"
    }
   ],
   "source": [
    "model_resp = '<think>hello</think><answer>hello</answer>'\n",
    "re.match(pattern, model_resp, re.DOTALL)"
   ]
  },
  {
   "cell_type": "code",
   "execution_count": 15,
   "id": "45097409-40eb-4b91-840b-f77cf745a7e8",
   "metadata": {
    "execution": {
     "iopub.execute_input": "2025-03-23T09:24:02.075612Z",
     "iopub.status.busy": "2025-03-23T09:24:02.074954Z",
     "iopub.status.idle": "2025-03-23T09:24:02.089052Z",
     "shell.execute_reply": "2025-03-23T09:24:02.087108Z",
     "shell.execute_reply.started": "2025-03-23T09:24:02.075547Z"
    }
   },
   "outputs": [
    {
     "data": {
      "text/plain": [
       "<re.Match object; span=(0, 42), match='<think>hello</think><answer>hello</answer>'>"
      ]
     },
     "execution_count": 15,
     "metadata": {},
     "output_type": "execute_result"
    }
   ],
   "source": [
    "model_resp = '<think>hello</think><answer>hello</answer>hello'\n",
    "re.match(pattern, model_resp, re.DOTALL)"
   ]
  },
  {
   "cell_type": "code",
   "execution_count": null,
   "id": "4b29e472-3a59-448c-ba66-6893450328a3",
   "metadata": {},
   "outputs": [],
   "source": []
  }
 ],
 "metadata": {
  "kernelspec": {
   "display_name": "verl",
   "language": "python",
   "name": "verl"
  },
  "language_info": {
   "codemirror_mode": {
    "name": "ipython",
    "version": 3
   },
   "file_extension": ".py",
   "mimetype": "text/x-python",
   "name": "python",
   "nbconvert_exporter": "python",
   "pygments_lexer": "ipython3",
   "version": "3.9.0"
  }
 },
 "nbformat": 4,
 "nbformat_minor": 5
}
