{
 "cells": [
  {
   "cell_type": "markdown",
   "id": "ce6eda11-9c0c-4e1a-a691-d79a73603c72",
   "metadata": {},
   "source": [
    "- 2 classical query\n",
    "    - Which is larger, 0.9 or 0.11?\n",
    "    - How many Rs are in strawberry?"
   ]
  },
  {
   "cell_type": "markdown",
   "id": "2a00ccb8-ba03-4d81-b6d6-8eaff1012b0c",
   "metadata": {},
   "source": [
    "### math"
   ]
  },
  {
   "cell_type": "markdown",
   "id": "9cfbab29-1025-485e-a8db-02c0d6cf6a34",
   "metadata": {},
   "source": [
    "- 学校组织出游，班长带了不超过150包的湿巾纸，如果40个人平均分则多7包，25个人平均分则多2包。问班长共带了多少包湿巾纸？\n",
    "    - 127：127 = 40*3 + 7；127 = 25\\*5 + 2"
   ]
  },
  {
   "cell_type": "markdown",
   "id": "833438d4-c9c9-4fb2-ab0e-6aa8b8bfcbe1",
   "metadata": {},
   "source": [
    "### coding"
   ]
  },
  {
   "cell_type": "markdown",
   "id": "ef7478c3-4750-4fa2-9d6b-3ff3cbd9e47b",
   "metadata": {},
   "source": [
    "- write a Python program that shows a ball bouncing inside a spinning hexagon. The ball should be affected by gravity and friction, and it must bounce off the rotating walls realistically\n",
    "- Create a 3D city scene using Three.js that features a bustling urban environment with skyscrapers, apartment buildings, and smaller shops lining the streets. Incorporate roads with moving cars, traffic lights, and pedestrian crossings to bring the city to life. Add pedestrians walking on sidewalks and crossing the streets to enhance realism. Include street elements such as lampposts, benches, and trees for a more immersive experience. Utilize dynamic lighting to simulate day and night cycles, and implement basic camera controls to allow users to explore the vibrant cityscape from different perspectives."
   ]
  },
  {
   "cell_type": "markdown",
   "id": "3d45643b-6a17-4d2d-98e2-91c520b6a3bf",
   "metadata": {},
   "source": [
    "### 中文"
   ]
  },
  {
   "cell_type": "markdown",
   "id": "dd98b6bf-8f78-4861-8384-67e08ec121bb",
   "metadata": {},
   "source": [
    "- 中文诗词（押韵、平仄）\n",
    "    - 请以e这个韵脚，创作一手“乡愁”主题的诗歌；\n",
    "    - 用忆秦娥的词牌，创作一首乡愁主题的词；"
   ]
  },
  {
   "cell_type": "markdown",
   "id": "66d28b1c-c008-482f-bef6-42d14d44f1c2",
   "metadata": {},
   "source": [
    "### 智力题"
   ]
  },
  {
   "cell_type": "markdown",
   "id": "ad968279-9c0a-4bf4-b6ff-dea1114f9845",
   "metadata": {},
   "source": [
    "- 脑筋急转弯 & 弱智吧\n",
    "    - 为什么爷爷小的时候不认识爸爸；\n",
    "    - 寡妇门前是非多，为什么寡妇的丈夫不去帮她"
   ]
  }
 ],
 "metadata": {
  "kernelspec": {
   "display_name": "Python 3 (ipykernel)",
   "language": "python",
   "name": "python3"
  },
  "language_info": {
   "codemirror_mode": {
    "name": "ipython",
    "version": 3
   },
   "file_extension": ".py",
   "mimetype": "text/x-python",
   "name": "python",
   "nbconvert_exporter": "python",
   "pygments_lexer": "ipython3",
   "version": "3.10.13"
  }
 },
 "nbformat": 4,
 "nbformat_minor": 5
}
