{
 "cells": [
  {
   "cell_type": "markdown",
   "id": "ce6eda11-9c0c-4e1a-a691-d79a73603c72",
   "metadata": {},
   "source": [
    "- 2 classical query\n",
    "    - Which is larger, 0.9 or 0.11?\n",
    "    - How many Rs are in strawberry?"
   ]
  },
  {
   "cell_type": "markdown",
   "id": "9cfbab29-1025-485e-a8db-02c0d6cf6a34",
   "metadata": {},
   "source": [
    "- 数学\n",
    "    - 学校组织出游，班长带了不超过150包的湿巾纸，如果40个人平均分则多7包，25个人平均分则多2包。问班长共带了多少包湿巾纸？\n",
    "        - 127：127 = 40*3 + 7；127 = 25\\*5 + 2"
   ]
  },
  {
   "cell_type": "markdown",
   "id": "dd98b6bf-8f78-4861-8384-67e08ec121bb",
   "metadata": {},
   "source": [
    "- 中文诗词（押韵、平仄）\n",
    "    - 请以e这个韵脚，创作一手“乡愁”主题的诗歌；\n",
    "    - 用忆秦娥的词牌，创作一首乡愁主题的词；"
   ]
  },
  {
   "cell_type": "markdown",
   "id": "ef7478c3-4750-4fa2-9d6b-3ff3cbd9e47b",
   "metadata": {},
   "source": [
    "- coding\n",
    "    - ball in the cube"
   ]
  }
 ],
 "metadata": {
  "kernelspec": {
   "display_name": "Python 3 (ipykernel)",
   "language": "python",
   "name": "python3"
  },
  "language_info": {
   "codemirror_mode": {
    "name": "ipython",
    "version": 3
   },
   "file_extension": ".py",
   "mimetype": "text/x-python",
   "name": "python",
   "nbconvert_exporter": "python",
   "pygments_lexer": "ipython3",
   "version": "3.10.13"
  }
 },
 "nbformat": 4,
 "nbformat_minor": 5
}
