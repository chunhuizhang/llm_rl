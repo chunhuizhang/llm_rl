{
 "cells": [
  {
   "cell_type": "markdown",
   "id": "533951c2-ebd8-4a7f-b8c1-a39336f927df",
   "metadata": {},
   "source": [
    "- https://huggingface.co/blog/how-to-generate\n",
    "- https://huggingface.co/blog/constrained-beam-search"
   ]
  }
 ],
 "metadata": {
  "kernelspec": {
   "display_name": "Python 3 (ipykernel)",
   "language": "python",
   "name": "python3"
  },
  "language_info": {
   "codemirror_mode": {
    "name": "ipython",
    "version": 3
   },
   "file_extension": ".py",
   "mimetype": "text/x-python",
   "name": "python",
   "nbconvert_exporter": "python",
   "pygments_lexer": "ipython3",
   "version": "3.10.13"
  }
 },
 "nbformat": 4,
 "nbformat_minor": 5
}
