{
 "cells": [
  {
   "cell_type": "code",
   "execution_count": 12,
   "id": "28097bf1-d29d-4d1e-a5e8-aa7624d2c464",
   "metadata": {
    "execution": {
     "iopub.execute_input": "2025-01-04T10:18:33.801172Z",
     "iopub.status.busy": "2025-01-04T10:18:33.800642Z",
     "iopub.status.idle": "2025-01-04T10:18:33.809855Z",
     "shell.execute_reply": "2025-01-04T10:18:33.807691Z",
     "shell.execute_reply.started": "2025-01-04T10:18:33.801129Z"
    }
   },
   "outputs": [],
   "source": [
    "from IPython.display import Image"
   ]
  },
  {
   "cell_type": "markdown",
   "id": "533951c2-ebd8-4a7f-b8c1-a39336f927df",
   "metadata": {},
   "source": [
    "- https://huggingface.co/blog/how-to-generate\n",
    "- https://huggingface.co/blog/constrained-beam-search"
   ]
  },
  {
   "cell_type": "markdown",
   "id": "424110e8-4753-40a4-8a58-4bce75aa2eea",
   "metadata": {},
   "source": [
    "### search"
   ]
  },
  {
   "cell_type": "markdown",
   "id": "1be4df9e-be82-48e8-bd1b-b4e5a0226928",
   "metadata": {},
   "source": [
    "- greedy search => beam search\n",
    "    - greedy search：只选择 top1 logit 的 token\n",
    "        - `[batch_size, seq_length inc]` \n",
    "    - beam search: 增加候选的数量，即束宽度：beam width\n",
    "        - text: expand beam width times\n",
    "            - Once upon a time\n",
    "            - Once upon a time\n",
    "            - Once upon a time\n",
    "        - `[batch_size * num_beams, seq_length inc]`"
   ]
  },
  {
   "cell_type": "code",
   "execution_count": 16,
   "id": "e8dba61e-110b-4c45-b8a7-06c2105c79ca",
   "metadata": {
    "execution": {
     "iopub.execute_input": "2025-01-04T10:21:27.409950Z",
     "iopub.status.busy": "2025-01-04T10:21:27.409630Z",
     "iopub.status.idle": "2025-01-04T10:21:27.420446Z",
     "shell.execute_reply": "2025-01-04T10:21:27.418307Z",
     "shell.execute_reply.started": "2025-01-04T10:21:27.409923Z"
    }
   },
   "outputs": [
    {
     "data": {
      "text/html": [
       "<img src=\"https://huggingface.co/blog/assets/02_how-to-generate/greedy_search.png\" width=\"400\"/>"
      ],
      "text/plain": [
       "<IPython.core.display.Image object>"
      ]
     },
     "execution_count": 16,
     "metadata": {},
     "output_type": "execute_result"
    }
   ],
   "source": [
    "# beam width = 1\n",
    "# 示意做了全展开，事实上第二步，dog 是不会被展开的\n",
    "Image(url='https://huggingface.co/blog/assets/02_how-to-generate/greedy_search.png', width=400)\n",
    "# 1. The\n",
    "# 2. The nice\n",
    "# 3. The nice woman"
   ]
  },
  {
   "cell_type": "code",
   "execution_count": 15,
   "id": "97c22a40-286c-43bd-834d-a1faf6c1990a",
   "metadata": {
    "execution": {
     "iopub.execute_input": "2025-01-04T10:19:38.215837Z",
     "iopub.status.busy": "2025-01-04T10:19:38.215365Z",
     "iopub.status.idle": "2025-01-04T10:19:38.227315Z",
     "shell.execute_reply": "2025-01-04T10:19:38.225138Z",
     "shell.execute_reply.started": "2025-01-04T10:19:38.215797Z"
    }
   },
   "outputs": [
    {
     "data": {
      "text/html": [
       "<img src=\"https://huggingface.co/blog/assets/02_how-to-generate/beam_search.png\" width=\"400\"/>"
      ],
      "text/plain": [
       "<IPython.core.display.Image object>"
      ]
     },
     "execution_count": 15,
     "metadata": {},
     "output_type": "execute_result"
    }
   ],
   "source": [
    "# beam width = 2\n",
    "Image(url='https://huggingface.co/blog/assets/02_how-to-generate/beam_search.png', width=400)\n",
    "# 1. The\n",
    "# 2. The nice\n",
    "# 2. The dog\n",
    "# 3. The nice woman\n",
    "# 3. The dog has"
   ]
  },
  {
   "cell_type": "markdown",
   "id": "b4055cb0-bb41-4927-bf91-5bd96ec6d263",
   "metadata": {},
   "source": [
    "### generate with beam search"
   ]
  },
  {
   "cell_type": "markdown",
   "id": "a3638b8f-fd12-47d9-a35f-b984fc5a5754",
   "metadata": {},
   "source": [
    "- `model(input_ids)`：是一步；\n",
    "- `model.generate(input_ids)`：是多步，autoregressive 的生成；\n",
    "    - max_length: input + max_new_length"
   ]
  },
  {
   "cell_type": "code",
   "execution_count": 17,
   "id": "07f26fac-96ab-475c-8926-de70b4345c34",
   "metadata": {
    "execution": {
     "iopub.execute_input": "2025-01-04T10:32:26.296881Z",
     "iopub.status.busy": "2025-01-04T10:32:26.296248Z",
     "iopub.status.idle": "2025-01-04T10:32:28.395636Z",
     "shell.execute_reply": "2025-01-04T10:32:28.394647Z",
     "shell.execute_reply.started": "2025-01-04T10:32:26.296832Z"
    }
   },
   "outputs": [
    {
     "name": "stderr",
     "output_type": "stream",
     "text": [
      "The attention mask and the pad token id were not set. As a consequence, you may observe unexpected behavior. Please pass your input's `attention_mask` to obtain reliable results.\n",
      "Setting `pad_token_id` to `eos_token_id`:50256 for open-end generation.\n"
     ]
    },
    {
     "name": "stdout",
     "output_type": "stream",
     "text": [
      "Once upon a time, it was said that the Lord had said to Moses, \"I will give\n",
      "Hi I am a big fan of this book. I have been reading it for a while now and\n"
     ]
    }
   ],
   "source": [
    "from transformers import AutoTokenizer, AutoModelForCausalLM\n",
    "\n",
    "prefixes = [\"Once upon a time\", \"Hi I am a\"]\n",
    "model_name = \"gpt2\"\n",
    "\n",
    "tokenizer = AutoTokenizer.from_pretrained(model_name)\n",
    "model = AutoModelForCausalLM.from_pretrained(model_name)\n",
    "\n",
    "input_ids = tokenizer(prefixes, return_tensors=\"pt\").input_ids\n",
    "output_ids = model.generate(input_ids, num_beams=3, max_length=20)\n",
    "\n",
    "output_text = tokenizer.batch_decode(output_ids, skip_special_tokens=True)\n",
    "for text in output_text:\n",
    "    print(text)"
   ]
  },
  {
   "cell_type": "code",
   "execution_count": 18,
   "id": "9b30a26e-8288-4b0c-883a-a8d31dd2978c",
   "metadata": {
    "execution": {
     "iopub.execute_input": "2025-01-04T10:32:32.057189Z",
     "iopub.status.busy": "2025-01-04T10:32:32.056198Z",
     "iopub.status.idle": "2025-01-04T10:32:32.066836Z",
     "shell.execute_reply": "2025-01-04T10:32:32.065588Z",
     "shell.execute_reply.started": "2025-01-04T10:32:32.057142Z"
    }
   },
   "outputs": [
    {
     "data": {
      "text/plain": [
       "tensor([[ 7454,  2402,   257,   640],\n",
       "        [17250,   314,   716,   257]])"
      ]
     },
     "execution_count": 18,
     "metadata": {},
     "output_type": "execute_result"
    }
   ],
   "source": [
    "input_ids"
   ]
  },
  {
   "cell_type": "code",
   "execution_count": 19,
   "id": "446e09fa-d1a2-42a4-b784-9a5f6eccdab6",
   "metadata": {
    "execution": {
     "iopub.execute_input": "2025-01-04T10:32:42.359371Z",
     "iopub.status.busy": "2025-01-04T10:32:42.358760Z",
     "iopub.status.idle": "2025-01-04T10:32:42.369407Z",
     "shell.execute_reply": "2025-01-04T10:32:42.367605Z",
     "shell.execute_reply.started": "2025-01-04T10:32:42.359323Z"
    }
   },
   "outputs": [
    {
     "data": {
      "text/plain": [
       "torch.Size([2, 20])"
      ]
     },
     "execution_count": 19,
     "metadata": {},
     "output_type": "execute_result"
    }
   ],
   "source": [
    "output_ids.shape"
   ]
  },
  {
   "cell_type": "code",
   "execution_count": null,
   "id": "46ec633d-01bb-4e3c-bce5-a0f55c4bbc6c",
   "metadata": {},
   "outputs": [],
   "source": []
  }
 ],
 "metadata": {
  "kernelspec": {
   "display_name": "Python 3 (ipykernel)",
   "language": "python",
   "name": "python3"
  },
  "language_info": {
   "codemirror_mode": {
    "name": "ipython",
    "version": 3
   },
   "file_extension": ".py",
   "mimetype": "text/x-python",
   "name": "python",
   "nbconvert_exporter": "python",
   "pygments_lexer": "ipython3",
   "version": "3.10.13"
  }
 },
 "nbformat": 4,
 "nbformat_minor": 5
}
