{
 "cells": [
  {
   "cell_type": "markdown",
   "id": "22feb286-89d6-41ef-a36f-df49f7a761c6",
   "metadata": {},
   "source": [
    "- https://huggingface.co/spaces/HuggingFaceH4/blogpost-scaling-test-time-compute\n",
    "- https://github.com/huggingface/search-and-learn"
   ]
  },
  {
   "cell_type": "markdown",
   "id": "92b246c3-e0fe-497c-8438-1c1dbd6fab61",
   "metadata": {},
   "source": [
    "### Beam search with PRMs"
   ]
  },
  {
   "cell_type": "markdown",
   "id": "9594e48e-2a84-4ac4-9dc8-87637fdf8d30",
   "metadata": {},
   "source": [
    "- Generate multiple candidate solutions iteratively by maintaining a fixed number of \"beams\" or active paths $N$;\n",
    "- In the first iteration, sample $N$ independent steps from the LLM with temperature $T$ to introduce diversity in the responses. These steps are usually defined by a stopping criterion like terminating on a new line `\\n` or double new line `\\n\\n`.\n",
    "- Score each step with the PRM and select the top $N/M$ steps as candidates for the next round of generation. Here $M$ denotes the “beam width” of a given active path. As in Best-of-N, we used the “last” reduction to score the partial solutions at each iteration.\n",
    "- Expand the steps selected in step (3) by sampling $M$ next steps in the solution.\n",
    "- Repeat steps (3) and (4) until the EOS token is reached or the maximum search depth is exceeded."
   ]
  },
  {
   "cell_type": "code",
   "execution_count": null,
   "id": "b660e44f-7735-4342-9e57-7cf7f1991458",
   "metadata": {},
   "outputs": [],
   "source": []
  }
 ],
 "metadata": {
  "kernelspec": {
   "display_name": "Python 3 (ipykernel)",
   "language": "python",
   "name": "python3"
  },
  "language_info": {
   "codemirror_mode": {
    "name": "ipython",
    "version": 3
   },
   "file_extension": ".py",
   "mimetype": "text/x-python",
   "name": "python",
   "nbconvert_exporter": "python",
   "pygments_lexer": "ipython3",
   "version": "3.10.13"
  }
 },
 "nbformat": 4,
 "nbformat_minor": 5
}
