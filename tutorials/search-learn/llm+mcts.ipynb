{
 "cells": [
  {
   "cell_type": "markdown",
   "id": "e1afeaad-7ae8-464e-b16c-4ad5642bbd4e",
   "metadata": {},
   "source": [
    "- https://www.youtube.com/watch?v=mfAV_bigdRA"
   ]
  }
 ],
 "metadata": {
  "kernelspec": {
   "display_name": "Python 3 (ipykernel)",
   "language": "python",
   "name": "python3"
  },
  "language_info": {
   "codemirror_mode": {
    "name": "ipython",
    "version": 3
   },
   "file_extension": ".py",
   "mimetype": "text/x-python",
   "name": "python",
   "nbconvert_exporter": "python",
   "pygments_lexer": "ipython3",
   "version": "3.10.13"
  }
 },
 "nbformat": 4,
 "nbformat_minor": 5
}
