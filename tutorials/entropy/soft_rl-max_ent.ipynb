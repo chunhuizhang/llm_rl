{
 "cells": [
  {
   "cell_type": "markdown",
   "id": "03ccd1e2-a9ca-4f57-b153-68e433397cda",
   "metadata": {},
   "source": [
    "> 放大器 or 方向盘；\n",
    "- 方向：gradient；\n",
    "- 放大器：启发式的系数（scalar weight）；"
   ]
  },
  {
   "cell_type": "markdown",
   "id": "20e2acb8-aed5-4302-9e38-10689b49ef0d",
   "metadata": {},
   "source": [
    "- Soft RL / 最大熵RL (如SAC)\n",
    "    - 核心思想：为了鼓励探索，我们不应该只关心奖励，还要关心策略的熵 (Entropy)。熵衡量的是策略的随机性或不确定性。熵越高，策略越倾向于探索。\n",
    "        - “soft”意味着从追求“唯一最优解”转向追求“一个包含所有较好解的概率分布”。\n",
    "    - 目标函数：在最大化累积奖励的同时，也最大化策略的熵。目标通常写成 $J(θ) = E[Σ(r_t + α * H(π_θ(·|s_t)))]$。其中 H 是熵，α 是一个超参数，用于平衡奖励和熵的重要性。\n",
    "梯度效应：因为熵 H 是目标函数的一部分，所以在求梯度时，会产生一个直接指向熵增加方向的梯度 ($∇_θ H_t$)。这会主动地“推”着策略变得更随机，从而防止其过快地变得确定化，强制模型进行探索。"
   ]
  },
  {
   "cell_type": "markdown",
   "id": "10b0ed81-57fa-42b5-8316-6331fa6a24cd",
   "metadata": {},
   "source": [
    "### $\\pi_{ref}$ as uniform distribution"
   ]
  },
  {
   "cell_type": "markdown",
   "id": "32f818df-3eb6-4d11-97f4-e093a8ac8c0c",
   "metadata": {},
   "source": [
    "$$\n",
    "\\begin{split}\n",
    "D_{KL}(π_θ || π_{uniform}) &= \\sum_a π_θ(a) \\cdot \\log \\frac{π_θ(a)}{π_{uniform}(a)}\\\\\n",
    "&=\\sum_a\\pi_\\theta(a)\\cdot\\log\\frac{\\pi_\\theta(a)}{\\frac1{|V|}}\\\\\n",
    "&=\\sum_a\\pi_\\theta(a)\\cdot[\\log\\pi_\\theta(a)-\\log\\frac1{|V|}]\\\\\n",
    "&=\\sum_a\\pi_\\theta(a)\\cdot\\log\\pi_\\theta(a)-\\log\\frac1{|V|}\\\\\n",
    "&=-H(\\pi_\\theta)+\\log|V|\n",
    "\\end{split}\n",
    "$$"
   ]
  },
  {
   "cell_type": "code",
   "execution_count": null,
   "id": "3524c6d4-a22a-4608-a883-c8f68b1237ca",
   "metadata": {},
   "outputs": [],
   "source": []
  }
 ],
 "metadata": {
  "kernelspec": {
   "display_name": "Python 3 (ipykernel)",
   "language": "python",
   "name": "python3"
  },
  "language_info": {
   "codemirror_mode": {
    "name": "ipython",
    "version": 3
   },
   "file_extension": ".py",
   "mimetype": "text/x-python",
   "name": "python",
   "nbconvert_exporter": "python",
   "pygments_lexer": "ipython3",
   "version": "3.10.0"
  }
 },
 "nbformat": 4,
 "nbformat_minor": 5
}
