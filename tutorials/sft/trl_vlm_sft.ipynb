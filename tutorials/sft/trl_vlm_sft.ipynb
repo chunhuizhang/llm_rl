{
 "cells": [
  {
   "cell_type": "markdown",
   "id": "60583cbd-a01c-4f0d-83ab-58b10dac2950",
   "metadata": {},
   "source": [
    "- https://github.com/huggingface/trl/blob/main/examples/scripts/sft_vlm_gemma3.py"
   ]
  }
 ],
 "metadata": {
  "kernelspec": {
   "display_name": "verl",
   "language": "python",
   "name": "verl"
  },
  "language_info": {
   "codemirror_mode": {
    "name": "ipython",
    "version": 3
   },
   "file_extension": ".py",
   "mimetype": "text/x-python",
   "name": "python",
   "nbconvert_exporter": "python",
   "pygments_lexer": "ipython3",
   "version": "3.9.0"
  }
 },
 "nbformat": 4,
 "nbformat_minor": 5
}
