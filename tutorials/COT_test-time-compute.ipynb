{
 "cells": [
  {
   "cell_type": "markdown",
   "id": "94d09e2f-6af8-40bc-93d8-b0dc9d4c6b27",
   "metadata": {},
   "source": [
    "- https://huggingface.co/spaces/HuggingFaceH4/blogpost-scaling-test-time-compute\n",
    "- https://arxiv.org/abs/2408.03314\n",
    "    - test-time compute can be scaled optimally through strategies like\n",
    "        - iterative self-refinement\n",
    "        - or using a **reward model** to perform search over the space of solutions. "
   ]
  },
  {
   "cell_type": "markdown",
   "id": "1cb39fc8-fccc-4187-b402-b15e6e55ac45",
   "metadata": {},
   "source": [
    "### CoT"
   ]
  },
  {
   "cell_type": "markdown",
   "id": "1517dcde-accd-4617-a7a3-cbc23356bb65",
   "metadata": {},
   "source": [
    "- thought tokens\n",
    "    - https://ollama.com/library/marco-o1/blobs/8c772364849c\n",
    "    - `当你回答问题时，你的思考应该在<Thought>内完成，<Output>内输出你的结果。\n",
    "<Thought>应该尽可能是英文，但是有2个特例，一个是对原文中的引用，另一个是是数学应该使用markdown格式，<Output>内的输出需要遵循用户输入的语言。`\n",
    "- CoT 的 tricks\n",
    "    - more tokens：更多的计算量\n",
    "    - 一个直觉的解释是，LLM 自回归地解决问题，复杂的问题不应该和简单的问题同样的计算量；\n",
    "        - 比如仅仅回答 Yes/No；"
   ]
  },
  {
   "cell_type": "markdown",
   "id": "24072525-3517-4c6e-b529-437e954057b5",
   "metadata": {},
   "source": [
    "### Strategies for test-time compute scaling"
   ]
  },
  {
   "cell_type": "code",
   "execution_count": null,
   "id": "4bccebfe-c42a-4f90-bc7c-f906cfca4120",
   "metadata": {},
   "outputs": [],
   "source": []
  }
 ],
 "metadata": {
  "kernelspec": {
   "display_name": "Python 3 (ipykernel)",
   "language": "python",
   "name": "python3"
  },
  "language_info": {
   "codemirror_mode": {
    "name": "ipython",
    "version": 3
   },
   "file_extension": ".py",
   "mimetype": "text/x-python",
   "name": "python",
   "nbconvert_exporter": "python",
   "pygments_lexer": "ipython3",
   "version": "3.10.13"
  }
 },
 "nbformat": 4,
 "nbformat_minor": 5
}
