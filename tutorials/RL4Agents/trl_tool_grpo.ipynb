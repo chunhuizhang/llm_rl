{
 "cells": [
  {
   "cell_type": "markdown",
   "id": "8bbf39cf-5bd8-40ef-9492-afd96c1ee575",
   "metadata": {},
   "source": [
    "- https://github.com/huggingface/trl/issues/2809#issuecomment-2646363608"
   ]
  },
  {
   "cell_type": "markdown",
   "id": "0727b650-264a-43ca-9f2f-4eb07f369900",
   "metadata": {},
   "source": [
    "$$\n",
    "f(x)=\\max\\left(-\\left(\\frac x5\\right)^2+x+1, 0\\right)\n",
    "$$"
   ]
  },
  {
   "cell_type": "code",
   "execution_count": 4,
   "id": "697b56f4-39d4-4bb3-afc8-ac77a821f9b3",
   "metadata": {
    "execution": {
     "iopub.execute_input": "2025-03-23T10:21:18.886822Z",
     "iopub.status.busy": "2025-03-23T10:21:18.886126Z",
     "iopub.status.idle": "2025-03-23T10:21:18.897544Z",
     "shell.execute_reply": "2025-03-23T10:21:18.895227Z",
     "shell.execute_reply.started": "2025-03-23T10:21:18.886756Z"
    }
   },
   "outputs": [],
   "source": [
    "def get_value(x: float) -> float:\n",
    "    \"\"\"\n",
    "    Get the value of the function at x.\n",
    "\n",
    "    Args:\n",
    "        x: The input value.\n",
    "\n",
    "    Returns:\n",
    "        The value of the function at x.\n",
    "    \"\"\"\n",
    "    return max(-((x / 5) ** 2) + x + 1, 0.0)"
   ]
  },
  {
   "cell_type": "code",
   "execution_count": 7,
   "id": "d2be8a9d-256b-441a-a45a-3157fdf5bf26",
   "metadata": {
    "execution": {
     "iopub.execute_input": "2025-03-23T10:22:20.871973Z",
     "iopub.status.busy": "2025-03-23T10:22:20.871199Z",
     "iopub.status.idle": "2025-03-23T10:22:20.882446Z",
     "shell.execute_reply": "2025-03-23T10:22:20.879891Z",
     "shell.execute_reply.started": "2025-03-23T10:22:20.871904Z"
    }
   },
   "outputs": [],
   "source": [
    "from transformers import AutoTokenizer\n",
    "from datasets import Dataset"
   ]
  },
  {
   "cell_type": "code",
   "execution_count": 2,
   "id": "b5894b57-810b-49d8-a76a-e7e1eb4e5314",
   "metadata": {
    "execution": {
     "iopub.execute_input": "2025-03-23T10:20:01.005396Z",
     "iopub.status.busy": "2025-03-23T10:20:01.004699Z",
     "iopub.status.idle": "2025-03-23T10:20:02.477682Z",
     "shell.execute_reply": "2025-03-23T10:20:02.476013Z",
     "shell.execute_reply.started": "2025-03-23T10:20:01.005335Z"
    }
   },
   "outputs": [],
   "source": [
    "tokenizer = AutoTokenizer.from_pretrained('Qwen/Qwen2.5-0.5B-Instruct', padding_side=\"left\")"
   ]
  },
  {
   "cell_type": "code",
   "execution_count": 6,
   "id": "2bc68aa7-d150-4dd7-a06f-760eb57d3e63",
   "metadata": {
    "execution": {
     "iopub.execute_input": "2025-03-23T10:21:33.068589Z",
     "iopub.status.busy": "2025-03-23T10:21:33.067807Z",
     "iopub.status.idle": "2025-03-23T10:21:33.081271Z",
     "shell.execute_reply": "2025-03-23T10:21:33.078598Z",
     "shell.execute_reply.started": "2025-03-23T10:21:33.068519Z"
    }
   },
   "outputs": [
    {
     "name": "stdout",
     "output_type": "stream",
     "text": [
      "{%- if tools %}\n",
      "    {{- '<|im_start|>system\\n' }}\n",
      "    {%- if messages[0]['role'] == 'system' %}\n",
      "        {{- messages[0]['content'] }}\n",
      "    {%- else %}\n",
      "        {{- 'You are Qwen, created by Alibaba Cloud. You are a helpful assistant.' }}\n",
      "    {%- endif %}\n",
      "    {{- \"\\n\\n# Tools\\n\\nYou may call one or more functions to assist with the user query.\\n\\nYou are provided with function signatures within <tools></tools> XML tags:\\n<tools>\" }}\n",
      "    {%- for tool in tools %}\n",
      "        {{- \"\\n\" }}\n",
      "        {{- tool | tojson }}\n",
      "    {%- endfor %}\n",
      "    {{- \"\\n</tools>\\n\\nFor each function call, return a json object with function name and arguments within <tool_call></tool_call> XML tags:\\n<tool_call>\\n{\\\"name\\\": <function-name>, \\\"arguments\\\": <args-json-object>}\\n</tool_call><|im_end|>\\n\" }}\n",
      "{%- else %}\n",
      "    {%- if messages[0]['role'] == 'system' %}\n",
      "        {{- '<|im_start|>system\\n' + messages[0]['content'] + '<|im_end|>\\n' }}\n",
      "    {%- else %}\n",
      "        {{- '<|im_start|>system\\nYou are Qwen, created by Alibaba Cloud. You are a helpful assistant.<|im_end|>\\n' }}\n",
      "    {%- endif %}\n",
      "{%- endif %}\n",
      "{%- for message in messages %}\n",
      "    {%- if (message.role == \"user\") or (message.role == \"system\" and not loop.first) or (message.role == \"assistant\" and not message.tool_calls) %}\n",
      "        {{- '<|im_start|>' + message.role + '\\n' + message.content + '<|im_end|>' + '\\n' }}\n",
      "    {%- elif message.role == \"assistant\" %}\n",
      "        {{- '<|im_start|>' + message.role }}\n",
      "        {%- if message.content %}\n",
      "            {{- '\\n' + message.content }}\n",
      "        {%- endif %}\n",
      "        {%- for tool_call in message.tool_calls %}\n",
      "            {%- if tool_call.function is defined %}\n",
      "                {%- set tool_call = tool_call.function %}\n",
      "            {%- endif %}\n",
      "            {{- '\\n<tool_call>\\n{\"name\": \"' }}\n",
      "            {{- tool_call.name }}\n",
      "            {{- '\", \"arguments\": ' }}\n",
      "            {{- tool_call.arguments | tojson }}\n",
      "            {{- '}\\n</tool_call>' }}\n",
      "        {%- endfor %}\n",
      "        {{- '<|im_end|>\\n' }}\n",
      "    {%- elif message.role == \"tool\" %}\n",
      "        {%- if (loop.index0 == 0) or (messages[loop.index0 - 1].role != \"tool\") %}\n",
      "            {{- '<|im_start|>user' }}\n",
      "        {%- endif %}\n",
      "        {{- '\\n<tool_response>\\n' }}\n",
      "        {{- message.content }}\n",
      "        {{- '\\n</tool_response>' }}\n",
      "        {%- if loop.last or (messages[loop.index0 + 1].role != \"tool\") %}\n",
      "            {{- '<|im_end|>\\n' }}\n",
      "        {%- endif %}\n",
      "    {%- endif %}\n",
      "{%- endfor %}\n",
      "{%- if add_generation_prompt %}\n",
      "    {{- '<|im_start|>assistant\\n' }}\n",
      "{%- endif %}\n",
      "\n"
     ]
    }
   ],
   "source": [
    "print(tokenizer.chat_template)"
   ]
  },
  {
   "cell_type": "code",
   "execution_count": 9,
   "id": "48f7e820-ea59-4244-a4ef-e06acf99388e",
   "metadata": {
    "execution": {
     "iopub.execute_input": "2025-03-23T10:25:04.461845Z",
     "iopub.status.busy": "2025-03-23T10:25:04.461128Z",
     "iopub.status.idle": "2025-03-23T10:25:04.493392Z",
     "shell.execute_reply": "2025-03-23T10:25:04.490903Z",
     "shell.execute_reply.started": "2025-03-23T10:25:04.461777Z"
    }
   },
   "outputs": [],
   "source": [
    "dataset = Dataset.from_list(\n",
    "    [{\"prompt\": [{\"role\": \"user\", \"content\": \"Call the function get_value with any value.\"}]}] * 200\n",
    ")\n",
    "example = dataset[0]"
   ]
  },
  {
   "cell_type": "code",
   "execution_count": 12,
   "id": "aabd1cda-bd3e-4572-bb05-14ccf97dfb45",
   "metadata": {
    "execution": {
     "iopub.execute_input": "2025-03-23T10:25:56.612368Z",
     "iopub.status.busy": "2025-03-23T10:25:56.610695Z",
     "iopub.status.idle": "2025-03-23T10:25:56.622019Z",
     "shell.execute_reply": "2025-03-23T10:25:56.619879Z",
     "shell.execute_reply.started": "2025-03-23T10:25:56.612278Z"
    }
   },
   "outputs": [],
   "source": [
    "prompt = tokenizer.apply_chat_template(example['prompt'], tools=[get_value], tokenize=False, add_generation_prompt=True)"
   ]
  },
  {
   "cell_type": "code",
   "execution_count": 13,
   "id": "7cb11ee2-3b13-4157-860e-6256df98e907",
   "metadata": {
    "execution": {
     "iopub.execute_input": "2025-03-23T10:26:00.353674Z",
     "iopub.status.busy": "2025-03-23T10:26:00.352937Z",
     "iopub.status.idle": "2025-03-23T10:26:00.364120Z",
     "shell.execute_reply": "2025-03-23T10:26:00.361729Z",
     "shell.execute_reply.started": "2025-03-23T10:26:00.353607Z"
    }
   },
   "outputs": [
    {
     "name": "stdout",
     "output_type": "stream",
     "text": [
      "<|im_start|>system\n",
      "You are Qwen, created by Alibaba Cloud. You are a helpful assistant.\n",
      "\n",
      "# Tools\n",
      "\n",
      "You may call one or more functions to assist with the user query.\n",
      "\n",
      "You are provided with function signatures within <tools></tools> XML tags:\n",
      "<tools>\n",
      "{\"type\": \"function\", \"function\": {\"name\": \"get_value\", \"description\": \"Get the value of the function at x.\", \"parameters\": {\"type\": \"object\", \"properties\": {\"x\": {\"type\": \"number\", \"description\": \"The input value.\"}}, \"required\": [\"x\"]}, \"return\": {\"type\": \"number\", \"description\": \"The value of the function at x.\"}}}\n",
      "</tools>\n",
      "\n",
      "For each function call, return a json object with function name and arguments within <tool_call></tool_call> XML tags:\n",
      "<tool_call>\n",
      "{\"name\": <function-name>, \"arguments\": <args-json-object>}\n",
      "</tool_call><|im_end|>\n",
      "<|im_start|>user\n",
      "Call the function get_value with any value.<|im_end|>\n",
      "<|im_start|>assistant\n",
      "\n"
     ]
    }
   ],
   "source": [
    "print(prompt)"
   ]
  },
  {
   "cell_type": "code",
   "execution_count": 14,
   "id": "18e2257f-5cc1-43f7-b48b-bbb702aba560",
   "metadata": {
    "execution": {
     "iopub.execute_input": "2025-03-23T10:26:38.056419Z",
     "iopub.status.busy": "2025-03-23T10:26:38.055715Z",
     "iopub.status.idle": "2025-03-23T10:26:38.068027Z",
     "shell.execute_reply": "2025-03-23T10:26:38.065826Z",
     "shell.execute_reply.started": "2025-03-23T10:26:38.056352Z"
    }
   },
   "outputs": [
    {
     "name": "stdout",
     "output_type": "stream",
     "text": [
      "<|im_start|>system\n",
      "You are Qwen, created by Alibaba Cloud. You are a helpful assistant.\n",
      "\n",
      "# Tools\n",
      "\n",
      "You may call one or more functions to assist with the user query.\n",
      "\n",
      "You are provided with function signatures within <tools></tools> XML tags:\n",
      "<tools>\n",
      "{\"type\": \"function\", \"function\": {\"name\": \"get_value\", \"description\": \"Get the value of the function at x.\", \"parameters\": {\"type\": \"object\", \"properties\": {\"x\": {\"type\": \"number\", \"description\": \"The input value.\"}}, \"required\": [\"x\"]}, \"return\": {\"type\": \"number\", \"description\": \"The value of the function at x.\"}}}\n",
      "</tools>\n",
      "\n",
      "For each function call, return a json object with function name and arguments within <tool_call></tool_call> XML tags:\n",
      "<tool_call>\n",
      "{\"name\": <function-name>, \"arguments\": <args-json-object>}\n",
      "</tool_call><|im_end|>\n",
      "<|im_start|>user\n",
      "Call the function get_value with any value.<|im_end|>\n",
      "\n"
     ]
    }
   ],
   "source": [
    "print(tokenizer.apply_chat_template(example['prompt'], tools=[get_value], tokenize=False))"
   ]
  },
  {
   "cell_type": "code",
   "execution_count": null,
   "id": "f9c68d00-28aa-4739-8daf-d5d93df669b9",
   "metadata": {},
   "outputs": [],
   "source": []
  }
 ],
 "metadata": {
  "kernelspec": {
   "display_name": "verl",
   "language": "python",
   "name": "verl"
  },
  "language_info": {
   "codemirror_mode": {
    "name": "ipython",
    "version": 3
   },
   "file_extension": ".py",
   "mimetype": "text/x-python",
   "name": "python",
   "nbconvert_exporter": "python",
   "pygments_lexer": "ipython3",
   "version": "3.9.0"
  }
 },
 "nbformat": 4,
 "nbformat_minor": 5
}
