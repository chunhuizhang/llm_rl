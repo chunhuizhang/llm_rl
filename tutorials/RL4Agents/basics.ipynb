{
 "cells": [
  {
   "cell_type": "code",
   "execution_count": 1,
   "id": "a7e2eaf3-4297-4d03-bda3-bfd669eabe0b",
   "metadata": {
    "execution": {
     "iopub.execute_input": "2025-03-17T13:28:44.916618Z",
     "iopub.status.busy": "2025-03-17T13:28:44.915916Z",
     "iopub.status.idle": "2025-03-17T13:28:44.934958Z",
     "shell.execute_reply": "2025-03-17T13:28:44.933332Z",
     "shell.execute_reply.started": "2025-03-17T13:28:44.916550Z"
    }
   },
   "outputs": [],
   "source": [
    "from IPython.display import Image"
   ]
  },
  {
   "cell_type": "code",
   "execution_count": 3,
   "id": "c5c8263f-a334-4f98-9c70-6c0051410fc7",
   "metadata": {
    "execution": {
     "iopub.execute_input": "2025-03-08T05:18:36.324636Z",
     "iopub.status.busy": "2025-03-08T05:18:36.324029Z",
     "iopub.status.idle": "2025-03-08T05:18:36.336185Z",
     "shell.execute_reply": "2025-03-08T05:18:36.333994Z",
     "shell.execute_reply.started": "2025-03-08T05:18:36.324589Z"
    }
   },
   "outputs": [
    {
     "data": {
      "text/html": [
       "<img src=\"https://www.anthropic.com/_next/image?url=https%3A%2F%2Fwww-cdn.anthropic.com%2Fimages%2F4zrzovbb%2Fwebsite%2F58d9f10c985c4eb5d53798dea315f7bb5ab6249e-2401x1000.png&w=3840&q=75\" width=\"500\"/>"
      ],
      "text/plain": [
       "<IPython.core.display.Image object>"
      ]
     },
     "execution_count": 3,
     "metadata": {},
     "output_type": "execute_result"
    }
   ],
   "source": [
    "Image(url='https://www.anthropic.com/_next/image?url=https%3A%2F%2Fwww-cdn.anthropic.com%2Fimages%2F4zrzovbb%2Fwebsite%2F58d9f10c985c4eb5d53798dea315f7bb5ab6249e-2401x1000.png&w=3840&q=75', width=500)"
   ]
  },
  {
   "cell_type": "markdown",
   "id": "9e9cc8e9-322a-4e23-9cac-550bfded237d",
   "metadata": {},
   "source": [
    "- https://www.youtube.com/watch?v=JIsgyk0Paic\n",
    "- deep research\n",
    "    - https://openai.com/index/introducing-deep-research/\n",
    "    - Deep research was trained using end-to-end reinforcement learning on **hard browsing and reasoning tasks** across a range of domains.\n",
    "        -  Powered by a version of the upcoming **OpenAI o3 model** that’s optimized for **web browsing and data analysis**, it leverages reasoning to search, interpret, and analyze massive amounts of text, images, and PDFs on the internet, pivoting as needed in reaction to information it encounters.\n",
    "    - To accomplish this, it was trained on real-world tasks requiring browser and Python tool use, using the same reinforcement learning methods behind OpenAI o1.\n",
    "- anthropic\n",
    "    - https://www.anthropic.com/engineering/building-effective-agents"
   ]
  }
 ],
 "metadata": {
  "kernelspec": {
   "display_name": "verl",
   "language": "python",
   "name": "verl"
  },
  "language_info": {
   "codemirror_mode": {
    "name": "ipython",
    "version": 3
   },
   "file_extension": ".py",
   "mimetype": "text/x-python",
   "name": "python",
   "nbconvert_exporter": "python",
   "pygments_lexer": "ipython3",
   "version": "3.9.0"
  }
 },
 "nbformat": 4,
 "nbformat_minor": 5
}
