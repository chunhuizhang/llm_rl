{
 "cells": [
  {
   "cell_type": "markdown",
   "id": "897d9fbf-c2d6-4f22-a7f0-cc46acc1ef2a",
   "metadata": {},
   "source": [
    "- https://philliphaeusler.com/posts/aligning_tinystories/"
   ]
  }
 ],
 "metadata": {
  "kernelspec": {
   "display_name": "Python 3 (ipykernel)",
   "language": "python",
   "name": "python3"
  },
  "language_info": {
   "codemirror_mode": {
    "name": "ipython",
    "version": 3
   },
   "file_extension": ".py",
   "mimetype": "text/x-python",
   "name": "python",
   "nbconvert_exporter": "python",
   "pygments_lexer": "ipython3",
   "version": "3.10.13"
  }
 },
 "nbformat": 4,
 "nbformat_minor": 5
}
