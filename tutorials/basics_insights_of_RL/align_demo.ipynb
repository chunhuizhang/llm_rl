{
 "cells": [
  {
   "cell_type": "markdown",
   "id": "897d9fbf-c2d6-4f22-a7f0-cc46acc1ef2a",
   "metadata": {},
   "source": [
    "- https://philliphaeusler.com/posts/aligning_tinystories/\n",
    "    - https://github.com/pHaeusler/tinycatstories/tree/main"
   ]
  },
  {
   "cell_type": "code",
   "execution_count": 3,
   "id": "c925de18-39bf-4ce3-a978-037af762b32d",
   "metadata": {
    "execution": {
     "iopub.execute_input": "2025-03-16T05:02:32.178085Z",
     "iopub.status.busy": "2025-03-16T05:02:32.177632Z",
     "iopub.status.idle": "2025-03-16T05:02:32.186026Z",
     "shell.execute_reply": "2025-03-16T05:02:32.183937Z",
     "shell.execute_reply.started": "2025-03-16T05:02:32.178039Z"
    }
   },
   "outputs": [],
   "source": [
    "from IPython.display import Image"
   ]
  },
  {
   "cell_type": "code",
   "execution_count": 2,
   "id": "95f5ad39-1972-4df0-baf0-6edd6aef607e",
   "metadata": {
    "execution": {
     "iopub.execute_input": "2025-03-16T04:28:42.335447Z",
     "iopub.status.busy": "2025-03-16T04:28:42.333909Z",
     "iopub.status.idle": "2025-03-16T04:28:46.323508Z",
     "shell.execute_reply": "2025-03-16T04:28:46.322513Z",
     "shell.execute_reply.started": "2025-03-16T04:28:42.335377Z"
    }
   },
   "outputs": [],
   "source": [
    "import torch\n",
    "from torch.distributions import Categorical\n",
    "from sentence_transformers import SentenceTransformer, util\n",
    "from transformers import AutoModelForCausalLM, AutoTokenizer\n",
    "from torch.optim import AdamW\n",
    "import matplotlib.pyplot as plt"
   ]
  },
  {
   "cell_type": "markdown",
   "id": "94ca80b7-2c5f-4adf-93e5-4608bbcfa878",
   "metadata": {},
   "source": [
    "### TinyStories"
   ]
  },
  {
   "cell_type": "markdown",
   "id": "2c602a8a-5102-4baa-b026-21284ce53b5d",
   "metadata": {},
   "source": [
    "- https://arxiv.org/abs/2305.07759\n",
    "    - https://arxiv.org/abs/2305.07759\n",
    "    - Ok, so tinystories is a fantastic paper that shows how **a small transformer model** can be trained to produce **coherent stories**.\n",
    "    - Their trick was to carefully **curate training data by synthetically generating it (using GPT)**. It worked!\n",
    "- the perspective of RL\n",
    "    - Rather than training on data (labeled or unlabeled), we can train with **another system that gives feedback**. This could be a simple function that evaluates the model state or action, perhaps from a simulator, or it could be a deep-learning model specifically trained to give feedback - Reinforcement Learning (RL)."
   ]
  },
  {
   "cell_type": "markdown",
   "id": "b057a9a7-78cc-450c-8527-345a9d99d3cd",
   "metadata": {},
   "source": [
    "### Embedding loss/rewards"
   ]
  },
  {
   "cell_type": "code",
   "execution_count": 2,
   "id": "ee1c458f-adbd-4fb1-8f19-6cbb01a5c4f6",
   "metadata": {
    "execution": {
     "iopub.execute_input": "2025-03-16T03:56:38.482899Z",
     "iopub.status.busy": "2025-03-16T03:56:38.482583Z",
     "iopub.status.idle": "2025-03-16T03:56:38.489785Z",
     "shell.execute_reply": "2025-03-16T03:56:38.488314Z",
     "shell.execute_reply.started": "2025-03-16T03:56:38.482869Z"
    }
   },
   "outputs": [],
   "source": [
    "#cannot import name 'DEFAULT_CIPHERS' from 'urllib3.util.ssl_' \n",
    "# !pip install --upgrade 'urllib3==1.26.7' "
   ]
  },
  {
   "cell_type": "code",
   "execution_count": 3,
   "id": "fdcfaed3-877c-4204-881c-fd5defa4fee8",
   "metadata": {
    "execution": {
     "iopub.execute_input": "2025-03-16T03:56:38.490714Z",
     "iopub.status.busy": "2025-03-16T03:56:38.490472Z",
     "iopub.status.idle": "2025-03-16T03:56:38.507961Z",
     "shell.execute_reply": "2025-03-16T03:56:38.506425Z",
     "shell.execute_reply.started": "2025-03-16T03:56:38.490692Z"
    }
   },
   "outputs": [],
   "source": [
    "# !pip install sentence_transformers"
   ]
  },
  {
   "cell_type": "code",
   "execution_count": 4,
   "id": "f08e5348-4bb2-41ca-9662-a72a538cd82a",
   "metadata": {
    "execution": {
     "iopub.execute_input": "2025-03-16T03:56:38.509416Z",
     "iopub.status.busy": "2025-03-16T03:56:38.509088Z",
     "iopub.status.idle": "2025-03-16T03:56:43.736468Z",
     "shell.execute_reply": "2025-03-16T03:56:43.734271Z",
     "shell.execute_reply.started": "2025-03-16T03:56:38.509386Z"
    }
   },
   "outputs": [],
   "source": [
    "from sentence_transformers import SentenceTransformer, util\n",
    "\n",
    "embedding_model = SentenceTransformer(\"all-MiniLM-L6-v2\").to(\"cuda\")\n",
    "reference_embedding = embedding_model.encode(\"cat\", convert_to_tensor=True)\n",
    "\n",
    "def compute_rewards(sequences):\n",
    "    sequence_embeddings = embedding_model.encode(sequences, convert_to_tensor=True)\n",
    "    cosine_similarities = util.pytorch_cos_sim(\n",
    "        reference_embedding.unsqueeze(0), sequence_embeddings\n",
    "    ).squeeze()\n",
    "    return cosine_similarities"
   ]
  },
  {
   "cell_type": "code",
   "execution_count": 5,
   "id": "84a55fcd-07ad-498b-a9a1-afd8e94d1cbc",
   "metadata": {
    "execution": {
     "iopub.execute_input": "2025-03-16T03:56:43.737574Z",
     "iopub.status.busy": "2025-03-16T03:56:43.737330Z",
     "iopub.status.idle": "2025-03-16T03:56:43.751277Z",
     "shell.execute_reply": "2025-03-16T03:56:43.749785Z",
     "shell.execute_reply.started": "2025-03-16T03:56:43.737550Z"
    }
   },
   "outputs": [
    {
     "data": {
      "text/plain": [
       "torch.Size([384])"
      ]
     },
     "execution_count": 5,
     "metadata": {},
     "output_type": "execute_result"
    }
   ],
   "source": [
    "reference_embedding.shape"
   ]
  },
  {
   "cell_type": "markdown",
   "id": "6f81e4e1-b7f3-49d2-b54c-467bd5df18d3",
   "metadata": {},
   "source": [
    "### REINFORCE"
   ]
  },
  {
   "cell_type": "markdown",
   "id": "7964c23e-c361-4ff0-898c-ecf34ae2002a",
   "metadata": {},
   "source": [
    "- reward function (sentences 级别）\n",
    "    $$\n",
    "    R(s)=\\text{cos}(\\text{Emb(s),Emb('cat')})\n",
    "    $$\n",
    "- loss function （negative objective function)\n",
    "\n",
    "    $$\n",
    "    L(\\theta)=L_{pg}(\\theta)+\\lambda D_{kl}(\\theta)\n",
    "    $$\n",
    "    - $L_{\\text{pg}}(\\theta) = -\\mathbb{E}_{s \\sim \\pi_\\theta}[R(s) \\cdot \\log \\pi_\\theta(s)]$\n",
    "    - $D_{\\text{KL}}(\\theta) = \\mathbb{E}_{s \\sim \\pi_\\theta}[D_{\\text{KL}}(\\pi_\\theta(\\cdot|s) || \\pi_{\\text{ref}}(\\cdot|s))]$\n",
    "- 采样及优化过程\n",
    "    - 采样 batch_size 个序列（token by token，autoregressive）\n",
    "        - $s_i \\sim \\pi_\\theta, i \\in \\{1,...,N\\}$\n",
    "    - 计算每个序列的对数概率：\n",
    "        - $\\log \\pi_\\theta(s_i) = \\frac1T\\sum_{t=1}^T \\log \\pi_\\theta(s_{i,t}|s_{i,<t})=\\frac1T\\log\\Pi_{t=1}^T\\pi_\\theta(s_{i,t}|s_{i,\\lt t})$\n",
    "            - 整个句子的联合概率（joint distribution）的 log prob\n",
    "    - 计算 kl 散度（KL 散度约束保持生成文本的流畅性）\n",
    "        - $D_{kl}=\\frac1T\\sum_{t=1}^TD_{kl}(\\pi_\\theta(\\cdot|s_{\\lt t})\\|\\pi_{ref}(\\cdot|s_{\\lt t}))$"
   ]
  },
  {
   "cell_type": "code",
   "execution_count": 7,
   "id": "a975e901-486c-4840-93df-95fb0443b5d5",
   "metadata": {
    "execution": {
     "iopub.execute_input": "2025-03-16T05:02:54.951793Z",
     "iopub.status.busy": "2025-03-16T05:02:54.951084Z",
     "iopub.status.idle": "2025-03-16T05:02:54.967466Z",
     "shell.execute_reply": "2025-03-16T05:02:54.965428Z",
     "shell.execute_reply.started": "2025-03-16T05:02:54.951730Z"
    }
   },
   "outputs": [
    {
     "data": {
      "text/html": [
       "<img src=\"./figs/training_metrics_0.png\" width=\"600\"/>"
      ],
      "text/plain": [
       "<IPython.core.display.Image object>"
      ]
     },
     "execution_count": 7,
     "metadata": {},
     "output_type": "execute_result"
    }
   ],
   "source": [
    "Image(url='./figs/training_metrics_0.png', width=600)"
   ]
  },
  {
   "cell_type": "code",
   "execution_count": 8,
   "id": "3b38a056-d622-478c-b01f-08fe03147560",
   "metadata": {
    "execution": {
     "iopub.execute_input": "2025-03-16T05:03:01.988643Z",
     "iopub.status.busy": "2025-03-16T05:03:01.987953Z",
     "iopub.status.idle": "2025-03-16T05:03:02.002015Z",
     "shell.execute_reply": "2025-03-16T05:03:01.999508Z",
     "shell.execute_reply.started": "2025-03-16T05:03:01.988579Z"
    }
   },
   "outputs": [
    {
     "data": {
      "text/html": [
       "<img src=\"./figs/training_metrics_6000.png\" width=\"600\"/>"
      ],
      "text/plain": [
       "<IPython.core.display.Image object>"
      ]
     },
     "execution_count": 8,
     "metadata": {},
     "output_type": "execute_result"
    }
   ],
   "source": [
    "Image(url='./figs/training_metrics_6000.png', width=600)"
   ]
  },
  {
   "cell_type": "code",
   "execution_count": null,
   "id": "6181f79f-df29-4fd9-b681-da5002298de4",
   "metadata": {},
   "outputs": [],
   "source": []
  }
 ],
 "metadata": {
  "kernelspec": {
   "display_name": "verl",
   "language": "python",
   "name": "verl"
  },
  "language_info": {
   "codemirror_mode": {
    "name": "ipython",
    "version": 3
   },
   "file_extension": ".py",
   "mimetype": "text/x-python",
   "name": "python",
   "nbconvert_exporter": "python",
   "pygments_lexer": "ipython3",
   "version": "3.9.0"
  }
 },
 "nbformat": 4,
 "nbformat_minor": 5
}
