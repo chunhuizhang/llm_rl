{
 "cells": [
  {
   "cell_type": "markdown",
   "id": "07ab9d62-9a8f-4721-8cdf-a5beb5181ffb",
   "metadata": {},
   "source": [
    "- 策略更新比率（ratio）：$r(\\theta)=\\frac{\\pi_\\theta(a|s)}{\\pi_{\\theta_\\text{old}}(a|s)}$\n",
    "- Advantage（优势函数）本身不直接参与梯度计算\n",
    "- PPO 的 clip 操作，会导致这条数据没有梯度，这条训练数据就起不到贡献了\n",
    "    - $r(\\theta)$ 不在区间 $[1-\\epsilon,1+\\epsilon]$ 时；"
   ]
  },
  {
   "cell_type": "markdown",
   "id": "05d10199-78e1-4246-b779-e18589b7e2c1",
   "metadata": {},
   "source": [
    "### TRL ppotrainer"
   ]
  },
  {
   "cell_type": "markdown",
   "id": "cdc234f0-0fad-4d82-a550-373bccd7bad5",
   "metadata": {},
   "source": [
    "- https://github.com/huggingface/trl/blob/main/trl/trainer/ppo_trainer.py\n",
    "- make experiences\n",
    "    - forward\n",
    "        - queries: `[4, 56]`\n",
    "        - reponses: `[4, 53]`（$\\pi_{\\theta_{old}}$）\n",
    "        - logprobs: `[4, 53]` （$\\pi_{\\theta_{old}}$）\n",
    "        - ref_logprobs: `[4, 53]`（$\\pi_{ref}$）\n",
    "        - values: `[4, 53]`\n",
    "        - scores: `[4]` (last token's, the whole query + reponse)\n",
    "    - 计算 rewards (token 级别)\n",
    "        - $r_t = r_{T} - \\beta (\\log\\pi_\\theta-\\log\\pi_{ref})$\n",
    "            - 内循环；\n",
    "            - KL 项是 k1 近似；\n",
    "    - 计算 advantage & return\n",
    "        - GAE：\n",
    "            - $\\delta_t=r_t+\\gamma V(s_{t+1})-V(s_t)$\n",
    "            - $A_t=\\sum_{k=0}^T(\\gamma\\lambda)^k\\delta_{t+k}$\n",
    "        - return: advantage + value\n",
    "- ppo update ($\\pi_\\theta$)"
   ]
  },
  {
   "cell_type": "code",
   "execution_count": null,
   "id": "7c7a997a-095a-4efd-a87c-e9af8863c125",
   "metadata": {},
   "outputs": [],
   "source": []
  }
 ],
 "metadata": {
  "kernelspec": {
   "display_name": "Python 3 (ipykernel)",
   "language": "python",
   "name": "python3"
  },
  "language_info": {
   "codemirror_mode": {
    "name": "ipython",
    "version": 3
   },
   "file_extension": ".py",
   "mimetype": "text/x-python",
   "name": "python",
   "nbconvert_exporter": "python",
   "pygments_lexer": "ipython3",
   "version": "3.10.13"
  }
 },
 "nbformat": 4,
 "nbformat_minor": 5
}
