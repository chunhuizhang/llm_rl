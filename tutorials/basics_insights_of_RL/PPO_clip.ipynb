{
 "cells": [
  {
   "cell_type": "markdown",
   "id": "07ab9d62-9a8f-4721-8cdf-a5beb5181ffb",
   "metadata": {},
   "source": [
    "- 策略更新比率（ratio）：$r(\\theta)=\\frac{\\pi_\\theta(a|s)}{\\pi_{\\theta_\\text{old}}(a|s)}$\n",
    "- Advantage（优势函数）本身不直接参与梯度计算\n",
    "- PPO 的 clip 操作，会导致这条数据没有梯度，这条训练数据就起不到贡献了\n",
    "    - $r(\\theta)$ 不在区间 $[1-\\epsilon,1+\\epsilon]$ 时；"
   ]
  }
 ],
 "metadata": {
  "kernelspec": {
   "display_name": "Python 3 (ipykernel)",
   "language": "python",
   "name": "python3"
  },
  "language_info": {
   "codemirror_mode": {
    "name": "ipython",
    "version": 3
   },
   "file_extension": ".py",
   "mimetype": "text/x-python",
   "name": "python",
   "nbconvert_exporter": "python",
   "pygments_lexer": "ipython3",
   "version": "3.10.13"
  }
 },
 "nbformat": 4,
 "nbformat_minor": 5
}
