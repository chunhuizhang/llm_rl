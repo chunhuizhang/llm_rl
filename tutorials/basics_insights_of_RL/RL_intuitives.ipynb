{
 "cells": [
  {
   "cell_type": "markdown",
   "id": "c8f69005-4429-4457-931d-a677f14d033b",
   "metadata": {},
   "source": [
    "RL 的很多技巧，是围绕着\n",
    "- 训练数据不好生产\n",
    "- 训练数据量太少\n",
    "- 训练数据波动太大\n",
    "- 训练数据分布不均\n",
    "\n",
    "等出发点提出的。\n",
    "\n",
    "- sampling efficiency"
   ]
  }
 ],
 "metadata": {
  "kernelspec": {
   "display_name": "Python 3 (ipykernel)",
   "language": "python",
   "name": "python3"
  },
  "language_info": {
   "codemirror_mode": {
    "name": "ipython",
    "version": 3
   },
   "file_extension": ".py",
   "mimetype": "text/x-python",
   "name": "python",
   "nbconvert_exporter": "python",
   "pygments_lexer": "ipython3",
   "version": "3.10.13"
  }
 },
 "nbformat": 4,
 "nbformat_minor": 5
}
