{
 "cells": [
  {
   "cell_type": "code",
   "execution_count": 1,
   "id": "14050ede-3e8f-487d-b78c-b63f1b1328d9",
   "metadata": {
    "execution": {
     "iopub.execute_input": "2025-03-08T03:34:56.762823Z",
     "iopub.status.busy": "2025-03-08T03:34:56.762458Z",
     "iopub.status.idle": "2025-03-08T03:34:56.778081Z",
     "shell.execute_reply": "2025-03-08T03:34:56.776471Z",
     "shell.execute_reply.started": "2025-03-08T03:34:56.762791Z"
    }
   },
   "outputs": [],
   "source": [
    "from IPython.display import Image"
   ]
  },
  {
   "cell_type": "markdown",
   "id": "c8f69005-4429-4457-931d-a677f14d033b",
   "metadata": {},
   "source": [
    "https://zhuanlan.zhihu.com/p/17657567877\n",
    "\n",
    "RL 的很多技巧，是围绕着\n",
    "- 训练数据不好生产\n",
    "- 训练数据量太少\n",
    "- 训练数据波动太大\n",
    "- 训练数据分布不均\n",
    "\n",
    "等出发点提出的。\n",
    "\n",
    "- sampling efficiency"
   ]
  },
  {
   "cell_type": "markdown",
   "id": "28c89e50-214f-480d-9439-b2400f62079e",
   "metadata": {},
   "source": [
    "### online vs. offline"
   ]
  },
  {
   "cell_type": "markdown",
   "id": "f8c07c5f-4a2b-4535-9049-7590e93d3c4e",
   "metadata": {},
   "source": [
    "> 强化学习 (online) 和传统监督学习(offline)一个很大的区别就是“训练数据是当场采集出来的”，一边训模型，一边造数据，然后用新的模型接着造数据，训模型。"
   ]
  },
  {
   "cell_type": "markdown",
   "id": "cf013548-3484-476c-92d0-fd9ed03d9683",
   "metadata": {},
   "source": [
    "### Actor-Critic"
   ]
  },
  {
   "cell_type": "code",
   "execution_count": 2,
   "id": "f053456c-87bf-4d0d-a988-470b9e54dbc0",
   "metadata": {
    "execution": {
     "iopub.execute_input": "2025-03-08T03:53:24.066472Z",
     "iopub.status.busy": "2025-03-08T03:53:24.065901Z",
     "iopub.status.idle": "2025-03-08T03:53:24.084671Z",
     "shell.execute_reply": "2025-03-08T03:53:24.082441Z",
     "shell.execute_reply.started": "2025-03-08T03:53:24.066427Z"
    }
   },
   "outputs": [
    {
     "data": {
      "text/html": [
       "<img src=\"http://incompleteideas.net/book/ebook/figtmp34.png\" width=\"400\"/>"
      ],
      "text/plain": [
       "<IPython.core.display.Image object>"
      ]
     },
     "execution_count": 2,
     "metadata": {},
     "output_type": "execute_result"
    }
   ],
   "source": [
    "Image(url='http://incompleteideas.net/book/ebook/figtmp34.png', width=400)"
   ]
  },
  {
   "cell_type": "markdown",
   "id": "fd0cbc0c-b708-489d-8728-f96bcd773f5f",
   "metadata": {},
   "source": [
    "- actor-critic\n",
    "    - critic：价值网络($v(s)$)，如果仅有价值网络，容易贪心，陷入局部左右值；\n",
    "    - actor：策略网络($\\pi(a|s)$)，概率输出，增加探索的可能；\n",
    "    - 两者都需要不断训练；"
   ]
  }
 ],
 "metadata": {
  "kernelspec": {
   "display_name": "Python 3 (ipykernel)",
   "language": "python",
   "name": "python3"
  },
  "language_info": {
   "codemirror_mode": {
    "name": "ipython",
    "version": 3
   },
   "file_extension": ".py",
   "mimetype": "text/x-python",
   "name": "python",
   "nbconvert_exporter": "python",
   "pygments_lexer": "ipython3",
   "version": "3.10.13"
  }
 },
 "nbformat": 4,
 "nbformat_minor": 5
}
