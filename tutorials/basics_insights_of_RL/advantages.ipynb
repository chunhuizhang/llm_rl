{
 "cells": [
  {
   "cell_type": "markdown",
   "id": "bdf7503f-f836-40e8-b60d-05ae7145b7c3",
   "metadata": {},
   "source": [
    "- GAE\n",
    "- GRPO\n",
    "- RLOO\n",
    "- REINFORCE++\n",
    "- ReMax"
   ]
  },
  {
   "cell_type": "markdown",
   "id": "34743701-42cc-4a71-90ff-c9043cd7ad0e",
   "metadata": {},
   "source": [
    "## veRL"
   ]
  },
  {
   "cell_type": "markdown",
   "id": "f0a54912-2141-42b5-9ab2-ddc95efbfb92",
   "metadata": {},
   "source": [
    "> verl/trainer/ppo/ray_trainer.py/compute_advantage"
   ]
  },
  {
   "cell_type": "markdown",
   "id": "5f02cde2-bcce-4353-9375-35ece9513d99",
   "metadata": {},
   "source": [
    "> verl/trainer/ppo/core_algos.py\n",
    "\n",
    "- compute_gae_advantage_return\n",
    "    - `token_level_rewards`, `values`\n",
    "    - $A_t^{GAE}=\\sum_{\\ell}^{T-t}(\\gamma\\lambda)^{\\ell}\\delta_{t+\\ell}, \\quad \\delta_t=r_t+\\gamma V(s_{t+1})-V(s_t)$\n",
    "    - return: $ret_t=V(s_t)+A_t^{GAE}$\n",
    "- compute_grpo_outcome_advantage\n",
    "    - `token_level_rewards`\n",
    "    - $A_i=\\frac{r_i-\\mu}{\\sigma+\\epsilon}$\n",
    "- compute_rloo_outcome_advantage\n",
    "    - `token_level_rewards`\n",
    "    - $A_i=R_i-\\frac1{n-1}\\sum_{k\\neq i}R_k$\n",
    "- compute_reinforce_plus_plus_outcome_advantage\n",
    "    - `token_level_rewards`\n",
    "    - $A_t=\\frac{G_t-\\mu}{\\sigma}, \\quad G_t=\\sum_{k=t}^T\\gamma^{k-t}r_k$\n",
    "        - return: accumulate discounted reward\n",
    "- compute_remax_outcome_advantage（Reward-Maximization with Baseline）\n",
    "    - `token_level_rewards`, `reward_baselines`\n",
    "    - $A_t=G_t-b, \\quad G_t=\\sum_{k=t}^Tr_k$\n",
    "        - no discounted return"
   ]
  },
  {
   "cell_type": "code",
   "execution_count": null,
   "id": "2d2eade9-5a84-4e5b-896c-a8b55689d935",
   "metadata": {},
   "outputs": [],
   "source": []
  }
 ],
 "metadata": {
  "kernelspec": {
   "display_name": "Python 3 (ipykernel)",
   "language": "python",
   "name": "python3"
  },
  "language_info": {
   "codemirror_mode": {
    "name": "ipython",
    "version": 3
   },
   "file_extension": ".py",
   "mimetype": "text/x-python",
   "name": "python",
   "nbconvert_exporter": "python",
   "pygments_lexer": "ipython3",
   "version": "3.10.13"
  }
 },
 "nbformat": 4,
 "nbformat_minor": 5
}
