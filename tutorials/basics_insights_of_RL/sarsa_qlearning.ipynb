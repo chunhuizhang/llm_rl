{
 "cells": [
  {
   "cell_type": "code",
   "execution_count": 1,
   "id": "40acfbe8-9cd1-4d3e-bca8-5b5e8443e58f",
   "metadata": {
    "execution": {
     "iopub.execute_input": "2025-04-13T09:27:38.562662Z",
     "iopub.status.busy": "2025-04-13T09:27:38.561926Z",
     "iopub.status.idle": "2025-04-13T09:27:38.572043Z",
     "shell.execute_reply": "2025-04-13T09:27:38.570229Z",
     "shell.execute_reply.started": "2025-04-13T09:27:38.562592Z"
    }
   },
   "outputs": [],
   "source": [
    "from IPython.display import Image"
   ]
  },
  {
   "cell_type": "code",
   "execution_count": 2,
   "id": "53a0f4d7-25aa-404b-ac92-fd5ac98ac687",
   "metadata": {
    "execution": {
     "iopub.execute_input": "2025-04-13T09:27:50.505648Z",
     "iopub.status.busy": "2025-04-13T09:27:50.503761Z",
     "iopub.status.idle": "2025-04-13T09:27:50.525503Z",
     "shell.execute_reply": "2025-04-13T09:27:50.523734Z",
     "shell.execute_reply.started": "2025-04-13T09:27:50.505567Z"
    }
   },
   "outputs": [
    {
     "data": {
      "text/html": [
       "<img src=\"./figs/q-learning-sarsa.jpeg\" width=\"500\"/>"
      ],
      "text/plain": [
       "<IPython.core.display.Image object>"
      ]
     },
     "execution_count": 2,
     "metadata": {},
     "output_type": "execute_result"
    }
   ],
   "source": [
    "Image(url='./figs/q-learning-sarsa.jpeg', width=500)"
   ]
  },
  {
   "cell_type": "code",
   "execution_count": null,
   "id": "ffecfcbb-0c35-495b-8e17-cb6bbe2940b8",
   "metadata": {},
   "outputs": [],
   "source": []
  }
 ],
 "metadata": {
  "kernelspec": {
   "display_name": "verl",
   "language": "python",
   "name": "verl"
  },
  "language_info": {
   "codemirror_mode": {
    "name": "ipython",
    "version": 3
   },
   "file_extension": ".py",
   "mimetype": "text/x-python",
   "name": "python",
   "nbconvert_exporter": "python",
   "pygments_lexer": "ipython3",
   "version": "3.9.0"
  }
 },
 "nbformat": 4,
 "nbformat_minor": 5
}
