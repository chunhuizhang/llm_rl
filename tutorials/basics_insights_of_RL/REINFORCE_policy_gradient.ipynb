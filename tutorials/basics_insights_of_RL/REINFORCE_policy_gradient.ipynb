{
 "cells": [
  {
   "cell_type": "markdown",
   "id": "ff5249be-3b8e-4d96-96ad-90f4f92eb4f5",
   "metadata": {},
   "source": [
    "- https://medium.com/@2468086464/understanding-reinforcement-learning-from-human-feedback-rlhf-theory-and-the-mechanism-ef45485a5070"
   ]
  },
  {
   "cell_type": "markdown",
   "id": "9edea97f-1b7a-4d25-91d8-ed3a461ecbc2",
   "metadata": {},
   "source": [
    "### PG"
   ]
  },
  {
   "cell_type": "markdown",
   "id": "1d5a6582-7e8a-4a36-a7d0-e5bdffdf58cb",
   "metadata": {},
   "source": [
    "$$\n",
    "\\mathbb E_{\\tau \\sim p_\\theta(\\tau)}[R(\\tau)]\n",
    "$$\n",
    "\n",
    "- 求其 gradient\n",
    "\n",
    "$$\n",
    "\\begin{split}\n",
    "\\sum_{\\tau}R(\\tau)\\nabla p_\\theta(\\tau)&=\\sum_\\tau R(\\tau) p_\\theta(\\tau)\\nabla \\log p_\\theta(\\tau)\\\\\n",
    "&=\\mathbb E_{\\tau\\sim p_\\theta(\\tau)}R(\\tau)\\nabla \\log p_\\theta(\\tau)\n",
    "\\end{split}\n",
    "$$\n",
    "\n",
    "- 对 $\\nabla \\log p_\\theta(\\tau)$ 进行展开\n",
    "\n",
    "$$\n",
    "\\begin{split}\n",
    "\\nabla \\log p_\\theta(\\tau)&=\\nabla \\log\\left(p(s_1)\\prod p(a_t|s_t)\\prod p(s_{t+1}|s_t,a_t)\\right)\\\\\n",
    "&=\\nabla \\left(\\log p(s_1)+\\sum \\log p(a_t|s_t)+\\sum \\log p(s_{t+1}|s_t,a_t)\\right)\\\\\n",
    "&=\\sum_{t=1}^T\\nabla \\log p(a_t|s_t)\n",
    "\\end{split}\n",
    "$$\n",
    "\n",
    "- 因此\n",
    "$$\n",
    "\\begin{split}\n",
    "\\sum_{\\tau}R(\\tau)\\nabla p_\\theta(\\tau)&=\\sum_\\tau R(\\tau) p_\\theta(\\tau)\\nabla \\log p_\\theta(\\tau)\\\\\n",
    "&=\\mathbb E_{\\tau\\sim p_\\theta(\\tau)}R(\\tau)\\nabla \\log p_\\theta(\\tau)\\\\\n",
    "&\\approx\\frac1N\\sum_{n=1}^NR(\\tau^n)\\nabla \\log p_\\theta(\\tau^n)\\\\\n",
    "&=\\frac1N\\sum_{n=1}^N\\sum_{t=1}^{T_n}R(\\tau^n)\\nabla \\log p_\\theta(a_t^n|s_t^n)\n",
    "\\end{split}\n",
    "$$\n"
   ]
  }
 ],
 "metadata": {
  "kernelspec": {
   "display_name": "Python 3 (ipykernel)",
   "language": "python",
   "name": "python3"
  },
  "language_info": {
   "codemirror_mode": {
    "name": "ipython",
    "version": 3
   },
   "file_extension": ".py",
   "mimetype": "text/x-python",
   "name": "python",
   "nbconvert_exporter": "python",
   "pygments_lexer": "ipython3",
   "version": "3.10.13"
  }
 },
 "nbformat": 4,
 "nbformat_minor": 5
}
