{
 "cells": [
  {
   "cell_type": "markdown",
   "id": "a96b4c45-c180-41c0-9e57-55b31b9436eb",
   "metadata": {},
   "source": [
    "\n",
    "$$\n",
    "r(s_t,a_t)=\\mathbb I(s_t=[\\text{EOS}])r(x,y)-\\beta KL(t)\n",
    "$$\n",
    "\n",
    "- RLHF 中的 reward 定义在 response 级别，而非中间的 token 级别\n",
    "    - 中间的 token reward 默认为 0\n",
    "    - reward + kl-penalty\n",
    "- Advantage\n",
    "    - $\\delta_t^V=r_t+\\gamma V_\\theta(s_{t+1})-V_\\theta(s_t)$\n",
    "    - $A_\\theta^{GAE}(s_t,a)=\\delta_t^V+\\gamma\\lambda A_\\theta^{GAE}(s_{t+1},a)$\n",
    "- returns = advantages + values\n",
    "    - δt = rt + γ·V(st+1) - V(st)\n",
    "    - At = δt + (γλ)At+1\n",
    "\n",
    "\n",
    "```python\n",
    "def compute_gae_advantage_return(token_level_rewards: torch.Tensor, values: torch.Tensor, eos_mask: torch.Tensor, gamma: torch.Tensor, lam: torch.Tensor):\n",
    "    with torch.no_grad():\n",
    "        lastgaelam = 0\n",
    "        advantages_reversed = []\n",
    "        gen_len = token_level_rewards.shape[-1]\n",
    "\n",
    "        for t in reversed(range(gen_len)):\n",
    "            nextvalues = values[:, t + 1] if t < gen_len - 1 else 0.0\n",
    "            delta = token_level_rewards[:, t] + gamma * nextvalues - values[:, t]\n",
    "            lastgaelam = delta + gamma * lam * lastgaelam\n",
    "            advantages_reversed.append(lastgaelam)\n",
    "        advantages = torch.stack(advantages_reversed[::-1], dim=1)\n",
    "\n",
    "        returns = advantages + values\n",
    "        advantages = verl_F.masked_whiten(advantages, eos_mask)\n",
    "    return advantages, returns\n",
    "```"
   ]
  }
 ],
 "metadata": {
  "kernelspec": {
   "display_name": "verl",
   "language": "python",
   "name": "verl"
  },
  "language_info": {
   "codemirror_mode": {
    "name": "ipython",
    "version": 3
   },
   "file_extension": ".py",
   "mimetype": "text/x-python",
   "name": "python",
   "nbconvert_exporter": "python",
   "pygments_lexer": "ipython3",
   "version": "3.9.0"
  }
 },
 "nbformat": 4,
 "nbformat_minor": 5
}
