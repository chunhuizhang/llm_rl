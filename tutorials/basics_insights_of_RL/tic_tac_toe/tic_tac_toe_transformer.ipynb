{
 "cells": [
  {
   "cell_type": "markdown",
   "id": "2485a473-d2ff-4422-8215-6d3608118700",
   "metadata": {},
   "source": [
    "- https://philliphaeusler.com/posts/tic_tac_toe/\n",
    "    - https://github.com/pHaeusler/tic_tac_transformer"
   ]
  }
 ],
 "metadata": {
  "kernelspec": {
   "display_name": "verl",
   "language": "python",
   "name": "verl"
  },
  "language_info": {
   "codemirror_mode": {
    "name": "ipython",
    "version": 3
   },
   "file_extension": ".py",
   "mimetype": "text/x-python",
   "name": "python",
   "nbconvert_exporter": "python",
   "pygments_lexer": "ipython3",
   "version": "3.9.0"
  }
 },
 "nbformat": 4,
 "nbformat_minor": 5
}
