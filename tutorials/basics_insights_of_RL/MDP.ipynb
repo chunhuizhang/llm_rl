{
 "cells": [
  {
   "cell_type": "markdown",
   "id": "eabbb1bc-9482-487f-80f8-2e82686dcdf6",
   "metadata": {},
   "source": [
    "> 强化学习是MDP，必须multi-step，把整个回答写成一个step不是RL\n",
    "\n",
    "- fixed horizon MDP setting in RL.\n",
    "    - 一条轨迹最终的回报很高，并不能代表这条轨迹中的每一个动作都是好的。"
   ]
  }
 ],
 "metadata": {
  "kernelspec": {
   "display_name": "verl",
   "language": "python",
   "name": "verl"
  },
  "language_info": {
   "codemirror_mode": {
    "name": "ipython",
    "version": 3
   },
   "file_extension": ".py",
   "mimetype": "text/x-python",
   "name": "python",
   "nbconvert_exporter": "python",
   "pygments_lexer": "ipython3",
   "version": "3.9.0"
  }
 },
 "nbformat": 4,
 "nbformat_minor": 5
}
