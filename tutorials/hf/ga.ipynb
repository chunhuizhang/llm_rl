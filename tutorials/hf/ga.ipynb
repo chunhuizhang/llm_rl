{
 "cells": [
  {
   "cell_type": "markdown",
   "id": "32514e8b-ba51-458c-a76c-140c1bf10d39",
   "metadata": {},
   "source": [
    "- https://www.bilibili.com/video/BV1oY1aYzEVi/\n",
    "- https://unsloth.ai/blog/gradient"
   ]
  },
  {
   "cell_type": "code",
   "execution_count": 10,
   "id": "c58da719-9204-4d02-9662-69571547d4ef",
   "metadata": {
    "execution": {
     "iopub.execute_input": "2025-03-29T09:10:04.321766Z",
     "iopub.status.busy": "2025-03-29T09:10:04.321097Z",
     "iopub.status.idle": "2025-03-29T09:10:04.331343Z",
     "shell.execute_reply": "2025-03-29T09:10:04.329235Z",
     "shell.execute_reply.started": "2025-03-29T09:10:04.321699Z"
    }
   },
   "outputs": [],
   "source": [
    "import torch\n",
    "from torch import nn\n",
    "import torch.nn.functional as F\n",
    "import numpy as np"
   ]
  },
  {
   "cell_type": "markdown",
   "id": "618c748c-6523-4791-ab5c-0dd66b8d01fb",
   "metadata": {},
   "source": [
    "- bz, ga, gas\n",
    "    - bz: batch size\n",
    "    - ga: gradient accumulation\n",
    "    - gas: gradient accumulation steps\n",
    "- true batch size: bz * gas\n",
    "- 核心点在于\n",
    "    - 因为填充的存在，也就是 bz * gas 内（批次内样本的长度不一致），内部先根据长度取 loss 的均值时（cross entropy loss mean），最后再取平均时，跟全局的 loss 不等效\n",
    "    - 所有的样本，都不存在 padding 时\n",
    "        - gas: 2, bz: 1\n",
    "\n",
    "    $$\n",
    "    \\frac{\\frac{l_{11}+l_{12}+l_{13}+l_{14}}4 + \\frac{l_{21}+l_{22} + l_{23} + l_{24}}4}2\n",
    "    $$\n",
    "\n",
    "    - 存在 padding 时（ignore index），第二个句子\n",
    "\n",
    "    $$\n",
    "    \\frac{\\frac{l_{11}+l_{12}+l_{13}+l_{14}}4 + \\frac{l_{21}+l_{22} + l_{23}}3}2\n",
    "    $$\n",
    "\n",
    "    - 其与如下的全局 loss，不等价\n",
    "\n",
    "    $$\n",
    "    \\frac{l_{11} + l_{12} + l_{13} + l_{14}+ {l_{21}+l_{22} + l_{23}}}7\n",
    "    $$\n"
   ]
  },
  {
   "cell_type": "markdown",
   "id": "afb90093-c3f1-493c-a2e5-90274ed32399",
   "metadata": {},
   "source": [
    "### X loss in llm"
   ]
  },
  {
   "cell_type": "markdown",
   "id": "adf365ff-3df5-49cc-aeab-4a61160995ae",
   "metadata": {},
   "source": [
    "$$\n",
    "\\frac{1}{\\mathbb{I}\\{y_i \\ne -100\\}} \\sum L_i\n",
    "$$"
   ]
  },
  {
   "cell_type": "code",
   "execution_count": 5,
   "id": "2743e4ce-1905-46e6-ae52-1d636a404c2c",
   "metadata": {
    "execution": {
     "iopub.execute_input": "2025-03-29T09:07:23.731689Z",
     "iopub.status.busy": "2025-03-29T09:07:23.730932Z",
     "iopub.status.idle": "2025-03-29T09:07:23.746606Z",
     "shell.execute_reply": "2025-03-29T09:07:23.743962Z",
     "shell.execute_reply.started": "2025-03-29T09:07:23.731621Z"
    }
   },
   "outputs": [],
   "source": [
    "input = torch.tensor(\n",
    "    [[2.0, 0.5, 1.0], \n",
    "     [0.1, 1.0, 0.3], \n",
    "     [0.5, 1.2, 0.3], \n",
    "     [0.98, 0.6, 0.17]], \n",
    "    requires_grad=True\n",
    ")  \n",
    "\n",
    "target = torch.tensor([0, 2, 1, 1])  # True labels, with -1 as ignore_index\n",
    "ignore_index = -1  # 定义忽略索引"
   ]
  },
  {
   "cell_type": "code",
   "execution_count": 6,
   "id": "df4c904c-07a7-44e7-a419-f490c0010371",
   "metadata": {
    "execution": {
     "iopub.execute_input": "2025-03-29T09:07:25.569906Z",
     "iopub.status.busy": "2025-03-29T09:07:25.569172Z",
     "iopub.status.idle": "2025-03-29T09:07:25.588219Z",
     "shell.execute_reply": "2025-03-29T09:07:25.585227Z",
     "shell.execute_reply.started": "2025-03-29T09:07:25.569820Z"
    }
   },
   "outputs": [
    {
     "data": {
      "text/plain": [
       "tensor(3.5869, grad_fn=<NllLossBackward0>)"
      ]
     },
     "execution_count": 6,
     "metadata": {},
     "output_type": "execute_result"
    }
   ],
   "source": [
    "F.cross_entropy(input=input, target=target, ignore_index=ignore_index, reduction=\"sum\")"
   ]
  },
  {
   "cell_type": "code",
   "execution_count": 7,
   "id": "ca8eff1c-de2c-4dca-b167-78ba6e5a9684",
   "metadata": {
    "execution": {
     "iopub.execute_input": "2025-03-29T09:08:55.274176Z",
     "iopub.status.busy": "2025-03-29T09:08:55.273501Z",
     "iopub.status.idle": "2025-03-29T09:08:55.285335Z",
     "shell.execute_reply": "2025-03-29T09:08:55.284169Z",
     "shell.execute_reply.started": "2025-03-29T09:08:55.274110Z"
    }
   },
   "outputs": [
    {
     "data": {
      "text/plain": [
       "tensor([[0.6285, 0.1402, 0.2312],\n",
       "        [0.2136, 0.5254, 0.2609],\n",
       "        [0.2609, 0.5254, 0.2136],\n",
       "        [0.4698, 0.3213, 0.2090]], grad_fn=<SoftmaxBackward0>)"
      ]
     },
     "execution_count": 7,
     "metadata": {},
     "output_type": "execute_result"
    }
   ],
   "source": [
    "F.softmax(input, dim=-1)"
   ]
  },
  {
   "cell_type": "code",
   "execution_count": 12,
   "id": "520499dc-454f-4e4a-9573-bf83dcf5a37e",
   "metadata": {
    "execution": {
     "iopub.execute_input": "2025-03-29T09:11:17.411368Z",
     "iopub.status.busy": "2025-03-29T09:11:17.410894Z",
     "iopub.status.idle": "2025-03-29T09:11:17.424343Z",
     "shell.execute_reply": "2025-03-29T09:11:17.422050Z",
     "shell.execute_reply.started": "2025-03-29T09:11:17.411321Z"
    }
   },
   "outputs": [
    {
     "data": {
      "text/plain": [
       "3.587012752382311"
      ]
     },
     "execution_count": 12,
     "metadata": {},
     "output_type": "execute_result"
    }
   ],
   "source": [
    "-(np.log(0.6285) +  np.log(0.2609) + np.log(0.5254) + np.log(0.3213))"
   ]
  },
  {
   "cell_type": "markdown",
   "id": "32d0a658-0259-49c2-890e-62e309a23a07",
   "metadata": {},
   "source": [
    "#### 通过 gather 操作手动计算 x-entropy loss"
   ]
  },
  {
   "cell_type": "code",
   "execution_count": 14,
   "id": "2ec1475c-beda-442d-a0c8-bef5537842b4",
   "metadata": {
    "execution": {
     "iopub.execute_input": "2025-03-29T09:14:20.704472Z",
     "iopub.status.busy": "2025-03-29T09:14:20.703735Z",
     "iopub.status.idle": "2025-03-29T09:14:20.720178Z",
     "shell.execute_reply": "2025-03-29T09:14:20.717904Z",
     "shell.execute_reply.started": "2025-03-29T09:14:20.704406Z"
    }
   },
   "outputs": [
    {
     "data": {
      "text/plain": [
       "tensor([[0],\n",
       "        [2],\n",
       "        [1],\n",
       "        [1]])"
      ]
     },
     "execution_count": 14,
     "metadata": {},
     "output_type": "execute_result"
    }
   ],
   "source": [
    "target.unsqueeze(1)"
   ]
  },
  {
   "cell_type": "code",
   "execution_count": 18,
   "id": "fff1c854-7611-4aa1-81eb-6bb45922942a",
   "metadata": {
    "execution": {
     "iopub.execute_input": "2025-03-29T09:15:53.306720Z",
     "iopub.status.busy": "2025-03-29T09:15:53.306000Z",
     "iopub.status.idle": "2025-03-29T09:15:53.317613Z",
     "shell.execute_reply": "2025-03-29T09:15:53.315781Z",
     "shell.execute_reply.started": "2025-03-29T09:15:53.306654Z"
    }
   },
   "outputs": [],
   "source": [
    "log_probs = F.log_softmax(input, dim=1)\n",
    "selected = log_probs.gather(1, target.unsqueeze(1)).squeeze(1)"
   ]
  },
  {
   "cell_type": "code",
   "execution_count": 19,
   "id": "980e849a-450c-472d-9cfa-08987a3bad99",
   "metadata": {
    "execution": {
     "iopub.execute_input": "2025-03-29T09:15:54.636188Z",
     "iopub.status.busy": "2025-03-29T09:15:54.635468Z",
     "iopub.status.idle": "2025-03-29T09:15:54.651234Z",
     "shell.execute_reply": "2025-03-29T09:15:54.648955Z",
     "shell.execute_reply.started": "2025-03-29T09:15:54.636126Z"
    }
   },
   "outputs": [
    {
     "data": {
      "text/plain": [
       "tensor([-0.4644, -1.3435, -0.6435, -1.1355], grad_fn=<SqueezeBackward1>)"
      ]
     },
     "execution_count": 19,
     "metadata": {},
     "output_type": "execute_result"
    }
   ],
   "source": [
    "selected"
   ]
  },
  {
   "cell_type": "code",
   "execution_count": 20,
   "id": "8f18394a-b434-49c3-87c5-e54df375f0c8",
   "metadata": {
    "execution": {
     "iopub.execute_input": "2025-03-29T09:15:55.796832Z",
     "iopub.status.busy": "2025-03-29T09:15:55.796122Z",
     "iopub.status.idle": "2025-03-29T09:15:55.813166Z",
     "shell.execute_reply": "2025-03-29T09:15:55.811283Z",
     "shell.execute_reply.started": "2025-03-29T09:15:55.796769Z"
    }
   },
   "outputs": [
    {
     "data": {
      "text/plain": [
       "tensor(3.5869, grad_fn=<SumBackward0>)"
      ]
     },
     "execution_count": 20,
     "metadata": {},
     "output_type": "execute_result"
    }
   ],
   "source": [
    "loss = -selected\n",
    "mask = (target != ignore_index)\n",
    "loss = loss[mask]\n",
    "loss.sum()"
   ]
  },
  {
   "cell_type": "code",
   "execution_count": null,
   "id": "1da9c527-fe23-4884-b24e-9a271619bd19",
   "metadata": {},
   "outputs": [],
   "source": []
  }
 ],
 "metadata": {
  "kernelspec": {
   "display_name": "verl",
   "language": "python",
   "name": "verl"
  },
  "language_info": {
   "codemirror_mode": {
    "name": "ipython",
    "version": 3
   },
   "file_extension": ".py",
   "mimetype": "text/x-python",
   "name": "python",
   "nbconvert_exporter": "python",
   "pygments_lexer": "ipython3",
   "version": "3.9.0"
  }
 },
 "nbformat": 4,
 "nbformat_minor": 5
}
