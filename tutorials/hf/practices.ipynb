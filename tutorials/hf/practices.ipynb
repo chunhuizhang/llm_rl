{
 "cells": [
  {
   "cell_type": "markdown",
   "id": "0c6a11b2-69d0-45c6-b0d6-f43b55d73304",
   "metadata": {},
   "source": [
    "### `huggingface-cli` 命令行工具"
   ]
  },
  {
   "cell_type": "markdown",
   "id": "2087d91c-6a86-4934-8489-121d2269454e",
   "metadata": {},
   "source": [
    "- `huggingface-cli scan-cache`\n",
    "    - list datasets and models"
   ]
  },
  {
   "cell_type": "markdown",
   "id": "2fc25151-4717-4aa2-b863-f65ce083e9e3",
   "metadata": {},
   "source": [
    "### download to local dir"
   ]
  },
  {
   "cell_type": "markdown",
   "id": "64b02803-296c-473d-a3eb-d5b8981a1ebd",
   "metadata": {},
   "source": [
    "```python\n",
    "from huggingface_hub import hf_hub_download\n",
    "\n",
    "repo_id = \"PeterJinGo/wiki-18-corpus\"\n",
    "hf_hub_download(\n",
    "        repo_id=repo_id,\n",
    "        filename=\"wiki-18.jsonl.gz\",\n",
    "        repo_type=\"dataset\",\n",
    "        local_dir=args.save_path,\n",
    ")\n",
    "```"
   ]
  }
 ],
 "metadata": {
  "kernelspec": {
   "display_name": "verl",
   "language": "python",
   "name": "verl"
  },
  "language_info": {
   "codemirror_mode": {
    "name": "ipython",
    "version": 3
   },
   "file_extension": ".py",
   "mimetype": "text/x-python",
   "name": "python",
   "nbconvert_exporter": "python",
   "pygments_lexer": "ipython3",
   "version": "3.9.0"
  }
 },
 "nbformat": 4,
 "nbformat_minor": 5
}
