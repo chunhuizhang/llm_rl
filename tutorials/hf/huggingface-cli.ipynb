{
 "cells": [
  {
   "cell_type": "markdown",
   "id": "c32f5a49-40db-4e9f-853f-af3318b738fd",
   "metadata": {},
   "source": [
    "- `huggingface-cli scan-cache`\n",
    "- `huggingface-cli download Qwen/Qwen2.5-3B`\n",
    "    - 默认下载到 `$HF_HOME/huggingface/hub/models--Qwen--Qwen2.5-3B/`\n",
    "    - `--local-dir LOCAL_DIR`"
   ]
  }
 ],
 "metadata": {
  "kernelspec": {
   "display_name": "verl",
   "language": "python",
   "name": "verl"
  },
  "language_info": {
   "codemirror_mode": {
    "name": "ipython",
    "version": 3
   },
   "file_extension": ".py",
   "mimetype": "text/x-python",
   "name": "python",
   "nbconvert_exporter": "python",
   "pygments_lexer": "ipython3",
   "version": "3.9.0"
  }
 },
 "nbformat": 4,
 "nbformat_minor": 5
}
