{
 "cells": [
  {
   "cell_type": "markdown",
   "id": "4a9a720f-1a6b-4bff-8576-59a7a5026d98",
   "metadata": {},
   "source": [
    "### 显存问题"
   ]
  },
  {
   "cell_type": "markdown",
   "id": "fa94e2e3-f883-40e0-91b1-8ccc0e20e364",
   "metadata": {},
   "source": [
    "- clip ratio 变高，会导致 gpu oom；\n",
    "    - max response length"
   ]
  },
  {
   "cell_type": "markdown",
   "id": "47fa28c8-b43e-4afd-9e77-1abe574d2251",
   "metadata": {},
   "source": [
    "### 训练效果"
   ]
  },
  {
   "cell_type": "markdown",
   "id": "482b57eb-6868-457e-b664-cb14b7069c1a",
   "metadata": {},
   "source": [
    "- rollout entropy\n",
    "    - 是不是收敛到 0\n",
    "    - reward std\n",
    "- 两个 kl\n",
    "    - ppo kl\n",
    "    - grpo kl"
   ]
  }
 ],
 "metadata": {
  "kernelspec": {
   "display_name": "verl",
   "language": "python",
   "name": "verl"
  },
  "language_info": {
   "codemirror_mode": {
    "name": "ipython",
    "version": 3
   },
   "file_extension": ".py",
   "mimetype": "text/x-python",
   "name": "python",
   "nbconvert_exporter": "python",
   "pygments_lexer": "ipython3",
   "version": "3.9.0"
  }
 },
 "nbformat": 4,
 "nbformat_minor": 5
}
