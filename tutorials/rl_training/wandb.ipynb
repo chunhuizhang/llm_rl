{
 "cells": [
  {
   "cell_type": "markdown",
   "id": "a4fe5e6f-a96f-43e1-b7c3-958e76659ba5",
   "metadata": {},
   "source": [
    "### system"
   ]
  },
  {
   "cell_type": "markdown",
   "id": "73c2f2c3-eb82-4045-8251-ac3dbd05355b",
   "metadata": {},
   "source": [
    "- GPU\n",
    "    - GPU Memory Allocated(%)\n",
    "    - GPU Utilization(%)\n",
    "- CPU & memory"
   ]
  },
  {
   "cell_type": "markdown",
   "id": "7334f46d-d19e-450f-8013-36f472fdd309",
   "metadata": {},
   "source": [
    "### actor"
   ]
  },
  {
   "cell_type": "markdown",
   "id": "a1ffdbe5-ecb1-4725-ab94-67fad8a7aded",
   "metadata": {},
   "source": [
    "- grad_norm\n",
    "    - 是否为 nan"
   ]
  }
 ],
 "metadata": {
  "kernelspec": {
   "display_name": "Python 3 (ipykernel)",
   "language": "python",
   "name": "python3"
  },
  "language_info": {
   "codemirror_mode": {
    "name": "ipython",
    "version": 3
   },
   "file_extension": ".py",
   "mimetype": "text/x-python",
   "name": "python",
   "nbconvert_exporter": "python",
   "pygments_lexer": "ipython3",
   "version": "3.10.0"
  }
 },
 "nbformat": 4,
 "nbformat_minor": 5
}
