{
 "cells": [
  {
   "cell_type": "code",
   "execution_count": 1,
   "id": "a06022cf-77ba-4510-9cb7-740a3207eb02",
   "metadata": {
    "execution": {
     "iopub.execute_input": "2025-04-06T02:45:11.577293Z",
     "iopub.status.busy": "2025-04-06T02:45:11.576584Z",
     "iopub.status.idle": "2025-04-06T02:45:14.291554Z",
     "shell.execute_reply": "2025-04-06T02:45:14.290010Z",
     "shell.execute_reply.started": "2025-04-06T02:45:11.577222Z"
    }
   },
   "outputs": [
    {
     "name": "stderr",
     "output_type": "stream",
     "text": [
      "/home/whaow/anaconda3/envs/verl/lib/python3.9/site-packages/tqdm/auto.py:21: TqdmWarning: IProgress not found. Please update jupyter and ipywidgets. See https://ipywidgets.readthedocs.io/en/stable/user_install.html\n",
      "  from .autonotebook import tqdm as notebook_tqdm\n"
     ]
    }
   ],
   "source": [
    "from transformers import AutoTokenizer\n",
    "import re\n",
    "import torch"
   ]
  },
  {
   "cell_type": "code",
   "execution_count": 2,
   "id": "8016493c-2168-4236-a8b3-1e75faf43c2d",
   "metadata": {
    "execution": {
     "iopub.execute_input": "2025-04-06T02:46:00.627104Z",
     "iopub.status.busy": "2025-04-06T02:46:00.626340Z",
     "iopub.status.idle": "2025-04-06T02:46:00.637489Z",
     "shell.execute_reply": "2025-04-06T02:46:00.635229Z",
     "shell.execute_reply.started": "2025-04-06T02:46:00.627032Z"
    }
   },
   "outputs": [],
   "source": [
    "model_id = 'deepseek-ai/DeepSeek-V3'\n",
    "model_id_0324 = 'deepseek-ai/DeepSeek-V3-0324'"
   ]
  },
  {
   "cell_type": "code",
   "execution_count": 3,
   "id": "c9026ef2-897a-41ef-b9ad-b1f13d932a07",
   "metadata": {
    "execution": {
     "iopub.execute_input": "2025-04-06T02:46:34.053533Z",
     "iopub.status.busy": "2025-04-06T02:46:34.051592Z",
     "iopub.status.idle": "2025-04-06T02:46:41.796833Z",
     "shell.execute_reply": "2025-04-06T02:46:41.795154Z",
     "shell.execute_reply.started": "2025-04-06T02:46:34.053457Z"
    }
   },
   "outputs": [],
   "source": [
    "T1 = AutoTokenizer.from_pretrained(model_id)\n",
    "T2 = AutoTokenizer.from_pretrained(model_id_0324)"
   ]
  },
  {
   "cell_type": "markdown",
   "id": "a9790289-b241-4309-ae4a-8b254717c398",
   "metadata": {},
   "source": [
    "### 'deepseek-ai/DeepSeek-V3'"
   ]
  },
  {
   "cell_type": "code",
   "execution_count": 5,
   "id": "d7bb1d59-f8b4-44fc-b740-c39d3e9525f3",
   "metadata": {
    "execution": {
     "iopub.execute_input": "2025-04-06T02:46:59.282371Z",
     "iopub.status.busy": "2025-04-06T02:46:59.281670Z",
     "iopub.status.idle": "2025-04-06T02:46:59.293471Z",
     "shell.execute_reply": "2025-04-06T02:46:59.291309Z",
     "shell.execute_reply.started": "2025-04-06T02:46:59.282302Z"
    },
    "scrolled": true
   },
   "outputs": [
    {
     "name": "stdout",
     "output_type": "stream",
     "text": [
      "{% if not add_generation_prompt is defined %}{% set add_generation_prompt = false %}{% endif %}{% set ns = namespace(is_first=false, is_tool=false, is_output_first=true, system_prompt='', is_first_sp=true) %}{%- for message in messages %}{%- if message['role'] == 'system' %}{%- if ns.is_first_sp %}{% set ns.system_prompt = ns.system_prompt + message['content'] %}{% set ns.is_first_sp = false %}{%- else %}{% set ns.system_prompt = ns.system_prompt + '\n",
      "\n",
      "' + message['content'] %}{%- endif %}{%- endif %}{%- endfor %}{{bos_token}}{{ns.system_prompt}}{%- for message in messages %}{%- if message['role'] == 'user' %}{%- set ns.is_tool = false -%}{{'<｜User｜>' + message['content']}}{%- endif %}{%- if message['role'] == 'assistant' and message['content'] is none %}{%- set ns.is_tool = false -%}{%- for tool in message['tool_calls']%}{%- if not ns.is_first %}{{'<｜Assistant｜><｜tool▁calls▁begin｜><｜tool▁call▁begin｜>' + tool['type'] + '<｜tool▁sep｜>' + tool['function']['name'] + '\n",
      "' + '```json' + '\n",
      "' + tool['function']['arguments'] + '\n",
      "' + '```' + '<｜tool▁call▁end｜>'}}{%- set ns.is_first = true -%}{%- else %}{{'\n",
      "' + '<｜tool▁call▁begin｜>' + tool['type'] + '<｜tool▁sep｜>' + tool['function']['name'] + '\n",
      "' + '```json' + '\n",
      "' + tool['function']['arguments'] + '\n",
      "' + '```' + '<｜tool▁call▁end｜>'}}{{'<｜tool▁calls▁end｜><｜end▁of▁sentence｜>'}}{%- endif %}{%- endfor %}{%- endif %}{%- if message['role'] == 'assistant' and message['content'] is not none %}{%- if ns.is_tool %}{{'<｜tool▁outputs▁end｜>' + message['content'] + '<｜end▁of▁sentence｜>'}}{%- set ns.is_tool = false -%}{%- else %}{{'<｜Assistant｜>' + message['content'] + '<｜end▁of▁sentence｜>'}}{%- endif %}{%- endif %}{%- if message['role'] == 'tool' %}{%- set ns.is_tool = true -%}{%- if ns.is_output_first %}{{'<｜tool▁outputs▁begin｜><｜tool▁output▁begin｜>' + message['content'] + '<｜tool▁output▁end｜>'}}{%- set ns.is_output_first = false %}{%- else %}{{'\n",
      "<｜tool▁output▁begin｜>' + message['content'] + '<｜tool▁output▁end｜>'}}{%- endif %}{%- endif %}{%- endfor -%}{% if ns.is_tool %}{{'<｜tool▁outputs▁end｜>'}}{% endif %}{% if add_generation_prompt and not ns.is_tool %}{{'<｜Assistant｜>'}}{% endif %}\n"
     ]
    }
   ],
   "source": [
    "print(T1.chat_template)"
   ]
  },
  {
   "cell_type": "markdown",
   "id": "892b7df6-0a4c-4156-b106-734dbe51d363",
   "metadata": {},
   "source": [
    "```jinja\n",
    "{# 设置默认变量 #}\n",
    "{% if add_generation_prompt is not defined %}\n",
    "  {% set add_generation_prompt = false %}\n",
    "{% endif %}\n",
    "\n",
    "{# 定义命名空间变量 #}\n",
    "{% set ns = namespace(\n",
    "  is_first=false,\n",
    "  is_tool=false,\n",
    "  is_output_first=true,\n",
    "  system_prompt='',\n",
    "  is_first_sp=true\n",
    ") %}\n",
    "\n",
    "{# 拼接 system prompt #}\n",
    "{% for message in messages %}\n",
    "  {% if message['role'] == 'system' %}\n",
    "    {% if ns.is_first_sp %}\n",
    "      {% set ns.system_prompt = ns.system_prompt + message['content'] %}\n",
    "      {% set ns.is_first_sp = false %}\n",
    "    {% else %}\n",
    "      {% set ns.system_prompt = ns.system_prompt + '\\n' + message['content'] %}\n",
    "    {% endif %}\n",
    "  {% endif %}\n",
    "{% endfor %}\n",
    "\n",
    "{{ bos_token }}{{ ns.system_prompt }}\n",
    "\n",
    "{# 遍历消息内容 #}\n",
    "{% for message in messages %}\n",
    "\n",
    "  {# 用户消息处理 #}\n",
    "  {% if message['role'] == 'user' %}\n",
    "    {% set ns.is_tool = false %}\n",
    "    {{ '<｜User｜>' + message['content'] }}\n",
    "\n",
    "  {# 助手消息（带工具调用） #}\n",
    "  {% elif message['role'] == 'assistant' and message['content'] is none %}\n",
    "    {% set ns.is_tool = false %}\n",
    "    {% for tool in message['tool_calls'] %}\n",
    "      {% if not ns.is_first %}\n",
    "        {{ '<｜Assistant｜><｜tool▁calls▁begin｜><｜tool▁call▁begin｜>' + tool['type'] + '<｜tool▁sep｜>' + tool['function']['name'] + '\\n```json\\n' + tool['function']['arguments'] + '\\n```<｜tool▁call▁end｜>' }}\n",
    "        {% set ns.is_first = true %}\n",
    "      {% else %}\n",
    "        {{ '\\n<｜tool▁call▁begin｜>' + tool['type'] + '<｜tool▁sep｜>' + tool['function']['name'] + '\\n```json\\n' + tool['function']['arguments'] + '\\n```<｜tool▁call▁end｜>' }}\n",
    "        {{ '<｜tool▁calls▁end｜><｜end▁of▁sentence｜>' }}\n",
    "      {% endif %}\n",
    "    {% endfor %}\n",
    "\n",
    "  {# 助手正常回复内容 #}\n",
    "  {% elif message['role'] == 'assistant' and message['content'] is not none %}\n",
    "    {% if ns.is_tool %}\n",
    "      {{ '<｜tool▁outputs▁end｜>' + message['content'] + '<｜end▁of▁sentence｜>' }}\n",
    "      {% set ns.is_tool = false %}\n",
    "    {% else %}\n",
    "      {{ '<｜Assistant｜>' + message['content'] + '<｜end▁of▁sentence｜>' }}\n",
    "    {% endif %}\n",
    "\n",
    "  {# 工具输出处理 #}\n",
    "  {% elif message['role'] == 'tool' %}\n",
    "    {% set ns.is_tool = true %}\n",
    "    {% if ns.is_output_first %}\n",
    "      {{ '<｜tool▁outputs▁begin｜><｜tool▁output▁begin｜>' + message['content'] + '<｜tool▁output▁end｜>' }}\n",
    "      {% set ns.is_output_first = false %}\n",
    "    {% else %}\n",
    "      {{ '\\n<｜tool▁output▁begin｜>' + message['content'] + '<｜tool▁output▁end｜>' }}\n",
    "    {% endif %}\n",
    "  {% endif %}\n",
    "\n",
    "{% endfor %}\n",
    "\n",
    "{# 工具输出结尾处理 #}\n",
    "{% if ns.is_tool %}\n",
    "  {{ '<｜tool▁outputs▁end｜>' }}\n",
    "{% endif %}\n",
    "\n",
    "{# 生成助手响应起始标记 #}\n",
    "{% if add_generation_prompt and not ns.is_tool %}\n",
    "  {{ '<｜Assistant｜>' }}\n",
    "{% endif %}\n",
    "\n",
    "```"
   ]
  },
  {
   "cell_type": "markdown",
   "id": "24c8637b-2205-43ca-acf1-430b5617ba59",
   "metadata": {},
   "source": [
    "```\n",
    "初始化变量\n",
    "│\n",
    "├── 收集 system prompt\n",
    "│\n",
    "├── 遍历 messages:\n",
    "│   ├── system → 拼接 prompt\n",
    "│   ├── user → 加 <|User|>\n",
    "│   ├── assistant:\n",
    "│   │   ├── 若调用 tool → 生成 tool_call 块\n",
    "│   │   └── 否则 → 加 <|Assistant|>\n",
    "│   └── tool → 输出 tool_output 块\n",
    "│\n",
    "└── 最后判断是否需要加 <|Assistant|> 结束\n",
    "```"
   ]
  },
  {
   "cell_type": "markdown",
   "id": "2c58858f-4a6f-4a18-8a03-53cfdb05ba35",
   "metadata": {},
   "source": [
    "### 'deepseek-ai/DeepSeek-V3-0324'"
   ]
  },
  {
   "cell_type": "markdown",
   "id": "b15fff60-c67e-42a4-adf3-3ecc769dce6c",
   "metadata": {},
   "source": [
    "```\n",
    "初始化变量（增加 is_last_user 等）\n",
    "│\n",
    "├── 收集 system prompt\n",
    "│\n",
    "├── 遍历 messages:\n",
    "│   ├── system → 拼接 prompt\n",
    "│   ├── user → 加 <|User|>，标记 is_last_user=True\n",
    "│   ├── assistant:\n",
    "│   │   ├── 若调用 tool_call：\n",
    "│   │   │   └── 判断是否有 content（处理更细）\n",
    "│   │   └── 若普通内容 → 加 <|Assistant|>\n",
    "│   └── tool:\n",
    "│       └── 多个 tool_output 串联，闭合处理\n",
    "│\n",
    "└── 若最后是 user 且无 tool 调用 → 加 <|Assistant|> 提示生成回复\n",
    "\n",
    "```"
   ]
  },
  {
   "cell_type": "code",
   "execution_count": 6,
   "id": "fbbf02fa-8bdc-4d3b-b7e0-f7a82edf6fa6",
   "metadata": {
    "execution": {
     "iopub.execute_input": "2025-04-06T02:48:41.732474Z",
     "iopub.status.busy": "2025-04-06T02:48:41.731771Z",
     "iopub.status.idle": "2025-04-06T02:48:41.743820Z",
     "shell.execute_reply": "2025-04-06T02:48:41.741833Z",
     "shell.execute_reply.started": "2025-04-06T02:48:41.732402Z"
    }
   },
   "outputs": [
    {
     "name": "stdout",
     "output_type": "stream",
     "text": [
      "{% if not add_generation_prompt is defined %}{% set add_generation_prompt = false %}{% endif %}{% set ns = namespace(is_first=false, is_tool=false, is_output_first=true, system_prompt='', is_first_sp=true, is_last_user=false) %}{%- for message in messages %}{%- if message['role'] == 'system' %}{%- if ns.is_first_sp %}{% set ns.system_prompt = ns.system_prompt + message['content'] %}{% set ns.is_first_sp = false %}{%- else %}{% set ns.system_prompt = ns.system_prompt + '\n",
      "\n",
      "' + message['content'] %}{%- endif %}{%- endif %}{%- endfor %}{{ bos_token }}{{ ns.system_prompt }}{%- for message in messages %}{%- if message['role'] == 'user' %}{%- set ns.is_tool = false -%}{%- set ns.is_first = false -%}{%- set ns.is_last_user = true -%}{{'<｜User｜>' + message['content'] + '<｜Assistant｜>'}}{%- endif %}{%- if message['role'] == 'assistant' and message['tool_calls'] is defined and message['tool_calls'] is not none %}{%- set ns.is_last_user = false -%}{%- if ns.is_tool %}{{'<｜tool▁outputs▁end｜>'}}{%- endif %}{%- set ns.is_first = false %}{%- set ns.is_tool = false -%}{%- set ns.is_output_first = true %}{%- for tool in message['tool_calls'] %}{%- if not ns.is_first %}{%- if message['content'] is none %}{{'<｜tool▁calls▁begin｜><｜tool▁call▁begin｜>' + tool['type'] + '<｜tool▁sep｜>' + tool['function']['name'] + '\n",
      "' + '```json' + '\n",
      "' + tool['function']['arguments'] + '\n",
      "' + '```' + '<｜tool▁call▁end｜>'}}{%- else %}{{message['content'] + '<｜tool▁calls▁begin｜><｜tool▁call▁begin｜>' + tool['type'] + '<｜tool▁sep｜>' + tool['function']['name'] + '\n",
      "' + '```json' + '\n",
      "' + tool['function']['arguments'] + '\n",
      "' + '```' + '<｜tool▁call▁end｜>'}}{%- endif %}{%- set ns.is_first = true -%}{%- else %}{{'\n",
      "' + '<｜tool▁call▁begin｜>' + tool['type'] + '<｜tool▁sep｜>' + tool['function']['name'] + '\n",
      "' + '```json' + '\n",
      "' + tool['function']['arguments'] + '\n",
      "' + '```' + '<｜tool▁call▁end｜>'}}{%- endif %}{%- endfor %}{{'<｜tool▁calls▁end｜><｜end▁of▁sentence｜>'}}{%- endif %}{%- if message['role'] == 'assistant' and (message['tool_calls'] is not defined or message['tool_calls'] is none)%}{%- set ns.is_last_user = false -%}{%- if ns.is_tool %}{{'<｜tool▁outputs▁end｜>' + message['content'] + '<｜end▁of▁sentence｜>'}}{%- set ns.is_tool = false -%}{%- else %}{% set content = message['content'] %}{{content + '<｜end▁of▁sentence｜>'}}{%- endif %}{%- endif %}{%- if message['role'] == 'tool' %}{%- set ns.is_last_user = false -%}{%- set ns.is_tool = true -%}{%- if ns.is_output_first %}{{'<｜tool▁outputs▁begin｜><｜tool▁output▁begin｜>' + message['content'] + '<｜tool▁output▁end｜>'}}{%- set ns.is_output_first = false %}{%- else %}{{'\n",
      "<｜tool▁output▁begin｜>' + message['content'] + '<｜tool▁output▁end｜>'}}{%- endif %}{%- endif %}{%- endfor -%}{% if ns.is_tool %}{{'<｜tool▁outputs▁end｜>'}}{% endif %}{% if add_generation_prompt and not ns.is_last_user and not ns.is_tool %}{{'<｜Assistant｜>'}}{% endif %}\n"
     ]
    }
   ],
   "source": [
    "print(T2.chat_template)"
   ]
  },
  {
   "cell_type": "markdown",
   "id": "462c9919-20db-4505-bf8d-f0f62e5b8dc0",
   "metadata": {},
   "source": [
    "```jinja\n",
    "{# 设置默认值 #}\n",
    "{% if add_generation_prompt is not defined %}\n",
    "  {% set add_generation_prompt = false %}\n",
    "{% endif %}\n",
    "\n",
    "{# 初始化状态变量 #}\n",
    "{% set ns = namespace(\n",
    "  is_first=false,\n",
    "  is_tool=false,\n",
    "  is_output_first=true,\n",
    "  system_prompt='',\n",
    "  is_first_sp=true,\n",
    "  is_last_user=false\n",
    ") %}\n",
    "\n",
    "{# 拼接所有 system prompt #}\n",
    "{% for message in messages %}\n",
    "  {% if message['role'] == 'system' %}\n",
    "    {% if ns.is_first_sp %}\n",
    "      {% set ns.system_prompt = ns.system_prompt + message['content'] %}\n",
    "      {% set ns.is_first_sp = false %}\n",
    "    {% else %}\n",
    "      {% set ns.system_prompt = ns.system_prompt + '\\n' + message['content'] %}\n",
    "    {% endif %}\n",
    "  {% endif %}\n",
    "{% endfor %}\n",
    "\n",
    "{{ bos_token }}{{ ns.system_prompt }}\n",
    "\n",
    "{# 遍历所有消息 #}\n",
    "{% for message in messages %}\n",
    "\n",
    "  {# 处理用户消息 #}\n",
    "  {% if message['role'] == 'user' %}\n",
    "    {% set ns.is_tool = false %}\n",
    "    {% set ns.is_first = false %}\n",
    "    {% set ns.is_last_user = true %}\n",
    "    {{ '<｜User｜>' + message['content'] + '<｜Assistant｜>' }}\n",
    "\n",
    "  {# 处理 Assistant 调用工具的情况 #}\n",
    "  {% elif message['role'] == 'assistant' and message['tool_calls'] is defined and message['tool_calls'] is not none %}\n",
    "    {% set ns.is_last_user = false %}\n",
    "    {% if ns.is_tool %}\n",
    "      {{ '<｜tool▁outputs▁end｜>' }}\n",
    "    {% endif %}\n",
    "    {% set ns.is_first = false %}\n",
    "    {% set ns.is_tool = false %}\n",
    "    {% set ns.is_output_first = true %}\n",
    "\n",
    "    {% for tool in message['tool_calls'] %}\n",
    "      {% set tool_call_str = '<｜tool▁call▁begin｜>' + tool['type'] + '<｜tool▁sep｜>' + tool['function']['name'] + '\\n```json\\n' + tool['function']['arguments'] + '\\n```<｜tool▁call▁end｜>' %}\n",
    "\n",
    "      {% if not ns.is_first %}\n",
    "        {% if message['content'] is none %}\n",
    "          {{ '<｜tool▁calls▁begin｜>' + tool_call_str }}\n",
    "        {% else %}\n",
    "          {{ message['content'] + '<｜tool▁calls▁begin｜>' + tool_call_str }}\n",
    "        {% endif %}\n",
    "        {% set ns.is_first = true %}\n",
    "      {% else %}\n",
    "        {{ '\\n' + tool_call_str }}\n",
    "      {% endif %}\n",
    "    {% endfor %}\n",
    "    {{ '<｜tool▁calls▁end｜><｜end▁of▁sentence｜>' }}\n",
    "\n",
    "  {# Assistant 正常回复内容（无工具调用） #}\n",
    "  {% elif message['role'] == 'assistant' %}\n",
    "    {% set ns.is_last_user = false %}\n",
    "    {% if ns.is_tool %}\n",
    "      {{ '<｜tool▁outputs▁end｜>' + message['content'] + '<｜end▁of▁sentence｜>' }}\n",
    "      {% set ns.is_tool = false %}\n",
    "    {% else %}\n",
    "      {{ message['content'] + '<｜end▁of▁sentence｜>' }}\n",
    "    {% endif %}\n",
    "\n",
    "  {# 工具的输出内容 #}\n",
    "  {% elif message['role'] == 'tool' %}\n",
    "    {% set ns.is_last_user = false %}\n",
    "    {% set ns.is_tool = true %}\n",
    "    {% if ns.is_output_first %}\n",
    "      {{ '<｜tool▁outputs▁begin｜><｜tool▁output▁begin｜>' + message['content'] + '<｜tool▁output▁end｜>' }}\n",
    "      {% set ns.is_output_first = false %}\n",
    "    {% else %}\n",
    "      {{ '\\n<｜tool▁output▁begin｜>' + message['content'] + '<｜tool▁output▁end｜>' }}\n",
    "    {% endif %}\n",
    "  {% endif %}\n",
    "\n",
    "{% endfor %}\n",
    "\n",
    "{# 如果有残留的 tool 输出状态，则收尾结束 #}\n",
    "{% if ns.is_tool %}\n",
    "  {{ '<｜tool▁outputs▁end｜>' }}\n",
    "{% endif %}\n",
    "\n",
    "{# 最终是否生成 Assistant 提示起始符 #}\n",
    "{% if add_generation_prompt and not ns.is_last_user and not ns.is_tool %}\n",
    "  {{ '<｜Assistant｜>' }}\n",
    "{% endif %}\n",
    "\n",
    "```"
   ]
  },
  {
   "cell_type": "markdown",
   "id": "7ae6bc7c-3d5f-42f0-9faf-1170727aeaf9",
   "metadata": {},
   "source": [
    "### apply_chat_template"
   ]
  },
  {
   "cell_type": "code",
   "execution_count": 7,
   "id": "2f22d09e-166a-45ed-874c-1b542311c5d2",
   "metadata": {
    "execution": {
     "iopub.execute_input": "2025-04-06T02:55:46.054519Z",
     "iopub.status.busy": "2025-04-06T02:55:46.053706Z",
     "iopub.status.idle": "2025-04-06T02:55:46.069353Z",
     "shell.execute_reply": "2025-04-06T02:55:46.066930Z",
     "shell.execute_reply.started": "2025-04-06T02:55:46.054445Z"
    }
   },
   "outputs": [],
   "source": [
    "messages = [\n",
    "    {\"role\": \"system\", \"content\": \"You are a helpful assistant.\"},\n",
    "    {\"role\": \"user\", \"content\": \"What's the weather in Paris?\"},\n",
    "    {\"role\": \"assistant\", \"content\": \"Let me check the weather for you.\", \"tool_calls\": [\n",
    "        {\n",
    "            \"type\": \"function\",\n",
    "            \"function\": {\n",
    "                \"name\": \"get_weather\",\n",
    "                \"arguments\": '{\"location\": \"Paris\"}'\n",
    "            }\n",
    "        }\n",
    "    ]},\n",
    "    {\"role\": \"tool\", \"content\": '{\"temperature\": \"18°C\", \"condition\": \"Sunny\"}'},\n",
    "    {\"role\": \"assistant\", \"content\": \"It’s currently 18°C and sunny in Paris.\"}\n",
    "]"
   ]
  },
  {
   "cell_type": "code",
   "execution_count": 12,
   "id": "01e57a84-3565-47d4-a285-aaf5c494759a",
   "metadata": {
    "execution": {
     "iopub.execute_input": "2025-04-06T03:05:54.710279Z",
     "iopub.status.busy": "2025-04-06T03:05:54.709530Z",
     "iopub.status.idle": "2025-04-06T03:05:54.724423Z",
     "shell.execute_reply": "2025-04-06T03:05:54.722331Z",
     "shell.execute_reply.started": "2025-04-06T03:05:54.710209Z"
    }
   },
   "outputs": [
    {
     "data": {
      "text/plain": [
       "'<｜begin▁of▁sentence｜>You are a helpful assistant.<｜User｜>What\\'s the weather in Paris?<｜Assistant｜>Let me check the weather for you.<｜end▁of▁sentence｜><｜tool▁outputs▁begin｜><｜tool▁output▁begin｜>{\"temperature\": \"18°C\", \"condition\": \"Sunny\"}<｜tool▁output▁end｜><｜tool▁outputs▁end｜>It’s currently 18°C and sunny in Paris.<｜end▁of▁sentence｜>'"
      ]
     },
     "execution_count": 12,
     "metadata": {},
     "output_type": "execute_result"
    }
   ],
   "source": [
    "T1.apply_chat_template(messages, tokenize=False)"
   ]
  },
  {
   "cell_type": "markdown",
   "id": "b7582b5d-775e-4be2-b62d-1133f93df891",
   "metadata": {},
   "source": [
    "```\n",
    "<｜begin▁of▁sentence｜>You are a helpful assistant.\n",
    "<｜User｜>What\\'s the weather in Paris?\n",
    "<｜Assistant｜>Let me check the weather for you.<｜end▁of▁sentence｜>\n",
    "<｜tool▁outputs▁begin｜><｜tool▁output▁begin｜>{\"temperature\": \"18°C\", \"condition\": \"Sunny\"}<｜tool▁output▁end｜><｜tool▁outputs▁end｜>It’s currently 18°C and sunny in Paris.<｜end▁of▁sentence｜>'\n",
    "```"
   ]
  },
  {
   "cell_type": "code",
   "execution_count": 10,
   "id": "1a100330-d28b-499d-a199-075c97b9b410",
   "metadata": {
    "execution": {
     "iopub.execute_input": "2025-04-06T02:56:27.599550Z",
     "iopub.status.busy": "2025-04-06T02:56:27.598719Z",
     "iopub.status.idle": "2025-04-06T02:56:27.691021Z",
     "shell.execute_reply": "2025-04-06T02:56:27.689174Z",
     "shell.execute_reply.started": "2025-04-06T02:56:27.599474Z"
    }
   },
   "outputs": [
    {
     "data": {
      "text/plain": [
       "'<｜begin▁of▁sentence｜>You are a helpful assistant.<｜User｜>What\\'s the weather in Paris?<｜Assistant｜>Let me check the weather for you.<｜tool▁calls▁begin｜><｜tool▁call▁begin｜>function<｜tool▁sep｜>get_weather\\n```json\\n{\"location\": \"Paris\"}\\n```<｜tool▁call▁end｜><｜tool▁calls▁end｜><｜end▁of▁sentence｜><｜tool▁outputs▁begin｜><｜tool▁output▁begin｜>{\"temperature\": \"18°C\", \"condition\": \"Sunny\"}<｜tool▁output▁end｜><｜tool▁outputs▁end｜>It’s currently 18°C and sunny in Paris.<｜end▁of▁sentence｜>'"
      ]
     },
     "execution_count": 10,
     "metadata": {},
     "output_type": "execute_result"
    }
   ],
   "source": [
    "T2.apply_chat_template(messages, tokenize=False)"
   ]
  },
  {
   "cell_type": "markdown",
   "id": "137e80e5-a006-4512-8ecd-142e012369f8",
   "metadata": {},
   "source": [
    "```\n",
    "'<｜begin▁of▁sentence｜>You are a helpful assistant.\n",
    "<｜User｜>What\\'s the weather in Paris?\n",
    "<｜Assistant｜>Let me check the weather for you.\n",
    "    <｜tool▁calls▁begin｜><｜tool▁call▁begin｜>function<｜tool▁sep｜>get_weather\\n```json\\n{\"location\": \"Paris\"}\\n```<｜tool▁call▁end｜><｜tool▁calls▁end｜><｜end▁of▁sentence｜>\n",
    "<｜tool▁outputs▁begin｜><｜tool▁output▁begin｜>{\"temperature\": \"18°C\", \"condition\": \"Sunny\"}<｜tool▁output▁end｜><｜tool▁outputs▁end｜>It’s currently 18°C and sunny in Paris.<｜end▁of▁sentence｜>'\n",
    "```"
   ]
  }
 ],
 "metadata": {
  "kernelspec": {
   "display_name": "verl",
   "language": "python",
   "name": "verl"
  },
  "language_info": {
   "codemirror_mode": {
    "name": "ipython",
    "version": 3
   },
   "file_extension": ".py",
   "mimetype": "text/x-python",
   "name": "python",
   "nbconvert_exporter": "python",
   "pygments_lexer": "ipython3",
   "version": "3.9.0"
  }
 },
 "nbformat": 4,
 "nbformat_minor": 5
}
