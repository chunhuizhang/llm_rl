{
 "cells": [
  {
   "cell_type": "code",
   "execution_count": 1,
   "id": "94e16e95-0780-4d06-a391-bb3720b457d6",
   "metadata": {
    "execution": {
     "iopub.execute_input": "2025-04-08T11:30:35.680095Z",
     "iopub.status.busy": "2025-04-08T11:30:35.679483Z",
     "iopub.status.idle": "2025-04-08T11:30:35.706186Z",
     "shell.execute_reply": "2025-04-08T11:30:35.701403Z",
     "shell.execute_reply.started": "2025-04-08T11:30:35.680030Z"
    }
   },
   "outputs": [],
   "source": [
    "from IPython.display import Image"
   ]
  },
  {
   "cell_type": "markdown",
   "id": "0856d186-c97d-4354-b004-acf406b8ad77",
   "metadata": {},
   "source": [
    "- https://github.com/deepseek-ai/DeepSeek-V3/issues/15\n",
    "- deepseek v3 (0324): “Increased accuracy in Function Calling, fixing issues from previous V3 versions”\n",
    "    - https://huggingface.co/deepseek-ai/DeepSeek-V3-0324\n",
    "    - repetitive function call\n",
    "- 从 token 或者 chat_template 的角度理解 tool use / function calling，使用（inference）以及 training\n",
    "    - System prompt: 有哪些工具，参数是什么 。。\n",
    "    - User prompt: `What's the weather like today in New York?`\n",
    "    - `<tool>get_current_template(location='New York, NY', format='F')</tool><output>73 degrees Fahrenheit</output>`"
   ]
  },
  {
   "cell_type": "code",
   "execution_count": 13,
   "id": "8820e611-d335-4e5e-8402-738f09931afe",
   "metadata": {
    "execution": {
     "iopub.execute_input": "2025-04-08T11:49:55.873254Z",
     "iopub.status.busy": "2025-04-08T11:49:55.872474Z",
     "iopub.status.idle": "2025-04-08T11:49:55.886906Z",
     "shell.execute_reply": "2025-04-08T11:49:55.884839Z",
     "shell.execute_reply.started": "2025-04-08T11:49:55.873174Z"
    }
   },
   "outputs": [
    {
     "data": {
      "text/html": [
       "<img src=\"./imgs/function_calling_lee.jpeg\" width=\"500\"/>"
      ],
      "text/plain": [
       "<IPython.core.display.Image object>"
      ]
     },
     "execution_count": 13,
     "metadata": {},
     "output_type": "execute_result"
    }
   ],
   "source": [
    "Image(url='./imgs/function_calling_lee.jpeg', width=500)"
   ]
  },
  {
   "cell_type": "code",
   "execution_count": 3,
   "id": "a06022cf-77ba-4510-9cb7-740a3207eb02",
   "metadata": {
    "execution": {
     "iopub.execute_input": "2025-04-08T11:30:35.737711Z",
     "iopub.status.busy": "2025-04-08T11:30:35.737083Z",
     "iopub.status.idle": "2025-04-08T11:30:38.453020Z",
     "shell.execute_reply": "2025-04-08T11:30:38.450783Z",
     "shell.execute_reply.started": "2025-04-08T11:30:35.737649Z"
    }
   },
   "outputs": [
    {
     "name": "stderr",
     "output_type": "stream",
     "text": [
      "/home/whaow/anaconda3/envs/verl/lib/python3.9/site-packages/tqdm/auto.py:21: TqdmWarning: IProgress not found. Please update jupyter and ipywidgets. See https://ipywidgets.readthedocs.io/en/stable/user_install.html\n",
      "  from .autonotebook import tqdm as notebook_tqdm\n"
     ]
    }
   ],
   "source": [
    "from transformers import AutoTokenizer\n",
    "import re\n",
    "import torch"
   ]
  },
  {
   "cell_type": "code",
   "execution_count": 4,
   "id": "8016493c-2168-4236-a8b3-1e75faf43c2d",
   "metadata": {
    "execution": {
     "iopub.execute_input": "2025-04-08T11:30:38.454349Z",
     "iopub.status.busy": "2025-04-08T11:30:38.453753Z",
     "iopub.status.idle": "2025-04-08T11:30:38.461971Z",
     "shell.execute_reply": "2025-04-08T11:30:38.460480Z",
     "shell.execute_reply.started": "2025-04-08T11:30:38.454317Z"
    }
   },
   "outputs": [],
   "source": [
    "model_id = 'deepseek-ai/DeepSeek-V3'\n",
    "model_id_0324 = 'deepseek-ai/DeepSeek-V3-0324'"
   ]
  },
  {
   "cell_type": "code",
   "execution_count": 5,
   "id": "c9026ef2-897a-41ef-b9ad-b1f13d932a07",
   "metadata": {
    "execution": {
     "iopub.execute_input": "2025-04-08T11:30:38.463382Z",
     "iopub.status.busy": "2025-04-08T11:30:38.463103Z",
     "iopub.status.idle": "2025-04-08T11:30:40.421942Z",
     "shell.execute_reply": "2025-04-08T11:30:40.420354Z",
     "shell.execute_reply.started": "2025-04-08T11:30:38.463359Z"
    }
   },
   "outputs": [],
   "source": [
    "T1 = AutoTokenizer.from_pretrained(model_id)\n",
    "T2 = AutoTokenizer.from_pretrained(model_id_0324)"
   ]
  },
  {
   "cell_type": "markdown",
   "id": "a9790289-b241-4309-ae4a-8b254717c398",
   "metadata": {},
   "source": [
    "### 'deepseek-ai/DeepSeek-V3'"
   ]
  },
  {
   "cell_type": "code",
   "execution_count": 6,
   "id": "d7bb1d59-f8b4-44fc-b740-c39d3e9525f3",
   "metadata": {
    "execution": {
     "iopub.execute_input": "2025-04-08T11:30:40.424207Z",
     "iopub.status.busy": "2025-04-08T11:30:40.423917Z",
     "iopub.status.idle": "2025-04-08T11:30:40.431356Z",
     "shell.execute_reply": "2025-04-08T11:30:40.430247Z",
     "shell.execute_reply.started": "2025-04-08T11:30:40.424181Z"
    },
    "scrolled": true
   },
   "outputs": [
    {
     "name": "stdout",
     "output_type": "stream",
     "text": [
      "{% if not add_generation_prompt is defined %}{% set add_generation_prompt = false %}{% endif %}{% set ns = namespace(is_first=false, is_tool=false, is_output_first=true, system_prompt='', is_first_sp=true) %}{%- for message in messages %}{%- if message['role'] == 'system' %}{%- if ns.is_first_sp %}{% set ns.system_prompt = ns.system_prompt + message['content'] %}{% set ns.is_first_sp = false %}{%- else %}{% set ns.system_prompt = ns.system_prompt + '\n",
      "\n",
      "' + message['content'] %}{%- endif %}{%- endif %}{%- endfor %}{{bos_token}}{{ns.system_prompt}}{%- for message in messages %}{%- if message['role'] == 'user' %}{%- set ns.is_tool = false -%}{{'<｜User｜>' + message['content']}}{%- endif %}{%- if message['role'] == 'assistant' and message['content'] is none %}{%- set ns.is_tool = false -%}{%- for tool in message['tool_calls']%}{%- if not ns.is_first %}{{'<｜Assistant｜><｜tool▁calls▁begin｜><｜tool▁call▁begin｜>' + tool['type'] + '<｜tool▁sep｜>' + tool['function']['name'] + '\n",
      "' + '```json' + '\n",
      "' + tool['function']['arguments'] + '\n",
      "' + '```' + '<｜tool▁call▁end｜>'}}{%- set ns.is_first = true -%}{%- else %}{{'\n",
      "' + '<｜tool▁call▁begin｜>' + tool['type'] + '<｜tool▁sep｜>' + tool['function']['name'] + '\n",
      "' + '```json' + '\n",
      "' + tool['function']['arguments'] + '\n",
      "' + '```' + '<｜tool▁call▁end｜>'}}{{'<｜tool▁calls▁end｜><｜end▁of▁sentence｜>'}}{%- endif %}{%- endfor %}{%- endif %}{%- if message['role'] == 'assistant' and message['content'] is not none %}{%- if ns.is_tool %}{{'<｜tool▁outputs▁end｜>' + message['content'] + '<｜end▁of▁sentence｜>'}}{%- set ns.is_tool = false -%}{%- else %}{{'<｜Assistant｜>' + message['content'] + '<｜end▁of▁sentence｜>'}}{%- endif %}{%- endif %}{%- if message['role'] == 'tool' %}{%- set ns.is_tool = true -%}{%- if ns.is_output_first %}{{'<｜tool▁outputs▁begin｜><｜tool▁output▁begin｜>' + message['content'] + '<｜tool▁output▁end｜>'}}{%- set ns.is_output_first = false %}{%- else %}{{'\n",
      "<｜tool▁output▁begin｜>' + message['content'] + '<｜tool▁output▁end｜>'}}{%- endif %}{%- endif %}{%- endfor -%}{% if ns.is_tool %}{{'<｜tool▁outputs▁end｜>'}}{% endif %}{% if add_generation_prompt and not ns.is_tool %}{{'<｜Assistant｜>'}}{% endif %}\n"
     ]
    }
   ],
   "source": [
    "print(T1.chat_template)"
   ]
  },
  {
   "cell_type": "markdown",
   "id": "892b7df6-0a4c-4156-b106-734dbe51d363",
   "metadata": {},
   "source": [
    "```jinja\n",
    "{# 设置默认变量 #}\n",
    "{% if add_generation_prompt is not defined %}\n",
    "  {% set add_generation_prompt = false %}\n",
    "{% endif %}\n",
    "\n",
    "{# 定义命名空间变量 #}\n",
    "{% set ns = namespace(\n",
    "  is_first=false,\n",
    "  is_tool=false,\n",
    "  is_output_first=true,\n",
    "  system_prompt='',\n",
    "  is_first_sp=true\n",
    ") %}\n",
    "\n",
    "{# 拼接 system prompt #}\n",
    "{% for message in messages %}\n",
    "  {% if message['role'] == 'system' %}\n",
    "    {% if ns.is_first_sp %}\n",
    "      {% set ns.system_prompt = ns.system_prompt + message['content'] %}\n",
    "      {% set ns.is_first_sp = false %}\n",
    "    {% else %}\n",
    "      {% set ns.system_prompt = ns.system_prompt + '\\n' + message['content'] %}\n",
    "    {% endif %}\n",
    "  {% endif %}\n",
    "{% endfor %}\n",
    "\n",
    "{{ bos_token }}{{ ns.system_prompt }}\n",
    "\n",
    "{# 遍历消息内容 #}\n",
    "{% for message in messages %}\n",
    "\n",
    "  {# 用户消息处理 #}\n",
    "  {% if message['role'] == 'user' %}\n",
    "    {% set ns.is_tool = false %}\n",
    "    {{ '<｜User｜>' + message['content'] }}\n",
    "\n",
    "  {# 助手消息（带工具调用） #}\n",
    "  {% elif message['role'] == 'assistant' and message['content'] is none %}\n",
    "    {% set ns.is_tool = false %}\n",
    "    {% for tool in message['tool_calls'] %}\n",
    "      {% if not ns.is_first %}\n",
    "        {{ '<｜Assistant｜><｜tool▁calls▁begin｜><｜tool▁call▁begin｜>' + tool['type'] + '<｜tool▁sep｜>' + tool['function']['name'] + '\\n```json\\n' + tool['function']['arguments'] + '\\n```<｜tool▁call▁end｜>' }}\n",
    "        {% set ns.is_first = true %}\n",
    "      {% else %}\n",
    "        {{ '\\n<｜tool▁call▁begin｜>' + tool['type'] + '<｜tool▁sep｜>' + tool['function']['name'] + '\\n```json\\n' + tool['function']['arguments'] + '\\n```<｜tool▁call▁end｜>' }}\n",
    "        {{ '<｜tool▁calls▁end｜><｜end▁of▁sentence｜>' }}\n",
    "      {% endif %}\n",
    "    {% endfor %}\n",
    "\n",
    "  {# 助手正常回复内容 #}\n",
    "  {% elif message['role'] == 'assistant' and message['content'] is not none %}\n",
    "    {% if ns.is_tool %}\n",
    "      {{ '<｜tool▁outputs▁end｜>' + message['content'] + '<｜end▁of▁sentence｜>' }}\n",
    "      {% set ns.is_tool = false %}\n",
    "    {% else %}\n",
    "      {{ '<｜Assistant｜>' + message['content'] + '<｜end▁of▁sentence｜>' }}\n",
    "    {% endif %}\n",
    "\n",
    "  {# 工具输出处理 #}\n",
    "  {% elif message['role'] == 'tool' %}\n",
    "    {% set ns.is_tool = true %}\n",
    "    {% if ns.is_output_first %}\n",
    "      {{ '<｜tool▁outputs▁begin｜><｜tool▁output▁begin｜>' + message['content'] + '<｜tool▁output▁end｜>' }}\n",
    "      {% set ns.is_output_first = false %}\n",
    "    {% else %}\n",
    "      {{ '\\n<｜tool▁output▁begin｜>' + message['content'] + '<｜tool▁output▁end｜>' }}\n",
    "    {% endif %}\n",
    "  {% endif %}\n",
    "\n",
    "{% endfor %}\n",
    "\n",
    "{# 工具输出结尾处理 #}\n",
    "{% if ns.is_tool %}\n",
    "  {{ '<｜tool▁outputs▁end｜>' }}\n",
    "{% endif %}\n",
    "\n",
    "{# 生成助手响应起始标记 #}\n",
    "{% if add_generation_prompt and not ns.is_tool %}\n",
    "  {{ '<｜Assistant｜>' }}\n",
    "{% endif %}\n",
    "\n",
    "```"
   ]
  },
  {
   "cell_type": "markdown",
   "id": "24c8637b-2205-43ca-acf1-430b5617ba59",
   "metadata": {},
   "source": [
    "```\n",
    "初始化变量\n",
    "│\n",
    "├── 收集 system prompt\n",
    "│\n",
    "├── 遍历 messages:\n",
    "│   ├── system → 拼接 prompt\n",
    "│   ├── user → 加 <|User|>\n",
    "│   ├── assistant:\n",
    "│   │   ├── 若调用 tool → 生成 tool_call 块\n",
    "│   │   └── 否则 → 加 <|Assistant|>\n",
    "│   └── tool → 输出 tool_output 块\n",
    "│\n",
    "└── 最后判断是否需要加 <|Assistant|> 结束\n",
    "```"
   ]
  },
  {
   "cell_type": "markdown",
   "id": "2c58858f-4a6f-4a18-8a03-53cfdb05ba35",
   "metadata": {},
   "source": [
    "### 'deepseek-ai/DeepSeek-V3-0324'"
   ]
  },
  {
   "cell_type": "markdown",
   "id": "b15fff60-c67e-42a4-adf3-3ecc769dce6c",
   "metadata": {},
   "source": [
    "```\n",
    "初始化变量（增加 is_last_user 等）\n",
    "│\n",
    "├── 收集 system prompt\n",
    "│\n",
    "├── 遍历 messages:\n",
    "│   ├── system → 拼接 prompt\n",
    "│   ├── user → 加 <|User|>，标记 is_last_user=True\n",
    "│   ├── assistant:\n",
    "│   │   ├── 若调用 tool_call：\n",
    "│   │   │   └── 判断是否有 content（处理更细）\n",
    "│   │   └── 若普通内容 → 加 <|Assistant|>\n",
    "│   └── tool:\n",
    "│       └── 多个 tool_output 串联，闭合处理\n",
    "│\n",
    "└── 若最后是 user 且无 tool 调用 → 加 <|Assistant|> 提示生成回复\n",
    "\n",
    "```"
   ]
  },
  {
   "cell_type": "code",
   "execution_count": 7,
   "id": "fbbf02fa-8bdc-4d3b-b7e0-f7a82edf6fa6",
   "metadata": {
    "execution": {
     "iopub.execute_input": "2025-04-08T11:30:40.432501Z",
     "iopub.status.busy": "2025-04-08T11:30:40.432261Z",
     "iopub.status.idle": "2025-04-08T11:30:40.454634Z",
     "shell.execute_reply": "2025-04-08T11:30:40.452271Z",
     "shell.execute_reply.started": "2025-04-08T11:30:40.432478Z"
    }
   },
   "outputs": [
    {
     "name": "stdout",
     "output_type": "stream",
     "text": [
      "{% if not add_generation_prompt is defined %}{% set add_generation_prompt = false %}{% endif %}{% set ns = namespace(is_first=false, is_tool=false, is_output_first=true, system_prompt='', is_first_sp=true, is_last_user=false) %}{%- for message in messages %}{%- if message['role'] == 'system' %}{%- if ns.is_first_sp %}{% set ns.system_prompt = ns.system_prompt + message['content'] %}{% set ns.is_first_sp = false %}{%- else %}{% set ns.system_prompt = ns.system_prompt + '\n",
      "\n",
      "' + message['content'] %}{%- endif %}{%- endif %}{%- endfor %}{{ bos_token }}{{ ns.system_prompt }}{%- for message in messages %}{%- if message['role'] == 'user' %}{%- set ns.is_tool = false -%}{%- set ns.is_first = false -%}{%- set ns.is_last_user = true -%}{{'<｜User｜>' + message['content'] + '<｜Assistant｜>'}}{%- endif %}{%- if message['role'] == 'assistant' and message['tool_calls'] is defined and message['tool_calls'] is not none %}{%- set ns.is_last_user = false -%}{%- if ns.is_tool %}{{'<｜tool▁outputs▁end｜>'}}{%- endif %}{%- set ns.is_first = false %}{%- set ns.is_tool = false -%}{%- set ns.is_output_first = true %}{%- for tool in message['tool_calls'] %}{%- if not ns.is_first %}{%- if message['content'] is none %}{{'<｜tool▁calls▁begin｜><｜tool▁call▁begin｜>' + tool['type'] + '<｜tool▁sep｜>' + tool['function']['name'] + '\n",
      "' + '```json' + '\n",
      "' + tool['function']['arguments'] + '\n",
      "' + '```' + '<｜tool▁call▁end｜>'}}{%- else %}{{message['content'] + '<｜tool▁calls▁begin｜><｜tool▁call▁begin｜>' + tool['type'] + '<｜tool▁sep｜>' + tool['function']['name'] + '\n",
      "' + '```json' + '\n",
      "' + tool['function']['arguments'] + '\n",
      "' + '```' + '<｜tool▁call▁end｜>'}}{%- endif %}{%- set ns.is_first = true -%}{%- else %}{{'\n",
      "' + '<｜tool▁call▁begin｜>' + tool['type'] + '<｜tool▁sep｜>' + tool['function']['name'] + '\n",
      "' + '```json' + '\n",
      "' + tool['function']['arguments'] + '\n",
      "' + '```' + '<｜tool▁call▁end｜>'}}{%- endif %}{%- endfor %}{{'<｜tool▁calls▁end｜><｜end▁of▁sentence｜>'}}{%- endif %}{%- if message['role'] == 'assistant' and (message['tool_calls'] is not defined or message['tool_calls'] is none)%}{%- set ns.is_last_user = false -%}{%- if ns.is_tool %}{{'<｜tool▁outputs▁end｜>' + message['content'] + '<｜end▁of▁sentence｜>'}}{%- set ns.is_tool = false -%}{%- else %}{% set content = message['content'] %}{{content + '<｜end▁of▁sentence｜>'}}{%- endif %}{%- endif %}{%- if message['role'] == 'tool' %}{%- set ns.is_last_user = false -%}{%- set ns.is_tool = true -%}{%- if ns.is_output_first %}{{'<｜tool▁outputs▁begin｜><｜tool▁output▁begin｜>' + message['content'] + '<｜tool▁output▁end｜>'}}{%- set ns.is_output_first = false %}{%- else %}{{'\n",
      "<｜tool▁output▁begin｜>' + message['content'] + '<｜tool▁output▁end｜>'}}{%- endif %}{%- endif %}{%- endfor -%}{% if ns.is_tool %}{{'<｜tool▁outputs▁end｜>'}}{% endif %}{% if add_generation_prompt and not ns.is_last_user and not ns.is_tool %}{{'<｜Assistant｜>'}}{% endif %}\n"
     ]
    }
   ],
   "source": [
    "print(T2.chat_template)"
   ]
  },
  {
   "cell_type": "markdown",
   "id": "462c9919-20db-4505-bf8d-f0f62e5b8dc0",
   "metadata": {},
   "source": [
    "```jinja\n",
    "{# 设置默认值 #}\n",
    "{% if add_generation_prompt is not defined %}\n",
    "  {% set add_generation_prompt = false %}\n",
    "{% endif %}\n",
    "\n",
    "{# 初始化状态变量 #}\n",
    "{% set ns = namespace(\n",
    "  is_first=false,\n",
    "  is_tool=false,\n",
    "  is_output_first=true,\n",
    "  system_prompt='',\n",
    "  is_first_sp=true,\n",
    "  is_last_user=false\n",
    ") %}\n",
    "\n",
    "{# 拼接所有 system prompt #}\n",
    "{% for message in messages %}\n",
    "  {% if message['role'] == 'system' %}\n",
    "    {% if ns.is_first_sp %}\n",
    "      {% set ns.system_prompt = ns.system_prompt + message['content'] %}\n",
    "      {% set ns.is_first_sp = false %}\n",
    "    {% else %}\n",
    "      {% set ns.system_prompt = ns.system_prompt + '\\n' + message['content'] %}\n",
    "    {% endif %}\n",
    "  {% endif %}\n",
    "{% endfor %}\n",
    "\n",
    "{{ bos_token }}{{ ns.system_prompt }}\n",
    "\n",
    "{# 遍历所有消息 #}\n",
    "{% for message in messages %}\n",
    "\n",
    "  {# 处理用户消息 #}\n",
    "  {% if message['role'] == 'user' %}\n",
    "    {% set ns.is_tool = false %}\n",
    "    {% set ns.is_first = false %}\n",
    "    {% set ns.is_last_user = true %}\n",
    "    {{ '<｜User｜>' + message['content'] + '<｜Assistant｜>' }}\n",
    "\n",
    "  {# 处理 Assistant 调用工具的情况 #}\n",
    "  {% elif message['role'] == 'assistant' and message['tool_calls'] is defined and message['tool_calls'] is not none %}\n",
    "    {% set ns.is_last_user = false %}\n",
    "    {% if ns.is_tool %}\n",
    "      {{ '<｜tool▁outputs▁end｜>' }}\n",
    "    {% endif %}\n",
    "    {% set ns.is_first = false %}\n",
    "    {% set ns.is_tool = false %}\n",
    "    {% set ns.is_output_first = true %}\n",
    "\n",
    "    {% for tool in message['tool_calls'] %}\n",
    "      {% set tool_call_str = '<｜tool▁call▁begin｜>' + tool['type'] + '<｜tool▁sep｜>' + tool['function']['name'] + '\\n```json\\n' + tool['function']['arguments'] + '\\n```<｜tool▁call▁end｜>' %}\n",
    "\n",
    "      {% if not ns.is_first %}\n",
    "        {% if message['content'] is none %}\n",
    "          {{ '<｜tool▁calls▁begin｜>' + tool_call_str }}\n",
    "        {% else %}\n",
    "          {{ message['content'] + '<｜tool▁calls▁begin｜>' + tool_call_str }}\n",
    "        {% endif %}\n",
    "        {% set ns.is_first = true %}\n",
    "      {% else %}\n",
    "        {{ '\\n' + tool_call_str }}\n",
    "      {% endif %}\n",
    "    {% endfor %}\n",
    "    {{ '<｜tool▁calls▁end｜><｜end▁of▁sentence｜>' }}\n",
    "\n",
    "  {# Assistant 正常回复内容（无工具调用） #}\n",
    "  {% elif message['role'] == 'assistant' %}\n",
    "    {% set ns.is_last_user = false %}\n",
    "    {% if ns.is_tool %}\n",
    "      {{ '<｜tool▁outputs▁end｜>' + message['content'] + '<｜end▁of▁sentence｜>' }}\n",
    "      {% set ns.is_tool = false %}\n",
    "    {% else %}\n",
    "      {{ message['content'] + '<｜end▁of▁sentence｜>' }}\n",
    "    {% endif %}\n",
    "\n",
    "  {# 工具的输出内容 #}\n",
    "  {% elif message['role'] == 'tool' %}\n",
    "    {% set ns.is_last_user = false %}\n",
    "    {% set ns.is_tool = true %}\n",
    "    {% if ns.is_output_first %}\n",
    "      {{ '<｜tool▁outputs▁begin｜><｜tool▁output▁begin｜>' + message['content'] + '<｜tool▁output▁end｜>' }}\n",
    "      {% set ns.is_output_first = false %}\n",
    "    {% else %}\n",
    "      {{ '\\n<｜tool▁output▁begin｜>' + message['content'] + '<｜tool▁output▁end｜>' }}\n",
    "    {% endif %}\n",
    "  {% endif %}\n",
    "\n",
    "{% endfor %}\n",
    "\n",
    "{# 如果有残留的 tool 输出状态，则收尾结束 #}\n",
    "{% if ns.is_tool %}\n",
    "  {{ '<｜tool▁outputs▁end｜>' }}\n",
    "{% endif %}\n",
    "\n",
    "{# 最终是否生成 Assistant 提示起始符 #}\n",
    "{% if add_generation_prompt and not ns.is_last_user and not ns.is_tool %}\n",
    "  {{ '<｜Assistant｜>' }}\n",
    "{% endif %}\n",
    "\n",
    "```"
   ]
  },
  {
   "cell_type": "markdown",
   "id": "7ae6bc7c-3d5f-42f0-9faf-1170727aeaf9",
   "metadata": {},
   "source": [
    "### apply_chat_template"
   ]
  },
  {
   "cell_type": "code",
   "execution_count": 14,
   "id": "9687f88e-05ac-4502-b015-1ef35095f772",
   "metadata": {
    "execution": {
     "iopub.execute_input": "2025-04-08T11:57:34.035897Z",
     "iopub.status.busy": "2025-04-08T11:57:34.035237Z",
     "iopub.status.idle": "2025-04-08T11:57:34.049302Z",
     "shell.execute_reply": "2025-04-08T11:57:34.046746Z",
     "shell.execute_reply.started": "2025-04-08T11:57:34.035825Z"
    }
   },
   "outputs": [],
   "source": [
    "messages = [\n",
    "    {\"role\": \"system\", \"content\": \"You are a helpful assistant.\"},\n",
    "    {\"role\": \"user\", \"content\": \"What's the weather in Paris?\"},\n",
    "    {\n",
    "        \"role\": \"assistant\",\n",
    "        # \"content\": \"Let me check the weather for you.\",\n",
    "        \"content\": \"\",\n",
    "        \"tool_calls\": [\n",
    "            {\n",
    "                \"type\": \"function\",\n",
    "                \"function\": {\n",
    "                    \"name\": \"get_weather\",\n",
    "                    \"arguments\": '{ \"location\": \"Paris\" }'\n",
    "                }\n",
    "            }\n",
    "        ]\n",
    "    },\n",
    "    {\n",
    "        \"role\": \"tool\",\n",
    "        \"content\": '{ \"temperature\": \"15C\", \"condition\": \"Sunny\" }',\n",
    "        \"tool_call_id\": \"call_1\"\n",
    "    },\n",
    "    {\n",
    "        \"role\": \"assistant\",\n",
    "        \"content\": \"It's 15°C and sunny in Paris right now.\"\n",
    "    }\n",
    "]"
   ]
  },
  {
   "cell_type": "code",
   "execution_count": 15,
   "id": "db5ed60c-7382-4e65-b0d8-d0e3379a7b61",
   "metadata": {
    "execution": {
     "iopub.execute_input": "2025-04-08T11:57:36.392858Z",
     "iopub.status.busy": "2025-04-08T11:57:36.392128Z",
     "iopub.status.idle": "2025-04-08T11:57:36.407350Z",
     "shell.execute_reply": "2025-04-08T11:57:36.404841Z",
     "shell.execute_reply.started": "2025-04-08T11:57:36.392794Z"
    }
   },
   "outputs": [
    {
     "data": {
      "text/plain": [
       "'<｜begin▁of▁sentence｜>You are a helpful assistant.<｜User｜>What\\'s the weather in Paris?<｜Assistant｜><｜end▁of▁sentence｜><｜tool▁outputs▁begin｜><｜tool▁output▁begin｜>{ \"temperature\": \"15C\", \"condition\": \"Sunny\" }<｜tool▁output▁end｜><｜tool▁outputs▁end｜>It\\'s 15°C and sunny in Paris right now.<｜end▁of▁sentence｜>'"
      ]
     },
     "execution_count": 15,
     "metadata": {},
     "output_type": "execute_result"
    }
   ],
   "source": [
    "T1.apply_chat_template(messages, tokenize=False)"
   ]
  },
  {
   "cell_type": "markdown",
   "id": "84dbae26-e493-4f7f-9e7f-fba302685f5b",
   "metadata": {},
   "source": [
    "```\n",
    "<｜begin▁of▁sentence｜>You are a helpful assistant.\n",
    "<｜User｜>What\\'s the weather in Paris?\n",
    "<｜Assistant｜>Let me check the weather for you.<｜end▁of▁sentence｜>\n",
    "<｜tool▁outputs▁begin｜>\n",
    "    <｜tool▁output▁begin｜>{ \"temperature\": \"15C\", \"condition\": \"Sunny\" }<｜tool▁output▁end｜>\n",
    "<｜tool▁outputs▁end｜>It\\'s 15°C and sunny in Paris right now.<｜end▁of▁sentence｜>\n",
    "```"
   ]
  },
  {
   "cell_type": "code",
   "execution_count": 11,
   "id": "711a1232-381b-4b6c-a7cd-bde5d4dae678",
   "metadata": {
    "execution": {
     "iopub.execute_input": "2025-04-08T11:33:18.255915Z",
     "iopub.status.busy": "2025-04-08T11:33:18.255120Z",
     "iopub.status.idle": "2025-04-08T11:33:18.343036Z",
     "shell.execute_reply": "2025-04-08T11:33:18.340754Z",
     "shell.execute_reply.started": "2025-04-08T11:33:18.255834Z"
    }
   },
   "outputs": [
    {
     "data": {
      "text/plain": [
       "'<｜begin▁of▁sentence｜>You are a helpful assistant.<｜User｜>What\\'s the weather in Paris?<｜Assistant｜>Let me check the weather for you.<｜tool▁calls▁begin｜><｜tool▁call▁begin｜>function<｜tool▁sep｜>get_weather\\n```json\\n{ \"location\": \"Paris\" }\\n```<｜tool▁call▁end｜><｜tool▁calls▁end｜><｜end▁of▁sentence｜><｜tool▁outputs▁begin｜><｜tool▁output▁begin｜>{ \"temperature\": \"15C\", \"condition\": \"Sunny\" }<｜tool▁output▁end｜><｜tool▁outputs▁end｜>It\\'s 15°C and sunny in Paris right now.<｜end▁of▁sentence｜>'"
      ]
     },
     "execution_count": 11,
     "metadata": {},
     "output_type": "execute_result"
    }
   ],
   "source": [
    "T2.apply_chat_template(messages, tokenize=False)"
   ]
  },
  {
   "cell_type": "markdown",
   "id": "1ac8a743-1e13-4253-8f56-22acfa30f59f",
   "metadata": {},
   "source": [
    "```\n",
    "<｜begin▁of▁sentence｜>You are a helpful assistant.\n",
    "<｜User｜>What\\'s the weather in Paris?\n",
    "<｜Assistant｜>Let me check the weather for you.\n",
    "<｜tool▁calls▁begin｜>\n",
    "    <｜tool▁call▁begin｜>function<｜tool▁sep｜>get_weather\\n```json\\n{ \"location\": \"Paris\" }\\n```<｜tool▁call▁end｜>\n",
    "<｜tool▁calls▁end｜><｜end▁of▁sentence｜>\n",
    "<｜tool▁outputs▁begin｜>\n",
    "    <｜tool▁output▁begin｜>{ \"temperature\": \"15C\", \"condition\": \"Sunny\" }<｜tool▁output▁end｜>\n",
    "<｜tool▁outputs▁end｜>It\\'s 15°C and sunny in Paris right now.<｜end▁of▁sentence｜>\n",
    "```"
   ]
  },
  {
   "cell_type": "markdown",
   "id": "4ed41c3a-4c96-4e8a-be24-b967577df4c0",
   "metadata": {},
   "source": [
    "- 两个 highlights\n",
    "    - v3 chat tempalte 解析 messages 时 丢了 tool_call 的部分\n",
    "    - tool_call 和 tool_output 是一体的，统一作为 <｜Assistant｜> 的输出"
   ]
  },
  {
   "cell_type": "code",
   "execution_count": 12,
   "id": "8f8de9f8-3500-4a21-ab7f-5f84a896af00",
   "metadata": {
    "execution": {
     "iopub.execute_input": "2025-04-08T11:45:09.995061Z",
     "iopub.status.busy": "2025-04-08T11:45:09.994360Z",
     "iopub.status.idle": "2025-04-08T11:45:10.007848Z",
     "shell.execute_reply": "2025-04-08T11:45:10.005919Z",
     "shell.execute_reply.started": "2025-04-08T11:45:09.994995Z"
    }
   },
   "outputs": [
    {
     "data": {
      "text/html": [
       "<img src=\"https://cdn.openai.com/API/docs/images/function-calling-diagram-steps.png\" width=\"400\"/>"
      ],
      "text/plain": [
       "<IPython.core.display.Image object>"
      ]
     },
     "execution_count": 12,
     "metadata": {},
     "output_type": "execute_result"
    }
   ],
   "source": [
    "Image(url='https://cdn.openai.com/API/docs/images/function-calling-diagram-steps.png', width=400)"
   ]
  },
  {
   "cell_type": "code",
   "execution_count": null,
   "id": "d45eae1b-deeb-4f39-8569-af6d6e79824a",
   "metadata": {},
   "outputs": [],
   "source": []
  }
 ],
 "metadata": {
  "kernelspec": {
   "display_name": "casual",
   "language": "python",
   "name": "casual"
  },
  "language_info": {
   "codemirror_mode": {
    "name": "ipython",
    "version": 3
   },
   "file_extension": ".py",
   "mimetype": "text/x-python",
   "name": "python",
   "nbconvert_exporter": "python",
   "pygments_lexer": "ipython3",
   "version": "3.10.0"
  }
 },
 "nbformat": 4,
 "nbformat_minor": 5
}
