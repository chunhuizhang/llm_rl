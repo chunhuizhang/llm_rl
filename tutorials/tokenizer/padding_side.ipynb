{
 "cells": [
  {
   "cell_type": "markdown",
   "id": "d2e3d15d-4173-44c7-9206-6cd2d05ae8e3",
   "metadata": {},
   "source": [
    "https://huggingface.co/docs/transformers/en/llm_tutorial?padding=left+pad#wrong-padding-side\n",
    "\n",
    "> the padding side should be left when generating and right when training/tuning.\n",
    ">\n",
    "> https://github.com/huggingface/transformers/issues/34842#issuecomment-2527910988\n",
    "\n",
    "- infer: left padding, 右侧对齐，prompt 和 response 中间不会有 pad gap；\n",
    "- sft: right padding\n",
    "    - prompt + response + [pad]\n",
    "        - loss 是定义在 reponse 的，reponse tokens 的 attention 会 attention 到左侧，right padding 的话，不会 attentd 到 pad token"
   ]
  }
 ],
 "metadata": {
  "kernelspec": {
   "display_name": "verl",
   "language": "python",
   "name": "verl"
  },
  "language_info": {
   "codemirror_mode": {
    "name": "ipython",
    "version": 3
   },
   "file_extension": ".py",
   "mimetype": "text/x-python",
   "name": "python",
   "nbconvert_exporter": "python",
   "pygments_lexer": "ipython3",
   "version": "3.9.0"
  }
 },
 "nbformat": 4,
 "nbformat_minor": 5
}
