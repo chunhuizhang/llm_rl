{
 "cells": [
  {
   "cell_type": "markdown",
   "id": "0e03e8d2-8c8e-43bf-95da-7ceea121b9f1",
   "metadata": {},
   "source": [
    "### basics"
   ]
  },
  {
   "cell_type": "markdown",
   "id": "911041d5-4b18-465a-8b35-7a53eb5e982d",
   "metadata": {},
   "source": [
    "- prompt vs. response\n",
    "    - prompt: resp.prompt, resp.prompt_token_ids\n",
    "    - response: `resp.outputs[0].text`, `resp.outputs[0].token_ids`\n",
    "- `make_prefix` (TinyZero)\n",
    "    - https://github.com/Jiayi-Pan/TinyZero/blob/main/examples/data_preprocess/countdown.py#L57-L66\n",
    "    ```\n",
    "    prompt = tokenizer.apply_chat_template(basic_messages, tokenize=False)\n",
    "    # '<｜begin▁of▁sentence｜><｜User｜>3.11 and 3.9 which is bigger? Please reason step by step, and put your final answer within \\\\boxed{}.'\n",
    "    \n",
    "    prompt = tokenizer.apply_chat_template(basic_messages, tokenize=False, add_generation_prompt=True)\n",
    "    # '<｜begin▁of▁sentence｜><｜User｜>3.11 and 3.9 which is bigger? Please reason step by step, and put your final answer within \\\\boxed{}.<｜Assistant｜><think>\\n'\n",
    "    \n",
    "    # custom\n",
    "    prompt = tokenizer.apply_chat_template(basic_messages, tokenize=False, add_generation_prompt=True)\n",
    "    # '<｜begin▁of▁sentence｜><｜User｜>3.11 and 3.9 which is bigger? Please reason step by step, and put your final answer within \\\\boxed{}.<｜Assistant｜>'\n",
    "    \n",
    "    # custom no think\n",
    "    prompt = tokenizer.apply_chat_template(basic_messages, tokenize=False, add_generation_prompt=True)\n",
    "    # '<｜begin▁of▁sentence｜><｜User｜>3.11 and 3.9 which is bigger? Please reason step by step, and put your final answer within \\\\boxed{}.<｜Assistant｜><think>\\n</think>'\n",
    "    ```\n",
    "- load the parquet dataset\n",
    "    - https://github.com/Jiayi-Pan/TinyZero/blob/main/verl/utils/dataset/rl_dataset.py#L128\n",
    "    - default\n",
    "        - https://github.com/volcengine/verl/blob/main/verl/utils/dataset/rl_dataset.py#L169\n",
    "        - prompt_with_chat_template = self.tokenizer.apply_chat_template(chat, add_generation_prompt=True, tokenize=False)"
   ]
  },
  {
   "cell_type": "code",
   "execution_count": 49,
   "id": "b67cc3f5-c718-431b-aa0a-9e9b8ea41abd",
   "metadata": {
    "execution": {
     "iopub.execute_input": "2025-04-05T01:37:30.701312Z",
     "iopub.status.busy": "2025-04-05T01:37:30.700691Z",
     "iopub.status.idle": "2025-04-05T01:37:30.711503Z",
     "shell.execute_reply": "2025-04-05T01:37:30.709157Z",
     "shell.execute_reply.started": "2025-04-05T01:37:30.701253Z"
    }
   },
   "outputs": [],
   "source": [
    "from transformers import AutoTokenizer\n",
    "import re\n",
    "import torch"
   ]
  },
  {
   "cell_type": "code",
   "execution_count": 2,
   "id": "323cc8c8-9cee-445b-80e5-f96c17f90b4b",
   "metadata": {
    "execution": {
     "iopub.execute_input": "2025-04-05T01:22:37.586923Z",
     "iopub.status.busy": "2025-04-05T01:22:37.586572Z",
     "iopub.status.idle": "2025-04-05T01:22:37.594239Z",
     "shell.execute_reply": "2025-04-05T01:22:37.592782Z",
     "shell.execute_reply.started": "2025-04-05T01:22:37.586898Z"
    }
   },
   "outputs": [],
   "source": [
    "model_id = \"deepseek-ai/DeepSeek-R1-Distill-Qwen-1.5B\""
   ]
  },
  {
   "cell_type": "code",
   "execution_count": 3,
   "id": "e4e79836-ca9e-4f56-b5c3-0cd4dcf744fa",
   "metadata": {
    "execution": {
     "iopub.execute_input": "2025-04-05T01:22:37.595755Z",
     "iopub.status.busy": "2025-04-05T01:22:37.595480Z",
     "iopub.status.idle": "2025-04-05T01:22:38.748430Z",
     "shell.execute_reply": "2025-04-05T01:22:38.746907Z",
     "shell.execute_reply.started": "2025-04-05T01:22:37.595731Z"
    }
   },
   "outputs": [],
   "source": [
    "tokenizer = AutoTokenizer.from_pretrained(model_id)"
   ]
  },
  {
   "cell_type": "code",
   "execution_count": 4,
   "id": "fd524880-064f-4723-9da4-3124cade8ed7",
   "metadata": {
    "execution": {
     "iopub.execute_input": "2025-04-05T01:22:38.751045Z",
     "iopub.status.busy": "2025-04-05T01:22:38.750760Z",
     "iopub.status.idle": "2025-04-05T01:22:38.757139Z",
     "shell.execute_reply": "2025-04-05T01:22:38.755774Z",
     "shell.execute_reply.started": "2025-04-05T01:22:38.751019Z"
    }
   },
   "outputs": [],
   "source": [
    "basic_messages = [\n",
    "    {\"role\": \"user\", \"content\": \"3.11 and 3.9 which is bigger? Please reason step by step, and put your final answer within \\\\boxed{}.\"}\n",
    "]"
   ]
  },
  {
   "cell_type": "code",
   "execution_count": 5,
   "id": "417f8a99-91aa-4635-b0e2-90f1029702ac",
   "metadata": {
    "execution": {
     "iopub.execute_input": "2025-04-05T01:22:38.758125Z",
     "iopub.status.busy": "2025-04-05T01:22:38.757853Z",
     "iopub.status.idle": "2025-04-05T01:22:38.807761Z",
     "shell.execute_reply": "2025-04-05T01:22:38.805845Z",
     "shell.execute_reply.started": "2025-04-05T01:22:38.758102Z"
    }
   },
   "outputs": [
    {
     "data": {
      "text/plain": [
       "'<｜begin▁of▁sentence｜><｜User｜>3.11 and 3.9 which is bigger? Please reason step by step, and put your final answer within \\\\boxed{}.'"
      ]
     },
     "execution_count": 5,
     "metadata": {},
     "output_type": "execute_result"
    }
   ],
   "source": [
    "tokenizer.apply_chat_template(basic_messages, tokenize=False)"
   ]
  },
  {
   "cell_type": "code",
   "execution_count": 6,
   "id": "3e866a41-4741-49cc-a0dc-3e871ef30722",
   "metadata": {
    "execution": {
     "iopub.execute_input": "2025-04-05T01:22:38.808683Z",
     "iopub.status.busy": "2025-04-05T01:22:38.808418Z",
     "iopub.status.idle": "2025-04-05T01:22:38.819191Z",
     "shell.execute_reply": "2025-04-05T01:22:38.817653Z",
     "shell.execute_reply.started": "2025-04-05T01:22:38.808659Z"
    }
   },
   "outputs": [
    {
     "data": {
      "text/plain": [
       "'<｜begin▁of▁sentence｜><｜User｜>3.11 and 3.9 which is bigger? Please reason step by step, and put your final answer within \\\\boxed{}.<｜Assistant｜><think>\\n'"
      ]
     },
     "execution_count": 6,
     "metadata": {},
     "output_type": "execute_result"
    }
   ],
   "source": [
    "tokenizer.apply_chat_template(basic_messages, tokenize=False, add_generation_prompt=True)"
   ]
  },
  {
   "cell_type": "markdown",
   "id": "9ab4ed22-3d32-447b-a0f0-4a61f50082f1",
   "metadata": {},
   "source": [
    "### vllm inference"
   ]
  },
  {
   "cell_type": "code",
   "execution_count": 7,
   "id": "85736b0c-9b57-4308-8df8-10188fcce061",
   "metadata": {
    "execution": {
     "iopub.execute_input": "2025-04-05T01:22:38.820264Z",
     "iopub.status.busy": "2025-04-05T01:22:38.820022Z",
     "iopub.status.idle": "2025-04-05T01:22:41.311248Z",
     "shell.execute_reply": "2025-04-05T01:22:41.309221Z",
     "shell.execute_reply.started": "2025-04-05T01:22:38.820241Z"
    }
   },
   "outputs": [
    {
     "name": "stderr",
     "output_type": "stream",
     "text": [
      "2025-04-05 09:22:40,457\tINFO util.py:154 -- Missing packages: ['ipywidgets']. Run `pip install -U ipywidgets`, then restart the notebook server for rich notebook output.\n",
      "/home/whaow/anaconda3/envs/verl/lib/python3.9/site-packages/vllm/connections.py:8: RuntimeWarning: Failed to read commit hash:\n",
      "No module named 'vllm._version'\n",
      "  from vllm.version import __version__ as VLLM_VERSION\n"
     ]
    }
   ],
   "source": [
    "from vllm import LLM, SamplingParams"
   ]
  },
  {
   "cell_type": "code",
   "execution_count": 8,
   "id": "a8095cd4-ff78-4e83-8ba7-b56513d06ceb",
   "metadata": {
    "execution": {
     "iopub.execute_input": "2025-04-05T01:22:41.312813Z",
     "iopub.status.busy": "2025-04-05T01:22:41.312383Z",
     "iopub.status.idle": "2025-04-05T01:22:41.321611Z",
     "shell.execute_reply": "2025-04-05T01:22:41.320205Z",
     "shell.execute_reply.started": "2025-04-05T01:22:41.312786Z"
    }
   },
   "outputs": [],
   "source": [
    "sampling_params = SamplingParams(\n",
    "    temperature=0.6, \n",
    "    max_tokens=32768\n",
    ")"
   ]
  },
  {
   "cell_type": "code",
   "execution_count": 9,
   "id": "4c8d6560-30f6-4382-a448-92bed1fce616",
   "metadata": {
    "execution": {
     "iopub.execute_input": "2025-04-05T01:22:41.322824Z",
     "iopub.status.busy": "2025-04-05T01:22:41.322563Z",
     "iopub.status.idle": "2025-04-05T01:23:07.837420Z",
     "shell.execute_reply": "2025-04-05T01:23:07.836321Z",
     "shell.execute_reply.started": "2025-04-05T01:22:41.322801Z"
    },
    "scrolled": true
   },
   "outputs": [
    {
     "name": "stdout",
     "output_type": "stream",
     "text": [
      "INFO 04-05 09:22:48 llm_engine.py:237] Initializing an LLM engine (vdev) with config: model='deepseek-ai/DeepSeek-R1-Distill-Qwen-1.5B', speculative_config=None, tokenizer='deepseek-ai/DeepSeek-R1-Distill-Qwen-1.5B', skip_tokenizer_init=False, tokenizer_mode=auto, revision=None, override_neuron_config=None, rope_scaling=None, rope_theta=None, tokenizer_revision=None, trust_remote_code=False, dtype=torch.bfloat16, max_seq_len=32768, download_dir=None, load_format=LoadFormat.AUTO, tensor_parallel_size=1, pipeline_parallel_size=1, disable_custom_all_reduce=False, quantization=None, enforce_eager=False, kv_cache_dtype=auto, quantization_param_path=None, device_config=cuda, decoding_config=DecodingConfig(guided_decoding_backend='outlines'), observability_config=ObservabilityConfig(otlp_traces_endpoint=None, collect_model_forward_time=False, collect_model_execute_time=False), seed=0, served_model_name=deepseek-ai/DeepSeek-R1-Distill-Qwen-1.5B, use_v2_block_manager=True, num_scheduler_steps=1, chunked_prefill_enabled=False multi_step_stream_outputs=True, enable_prefix_caching=False, use_async_output_proc=True, use_cached_outputs=False, mm_processor_kwargs=None)\n",
      "INFO 04-05 09:22:50 model_runner.py:1060] Starting to load model deepseek-ai/DeepSeek-R1-Distill-Qwen-1.5B...\n",
      "INFO 04-05 09:22:51 weight_utils.py:243] Using model weights format ['*.safetensors']\n",
      "INFO 04-05 09:22:51 weight_utils.py:288] No model.safetensors.index.json found in remote.\n"
     ]
    },
    {
     "name": "stderr",
     "output_type": "stream",
     "text": [
      "Loading safetensors checkpoint shards:   0% Completed | 0/1 [00:00<?, ?it/s]\n",
      "Loading safetensors checkpoint shards: 100% Completed | 1/1 [00:00<00:00,  1.56it/s]\n",
      "Loading safetensors checkpoint shards: 100% Completed | 1/1 [00:00<00:00,  1.55it/s]\n",
      "\n"
     ]
    },
    {
     "name": "stdout",
     "output_type": "stream",
     "text": [
      "INFO 04-05 09:22:52 model_runner.py:1071] Loading model weights took 3.3460 GB\n",
      "INFO 04-05 09:22:54 gpu_executor.py:122] # GPU blocks: 36442, # CPU blocks: 9362\n",
      "INFO 04-05 09:22:54 gpu_executor.py:126] Maximum concurrency for 32768 tokens per request: 17.79x\n",
      "INFO 04-05 09:22:58 model_runner.py:1402] Capturing the model for CUDA graphs. This may lead to unexpected consequences if the model is not static. To run the model in eager mode, set 'enforce_eager=True' or use '--enforce-eager' in the CLI.\n",
      "INFO 04-05 09:22:58 model_runner.py:1406] CUDA graphs can take additional 1~3 GiB memory per GPU. If you are running out of memory, consider decreasing `gpu_memory_utilization` or enforcing eager mode. You can also reduce the `max_num_seqs` as needed to decrease memory usage.\n",
      "INFO 04-05 09:23:07 model_runner.py:1530] Graph capturing finished in 9 secs.\n"
     ]
    }
   ],
   "source": [
    "llm = LLM(model=model_id, max_model_len=32768)"
   ]
  },
  {
   "cell_type": "code",
   "execution_count": 10,
   "id": "3d930f5e-de18-4892-850d-1489ac645eff",
   "metadata": {
    "execution": {
     "iopub.execute_input": "2025-04-05T01:23:07.838302Z",
     "iopub.status.busy": "2025-04-05T01:23:07.838102Z",
     "iopub.status.idle": "2025-04-05T01:23:07.844980Z",
     "shell.execute_reply": "2025-04-05T01:23:07.844146Z",
     "shell.execute_reply.started": "2025-04-05T01:23:07.838283Z"
    }
   },
   "outputs": [
    {
     "data": {
      "text/plain": [
       "'<｜begin▁of▁sentence｜><｜User｜>3.11 and 3.9 which is bigger? Please reason step by step, and put your final answer within \\\\boxed{}.<｜Assistant｜><think>\\n'"
      ]
     },
     "execution_count": 10,
     "metadata": {},
     "output_type": "execute_result"
    }
   ],
   "source": [
    "prompt = tokenizer.apply_chat_template(basic_messages, tokenize=False, add_generation_prompt=True)\n",
    "prompt"
   ]
  },
  {
   "cell_type": "code",
   "execution_count": 11,
   "id": "dc81fae6-7dc1-4db4-97d9-6a63b9171a69",
   "metadata": {
    "execution": {
     "iopub.execute_input": "2025-04-05T01:23:07.845537Z",
     "iopub.status.busy": "2025-04-05T01:23:07.845371Z",
     "iopub.status.idle": "2025-04-05T01:23:13.834806Z",
     "shell.execute_reply": "2025-04-05T01:23:13.833853Z",
     "shell.execute_reply.started": "2025-04-05T01:23:07.845521Z"
    }
   },
   "outputs": [
    {
     "name": "stderr",
     "output_type": "stream",
     "text": [
      "Processed prompts: 100%|██████████| 1/1 [00:05<00:00,  5.96s/it, est. speed input: 5.70 toks/s, output: 193.24 toks/s]\n"
     ]
    }
   ],
   "source": [
    "resp = llm.generate(prompt, sampling_params=sampling_params)[0]"
   ]
  },
  {
   "cell_type": "code",
   "execution_count": 12,
   "id": "79dd0b39-b756-4bed-a20b-e8e9eebc17b4",
   "metadata": {
    "execution": {
     "iopub.execute_input": "2025-04-05T01:23:13.837023Z",
     "iopub.status.busy": "2025-04-05T01:23:13.836830Z",
     "iopub.status.idle": "2025-04-05T01:23:13.842064Z",
     "shell.execute_reply": "2025-04-05T01:23:13.841192Z",
     "shell.execute_reply.started": "2025-04-05T01:23:13.837006Z"
    }
   },
   "outputs": [
    {
     "name": "stdout",
     "output_type": "stream",
     "text": [
      "<｜begin▁of▁sentence｜><｜User｜>3.11 and 3.9 which is bigger? Please reason step by step, and put your final answer within \\boxed{}.<｜Assistant｜><think>\n",
      "\n",
      "[151646, 151646, 151644, 18, 13, 16, 16, 323, 220, 18, 13, 24, 892, 374, 11243, 30, 5209, 2874, 3019, 553, 3019, 11, 323, 2182, 697, 1590, 4226, 2878, 1124, 79075, 46391, 151645, 151648, 198]\n"
     ]
    }
   ],
   "source": [
    "print(resp.prompt)\n",
    "print(resp.prompt_token_ids)"
   ]
  },
  {
   "cell_type": "code",
   "execution_count": 13,
   "id": "9cbf4a81-7bd2-4f25-adce-8f88e07f23d8",
   "metadata": {
    "execution": {
     "iopub.execute_input": "2025-04-05T01:23:13.842733Z",
     "iopub.status.busy": "2025-04-05T01:23:13.842570Z",
     "iopub.status.idle": "2025-04-05T01:23:13.861024Z",
     "shell.execute_reply": "2025-04-05T01:23:13.859776Z",
     "shell.execute_reply.started": "2025-04-05T01:23:13.842717Z"
    }
   },
   "outputs": [],
   "source": [
    "assert tokenizer.encode(resp.prompt) == resp.prompt_token_ids"
   ]
  },
  {
   "cell_type": "code",
   "execution_count": 14,
   "id": "9f06029f-1777-4968-b7d2-dad521552c1f",
   "metadata": {
    "execution": {
     "iopub.execute_input": "2025-04-05T01:23:13.861586Z",
     "iopub.status.busy": "2025-04-05T01:23:13.861422Z",
     "iopub.status.idle": "2025-04-05T01:23:13.871500Z",
     "shell.execute_reply": "2025-04-05T01:23:13.870654Z",
     "shell.execute_reply.started": "2025-04-05T01:23:13.861570Z"
    }
   },
   "outputs": [
    {
     "data": {
      "text/plain": [
       "('<｜begin▁of▁sentence｜>', '}.')"
      ]
     },
     "execution_count": 14,
     "metadata": {},
     "output_type": "execute_result"
    }
   ],
   "source": [
    "tokenizer.decode(151646), tokenizer.decode(7810)"
   ]
  },
  {
   "cell_type": "code",
   "execution_count": 15,
   "id": "0ef86bfa-986b-40d3-a923-39e4595c3971",
   "metadata": {
    "execution": {
     "iopub.execute_input": "2025-04-05T01:23:13.872305Z",
     "iopub.status.busy": "2025-04-05T01:23:13.872112Z",
     "iopub.status.idle": "2025-04-05T01:23:13.885422Z",
     "shell.execute_reply": "2025-04-05T01:23:13.884476Z",
     "shell.execute_reply.started": "2025-04-05T01:23:13.872286Z"
    }
   },
   "outputs": [
    {
     "data": {
      "text/plain": [
       "(1152, 1152)"
      ]
     },
     "execution_count": 15,
     "metadata": {},
     "output_type": "execute_result"
    }
   ],
   "source": [
    "len(resp.outputs[0].token_ids), len(tokenizer.encode(resp.outputs[0].text))"
   ]
  },
  {
   "cell_type": "code",
   "execution_count": 16,
   "id": "f57f8f06-8ad5-4d9b-8f55-762ff3bfd353",
   "metadata": {
    "execution": {
     "iopub.execute_input": "2025-04-05T01:23:13.886214Z",
     "iopub.status.busy": "2025-04-05T01:23:13.886006Z",
     "iopub.status.idle": "2025-04-05T01:23:13.890341Z",
     "shell.execute_reply": "2025-04-05T01:23:13.889419Z",
     "shell.execute_reply.started": "2025-04-05T01:23:13.886192Z"
    }
   },
   "outputs": [],
   "source": [
    "# resp.outputs[0].text"
   ]
  },
  {
   "cell_type": "markdown",
   "id": "72f4a5dc-ca40-4c9a-8269-9b4c4ed92378",
   "metadata": {},
   "source": [
    "### custom chat template"
   ]
  },
  {
   "cell_type": "code",
   "execution_count": 33,
   "id": "6a27c026-0096-4823-b5c7-20d12a775338",
   "metadata": {
    "execution": {
     "iopub.execute_input": "2025-04-05T01:28:25.146424Z",
     "iopub.status.busy": "2025-04-05T01:28:25.144727Z",
     "iopub.status.idle": "2025-04-05T01:28:25.160188Z",
     "shell.execute_reply": "2025-04-05T01:28:25.158182Z",
     "shell.execute_reply.started": "2025-04-05T01:28:25.146336Z"
    }
   },
   "outputs": [
    {
     "data": {
      "text/plain": [
       "'<｜begin▁of▁sentence｜><｜User｜>3.11 and 3.9 which is bigger? Please reason step by step, and put your final answer within \\\\boxed{}.'"
      ]
     },
     "execution_count": 33,
     "metadata": {},
     "output_type": "execute_result"
    }
   ],
   "source": [
    "prompt = tokenizer.apply_chat_template(basic_messages, tokenize=False)\n",
    "prompt"
   ]
  },
  {
   "cell_type": "code",
   "execution_count": 34,
   "id": "cd5d9da4-b60a-45e6-80c4-81a687b6f39d",
   "metadata": {
    "execution": {
     "iopub.execute_input": "2025-04-05T01:28:26.420232Z",
     "iopub.status.busy": "2025-04-05T01:28:26.419453Z",
     "iopub.status.idle": "2025-04-05T01:28:27.642813Z",
     "shell.execute_reply": "2025-04-05T01:28:27.641129Z",
     "shell.execute_reply.started": "2025-04-05T01:28:26.420165Z"
    }
   },
   "outputs": [
    {
     "name": "stderr",
     "output_type": "stream",
     "text": [
      "Processed prompts: 100%|██████████| 1/1 [00:01<00:00,  1.21s/it, est. speed input: 25.74 toks/s, output: 166.06 toks/s]\n"
     ]
    }
   ],
   "source": [
    "resp = llm.generate(prompt, sampling_params=sampling_params)[0]"
   ]
  },
  {
   "cell_type": "code",
   "execution_count": 35,
   "id": "c18e5240-11a3-4a88-b1dc-ccf9a9ca8410",
   "metadata": {
    "execution": {
     "iopub.execute_input": "2025-04-05T01:28:28.745648Z",
     "iopub.status.busy": "2025-04-05T01:28:28.745284Z",
     "iopub.status.idle": "2025-04-05T01:28:28.754522Z",
     "shell.execute_reply": "2025-04-05T01:28:28.752656Z",
     "shell.execute_reply.started": "2025-04-05T01:28:28.745619Z"
    }
   },
   "outputs": [
    {
     "name": "stdout",
     "output_type": "stream",
     "text": [
      "**\n",
      "</think>\n",
      "\n",
      "To determine which number is bigger between **3.11** and **3.9**, follow these steps:\n",
      "\n",
      "1. **Compare the whole number part** of both numbers. Both have **3** as the whole number.\n",
      "2. **Compare the decimal parts**:\n",
      "   - **0.11** (from 3.11)\n",
      "   - **0.9** (from 3.9, which can be written as 3.90)\n",
      "3. **Convert 3.9 to two decimal places**: 3.90\n",
      "4. **Compare 0.11 and 0.90**:\n",
      "   - **0.11** is less than **0.90**\n",
      "5. **Conclusion**: Since 0.11 is less than 0.90, **3.90** is larger than **3.11**.\n",
      "\n",
      "**Final Answer**: \\boxed{3.9}\n"
     ]
    }
   ],
   "source": [
    "print(resp.outputs[0].text)"
   ]
  },
  {
   "cell_type": "code",
   "execution_count": 41,
   "id": "a95a2758-c14c-498b-968c-46e6acafe280",
   "metadata": {
    "execution": {
     "iopub.execute_input": "2025-04-05T01:29:43.390464Z",
     "iopub.status.busy": "2025-04-05T01:29:43.389686Z",
     "iopub.status.idle": "2025-04-05T01:29:43.406221Z",
     "shell.execute_reply": "2025-04-05T01:29:43.403748Z",
     "shell.execute_reply.started": "2025-04-05T01:29:43.390395Z"
    }
   },
   "outputs": [
    {
     "data": {
      "text/plain": [
       "'<｜begin▁of▁sentence｜><｜User｜>3.11 and 3.9 which is bigger? Please reason step by step, and put your final answer within \\\\boxed{}.<｜Assistant｜><think>\\n'"
      ]
     },
     "execution_count": 41,
     "metadata": {},
     "output_type": "execute_result"
    }
   ],
   "source": [
    "prompt = tokenizer.apply_chat_template(basic_messages, tokenize=False, add_generation_prompt=True)\n",
    "prompt"
   ]
  },
  {
   "cell_type": "code",
   "execution_count": 42,
   "id": "442fbf4a-5b82-4e29-9843-636adc75d78c",
   "metadata": {
    "execution": {
     "iopub.execute_input": "2025-04-05T01:29:45.775676Z",
     "iopub.status.busy": "2025-04-05T01:29:45.774911Z",
     "iopub.status.idle": "2025-04-05T01:29:57.524429Z",
     "shell.execute_reply": "2025-04-05T01:29:57.523446Z",
     "shell.execute_reply.started": "2025-04-05T01:29:45.775612Z"
    }
   },
   "outputs": [
    {
     "name": "stderr",
     "output_type": "stream",
     "text": [
      "Processed prompts: 100%|██████████| 1/1 [00:11<00:00, 11.73s/it, est. speed input: 2.90 toks/s, output: 182.41 toks/s]\n"
     ]
    }
   ],
   "source": [
    "resp = llm.generate(prompt, sampling_params=sampling_params)[0]"
   ]
  },
  {
   "cell_type": "code",
   "execution_count": 45,
   "id": "5c593af8-3556-4e5e-ac49-b1bbbc6cea52",
   "metadata": {
    "execution": {
     "iopub.execute_input": "2025-04-05T01:30:34.600740Z",
     "iopub.status.busy": "2025-04-05T01:30:34.600026Z",
     "iopub.status.idle": "2025-04-05T01:30:34.609365Z",
     "shell.execute_reply": "2025-04-05T01:30:34.607312Z",
     "shell.execute_reply.started": "2025-04-05T01:30:34.600673Z"
    }
   },
   "outputs": [],
   "source": [
    "# print(resp.outputs[0].text)"
   ]
  },
  {
   "cell_type": "code",
   "execution_count": 46,
   "id": "592c7492-acfa-4784-8271-3e4d2e5f007b",
   "metadata": {
    "execution": {
     "iopub.execute_input": "2025-04-05T01:31:01.911404Z",
     "iopub.status.busy": "2025-04-05T01:31:01.910651Z",
     "iopub.status.idle": "2025-04-05T01:31:11.361971Z",
     "shell.execute_reply": "2025-04-05T01:31:11.361023Z",
     "shell.execute_reply.started": "2025-04-05T01:31:01.911336Z"
    }
   },
   "outputs": [
    {
     "name": "stderr",
     "output_type": "stream",
     "text": [
      "Processed prompts: 100%|██████████| 1/1 [00:09<00:00,  9.43s/it, est. speed input: 3.39 toks/s, output: 175.87 toks/s]\n"
     ]
    }
   ],
   "source": [
    "prompt = '<｜begin▁of▁sentence｜><｜User｜>3.11 and 3.9 which is bigger? Please reason step by step, and put your final answer within \\\\boxed{}.<｜Assistant｜>'\n",
    "resp = llm.generate(prompt, sampling_params=sampling_params)[0]"
   ]
  },
  {
   "cell_type": "code",
   "execution_count": 48,
   "id": "eded12ac-8458-4fe9-b869-45a18b08fa9c",
   "metadata": {
    "execution": {
     "iopub.execute_input": "2025-04-05T01:31:25.516576Z",
     "iopub.status.busy": "2025-04-05T01:31:25.515842Z",
     "iopub.status.idle": "2025-04-05T01:31:25.527335Z",
     "shell.execute_reply": "2025-04-05T01:31:25.525285Z",
     "shell.execute_reply.started": "2025-04-05T01:31:25.516509Z"
    }
   },
   "outputs": [
    {
     "name": "stdout",
     "output_type": "stream",
     "text": [
      "<think>\n",
      "Alright, so I've got this problem here: 3.11 and 3.9, and I need to figure out which one is bigger. Hmm, okay. Let me think about how to approach this. I'm pretty sure that when comparing decimals, you start from the left and compare each digit one by one. So, first, I should look at the whole number part of both numbers. \n",
      "\n",
      "Both 3.11 and 3.9 have the same whole number part, which is 3. That means the whole numbers are equal, so I can't say one is bigger just yet. I need to look at the decimal parts. \n",
      "\n",
      "The first decimal place after the decimal point is the tenths place. In 3.11, the tenths place is 1, and in 3.9, the tenths place is 9. Since 9 is greater than 1, that means 3.9 is larger than 3.11. Wait, let me make sure I'm doing this right. \n",
      "\n",
      "So, if I write both numbers aligned by their decimal points:\n",
      "\n",
      "3.11\n",
      "3.9\n",
      "\n",
      "I can think of 3.9 as 3.90 to make the comparison easier. Now, comparing 3.11 and 3.90. The first digit after the decimal is 1 vs. 9. Since 9 is bigger, 3.90 is bigger than 3.11. Yeah, that makes sense.\n",
      "\n",
      "Another way to think about it is to subtract the smaller number from the larger one. If the result is positive, then the first number is bigger. So, 3.90 minus 3.11 is 0.79, which is positive, so 3.90 is indeed bigger. \n",
      "\n",
      "Wait, but what if the numbers were, say, 3.11 and 3.99? Then, the tenths place is 1 vs. 9, so 3.99 would still be bigger. But in this case, since the tenths place is only 1 for 3.11, it's clear that 3.9 has a higher tenths place.\n",
      "\n",
      "I also remember that when comparing decimals, you can add a zero to the shorter number to make them the same length. So, 3.9 becomes 3.90, and then comparing 3.11 and 3.90 is straightforward. \n",
      "\n",
      "Is there any chance I might have made a mistake here? Maybe if I misaligned the decimals or added incorrectly. Let me try another approach. I can convert both numbers to fractions. \n",
      "\n",
      "3.11 is equal to 311/100, right? Because 3.11 is 3 + 11/100. Similarly, 3.9 is 39/10, which is 390/100. So, comparing 311/100 and 390/100, since 390 is greater than 311, 3.9 is bigger. \n",
      "\n",
      "Wait, let me check that. 390 divided by 100 is 3.9, and 311 divided by 100 is 3.11. So, yes, 3.9 is bigger. I think that's solid.\n",
      "\n",
      "Alternatively, I could think about money. If I have $3.11 and someone else has $3.90, which is more money? Well, $3.90 is more than $3.11 because 90 cents is more than 11 cents. That's a practical way to remember.\n",
      "\n",
      "So, another confirmation: when money is involved, the decimal places represent cents. So, 3.11 is 3 dollars and 11 cents, and 3.90 is 3 dollars and 90 cents. Clearly, 90 cents is more than 11 cents, so 3.90 is more than 3.11.\n",
      "\n",
      "Is there any other way to think about this? Maybe using number lines. If I imagine a number line starting at 3.00, then 3.11 is somewhere between 3.00 and 4.00, and 3.90 is even closer to 4.00. Since 3.90 is closer to 4.00, it must be larger than 3.11.\n",
      "\n",
      "Wait, but how far is each from 3.00? 3.11 is 0.11 away, and 3.90 is 0.90 away. So, clearly, 3.90 is further along the number line, which means it's bigger.\n",
      "\n",
      "I think I'm overcomplicating it. The straightforward way is to look at the tenths place. Since 9 is greater than 1, 3.9 is bigger than 3.11. \n",
      "\n",
      "But just to make sure, let me compare each place step by step. Starting from the left, the units place is the same: 3 in both. Then, moving to the tenths place: 1 vs. 9. Since 9 is bigger, we don't need to check the next decimal places. \n",
      "\n",
      "If the tenths place were equal, we would move to the hundredths place, but since they are different, we can stop there. \n",
      "\n",
      "Alternatively, I can also think in terms of fractions. 3.11 is 3 and 11/100, and 3.9 is 3 and 90/100. So, 90/100 is definitely larger than 11/100, so 3.9 is larger. \n",
      "\n",
      "Wait, just to make sure I'm not missing something, sometimes in decimal comparisons, the number of digits can affect the comparison. For example, if one number has more decimal places, does that mean it's automatically bigger? Well, no, because the more decimal places a number has, the more precise it is. But in this case, both numbers have two decimal places, so the extra digit beyond the decimal point doesn't affect the comparison.\n",
      "\n",
      "So, 3.11 and 3.90, both have two decimal places, so the difference must be in the tenths place. Therefore, 3.90 is larger than 3.11.\n",
      "\n",
      "I think I've thought through this from multiple angles now: comparing digit by digit, converting to fractions, thinking about money, using a number line, and even considering the difference from the whole number. All these methods consistently show that 3.9 is bigger than 3.11.\n",
      "\n",
      "Just to recap, the process is:\n",
      "\n",
      "1. Compare the whole number parts. Both are 3, so equal.\n",
      "2. Move to the tenths place: 1 vs. 9. 9 is larger, so 3.9 is bigger.\n",
      "3. If needed, check the hundredths place, but since they are equal, we can stop here.\n",
      "\n",
      "So, I can confidently say that 3.9 is bigger than 3.11.\n",
      "\n",
      "**Final Answer**\n",
      "The larger number is \\boxed{3.9}.\n",
      "</think>\n",
      "\n",
      "To determine which number is larger between 3.11 and 3.9, we can follow these steps:\n",
      "\n",
      "1. Compare the whole number parts. Both numbers have 3 as the whole number part, so they are equal.\n",
      "2. Move to the tenths place. In 3.11, the tenths place is 1, and in 3.9, the tenths place is 9. Since 9 is greater than 1, 3.9 is larger.\n",
      "\n",
      "Thus, the larger number is \\boxed{3.9}.\n"
     ]
    }
   ],
   "source": [
    "print(resp.outputs[0].text)"
   ]
  },
  {
   "cell_type": "markdown",
   "id": "d30ec73d-c0df-402c-9dda-0bb743c3c7c7",
   "metadata": {},
   "source": [
    "#### no think"
   ]
  },
  {
   "cell_type": "code",
   "execution_count": 37,
   "id": "eb82958f-d0ac-4423-8b77-2319c4d4d742",
   "metadata": {
    "execution": {
     "iopub.execute_input": "2025-04-05T01:29:10.336227Z",
     "iopub.status.busy": "2025-04-05T01:29:10.334356Z",
     "iopub.status.idle": "2025-04-05T01:29:10.349023Z",
     "shell.execute_reply": "2025-04-05T01:29:10.346531Z",
     "shell.execute_reply.started": "2025-04-05T01:29:10.336142Z"
    }
   },
   "outputs": [
    {
     "data": {
      "text/plain": [
       "'<｜begin▁of▁sentence｜><｜User｜>3.11 and 3.9 which is bigger? Please reason step by step, and put your final answer within \\\\boxed{}.<｜Assistant｜><think>\\n</think>'"
      ]
     },
     "execution_count": 37,
     "metadata": {},
     "output_type": "execute_result"
    }
   ],
   "source": [
    "prompt = '<｜begin▁of▁sentence｜><｜User｜>3.11 and 3.9 which is bigger? Please reason step by step, and put your final answer within \\\\boxed{}.<｜Assistant｜><think>\\n</think>'\n",
    "prompt"
   ]
  },
  {
   "cell_type": "code",
   "execution_count": 38,
   "id": "5e94aeb9-1c67-42e0-90cd-27d67a2e9632",
   "metadata": {
    "execution": {
     "iopub.execute_input": "2025-04-05T01:29:12.095398Z",
     "iopub.status.busy": "2025-04-05T01:29:12.094626Z",
     "iopub.status.idle": "2025-04-05T01:29:13.412517Z",
     "shell.execute_reply": "2025-04-05T01:29:13.410916Z",
     "shell.execute_reply.started": "2025-04-05T01:29:12.095332Z"
    }
   },
   "outputs": [
    {
     "name": "stderr",
     "output_type": "stream",
     "text": [
      "Processed prompts: 100%|██████████| 1/1 [00:01<00:00,  1.30s/it, est. speed input: 26.98 toks/s, output: 166.53 toks/s]\n"
     ]
    }
   ],
   "source": [
    "resp = llm.generate(prompt, sampling_params=sampling_params)[0]"
   ]
  },
  {
   "cell_type": "code",
   "execution_count": 40,
   "id": "50bb70c0-f969-47ed-85c0-812c0b3bbedc",
   "metadata": {
    "execution": {
     "iopub.execute_input": "2025-04-05T01:29:17.856190Z",
     "iopub.status.busy": "2025-04-05T01:29:17.855381Z",
     "iopub.status.idle": "2025-04-05T01:29:17.868029Z",
     "shell.execute_reply": "2025-04-05T01:29:17.865605Z",
     "shell.execute_reply.started": "2025-04-05T01:29:17.856115Z"
    }
   },
   "outputs": [
    {
     "name": "stdout",
     "output_type": "stream",
     "text": [
      "\n",
      "\n",
      "To determine which number is larger between **3.11** and **3.9**, follow these steps:\n",
      "\n",
      "1. **Compare the whole number parts**: Both numbers have the same whole number part, which is **3**.\n",
      "\n",
      "2. **Compare the decimal parts**:\n",
      "   - **0.11** (from 3.11)\n",
      "   - **0.90** (from 3.9, which can be written as **0.90** to have the same number of decimal places)\n",
      "\n",
      "3. **Compare the tenths place**:\n",
      "   - **1** (from 3.11)\n",
      "   - **9** (from 3.9)\n",
      "\n",
      "Since **9** is greater than **1**, the tenths place of **3.9** is larger than that of **3.11**.\n",
      "\n",
      "4. **Conclusion**: Because the tenths place of **3.9** is larger, **3.9** is the larger number.\n",
      "\n",
      "**Final Answer**: \\boxed{3.9}\n"
     ]
    }
   ],
   "source": [
    "print(resp.outputs[0].text)"
   ]
  },
  {
   "cell_type": "markdown",
   "id": "f1022f8e-8ae1-459b-a9b6-2b5162b6ec74",
   "metadata": {},
   "source": [
    "### TinyZero"
   ]
  },
  {
   "cell_type": "code",
   "execution_count": null,
   "id": "10aa486c-8808-455f-b942-22e05e1e583b",
   "metadata": {},
   "outputs": [],
   "source": []
  }
 ],
 "metadata": {
  "kernelspec": {
   "display_name": "verl",
   "language": "python",
   "name": "verl"
  },
  "language_info": {
   "codemirror_mode": {
    "name": "ipython",
    "version": 3
   },
   "file_extension": ".py",
   "mimetype": "text/x-python",
   "name": "python",
   "nbconvert_exporter": "python",
   "pygments_lexer": "ipython3",
   "version": "3.9.0"
  }
 },
 "nbformat": 4,
 "nbformat_minor": 5
}
