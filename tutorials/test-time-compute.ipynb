{
 "cells": [
  {
   "cell_type": "markdown",
   "id": "94d09e2f-6af8-40bc-93d8-b0dc9d4c6b27",
   "metadata": {},
   "source": [
    "- https://huggingface.co/spaces/HuggingFaceH4/blogpost-scaling-test-time-compute\n",
    "- https://arxiv.org/abs/2408.03314\n",
    "    - test-time compute can be scaled optimally through strategies like\n",
    "        - iterative self-refinement\n",
    "        - or using a **reward model** to perform search over the space of solutions. "
   ]
  },
  {
   "cell_type": "markdown",
   "id": "24072525-3517-4c6e-b529-437e954057b5",
   "metadata": {},
   "source": [
    "### Strategies for test-time compute scaling"
   ]
  },
  {
   "cell_type": "code",
   "execution_count": null,
   "id": "4bccebfe-c42a-4f90-bc7c-f906cfca4120",
   "metadata": {},
   "outputs": [],
   "source": []
  }
 ],
 "metadata": {
  "kernelspec": {
   "display_name": "Python 3 (ipykernel)",
   "language": "python",
   "name": "python3"
  },
  "language_info": {
   "codemirror_mode": {
    "name": "ipython",
    "version": 3
   },
   "file_extension": ".py",
   "mimetype": "text/x-python",
   "name": "python",
   "nbconvert_exporter": "python",
   "pygments_lexer": "ipython3",
   "version": "3.10.13"
  }
 },
 "nbformat": 4,
 "nbformat_minor": 5
}
