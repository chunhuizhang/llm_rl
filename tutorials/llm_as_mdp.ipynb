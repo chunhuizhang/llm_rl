{
 "cells": [
  {
   "cell_type": "code",
   "execution_count": 1,
   "id": "8121d841-a432-4e05-afb4-03ed7815209a",
   "metadata": {
    "execution": {
     "iopub.execute_input": "2025-02-11T14:27:07.509593Z",
     "iopub.status.busy": "2025-02-11T14:27:07.508758Z",
     "iopub.status.idle": "2025-02-11T14:27:07.516217Z",
     "shell.execute_reply": "2025-02-11T14:27:07.514929Z",
     "shell.execute_reply.started": "2025-02-11T14:27:07.509543Z"
    }
   },
   "outputs": [],
   "source": [
    "from IPython.display import Image"
   ]
  },
  {
   "cell_type": "code",
   "execution_count": 2,
   "id": "e74f7911-cfc0-4d76-a336-8a3e48df5a96",
   "metadata": {
    "execution": {
     "iopub.execute_input": "2025-02-11T14:27:20.781155Z",
     "iopub.status.busy": "2025-02-11T14:27:20.779942Z",
     "iopub.status.idle": "2025-02-11T14:27:20.794786Z",
     "shell.execute_reply": "2025-02-11T14:27:20.793524Z",
     "shell.execute_reply.started": "2025-02-11T14:27:20.781104Z"
    }
   },
   "outputs": [
    {
     "data": {
      "text/html": [
       "<img src=\"./imgs/llm_mdp.png\" width=\"400\"/>"
      ],
      "text/plain": [
       "<IPython.core.display.Image object>"
      ]
     },
     "execution_count": 2,
     "metadata": {},
     "output_type": "execute_result"
    }
   ],
   "source": [
    "Image(url='./imgs/llm_mdp.png', width=400)"
   ]
  },
  {
   "cell_type": "markdown",
   "id": "9ce619ed-727f-49f3-b0b6-95bb22218edf",
   "metadata": {},
   "source": [
    "- reward model 定义在最后一个 token 上；\n",
    "- kl div penalty 定义在 each token-level；"
   ]
  }
 ],
 "metadata": {
  "kernelspec": {
   "display_name": "Python 3 (ipykernel)",
   "language": "python",
   "name": "python3"
  },
  "language_info": {
   "codemirror_mode": {
    "name": "ipython",
    "version": 3
   },
   "file_extension": ".py",
   "mimetype": "text/x-python",
   "name": "python",
   "nbconvert_exporter": "python",
   "pygments_lexer": "ipython3",
   "version": "3.10.13"
  }
 },
 "nbformat": 4,
 "nbformat_minor": 5
}
