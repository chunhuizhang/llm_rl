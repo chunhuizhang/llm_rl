{
 "cells": [
  {
   "cell_type": "markdown",
   "id": "e10340d3-1663-4a7b-bd4c-f8908cbe72f4",
   "metadata": {},
   "source": [
    "- from one to three scaling laws\n",
    "    - pre-training\n",
    "    - post-training\n",
    "        - RL\n",
    "    - test-time scaling\n",
    "        - 根据 query，实时对计算弹性伸缩；"
   ]
  },
  {
   "cell_type": "markdown",
   "id": "b0c75404-8b3f-4051-aa65-ca409b1959cf",
   "metadata": {},
   "source": [
    "### Point-wise GRM"
   ]
  },
  {
   "cell_type": "markdown",
   "id": "093fdbb7-0bfb-4d2b-9a3e-c15b84c2c1ad",
   "metadata": {},
   "source": [
    "- principle => critic => score\n",
    "    - 奖励过程思维链化（CoT）了\n",
    "    - 定标准，写评价，再打分；"
   ]
  }
 ],
 "metadata": {
  "kernelspec": {
   "display_name": "Python 3 (ipykernel)",
   "language": "python",
   "name": "python3"
  },
  "language_info": {
   "codemirror_mode": {
    "name": "ipython",
    "version": 3
   },
   "file_extension": ".py",
   "mimetype": "text/x-python",
   "name": "python",
   "nbconvert_exporter": "python",
   "pygments_lexer": "ipython3",
   "version": "3.10.0"
  }
 },
 "nbformat": 4,
 "nbformat_minor": 5
}
