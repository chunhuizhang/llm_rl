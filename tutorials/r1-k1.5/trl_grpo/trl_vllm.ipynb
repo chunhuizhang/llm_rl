{
 "cells": [
  {
   "cell_type": "markdown",
   "id": "cd95630d-0ec8-4aac-b14b-4d66d36b3434",
   "metadata": {},
   "source": [
    "- `pip install vllm==0.8.1`"
   ]
  },
  {
   "cell_type": "markdown",
   "id": "e409061f-8fb1-4c84-8184-4a16bc943498",
   "metadata": {},
   "source": [
    "Run the vLLM server with the model `Qwen/Qwen2.5-7B`:\n",
    "\n",
    "```\n",
    "$ trl vllm-serve --model Qwen/Qwen2.5-7B\n",
    "...\n",
    "INFO:     Application startup complete.\n",
    "INFO:     Uvicorn running on http://0.0.0.0:8000 (Press CTRL+C to quit)\n",
    "```\n",
    "\n",
    "Use the client to generate completions and **update model weights**:\n",
    "\n",
    "```python\n",
    ">>> from trl.extras.vllm_client import VLLMClient\n",
    ">>> client = VLLMClient()\n",
    ">>> client.generate([\"Hello, AI!\", \"Tell me a joke\"])\n",
    "[[2980, 498, 1492, 752, 448, 264, 13027, 8645, 30, 358, 2776, 4460, 311, 3270, 264, 2025],\n",
    " [911, 7988, 1251, 382, 3838, 653, 498, 1618, 4325, 879, 2581, 20027, 264, 21428, 30, 362]]\n",
    "\n",
    ">>> from transformers import AutoModelForCausalLM\n",
    ">>> model = AutoModelForCausalLM.from_pretrained(\"Qwen/Qwen2.5-7B\", device_map=\"cuda\")\n",
    ">>> client.update_model_params(model)\n",
    "```"
   ]
  },
  {
   "cell_type": "markdown",
   "id": "f01b9753-eb67-40f8-8ae5-efd40627bc5e",
   "metadata": {},
   "source": [
    "### generation & training"
   ]
  },
  {
   "cell_type": "markdown",
   "id": "1b4a6547-46a4-4100-aa41-62a3c44944a3",
   "metadata": {},
   "source": [
    "- When using vLLM, ensure that the GPUs assigned for training and generation are separate to avoid resource conflicts. For instance, if you plan to use 4 GPUs for training and another 4 for vLLM generation, you can specify GPU allocation using `CUDA_VISIBLE_DEVICES`.\n",
    "    - you define GPUs for training and others for inference. This avoids having to offload\n",
    "- Set GPUs 0-3 for vLLM generation:\n",
    "\n",
    "```\n",
    "CUDA_VISIBLE_DEVICES=0,1,2,3 trl vllm-serve --model <model_name>\n",
    "```\n",
    "    \n",
    "- And GPUs 4-7 for training:\n",
    "\n",
    "    ```\n",
    "    CUDA_VISIBLE_DEVICES=4,5,6,7 accelerate launch train.py\n",
    "    ```\n",
    "\n",
    "    - note: 如果本身 accelerate 也有自己的配置，比如默认使用 8 个 gpu 进程，则需要进行如下的启动设置\n",
    "        - `CUDA_VISIBLE_DEVICES=4,5,6,7 accelerate launch --num_processes=4 train.py`\n",
    "        - 覆盖 `~/.cache/huggingface/accelerate/default_config.yaml` 的配置；"
   ]
  }
 ],
 "metadata": {
  "kernelspec": {
   "display_name": "verl",
   "language": "python",
   "name": "verl"
  },
  "language_info": {
   "codemirror_mode": {
    "name": "ipython",
    "version": 3
   },
   "file_extension": ".py",
   "mimetype": "text/x-python",
   "name": "python",
   "nbconvert_exporter": "python",
   "pygments_lexer": "ipython3",
   "version": "3.9.0"
  }
 },
 "nbformat": 4,
 "nbformat_minor": 5
}
