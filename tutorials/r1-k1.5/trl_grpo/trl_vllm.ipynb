{
 "cells": [
  {
   "cell_type": "markdown",
   "id": "e409061f-8fb1-4c84-8184-4a16bc943498",
   "metadata": {},
   "source": [
    "Run the vLLM server with the model `Qwen/Qwen2.5-7B`:\n",
    "\n",
    "```\n",
    "$ trl vllm-serve --model Qwen/Qwen2.5-7B\n",
    "...\n",
    "INFO:     Application startup complete.\n",
    "INFO:     Uvicorn running on http://0.0.0.0:8000 (Press CTRL+C to quit)\n",
    "```\n",
    "\n",
    "Use the client to generate completions and **update model weights**:\n",
    "\n",
    "```python\n",
    ">>> from trl.extras.vllm_client import VLLMClient\n",
    ">>> client = VLLMClient()\n",
    ">>> client.generate([\"Hello, AI!\", \"Tell me a joke\"])\n",
    "[[2980, 498, 1492, 752, 448, 264, 13027, 8645, 30, 358, 2776, 4460, 311, 3270, 264, 2025],\n",
    " [911, 7988, 1251, 382, 3838, 653, 498, 1618, 4325, 879, 2581, 20027, 264, 21428, 30, 362]]\n",
    "\n",
    ">>> from transformers import AutoModelForCausalLM\n",
    ">>> model = AutoModelForCausalLM.from_pretrained(\"Qwen/Qwen2.5-7B\", device_map=\"cuda\")\n",
    ">>> client.update_model_params(model)\n",
    "```"
   ]
  }
 ],
 "metadata": {
  "kernelspec": {
   "display_name": "verl",
   "language": "python",
   "name": "verl"
  },
  "language_info": {
   "codemirror_mode": {
    "name": "ipython",
    "version": 3
   },
   "file_extension": ".py",
   "mimetype": "text/x-python",
   "name": "python",
   "nbconvert_exporter": "python",
   "pygments_lexer": "ipython3",
   "version": "3.9.0"
  }
 },
 "nbformat": 4,
 "nbformat_minor": 5
}
