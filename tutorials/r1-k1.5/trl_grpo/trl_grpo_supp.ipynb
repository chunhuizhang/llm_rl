{
 "cells": [
  {
   "cell_type": "markdown",
   "id": "f0505422-059f-4fd3-a24f-81756f62db94",
   "metadata": {},
   "source": [
    "$$\n",
    "\\textbf{GRPO:} \\quad\n",
    "\\frac{1}{G} \\sum_{i=1}^{G} \\textcolor{red}{\\frac{1}{|\\mathbf{o}_i|}} \\sum_{t=1}^{|\\mathbf{o}_i|} \n",
    "\\left\\{ \n",
    "    \\min \\left[\n",
    "        \\frac{\\pi_\\theta(o_{i,t} \\mid \\mathbf{q}, \\mathbf{o}_{i,<t})}{\\pi_{\\theta_{\\text{old}}}(o_{i,t} \\mid \\mathbf{q}, \\mathbf{o}_{i,<t})} \\hat{A}_{i,t},\n",
    "        \\mathrm{clip} \\left( \n",
    "            \\frac{\\pi_\\theta(o_{i,t} \\mid \\mathbf{q}, \\mathbf{o}_{i,<t})}{\\pi_{\\theta_{\\text{old}}}(o_{i,t} \\mid \\mathbf{q}, \\mathbf{o}_{i,<t})},\n",
    "            1 - \\epsilon, 1 + \\epsilon\n",
    "        \\right) \\hat{A}_{i,t}\n",
    "    \\right]\n",
    "\\right\\}\n",
    "$$\n",
    "\n",
    "$$\n",
    "\\text{where} \\quad\n",
    "\\hat{A}_{i,t} = \n",
    "\\frac{\n",
    "R(\\mathbf{q}, \\mathbf{o}_i) - \\mathrm{mean}(\\{ R(\\mathbf{q}, \\mathbf{o}_1), \\ldots, R(\\mathbf{q}, \\mathbf{o}_G) \\})\n",
    "}{\n",
    "\\textcolor{red}{\n",
    "\\mathrm{std}(\\{ R(\\mathbf{q}, \\mathbf{o}_1), \\ldots, R(\\mathbf{q}, \\mathbf{o}_G) \\})\n",
    "}\n",
    "}\n",
    "$$\n",
    "\n",
    "---\n",
    "\n",
    "$$\n",
    "\\textbf{Dr. GRPO:} \\quad \\text{GRPO Done Right (without bias)} \n",
    "$$\n",
    "\n",
    "$$\n",
    "\\frac{1}{G} \\sum_{i=1}^{G} \\sum_{t=1}^{|\\mathbf{o}_i|} \n",
    "\\left\\{ \n",
    "    \\min \\left[\n",
    "        \\frac{\\pi_\\theta(o_{i,t} \\mid \\mathbf{q}, \\mathbf{o}_{i,<t})}{\\pi_{\\theta_{\\text{old}}}(o_{i,t} \\mid \\mathbf{q}, \\mathbf{o}_{i,<t})} \\hat{A}_{i,t},\n",
    "        \\mathrm{clip} \\left( \n",
    "            \\frac{\\pi_\\theta(o_{i,t} \\mid \\mathbf{q}, \\mathbf{o}_{i,<t})}{\\pi_{\\theta_{\\text{old}}}(o_{i,t} \\mid \\mathbf{q}, \\mathbf{o}_{i,<t})},\n",
    "            1 - \\epsilon, 1 + \\epsilon\n",
    "        \\right) \\hat{A}_{i,t}\n",
    "    \\right]\n",
    "\\right\\}\n",
    "$$\n",
    "\n",
    "$$\n",
    "\\text{where} \\quad\n",
    "\\hat{A}_{i,t} = R(\\mathbf{q}, \\mathbf{o}_i) - \\mathrm{mean}(\\{ R(\\mathbf{q}, \\mathbf{o}_1), \\ldots, R(\\mathbf{q}, \\mathbf{o}_G) \\})\n",
    "$$\n"
   ]
  },
  {
   "cell_type": "markdown",
   "id": "c2f1045b-f006-485d-abb6-01a7da3eebc0",
   "metadata": {},
   "source": [
    "- Dr. GRPO\n",
    "    - https://arxiv.org/pdf/2503.20783\n",
    "    - 移除了内部的平均，计算 advantage 不需要除以 std"
   ]
  },
  {
   "cell_type": "markdown",
   "id": "11d665aa-fa68-47ee-8202-fda045f14cad",
   "metadata": {},
   "source": [
    "### basics"
   ]
  },
  {
   "cell_type": "markdown",
   "id": "f0b20ab9-141b-4cbc-a9ee-0c691a978c0d",
   "metadata": {},
   "source": [
    "- steps\n",
    "    - effective_batch_size: per_device_train_batch_size * num_processes * gradient_accumulation_steps\n",
    "        - 8 * 2 * 4\n",
    "    - batch_size = effective_batch_size / num_generations = 64 / 8 = 8\n",
    "    - steps: len * epochs / batch_size = 200 * 3 / 8 = 75\n",
    "- `_get_train_sampler`\n",
    "    - num_processes: 3, gpu_0, gpu_1, gpu_2\n",
    "    - per_device_train_batch_size: 4\n",
    "    - grad_accum: 3\n",
    "    - num_generations: 3\n",
    "    - batch_size = 4 * 3 * 3 / 3 = 12\n",
    "- `scale_rewards`\n",
    "    - Whether to scale the rewards by dividing them by their standard deviation. If `True` (default), the rewards are normalized by the standard deviation, ensuring they have unit variance. If `False`, no scaling is applied.\n",
    "    - The [Dr. GRPO](https://github.com/sail-sg/understand-r1-zero/blob/main/understand-r1-zero.pdf) paper recommends not scaling the rewards, as scaling by the standard deviation introduces a question-level difficulty bias."
   ]
  },
  {
   "cell_type": "markdown",
   "id": "e86c28da-e9bc-489e-a31a-00ec536f07ac",
   "metadata": {},
   "source": [
    "## `_prepare_inputs` & `compute_loss`"
   ]
  },
  {
   "cell_type": "markdown",
   "id": "42fbd66d-0a02-4581-8e40-221b9af62da5",
   "metadata": {},
   "source": [
    "- _prepare_inputs\n",
    "    - prompt_completion_ids: prompt + completion\n",
    "- $-\\beta D_{kl}[\\pi_\\theta\\|\\pi_{ref}]$\n",
    "    - beta: 0.04 (default)\n",
    "    - $\\log \\frac{\\pi_{ref}}{\\pi_\\theta}$ 数值变得有些大时，`exp(log_ratio)` 会指数级爆炸；\n",
    "\n",
    "```python\n",
    "if self.beta != 0.0:\n",
    "    ref_per_token_logps = inputs[\"ref_per_token_logps\"]\n",
    "    per_token_kl = (\n",
    "        torch.exp(ref_per_token_logps - per_token_logps) - (ref_per_token_logps - per_token_logps) - 1\n",
    "    )\n",
    "```"
   ]
  },
  {
   "cell_type": "markdown",
   "id": "5ffce8bc-f4c2-4813-b19a-403e7d54bf8f",
   "metadata": {},
   "source": [
    "### token-level loss"
   ]
  },
  {
   "cell_type": "markdown",
   "id": "9720be89-875e-41ab-9468-822ed109ac06",
   "metadata": {
    "execution": {
     "iopub.execute_input": "2025-03-29T12:11:49.283156Z",
     "iopub.status.busy": "2025-03-29T12:11:49.282464Z",
     "iopub.status.idle": "2025-03-29T12:11:49.296640Z",
     "shell.execute_reply": "2025-03-29T12:11:49.293885Z",
     "shell.execute_reply.started": "2025-03-29T12:11:49.283090Z"
    }
   },
   "source": [
    "- https://github.com/huggingface/trl/blob/main/trl/trainer/grpo_trainer.py#L961\n",
    "    - token-level\n",
    "- https://github.com/huggingface/trl/blob/v0.15.2/trl/trainer/grpo_trainer.py#L719\n",
    "    - non-token-level"
   ]
  },
  {
   "cell_type": "code",
   "execution_count": 1,
   "id": "58636126-6585-4af8-9a34-5dc34eee524b",
   "metadata": {
    "execution": {
     "iopub.execute_input": "2025-03-29T12:17:22.271111Z",
     "iopub.status.busy": "2025-03-29T12:17:22.270884Z",
     "iopub.status.idle": "2025-03-29T12:17:23.828942Z",
     "shell.execute_reply": "2025-03-29T12:17:23.827966Z",
     "shell.execute_reply.started": "2025-03-29T12:17:22.271087Z"
    }
   },
   "outputs": [],
   "source": [
    "import torch"
   ]
  },
  {
   "cell_type": "code",
   "execution_count": 2,
   "id": "2704113d-3db9-4efe-a1ca-13baa219a3ca",
   "metadata": {
    "execution": {
     "iopub.execute_input": "2025-03-29T12:18:24.497832Z",
     "iopub.status.busy": "2025-03-29T12:18:24.497131Z",
     "iopub.status.idle": "2025-03-29T12:18:24.509555Z",
     "shell.execute_reply": "2025-03-29T12:18:24.507256Z",
     "shell.execute_reply.started": "2025-03-29T12:18:24.497766Z"
    }
   },
   "outputs": [],
   "source": [
    "per_token_loss = torch.tensor([[1, 2], [3, 4], [5, 6]])\n",
    "completion_mask = torch.tensor([[1, 1], [1, 0], [1, 0]])"
   ]
  },
  {
   "cell_type": "code",
   "execution_count": 8,
   "id": "45501594-caf5-4aaa-9d37-ddd49d1694d3",
   "metadata": {
    "execution": {
     "iopub.execute_input": "2025-03-29T12:20:08.021029Z",
     "iopub.status.busy": "2025-03-29T12:20:08.020315Z",
     "iopub.status.idle": "2025-03-29T12:20:08.038674Z",
     "shell.execute_reply": "2025-03-29T12:20:08.036403Z",
     "shell.execute_reply.started": "2025-03-29T12:20:08.020960Z"
    }
   },
   "outputs": [
    {
     "data": {
      "text/plain": [
       "tensor(3.1667)"
      ]
     },
     "execution_count": 8,
     "metadata": {},
     "output_type": "execute_result"
    }
   ],
   "source": [
    "grpo_loss = ((loss_i * mask).sum(dim=1) / mask.sum(dim=1)).mean()\n",
    "grpo_loss"
   ]
  },
  {
   "cell_type": "code",
   "execution_count": 9,
   "id": "56d41bd5-0cc3-40b2-a696-1cf9b8bd9fdd",
   "metadata": {
    "execution": {
     "iopub.execute_input": "2025-03-29T12:20:10.903856Z",
     "iopub.status.busy": "2025-03-29T12:20:10.903191Z",
     "iopub.status.idle": "2025-03-29T12:20:10.919573Z",
     "shell.execute_reply": "2025-03-29T12:20:10.917785Z",
     "shell.execute_reply.started": "2025-03-29T12:20:10.903791Z"
    }
   },
   "outputs": [
    {
     "data": {
      "text/plain": [
       "tensor(2.7500)"
      ]
     },
     "execution_count": 9,
     "metadata": {},
     "output_type": "execute_result"
    }
   ],
   "source": [
    "dr_grpo_loss = (loss_i * mask).sum() / mask.sum()\n",
    "dr_grpo_loss"
   ]
  },
  {
   "cell_type": "markdown",
   "id": "536e1972-3d34-4d5e-a6af-e2762e9b76db",
   "metadata": {},
   "source": [
    "## MISC"
   ]
  },
  {
   "cell_type": "markdown",
   "id": "f5468d0a-bc70-4146-8937-894c551cfeaf",
   "metadata": {},
   "source": [
    "- wandb\n",
    "    - `report_to='wandb'`\n",
    "    - 默认的 wandb project 为 huggingface\n",
    "        - `export WANDB_PROJECT=my_prpject_name`\n",
    "- use_vllm"
   ]
  }
 ],
 "metadata": {
  "kernelspec": {
   "display_name": "verl",
   "language": "python",
   "name": "verl"
  },
  "language_info": {
   "codemirror_mode": {
    "name": "ipython",
    "version": 3
   },
   "file_extension": ".py",
   "mimetype": "text/x-python",
   "name": "python",
   "nbconvert_exporter": "python",
   "pygments_lexer": "ipython3",
   "version": "3.9.0"
  }
 },
 "nbformat": 4,
 "nbformat_minor": 5
}
