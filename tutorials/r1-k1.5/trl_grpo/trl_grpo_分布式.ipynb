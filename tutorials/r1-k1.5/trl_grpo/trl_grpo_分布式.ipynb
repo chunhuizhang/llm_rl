{
 "cells": [
  {
   "cell_type": "markdown",
   "id": "f2820c12-154b-4cea-bd26-e13a0a2b7e77",
   "metadata": {},
   "source": [
    "- 单机多卡\n",
    "    - 留出1张卡（放得下模型的最少的卡）纯做推理；\n",
    "        - Parameters that control generation acceleration powered by vLLM\n",
    "        - use_vllm\n",
    "        - vllm_device\n",
    "            - Device where vLLM generation will run, e.g. `\"cuda:1\"`. If set to `\"auto\"` (default), the system will\n",
    "            automatically select the next available GPU after the last one used for training. This assumes that\n",
    "            training has not already occupied all available GPUs. If only one device is available, the device will be\n",
    "            shared between both training and vLLM.\n",
    "        - vllm_gpu_memory_utilization\n",
    "        - ..."
   ]
  }
 ],
 "metadata": {
  "kernelspec": {
   "display_name": "Python 3 (ipykernel)",
   "language": "python",
   "name": "python3"
  },
  "language_info": {
   "codemirror_mode": {
    "name": "ipython",
    "version": 3
   },
   "file_extension": ".py",
   "mimetype": "text/x-python",
   "name": "python",
   "nbconvert_exporter": "python",
   "pygments_lexer": "ipython3",
   "version": "3.10.13"
  }
 },
 "nbformat": 4,
 "nbformat_minor": 5
}
