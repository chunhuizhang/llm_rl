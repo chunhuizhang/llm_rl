{
 "cells": [
  {
   "cell_type": "markdown",
   "id": "9b974c17-d679-413f-a933-e56e5fdd1e4d",
   "metadata": {},
   "source": [
    "- 就像软件工程领域，先写测试用例，测试驱动开发（TDD）\n",
    "- training llms 也需要确定好 evaluate 方法，\n",
    "    - 数据集以及评估指标；\n",
    "    - 画好表，然后开始跑实验填空；如下只是举例，可以有更丰富的 experiments 信息；\n",
    "\n",
    "| 模型名称         | 训练 setting          | 训练集          | 测试集          | 评估指标       |\n",
    "| -------------- | ---------------- | --------------- | --------------- | -------------- |\n",
    "| Qwen2.5-1.5B-Instruct | basline     | NA           | gsm8k(1320)      | 准确率: xx   |\n",
    "| Qwen2.5-1.5B-Instruct | SFT         | gsm8k(7473)  | gsm8k(1320)      | 准确率: xx   |\n",
    "| Qwen2.5-1.5B-Instruct | GRPO w/ KL  | gsm8k(7473)  | gsm8k(1320)      | 准确率: xx   |\n",
    "| Qwen2.5-1.5B-Instruct | GRPO w/o KL | gsm8k(7473)  | gsm8k(1320)      | 准确率: xx   |\n",
    "\n",
    "- 分布式配置（多卡环境）\n",
    "    - 基准，预估训练时间；\n",
    "    - 调整相关分布式参数，是否训练时间有减少；\n",
    "    - 打满，gpu 显存及 util；\n",
    "- llm 时代的调参基本都不现实了，除非无限多的算力和时间；\n",
    "    - 可能很多时候，一个实验下来，哪怕是一个完整的 8卡 A100，都得几天的时间；"
   ]
  },
  {
   "cell_type": "code",
   "execution_count": null,
   "id": "28b68be2-d550-41eb-9865-6cc9391f0f82",
   "metadata": {},
   "outputs": [],
   "source": []
  }
 ],
 "metadata": {
  "kernelspec": {
   "display_name": "Python 3 (ipykernel)",
   "language": "python",
   "name": "python3"
  },
  "language_info": {
   "codemirror_mode": {
    "name": "ipython",
    "version": 3
   },
   "file_extension": ".py",
   "mimetype": "text/x-python",
   "name": "python",
   "nbconvert_exporter": "python",
   "pygments_lexer": "ipython3",
   "version": "3.10.13"
  }
 },
 "nbformat": 4,
 "nbformat_minor": 5
}
