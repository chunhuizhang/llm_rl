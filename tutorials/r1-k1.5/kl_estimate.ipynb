{
 "cells": [
  {
   "cell_type": "markdown",
   "id": "91979139-cb9c-4f39-bb39-7585b708c11b",
   "metadata": {},
   "source": [
    "## KL estimate"
   ]
  },
  {
   "cell_type": "markdown",
   "id": "d718ce06-51e7-4e4f-b2f0-50db1a4139fd",
   "metadata": {},
   "source": [
    "- http://joschu.net/blog/kl-approx.html\n",
    "- https://huggingface.co/docs/trl/main/en/grpo_trainer#estimating-the-kl-divergence"
   ]
  },
  {
   "cell_type": "markdown",
   "id": "2d0a8832-1eeb-4ad0-8f9b-c565abdbac26",
   "metadata": {},
   "source": [
    "$$\n",
    "\\begin{split}\n",
    "&KL(q\\|p)=KL(q,p)=\\sum_x q(x)\\log\\frac{q(x)}{p(x)}=\\mathbb E_{x\\sim q}\\log \\frac{q(x)}{p(x)}\\\\\n",
    "&KL(p\\|q)=KL(p,q)=\\sum_x p(x)\\log\\frac{p(x)}{q(x)}=\\mathbb E_{x\\sim p}\\log \\frac{p(x)}{q(x)}\n",
    "\\end{split}\n",
    "$$"
   ]
  },
  {
   "cell_type": "markdown",
   "id": "689a7a5a-fcc4-48f4-9f1b-82e24d8d71b6",
   "metadata": {},
   "source": [
    "- KL 整体是一个期望（expection）；\n",
    "    - The most common strategy for estimating sums or integrals is to use a Monte-Carlo estimate.\n",
    "- a good estimator\n",
    "    - unbiases (right mean)，刻画偏离；\n",
    "    - low variance，刻画波动；"
   ]
  },
  {
   "cell_type": "markdown",
   "id": "cd184558-05f1-43a8-b501-cf1ad65163d4",
   "metadata": {},
   "source": [
    "### estimator 1: $-\\log\\frac{p(x)}{q(x)}$"
   ]
  },
  {
   "cell_type": "markdown",
   "id": "062f14f4-7f93-4331-a5db-bb6974018e08",
   "metadata": {},
   "source": [
    "- one unbiased estimator (under samples from $q$) is $\\log\\frac{q(x)}{p(x)}=-\\log \\frac{p(x)}{q(x)}$\n",
    "    - high variance\n",
    "    - it’s negative for half of the samples, whereas KL is always positive. \n",
    "    - “重尾”或大范围波动\n",
    "- $r=\\log \\frac{p(x)}{q(x)}$\n",
    "\n",
    "$$\n",
    "\\begin{split}\n",
    "k_1=\\log \\frac{q(x)}{p(x)}&=-\\log\\frac{p(x)}{q(x)}=-\\log r\\\\\n",
    "&=\\log q(x)-\\log p(x)\\\\\n",
    "&=\\log q - \\log p\n",
    "\\end{split}\n",
    "$$"
   ]
  },
  {
   "cell_type": "code",
   "execution_count": 1,
   "id": "865d0c48-1ca4-4c03-b7f8-c5816e6ca366",
   "metadata": {
    "execution": {
     "iopub.execute_input": "2025-01-29T02:37:51.107356Z",
     "iopub.status.busy": "2025-01-29T02:37:51.106534Z",
     "iopub.status.idle": "2025-01-29T02:37:52.856149Z",
     "shell.execute_reply": "2025-01-29T02:37:52.855292Z",
     "shell.execute_reply.started": "2025-01-29T02:37:51.107289Z"
    }
   },
   "outputs": [],
   "source": [
    "import torch\n",
    "import torch.distributions as dist\n",
    "import matplotlib.pyplot as plt\n",
    "import numpy as np"
   ]
  },
  {
   "cell_type": "code",
   "execution_count": 2,
   "id": "f3e318b3-1540-4c9e-ac48-cc0d3aefa61e",
   "metadata": {
    "execution": {
     "iopub.execute_input": "2025-01-29T02:37:52.856945Z",
     "iopub.status.busy": "2025-01-29T02:37:52.856765Z",
     "iopub.status.idle": "2025-01-29T02:37:52.929491Z",
     "shell.execute_reply": "2025-01-29T02:37:52.928479Z",
     "shell.execute_reply.started": "2025-01-29T02:37:52.856933Z"
    }
   },
   "outputs": [],
   "source": [
    "p = dist.Normal(loc=0, scale=1)\n",
    "q = dist.Normal(loc=1, scale=1)\n",
    "x = q.sample(sample_shape=(10_000_000,))"
   ]
  },
  {
   "cell_type": "code",
   "execution_count": 3,
   "id": "690b32c6-f29e-4ec0-89ed-e6f5d8016c81",
   "metadata": {
    "execution": {
     "iopub.execute_input": "2025-01-29T02:37:52.930659Z",
     "iopub.status.busy": "2025-01-29T02:37:52.930417Z",
     "iopub.status.idle": "2025-01-29T02:37:52.937418Z",
     "shell.execute_reply": "2025-01-29T02:37:52.937033Z",
     "shell.execute_reply.started": "2025-01-29T02:37:52.930644Z"
    }
   },
   "outputs": [
    {
     "data": {
      "text/plain": [
       "tensor(0.5000)"
      ]
     },
     "execution_count": 3,
     "metadata": {},
     "output_type": "execute_result"
    }
   ],
   "source": [
    "true_kl = dist.kl_divergence(p, q)\n",
    "true_kl"
   ]
  },
  {
   "cell_type": "code",
   "execution_count": 4,
   "id": "10640a0f-a952-4e5c-baaa-d063d954f27c",
   "metadata": {
    "execution": {
     "iopub.execute_input": "2025-01-29T02:37:52.938636Z",
     "iopub.status.busy": "2025-01-29T02:37:52.938494Z",
     "iopub.status.idle": "2025-01-29T02:37:52.997234Z",
     "shell.execute_reply": "2025-01-29T02:37:52.996292Z",
     "shell.execute_reply.started": "2025-01-29T02:37:52.938625Z"
    }
   },
   "outputs": [],
   "source": [
    "log_q = q.log_prob(x)\n",
    "log_p = p.log_prob(x)\n",
    "logr = log_p - log_q"
   ]
  },
  {
   "cell_type": "code",
   "execution_count": 5,
   "id": "75062e69-05ca-4048-b255-fb254dfad93e",
   "metadata": {
    "execution": {
     "iopub.execute_input": "2025-01-29T02:37:52.998040Z",
     "iopub.status.busy": "2025-01-29T02:37:52.997851Z",
     "iopub.status.idle": "2025-01-29T02:37:53.003474Z",
     "shell.execute_reply": "2025-01-29T02:37:53.002137Z",
     "shell.execute_reply.started": "2025-01-29T02:37:52.998024Z"
    }
   },
   "outputs": [],
   "source": [
    "k1 = -logr"
   ]
  },
  {
   "cell_type": "code",
   "execution_count": 6,
   "id": "b08f6063-330b-4e69-8dd1-34b323e0d06c",
   "metadata": {
    "execution": {
     "iopub.execute_input": "2025-01-29T02:37:53.004522Z",
     "iopub.status.busy": "2025-01-29T02:37:53.004341Z",
     "iopub.status.idle": "2025-01-29T02:37:53.305583Z",
     "shell.execute_reply": "2025-01-29T02:37:53.304314Z",
     "shell.execute_reply.started": "2025-01-29T02:37:53.004507Z"
    },
    "scrolled": true
   },
   "outputs": [
    {
     "data": {
      "image/png": "[encoded data removed]",
      "text/plain": [
       "<Figure size 500x300 with 1 Axes>"
      ]
     },
     "metadata": {},
     "output_type": "display_data"
    }
   ],
   "source": [
    "plt.figure(figsize=(5, 3))\n",
    "_ = plt.hist(k1.numpy(), bins=200, density=True, alpha=0.6, label=\"Empirical Distribution\")"
   ]
  },
  {
   "cell_type": "code",
   "execution_count": 7,
   "id": "a4208223-0c55-444b-bc54-47e76104e031",
   "metadata": {
    "execution": {
     "iopub.execute_input": "2025-01-29T02:37:53.306221Z",
     "iopub.status.busy": "2025-01-29T02:37:53.306071Z",
     "iopub.status.idle": "2025-01-29T02:37:53.313379Z",
     "shell.execute_reply": "2025-01-29T02:37:53.312887Z",
     "shell.execute_reply.started": "2025-01-29T02:37:53.306210Z"
    }
   },
   "outputs": [
    {
     "data": {
      "text/plain": [
       "(tensor(0.4995), tensor(0.9998))"
      ]
     },
     "execution_count": 7,
     "metadata": {},
     "output_type": "execute_result"
    }
   ],
   "source": [
    "k1.mean(), k1.std()"
   ]
  },
  {
   "cell_type": "markdown",
   "id": "d1d2f534-1204-4e9d-bccd-b2d63a2409a7",
   "metadata": {},
   "source": [
    "### estimator 2: $\\frac12(\\log \\frac{p(x)}{q(x)})^2=\\frac12(\\log r)^2$"
   ]
  },
  {
   "cell_type": "markdown",
   "id": "96ccfc77-0516-484f-85e5-0ef442f1b68b",
   "metadata": {
    "execution": {
     "iopub.execute_input": "2025-01-29T02:06:08.706265Z",
     "iopub.status.busy": "2025-01-29T02:06:08.705669Z",
     "iopub.status.idle": "2025-01-29T02:06:08.717898Z",
     "shell.execute_reply": "2025-01-29T02:06:08.715358Z",
     "shell.execute_reply.started": "2025-01-29T02:06:08.706216Z"
    }
   },
   "source": [
    "- lower variance but is biased\n",
    "    - it’s always positive\n",
    "    - remarkably low bias. "
   ]
  },
  {
   "cell_type": "code",
   "execution_count": 8,
   "id": "54c73a0f-8c22-4dd2-a068-7615478fbd09",
   "metadata": {
    "execution": {
     "iopub.execute_input": "2025-01-29T02:37:53.314178Z",
     "iopub.status.busy": "2025-01-29T02:37:53.314014Z",
     "iopub.status.idle": "2025-01-29T02:37:53.332708Z",
     "shell.execute_reply": "2025-01-29T02:37:53.331496Z",
     "shell.execute_reply.started": "2025-01-29T02:37:53.314164Z"
    }
   },
   "outputs": [],
   "source": [
    "k2 = (logr ** 2) / 2"
   ]
  },
  {
   "cell_type": "code",
   "execution_count": 9,
   "id": "99018280-4018-47da-a898-65b3ef8d3950",
   "metadata": {
    "execution": {
     "iopub.execute_input": "2025-01-29T02:37:53.333562Z",
     "iopub.status.busy": "2025-01-29T02:37:53.333400Z",
     "iopub.status.idle": "2025-01-29T02:37:53.341679Z",
     "shell.execute_reply": "2025-01-29T02:37:53.340332Z",
     "shell.execute_reply.started": "2025-01-29T02:37:53.333549Z"
    }
   },
   "outputs": [
    {
     "data": {
      "text/plain": [
       "(tensor(0.6245), tensor(0.8657))"
      ]
     },
     "execution_count": 9,
     "metadata": {},
     "output_type": "execute_result"
    }
   ],
   "source": [
    "k2.mean(), k2.std()"
   ]
  },
  {
   "cell_type": "code",
   "execution_count": 10,
   "id": "440cb1d5-9f6d-4691-bd8f-0f7281c372bc",
   "metadata": {
    "execution": {
     "iopub.execute_input": "2025-01-29T02:37:53.342326Z",
     "iopub.status.busy": "2025-01-29T02:37:53.342168Z",
     "iopub.status.idle": "2025-01-29T02:37:53.685890Z",
     "shell.execute_reply": "2025-01-29T02:37:53.684636Z",
     "shell.execute_reply.started": "2025-01-29T02:37:53.342314Z"
    }
   },
   "outputs": [
    {
     "data": {
      "image/png": "[encoded data removed]",
      "text/plain": [
       "<Figure size 640x480 with 1 Axes>"
      ]
     },
     "metadata": {},
     "output_type": "display_data"
    }
   ],
   "source": [
    "_ = plt.hist(k2.numpy(), bins=200, density=True, alpha=0.6, label=\"Empirical Distribution\")"
   ]
  },
  {
   "cell_type": "markdown",
   "id": "fc948266-a3f0-4b11-b2cd-f9d2f8c69870",
   "metadata": {},
   "source": [
    "### estimator 3: $(r-1)-\\log r$"
   ]
  },
  {
   "cell_type": "markdown",
   "id": "adc0026b-9f5a-4593-8ec2-f0c7ceab6a92",
   "metadata": {},
   "source": [
    "- for samples $x \\sim q, r=\\frac{p(x)}{q(x)}$\n",
    "$$\n",
    "\\begin{split}\n",
    "&KL(q,p)=(r-1)-\\log r\\\\\n",
    "\\end{split}\n",
    "$$\n",
    "\n",
    "- RL\n",
    "\n",
    "$$\n",
    "\\mathbb D_{KL}[\\pi_\\theta\\|\\pi_{ref}]=\\frac{\\pi_{ref}(\\cdot)}{\\pi_\\theta(\\cdot)}-\\log \\frac{\\pi_{ref}(\\cdot)}{\\pi_\\theta(\\cdot)} - 1\n",
    "$$"
   ]
  },
  {
   "cell_type": "code",
   "execution_count": 11,
   "id": "ca215b7f-2dba-425a-938e-6bb553060133",
   "metadata": {
    "execution": {
     "iopub.execute_input": "2025-01-29T02:37:53.686607Z",
     "iopub.status.busy": "2025-01-29T02:37:53.686472Z",
     "iopub.status.idle": "2025-01-29T02:37:53.701340Z",
     "shell.execute_reply": "2025-01-29T02:37:53.700434Z",
     "shell.execute_reply.started": "2025-01-29T02:37:53.686596Z"
    }
   },
   "outputs": [],
   "source": [
    "k3 = (logr.exp() - 1) - logr"
   ]
  },
  {
   "cell_type": "code",
   "execution_count": 12,
   "id": "40d5087e-92c8-4c05-8e0f-57162584e46d",
   "metadata": {
    "execution": {
     "iopub.execute_input": "2025-01-29T02:37:53.702279Z",
     "iopub.status.busy": "2025-01-29T02:37:53.702120Z",
     "iopub.status.idle": "2025-01-29T02:37:53.712660Z",
     "shell.execute_reply": "2025-01-29T02:37:53.711538Z",
     "shell.execute_reply.started": "2025-01-29T02:37:53.702266Z"
    }
   },
   "outputs": [
    {
     "data": {
      "text/plain": [
       "(tensor(0.4997), tensor(0.8477))"
      ]
     },
     "execution_count": 12,
     "metadata": {},
     "output_type": "execute_result"
    }
   ],
   "source": [
    "k3.mean(), k3.std()"
   ]
  },
  {
   "cell_type": "code",
   "execution_count": 13,
   "id": "4c4e8d81-bcf3-46ec-a993-5d77a14be9ba",
   "metadata": {
    "execution": {
     "iopub.execute_input": "2025-01-29T02:37:53.715035Z",
     "iopub.status.busy": "2025-01-29T02:37:53.714870Z",
     "iopub.status.idle": "2025-01-29T02:37:54.002398Z",
     "shell.execute_reply": "2025-01-29T02:37:54.001280Z",
     "shell.execute_reply.started": "2025-01-29T02:37:53.715022Z"
    }
   },
   "outputs": [
    {
     "data": {
      "image/png": "[encoded data removed]",
      "text/plain": [
       "<Figure size 640x480 with 1 Axes>"
      ]
     },
     "metadata": {},
     "output_type": "display_data"
    }
   ],
   "source": [
    "_ = plt.hist(k3.numpy(), bins=200, density=True, alpha=0.6, label=\"Empirical Distribution\")"
   ]
  },
  {
   "cell_type": "code",
   "execution_count": 19,
   "id": "0cec87a3-19b5-4fbb-a415-628e137b79c9",
   "metadata": {
    "execution": {
     "iopub.execute_input": "2025-01-29T02:38:21.089455Z",
     "iopub.status.busy": "2025-01-29T02:38:21.088818Z",
     "iopub.status.idle": "2025-01-29T02:38:21.103470Z",
     "shell.execute_reply": "2025-01-29T02:38:21.101901Z",
     "shell.execute_reply.started": "2025-01-29T02:38:21.089408Z"
    }
   },
   "outputs": [
    {
     "data": {
      "text/plain": [
       "(tensor(0.2490), tensor(1.7315))"
      ]
     },
     "execution_count": 19,
     "metadata": {},
     "output_type": "execute_result"
    }
   ],
   "source": [
    "(k2.mean() - true_kl) / true_kl, k2.std() / true_kl"
   ]
  },
  {
   "cell_type": "code",
   "execution_count": 18,
   "id": "b085d9b8-091a-46fd-8e12-a7895e44591b",
   "metadata": {
    "execution": {
     "iopub.execute_input": "2025-01-29T02:38:19.425157Z",
     "iopub.status.busy": "2025-01-29T02:38:19.424825Z",
     "iopub.status.idle": "2025-01-29T02:38:19.439350Z",
     "shell.execute_reply": "2025-01-29T02:38:19.437810Z",
     "shell.execute_reply.started": "2025-01-29T02:38:19.425134Z"
    }
   },
   "outputs": [
    {
     "data": {
      "text/plain": [
       "(tensor(-0.0006), tensor(1.6953))"
      ]
     },
     "execution_count": 18,
     "metadata": {},
     "output_type": "execute_result"
    }
   ],
   "source": [
    "(k3.mean() - true_kl) / true_kl, k3.std() / true_kl"
   ]
  },
  {
   "cell_type": "code",
   "execution_count": 17,
   "id": "9f8b928a-6335-4152-bc82-b93bdc71c5c1",
   "metadata": {
    "execution": {
     "iopub.execute_input": "2025-01-29T02:37:54.043496Z",
     "iopub.status.busy": "2025-01-29T02:37:54.043343Z",
     "iopub.status.idle": "2025-01-29T02:37:54.048755Z",
     "shell.execute_reply": "2025-01-29T02:37:54.047447Z",
     "shell.execute_reply.started": "2025-01-29T02:37:54.043484Z"
    }
   },
   "outputs": [],
   "source": [
    "# import torch.distributions as dis\n",
    "# p = dis.Normal(loc=0, scale=1)\n",
    "# q = dis.Normal(loc=0.1, scale=1)\n",
    "# x = q.sample(sample_shape=(10_000_000,))\n",
    "# truekl = dis.kl_divergence(q, p)\n",
    "# print(\"true\", truekl)\n",
    "# logr = p.log_prob(x) - q.log_prob(x)\n",
    "# k1 = -logr\n",
    "# k2 = logr ** 2 / 2\n",
    "# k3 = (logr.exp() - 1) - logr\n",
    "# for k in (k1, k2, k3):\n",
    "#     print((k.mean() - truekl) / truekl, k.std() / truekl)"
   ]
  }
 ],
 "metadata": {
  "kernelspec": {
   "display_name": "Python 3 (ipykernel)",
   "language": "python",
   "name": "python3"
  },
  "language_info": {
   "codemirror_mode": {
    "name": "ipython",
    "version": 3
   },
   "file_extension": ".py",
   "mimetype": "text/x-python",
   "name": "python",
   "nbconvert_exporter": "python",
   "pygments_lexer": "ipython3",
   "version": "3.10.13"
  }
 },
 "nbformat": 4,
 "nbformat_minor": 5
}
