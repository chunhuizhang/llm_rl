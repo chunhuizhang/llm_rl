{
 "cells": [
  {
   "cell_type": "markdown",
   "id": "df483130-f4c9-4471-8b46-cbfef7a0e256",
   "metadata": {},
   "source": [
    "## dataset"
   ]
  },
  {
   "cell_type": "markdown",
   "id": "84f33ab0-ae6f-4f83-b502-088837fd7275",
   "metadata": {},
   "source": [
    "- train_dataset\n",
    "    - 40315 (40k)\n",
    "- test datasets\n",
    "    - AIME: 30\n",
    "        - problem, solution, answer, year, aime_year, problem_number, difficulty\n",
    "    - AMC: 83\n",
    "        - problem, solution, answer, difficulty\n",
    "    - MATH: 500\n",
    "        - problem, answer, difficulty, type\n",
    "            - type: Algebra, Intermediate Algebra, ...\n",
    "    - MINERVA: 272\n",
    "    - OLYMPIAD_BENCH: 675\n",
    "- process\n",
    "    ```\n",
    "    question = example.pop('problem')\n",
    "    instruction = \"Let's think step by step and output the final answer within \\\\boxed{}.\"\n",
    "    question = f\"{question} {instruction}\"\n",
    "    answer = example.pop('answer')\n",
    "    \n",
    "    data = {\n",
    "        \"data_source\": \"\",\n",
    "        \"prompt\": [{\n",
    "            \"role\": \"user\",\n",
    "            \"content\": question\n",
    "        }],\n",
    "        \"ability\": \"math\",\n",
    "        \"reward_model\": {\n",
    "            \"style\": \"rule\",\n",
    "            \"ground_truth\": answer\n",
    "        },\n",
    "        \"extra_info\": {\n",
    "            'split': split,\n",
    "            'index': idx\n",
    "        }\n",
    "    }\n",
    "    ```"
   ]
  }
 ],
 "metadata": {
  "kernelspec": {
   "display_name": "Python 3 (ipykernel)",
   "language": "python",
   "name": "python3"
  },
  "language_info": {
   "codemirror_mode": {
    "name": "ipython",
    "version": 3
   },
   "file_extension": ".py",
   "mimetype": "text/x-python",
   "name": "python",
   "nbconvert_exporter": "python",
   "pygments_lexer": "ipython3",
   "version": "3.10.13"
  }
 },
 "nbformat": 4,
 "nbformat_minor": 5
}
