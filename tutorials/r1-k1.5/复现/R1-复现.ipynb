{
 "cells": [
  {
   "cell_type": "markdown",
   "id": "6ece16c5-d7c0-4fa6-85bb-0437a90a4254",
   "metadata": {},
   "source": [
    "- curve\n",
    "    - `response-length/mean` vs. `critic/score/mean`\n",
    "- aha moment: `think` tokens\n",
    "    - self-check\n",
    "    - enumerate：trial & error\n",
    "        - iteratively revise\n",
    "    - emergence of Self-Reflection\n",
    "- base model & experiments\n",
    "    - qwen 2.5: https://huggingface.co/collections/Qwen/qwen25-66e81a666513e518adb90d9e\n",
    "        - `[0.5, 1.5, 3, 7]` * `[base, instruct]`"
   ]
  },
  {
   "cell_type": "markdown",
   "id": "dbe64457-4db3-405b-a650-ae9a5c239fbc",
   "metadata": {},
   "source": [
    "- https://github.com/Jiayi-Pan/TinyZero\n",
    "    - qwen 3B: 2 gpus?\n",
    "- https://github.com/hkust-nlp/simpleRL-reason\n",
    "    - 7B"
   ]
  }
 ],
 "metadata": {
  "kernelspec": {
   "display_name": "Python 3 (ipykernel)",
   "language": "python",
   "name": "python3"
  },
  "language_info": {
   "codemirror_mode": {
    "name": "ipython",
    "version": 3
   },
   "file_extension": ".py",
   "mimetype": "text/x-python",
   "name": "python",
   "nbconvert_exporter": "python",
   "pygments_lexer": "ipython3",
   "version": "3.10.13"
  }
 },
 "nbformat": 4,
 "nbformat_minor": 5
}
