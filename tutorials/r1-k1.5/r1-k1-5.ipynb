{
 "cells": [
  {
   "cell_type": "markdown",
   "id": "b610dfc7-e2af-481f-98c7-d3c6f8c500c7",
   "metadata": {},
   "source": [
    "- sft vs. rl\n",
    "  - RL 重要的是 exploration，探索/搜索出更大的轨迹或者样本，大量的是 negative 样本，但如果有 positive 样本，哪怕很少，这部分都会得到很大的强化（所谓的 reinforce）；\n",
    "  - Don't teach, Incentive.\n",
    "    - https://www.youtube.com/watch?v=kYWUEV_e2ss\n",
    "- cot；\n",
    "    - learned\n",
    "    - long: 越复杂的问题，不应该跟简单的问题，消耗同等的计算量；\n",
    "        - reasoning/thinking tokens\n",
    "    - planing，reflection，correction，self-verification\n",
    "        - aha moment：backtrace ability on step-by-step autoregression 中；\n",
    "- data high quality data；"
   ]
  },
  {
   "cell_type": "markdown",
   "id": "3db664e0-7559-4b5a-9434-02405d7a29bd",
   "metadata": {},
   "source": [
    "### Rule-based Reward Modeling"
   ]
  },
  {
   "cell_type": "markdown",
   "id": "6878fa84-87e9-4c44-aacd-cf38f40a5cc1",
   "metadata": {},
   "source": [
    "- math, coding, scientific-reasoning\n",
    "    - GPQA: Graduate-Level Google-Proof Q&A Benchmark\n",
    "        - GPQA diamond\n",
    "    - AIME: American Invitational Mathematics Examination\n",
    "    - Math-500\n",
    "    - Code\n",
    "        - LiveCode bench\n",
    "        - CodeForces"
   ]
  },
  {
   "cell_type": "markdown",
   "id": "7b8e8b00-56b9-405b-a907-795bdae1d7da",
   "metadata": {},
   "source": [
    "### outcome supervision vs. process supervision;"
   ]
  },
  {
   "cell_type": "code",
   "execution_count": null,
   "id": "69ea9c87-30e4-4fad-8da4-50db6194c254",
   "metadata": {},
   "outputs": [],
   "source": []
  }
 ],
 "metadata": {
  "kernelspec": {
   "display_name": "Python 3 (ipykernel)",
   "language": "python",
   "name": "python3"
  },
  "language_info": {
   "codemirror_mode": {
    "name": "ipython",
    "version": 3
   },
   "file_extension": ".py",
   "mimetype": "text/x-python",
   "name": "python",
   "nbconvert_exporter": "python",
   "pygments_lexer": "ipython3",
   "version": "3.10.13"
  }
 },
 "nbformat": 4,
 "nbformat_minor": 5
}
