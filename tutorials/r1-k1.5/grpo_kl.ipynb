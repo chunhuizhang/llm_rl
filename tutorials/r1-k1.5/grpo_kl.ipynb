{
 "cells": [
  {
   "cell_type": "code",
   "execution_count": 1,
   "id": "599e24f4-35a0-423c-9c83-eb07a550890e",
   "metadata": {
    "execution": {
     "iopub.execute_input": "2025-02-23T14:41:02.198169Z",
     "iopub.status.busy": "2025-02-23T14:41:02.197722Z",
     "iopub.status.idle": "2025-02-23T14:41:02.206788Z",
     "shell.execute_reply": "2025-02-23T14:41:02.205121Z",
     "shell.execute_reply.started": "2025-02-23T14:41:02.198132Z"
    }
   },
   "outputs": [],
   "source": [
    "from IPython.display import Image"
   ]
  },
  {
   "cell_type": "markdown",
   "id": "7aaf9329-0029-4762-b20f-a2095adb305f",
   "metadata": {},
   "source": [
    "https://timvieira.github.io/blog/post/2014/10/06/kl-divergence-as-an-objective-function\n",
    "\n",
    "- The reference GRPO implementation uses the **reverse KL** divergence, not the forward KL divergence.\n",
    "- https://github.com/huggingface/trl/blob/main/trl/trainer/grpo_trainer.py\n",
    "    - $L=\\frac1n\\sum\\beta D_{KL}(q\\|p)+A$\n",
    "    - $q$ is the new trained model, and $p$ is the original reference model.\n",
    "    - $p$ 待逼近的分布；\n",
    "- grpo\n",
    "    - $q(x) = \\pi_{\\theta}(o_{i,t}|q,o_{i,<t})$\n",
    "    - $p(x) = \\pi_{ref}(o_{i,t}|q,o_{i,<t})$\n",
    "\n",
    "$$\n",
    "\\mathcal{J}_{GRPO}(\\theta) = \\mathbb{E}_{q \\sim P(Q), \\{o_i\\}_{i=1}^G \\sim \\pi_{\\theta_{old}}(O|q)} \\left[ \\frac{1}{G} \\sum_{i=1}^G \\frac{1}{|o_i|} \\sum_{t=1}^{|o_i|} \\min \\left( \\frac{\\pi_\\theta(o_{i,t}|q, o_{i,<t})}{\\pi_{\\theta_{old}}(o_{i,t}|q, o_{i,<t})} \\hat{A}_{i,t}, \\text{clip} \\left( \\frac{\\pi_\\theta(o_{i,t}|q, o_{i,<t})}{\\pi_{\\theta_{old}}(o_{i,t}|q, o_{i,<t})}, 1-\\varepsilon, 1+\\varepsilon \\right) \\hat{A}_{i,t} \\right) - \\beta D_{KL} (\\pi_\\theta || \\pi_{ref}) \\right] \\tag{3}\n",
    "$$\n",
    "\n",
    "$$\n",
    "\\mathbb{D}_{KL}[\\pi_{\\theta}||\\pi_{ref}] = \\frac{\\pi_{ref}(o_{i,t}|q, o_{i,<t})}{\\pi_{\\theta}(o_{i,t}|q, o_{i,<t})} - \\log \\frac{\\pi_{ref}(o_{i,t}|q, o_{i,<t})}{\\pi_{\\theta}(o_{i,t}|q, o_{i,<t})} - 1\n",
    "$$"
   ]
  },
  {
   "cell_type": "markdown",
   "id": "a57cc3c1-5639-4209-b1ee-9d959766541c",
   "metadata": {},
   "source": [
    "## John Schulman's blog"
   ]
  },
  {
   "cell_type": "markdown",
   "id": "37a7b568-7573-418c-be0f-293bedbc0540",
   "metadata": {},
   "source": [
    "http://joschu.net/blog/kl-approx.html"
   ]
  },
  {
   "cell_type": "markdown",
   "id": "a8393ebd-4ef8-4834-a46e-31b2d35b5392",
   "metadata": {},
   "source": [
    "$$\n",
    "r=\\frac{p(x)}{q(x)}\n",
    "$$"
   ]
  },
  {
   "cell_type": "markdown",
   "id": "474b1132-d7e3-4b61-ba6e-9a06cd0bacf6",
   "metadata": {},
   "source": [
    "### $-\\log r=\\log \\frac{q(x)}{p(x)}$"
   ]
  },
  {
   "cell_type": "markdown",
   "id": "da609474-6f21-4464-aace-5f81f1d8e89e",
   "metadata": {},
   "source": [
    "$$\n",
    "kl(q\\|p)=\\sum_x q(x)\\log \\frac{q(x)}{p(x)}=\\mathbb E_{x\\sim q}\\left[\\log \\frac{q(x)}{p(x)}\\right]\n",
    "$$\n",
    "- it has high-variance, as it’s negative for half of the samples, whereas KL is always positive.\n",
    "    - 采样点落在 $q(x)\\lt p(x)$ 时，"
   ]
  },
  {
   "cell_type": "code",
   "execution_count": 19,
   "id": "303610de-f3e8-4794-9572-9884cbb2d38c",
   "metadata": {
    "execution": {
     "iopub.execute_input": "2025-02-23T15:21:21.877542Z",
     "iopub.status.busy": "2025-02-23T15:21:21.875749Z",
     "iopub.status.idle": "2025-02-23T15:21:22.015432Z",
     "shell.execute_reply": "2025-02-23T15:21:22.014560Z",
     "shell.execute_reply.started": "2025-02-23T15:21:21.877476Z"
    }
   },
   "outputs": [],
   "source": [
    "import torch.distributions as dis\n",
    "import torch\n",
    "p = dis.Normal(loc=0, scale=1)\n",
    "q = dis.Normal(loc=0.1, scale=1)\n",
    "x = q.sample(sample_shape=(10_000_000,))"
   ]
  },
  {
   "cell_type": "code",
   "execution_count": 25,
   "id": "b68f7f75-552c-4b4f-a623-a72e7523c477",
   "metadata": {
    "execution": {
     "iopub.execute_input": "2025-02-23T15:48:41.748937Z",
     "iopub.status.busy": "2025-02-23T15:48:41.748607Z",
     "iopub.status.idle": "2025-02-23T15:48:41.866380Z",
     "shell.execute_reply": "2025-02-23T15:48:41.865061Z",
     "shell.execute_reply.started": "2025-02-23T15:48:41.748914Z"
    }
   },
   "outputs": [
    {
     "data": {
      "text/plain": [
       "tensor(4799598)"
      ]
     },
     "execution_count": 25,
     "metadata": {},
     "output_type": "execute_result"
    }
   ],
   "source": [
    "torch.sum((q.log_prob(x) - p.log_prob(x)) < 0)"
   ]
  },
  {
   "cell_type": "markdown",
   "id": "3e7d4037-65e6-4a30-bb0c-30399fd8bf0a",
   "metadata": {},
   "source": [
    "### $\\frac12(\\log r)^2$"
   ]
  },
  {
   "cell_type": "markdown",
   "id": "e4b7626f-5645-40eb-b998-d7555cb7fd2a",
   "metadata": {},
   "source": [
    "### $r-1-\\log r$"
   ]
  },
  {
   "cell_type": "markdown",
   "id": "e95ff387-9b74-4690-9a68-7993d88ea459",
   "metadata": {},
   "source": [
    "- $kl(q\\|p)=r-1-\\log r$ (without $q$)\n",
    "- 保证非负 $\\log x\\leq x-1$"
   ]
  },
  {
   "cell_type": "markdown",
   "id": "b1de229f-112f-4d8c-a7bd-15902b4f8a2e",
   "metadata": {},
   "source": [
    "$$\n",
    "\\begin{split}\n",
    "D_{KL}(q\\|p)&=\\sum q\\log \\frac{q}p\\\\\n",
    "&=-\\sum q\\log\\frac pq\\\\\n",
    "&=1-\\sum q\\log\\frac pq-1\\\\\n",
    "&=\\sum p-\\sum q\\log\\frac pq-\\sum q\\\\\n",
    "&=\\sum q\\frac{p}q-\\sum q\\log\\frac pq-\\sum q\\\\\n",
    "&=\\sum q\\left[\\frac{p}{q}-\\log\\frac pq-1\\right]\n",
    "\\end{split}\n",
    "$$"
   ]
  },
  {
   "cell_type": "code",
   "execution_count": 16,
   "id": "51ee5392-cb97-4d2e-a121-a1435507c4a7",
   "metadata": {
    "execution": {
     "iopub.execute_input": "2025-02-23T15:08:53.288440Z",
     "iopub.status.busy": "2025-02-23T15:08:53.288060Z",
     "iopub.status.idle": "2025-02-23T15:08:53.512366Z",
     "shell.execute_reply": "2025-02-23T15:08:53.510436Z",
     "shell.execute_reply.started": "2025-02-23T15:08:53.288403Z"
    }
   },
   "outputs": [
    {
     "data": {
      "text/plain": [
       "<matplotlib.legend.Legend at 0x7d438dbd6050>"
      ]
     },
     "execution_count": 16,
     "metadata": {},
     "output_type": "execute_result"
    },
    {
     "data": {
      "image/png": "[encoded data removed]",
      "text/plain": [
       "<Figure size 640x480 with 1 Axes>"
      ]
     },
     "metadata": {},
     "output_type": "display_data"
    }
   ],
   "source": [
    "import matplotlib.pyplot as plt\n",
    "import numpy as np\n",
    "xs = np.arange(0.01, 5, 0.01)\n",
    "plt.plot(np.log(xs), label=r'$\\log x$')\n",
    "plt.plot(xs-1, label='$x-1$')\n",
    "plt.legend()"
   ]
  },
  {
   "cell_type": "code",
   "execution_count": 23,
   "id": "e6a169c8-4566-46db-8d9a-37f8074cc4ce",
   "metadata": {
    "execution": {
     "iopub.execute_input": "2025-02-23T15:31:33.926874Z",
     "iopub.status.busy": "2025-02-23T15:31:33.926363Z",
     "iopub.status.idle": "2025-02-23T15:31:34.178497Z",
     "shell.execute_reply": "2025-02-23T15:31:34.177715Z",
     "shell.execute_reply.started": "2025-02-23T15:31:33.926831Z"
    }
   },
   "outputs": [
    {
     "name": "stdout",
     "output_type": "stream",
     "text": [
      "true tensor(0.0050)\n",
      "tensor(0.0050) tensor(0.0031) tensor(19.9963)\n",
      "tensor(0.0050) tensor(0.0021) tensor(1.4167)\n",
      "tensor(0.0050) tensor(-0.0004) tensor(1.4153)\n"
     ]
    }
   ],
   "source": [
    "import torch.distributions as dis\n",
    "p = dis.Normal(loc=0, scale=1)\n",
    "q = dis.Normal(loc=0.1, scale=1)\n",
    "x = q.sample(sample_shape=(10_000_000,))\n",
    "truekl = dis.kl_divergence(q, p)\n",
    "print(\"true\", truekl)\n",
    "logr = p.log_prob(x) - q.log_prob(x)\n",
    "k1 = -logr\n",
    "k2 = logr ** 2 / 2\n",
    "k3 = (logr.exp() - 1) - logr\n",
    "for k in (k1, k2, k3):\n",
    "    print(k.mean(), (k.mean() - truekl) / truekl, k.std() / truekl)"
   ]
  },
  {
   "cell_type": "markdown",
   "id": "3aaf8f35-b63d-4c36-baa1-9ad597ad36d6",
   "metadata": {},
   "source": [
    "### Reverse vs Forward KL"
   ]
  },
  {
   "cell_type": "markdown",
   "id": "02c0f31c-e9f2-45f5-ba22-c56928078ca6",
   "metadata": {},
   "source": [
    "- Integrate along the given axis using the composite trapezoidal rule.\n",
    "  \n",
    "```python\n",
    "def approx_kl(gmm_1, gmm_2, xs):\n",
    "    ys = gmm_1.pdf(xs) * (gmm_1.logpdf(xs) - gmm_2.logpdf(xs))\n",
    "    return np.trapz(ys, xs)\n",
    "```"
   ]
  },
  {
   "cell_type": "markdown",
   "id": "dc9457e6-de9a-4224-8cbf-ad205f135134",
   "metadata": {},
   "source": [
    "- https://www.tuananhle.co.uk/notes/reverse-forward-kl.html\n",
    "    - 从 $p$（目标分布）出发，因为它是确定的，优化的目标是参数化的 $q_\\phi$\n",
    "    - Reverse KL: Zero-Forcing/Mode-Seeking\n",
    "        - $q\\log\\frac qp$\n",
    "            - forces $q_\\phi$ to be zero where $p$ is zero\n",
    "                - zero-forcing => mode seeking (不必然）\n",
    "            - not always mode-seeking (subplot 2/3)\n",
    "    - Forward KL: Mass-Covering/Mean-Seeking\n",
    "        - $p\\log\\frac pq$\n",
    "            - there is some mass under $q_\\phi$ wherever there is some mass under $p$\n",
    "            - $q$ zero avoiding：避免出现 0；\n",
    "- 从下列的5个subplots中我们仅能得到的结论是\n",
    "    - 原始的 p 分布是单峰，或者两峰足够接近时，也即是前三个子图，此时 $kl(q\\|p)$ 与 $kl(p\\|q)$ 是接近一致的；\n",
    "    - 最后的两个子图，反向呈现出 mode seeking，前向呈现出 mean seeking；"
   ]
  },
  {
   "cell_type": "code",
   "execution_count": 5,
   "id": "75f27555-e1f7-436c-a754-a4601300c8d1",
   "metadata": {
    "execution": {
     "iopub.execute_input": "2025-02-23T14:52:30.988479Z",
     "iopub.status.busy": "2025-02-23T14:52:30.987829Z",
     "iopub.status.idle": "2025-02-23T14:52:31.001609Z",
     "shell.execute_reply": "2025-02-23T14:52:30.999304Z",
     "shell.execute_reply.started": "2025-02-23T14:52:30.988412Z"
    }
   },
   "outputs": [
    {
     "data": {
      "text/html": [
       "<img src=\"./imgs/reverse_forward_kl.png\" width=\"800\"/>"
      ],
      "text/plain": [
       "<IPython.core.display.Image object>"
      ]
     },
     "execution_count": 5,
     "metadata": {},
     "output_type": "execute_result"
    }
   ],
   "source": [
    "# https://www.tuananhle.co.uk/notes/reverse-forward-kl/reverse_forward_kl.py\n",
    "Image(url='./imgs/reverse_forward_kl.png', width=800)"
   ]
  }
 ],
 "metadata": {
  "kernelspec": {
   "display_name": "Python 3 (ipykernel)",
   "language": "python",
   "name": "python3"
  },
  "language_info": {
   "codemirror_mode": {
    "name": "ipython",
    "version": 3
   },
   "file_extension": ".py",
   "mimetype": "text/x-python",
   "name": "python",
   "nbconvert_exporter": "python",
   "pygments_lexer": "ipython3",
   "version": "3.9.0"
  }
 },
 "nbformat": 4,
 "nbformat_minor": 5
}
