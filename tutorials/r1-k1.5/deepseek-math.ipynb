{
 "cells": [
  {
   "cell_type": "code",
   "execution_count": 1,
   "id": "e01148ef-d591-48c1-85ae-8069fab4a3e3",
   "metadata": {
    "execution": {
     "iopub.execute_input": "2025-01-29T03:20:18.218862Z",
     "iopub.status.busy": "2025-01-29T03:20:18.218277Z",
     "iopub.status.idle": "2025-01-29T03:20:18.228734Z",
     "shell.execute_reply": "2025-01-29T03:20:18.227044Z",
     "shell.execute_reply.started": "2025-01-29T03:20:18.218811Z"
    }
   },
   "outputs": [],
   "source": [
    "from IPython.display import Image"
   ]
  },
  {
   "cell_type": "markdown",
   "id": "2bf769ed-f82f-4c1b-b293-7ab23c4ed48a",
   "metadata": {},
   "source": [
    "- https://github.com/deepseek-ai/DeepSeek-Math"
   ]
  },
  {
   "cell_type": "markdown",
   "id": "76bfe60f-7a70-4df4-b39a-653c099f78ef",
   "metadata": {},
   "source": [
    "## basics"
   ]
  },
  {
   "cell_type": "markdown",
   "id": "bb1355f3-d5fd-41f1-aeb8-38b4a76dcfb0",
   "metadata": {},
   "source": [
    "- Data Collection and Decontamination: **revelant** data at scale\n",
    "    - we create the DeepSeekMath Corpus, a large-scale high-quality pre-training corpus comprising 120B math tokens.\n",
    "    - iterative pipeline;\n",
    "    - seed corpus\n",
    "        - a small but high-quality collection of math-related dataset\n",
    "        - OpenWebMath\n",
    "    - train a FastText model: classifier\n",
    "        - revelant or irrelevant\n",
    "    - Discover math-related domains\n",
    "        - After the first iteration of data collection, numerous mathematical web pages remain uncollected,  ...\n",
    "        - 扩召回；\n",
    "- GRPO"
   ]
  },
  {
   "cell_type": "code",
   "execution_count": 2,
   "id": "6162e780-8f33-44b6-917e-41107468e30a",
   "metadata": {
    "execution": {
     "iopub.execute_input": "2025-01-29T03:20:44.777682Z",
     "iopub.status.busy": "2025-01-29T03:20:44.777089Z",
     "iopub.status.idle": "2025-01-29T03:20:44.795255Z",
     "shell.execute_reply": "2025-01-29T03:20:44.793008Z",
     "shell.execute_reply.started": "2025-01-29T03:20:44.777635Z"
    }
   },
   "outputs": [
    {
     "data": {
      "text/html": [
       "<img src=\"./imgs/ds-math-data.png\" width=\"400\"/>"
      ],
      "text/plain": [
       "<IPython.core.display.Image object>"
      ]
     },
     "execution_count": 2,
     "metadata": {},
     "output_type": "execute_result"
    }
   ],
   "source": [
    "Image(url='./imgs/ds-math-data.png', width=400)"
   ]
  },
  {
   "cell_type": "markdown",
   "id": "0f530011-302b-4f90-98f3-0e75d1bfb133",
   "metadata": {},
   "source": [
    "## GRPO"
   ]
  },
  {
   "cell_type": "markdown",
   "id": "01b139a3-98be-4c9c-9030-e0408445d566",
   "metadata": {},
   "source": [
    "- 不需要 value model，释放内存和计算；"
   ]
  }
 ],
 "metadata": {
  "kernelspec": {
   "display_name": "Python 3 (ipykernel)",
   "language": "python",
   "name": "python3"
  },
  "language_info": {
   "codemirror_mode": {
    "name": "ipython",
    "version": 3
   },
   "file_extension": ".py",
   "mimetype": "text/x-python",
   "name": "python",
   "nbconvert_exporter": "python",
   "pygments_lexer": "ipython3",
   "version": "3.10.13"
  }
 },
 "nbformat": 4,
 "nbformat_minor": 5
}
