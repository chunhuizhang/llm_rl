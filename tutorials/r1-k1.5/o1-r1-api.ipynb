{
 "cells": [
  {
   "cell_type": "code",
   "execution_count": 1,
   "id": "b6ba9168-b88a-4496-a177-136e18cb6ec8",
   "metadata": {
    "execution": {
     "iopub.execute_input": "2025-02-05T14:24:48.687358Z",
     "iopub.status.busy": "2025-02-05T14:24:48.686702Z",
     "iopub.status.idle": "2025-02-05T14:24:48.696852Z",
     "shell.execute_reply": "2025-02-05T14:24:48.695005Z",
     "shell.execute_reply.started": "2025-02-05T14:24:48.687308Z"
    }
   },
   "outputs": [],
   "source": [
    "from IPython.display import Image"
   ]
  },
  {
   "cell_type": "markdown",
   "id": "2f12ae7b-57eb-4808-907f-938703a36575",
   "metadata": {},
   "source": [
    "### reasoning content 不计入 context"
   ]
  },
  {
   "cell_type": "markdown",
   "id": "45a71d2e-9285-45f1-8e84-8aad952a4aef",
   "metadata": {},
   "source": [
    "https://api-docs.deepseek.com/zh-cn/guides/reasoning_model\n",
    "- 在每一轮对话过程中，模型会输出思维链内容（reasoning_content）和最终回答（content）。在下一轮对话中，之前轮输出的思维链内容不会被拼接到上下文中，如下图所示："
   ]
  },
  {
   "cell_type": "code",
   "execution_count": 3,
   "id": "b9c36fad-4a0c-400f-be23-0194e22cdf6d",
   "metadata": {
    "execution": {
     "iopub.execute_input": "2025-02-05T14:28:31.623951Z",
     "iopub.status.busy": "2025-02-05T14:28:31.623308Z",
     "iopub.status.idle": "2025-02-05T14:28:31.636857Z",
     "shell.execute_reply": "2025-02-05T14:28:31.634766Z",
     "shell.execute_reply.started": "2025-02-05T14:28:31.623904Z"
    },
    "scrolled": true
   },
   "outputs": [
    {
     "data": {
      "text/html": [
       "<img src=\"https://dp-cdn-deepseek.obs.cn-east-3.myhuaweicloud.com/api-docs/deepseek_r1_multiround_example_cn.png\" width=\"300\"/>"
      ],
      "text/plain": [
       "<IPython.core.display.Image object>"
      ]
     },
     "execution_count": 3,
     "metadata": {},
     "output_type": "execute_result"
    }
   ],
   "source": [
    "Image(url='https://dp-cdn-deepseek.obs.cn-east-3.myhuaweicloud.com/api-docs/deepseek_r1_multiround_example_cn.png', width=300)"
   ]
  },
  {
   "cell_type": "markdown",
   "id": "467d9032-cc88-4f11-8e5c-b5b5cb054655",
   "metadata": {},
   "source": [
    "https://platform.openai.com/docs/guides/reasoning\n",
    "- Reasoning models introduce reasoning tokens in addition to input and output tokens. The models use these reasoning tokens to \"think\", breaking down their understanding of the prompt and considering multiple approaches to generating a response. After generating reasoning tokens, the model produces an answer as visible completion tokens, and discards the reasoning tokens from its context."
   ]
  },
  {
   "cell_type": "code",
   "execution_count": 4,
   "id": "2a43c3c3-85eb-4c78-a0b8-b00b3deb58c3",
   "metadata": {
    "execution": {
     "iopub.execute_input": "2025-02-05T14:30:08.993051Z",
     "iopub.status.busy": "2025-02-05T14:30:08.992414Z",
     "iopub.status.idle": "2025-02-05T14:30:09.004550Z",
     "shell.execute_reply": "2025-02-05T14:30:09.002407Z",
     "shell.execute_reply.started": "2025-02-05T14:30:08.993004Z"
    }
   },
   "outputs": [
    {
     "data": {
      "text/html": [
       "<img src=\"https://cdn.openai.com/API/images/guides/reasoning_tokens.png\" width=\"300\"/>"
      ],
      "text/plain": [
       "<IPython.core.display.Image object>"
      ]
     },
     "execution_count": 4,
     "metadata": {},
     "output_type": "execute_result"
    }
   ],
   "source": [
    "Image(url='https://cdn.openai.com/API/images/guides/reasoning_tokens.png', width=300)"
   ]
  }
 ],
 "metadata": {
  "kernelspec": {
   "display_name": "Python 3 (ipykernel)",
   "language": "python",
   "name": "python3"
  },
  "language_info": {
   "codemirror_mode": {
    "name": "ipython",
    "version": 3
   },
   "file_extension": ".py",
   "mimetype": "text/x-python",
   "name": "python",
   "nbconvert_exporter": "python",
   "pygments_lexer": "ipython3",
   "version": "3.10.13"
  }
 },
 "nbformat": 4,
 "nbformat_minor": 5
}
