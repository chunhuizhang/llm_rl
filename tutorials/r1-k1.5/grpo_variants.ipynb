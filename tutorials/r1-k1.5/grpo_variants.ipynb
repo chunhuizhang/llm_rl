{
 "cells": [
  {
   "cell_type": "code",
   "execution_count": 1,
   "id": "af169d6e-0f50-4239-afc3-882d0a2eee48",
   "metadata": {
    "execution": {
     "iopub.execute_input": "2025-04-12T04:40:24.497190Z",
     "iopub.status.busy": "2025-04-12T04:40:24.496462Z",
     "iopub.status.idle": "2025-04-12T04:40:24.508125Z",
     "shell.execute_reply": "2025-04-12T04:40:24.505680Z",
     "shell.execute_reply.started": "2025-04-12T04:40:24.497123Z"
    }
   },
   "outputs": [],
   "source": [
    "from IPython.display import Image"
   ]
  },
  {
   "cell_type": "code",
   "execution_count": 2,
   "id": "b4114654-9fc9-40ef-a2a5-c23c34e398a3",
   "metadata": {
    "execution": {
     "iopub.execute_input": "2025-04-12T04:40:43.280238Z",
     "iopub.status.busy": "2025-04-12T04:40:43.279542Z",
     "iopub.status.idle": "2025-04-12T04:40:43.301309Z",
     "shell.execute_reply": "2025-04-12T04:40:43.299084Z",
     "shell.execute_reply.started": "2025-04-12T04:40:43.280171Z"
    }
   },
   "outputs": [
    {
     "data": {
      "text/html": [
       "<img src=\"./imgs/grpo_highlights.png\" width=\"400\"/>"
      ],
      "text/plain": [
       "<IPython.core.display.Image object>"
      ]
     },
     "execution_count": 2,
     "metadata": {},
     "output_type": "execute_result"
    }
   ],
   "source": [
    "Image(url='./imgs/grpo_highlights.png', width=400)"
   ]
  },
  {
   "cell_type": "markdown",
   "id": "4baecf3b-214f-41fd-a4f3-abc37cb0fdb1",
   "metadata": {},
   "source": [
    "## (sequence) length bias in RL?"
   ]
  },
  {
   "cell_type": "markdown",
   "id": "9727a501-7643-4be1-a320-c8625522502b",
   "metadata": {},
   "source": [
    "> Implementation + data > algorithm\n",
    "\n",
    "Three different ways to sum loss. (Setup: G is a group of completions per a question, each response has o tokens.)"
   ]
  },
  {
   "cell_type": "code",
   "execution_count": 3,
   "id": "58830d96-2c47-46ce-bde7-994c88dee4e5",
   "metadata": {
    "execution": {
     "iopub.execute_input": "2025-04-12T04:44:59.841428Z",
     "iopub.status.busy": "2025-04-12T04:44:59.840739Z",
     "iopub.status.idle": "2025-04-12T04:44:59.855263Z",
     "shell.execute_reply": "2025-04-12T04:44:59.852925Z",
     "shell.execute_reply.started": "2025-04-12T04:44:59.841360Z"
    }
   },
   "outputs": [
    {
     "data": {
      "text/html": [
       "<img src=\"./imgs/length_bias.png\" width=\"400\"/>"
      ],
      "text/plain": [
       "<IPython.core.display.Image object>"
      ]
     },
     "execution_count": 3,
     "metadata": {},
     "output_type": "execute_result"
    }
   ],
   "source": [
    "Image(url='./imgs/length_bias.png', width=400)"
   ]
  },
  {
   "cell_type": "code",
   "execution_count": null,
   "id": "1b19897f-83dd-482e-abc3-a3e59d9457a4",
   "metadata": {},
   "outputs": [],
   "source": []
  }
 ],
 "metadata": {
  "kernelspec": {
   "display_name": "verl",
   "language": "python",
   "name": "verl"
  },
  "language_info": {
   "codemirror_mode": {
    "name": "ipython",
    "version": 3
   },
   "file_extension": ".py",
   "mimetype": "text/x-python",
   "name": "python",
   "nbconvert_exporter": "python",
   "pygments_lexer": "ipython3",
   "version": "3.9.0"
  }
 },
 "nbformat": 4,
 "nbformat_minor": 5
}
