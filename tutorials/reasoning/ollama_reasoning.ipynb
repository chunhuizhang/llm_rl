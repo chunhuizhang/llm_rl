{
 "cells": [
  {
   "cell_type": "markdown",
   "id": "017a93ac-90a9-4ee4-96d8-c88263fc4304",
   "metadata": {},
   "source": [
    "- https://github.com/bklieger-groq/g1\n",
    "- 2 classical query\n",
    "    - Which is larger, 0.9 or 0.11?\n",
    "    - How many Rs are in strawberry?"
   ]
  },
  {
   "cell_type": "markdown",
   "id": "f482e66f-760f-4d5e-a400-f299f4245843",
   "metadata": {},
   "source": [
    "### ollama (Structured outputs)"
   ]
  },
  {
   "cell_type": "markdown",
   "id": "aa3c7f23-af8a-406f-9001-49e7076dcd34",
   "metadata": {},
   "source": [
    "- 下载最新版 ollama，然后 `pip install -U ollama`\n",
    "    - https://ollama.com/blog/structured-outputs\n",
    "- 资源释放：\n",
    "    - 还包括 `ollama run llama3.1` 对话结束之后输入 `/bye` 还是不会自动资源释放；\n",
    "    - `curl http://localhost:11434/api/generate -d '{\"model\": \"qwen2.5\", \"keep_alive\": 0}'`"
   ]
  },
  {
   "cell_type": "markdown",
   "id": "2e416d46-0039-4fcb-9560-f2cbc6da6d3d",
   "metadata": {},
   "source": [
    "### dynamic CoT (o1-like CoT)"
   ]
  },
  {
   "cell_type": "markdown",
   "id": "36429db9-1242-47e6-a9a6-8b1eb6ad3de3",
   "metadata": {},
   "source": [
    "```\n",
    "\"\"\"You are an expert AI assistant that explains your reasoning step by step. For each step, provide a title that describes what you're doing in that step, along with the content. Decide if you need another step or if you're ready to give the final answer. Respond in JSON format with 'title', 'content', and 'next_action' (either 'continue' or 'final_answer') keys. USE AS MANY REASONING STEPS AS POSSIBLE. AT LEAST 3. BE AWARE OF YOUR LIMITATIONS AS AN LLM AND WHAT YOU CAN AND CANNOT DO. IN YOUR REASONING, INCLUDE EXPLORATION OF ALTERNATIVE ANSWERS. CONSIDER YOU MAY BE WRONG, AND IF YOU ARE WRONG IN YOUR REASONING, WHERE IT WOULD BE. FULLY TEST ALL OTHER POSSIBILITIES. YOU CAN BE WRONG. WHEN YOU SAY YOU ARE RE-EXAMINING, ACTUALLY RE-EXAMINE, AND USE ANOTHER APPROACH TO DO SO. DO NOT JUST SAY YOU ARE RE-EXAMINING. USE AT LEAST 3 METHODS TO DERIVE THE ANSWER. USE BEST PRACTICES.\n",
    "\n",
    "Example of a valid JSON response:\n",
    "```json\n",
    "{\n",
    "    \"title\": \"Identifying Key Information\",\n",
    "    \"content\": \"To begin solving this problem, we need to carefully examine the given information and identify the crucial elements that will guide our solution process. This involves...\",\n",
    "    \"next_action\": \"continue\"\n",
    "}```\n",
    "\"\"\"\n",
    "```\n",
    "\n",
    "- messages 是对话式的\n",
    "    - system\n",
    "    - user (query)\n",
    "    - assistant (植入的)\n",
    "    - assistant (step by step)\n",
    "    - assistant (step by step)\n",
    "    - ....\n",
    "- 不断地追加进 messages，实现 dynamic 的 reasoning process"
   ]
  },
  {
   "cell_type": "markdown",
   "id": "aa8a83dd-a422-43f5-a925-6d92addb39a1",
   "metadata": {},
   "source": [
    "### streamlit run"
   ]
  },
  {
   "cell_type": "markdown",
   "id": "fc248b6e-d9a1-4358-9344-de61e7494f14",
   "metadata": {},
   "source": [
    "- 命令行执行如下命令\n",
    "\n",
    "```\n",
    "streamlit run struct_llama_reasoning_app.py\n",
    "```"
   ]
  }
 ],
 "metadata": {
  "kernelspec": {
   "display_name": "Python 3 (ipykernel)",
   "language": "python",
   "name": "python3"
  },
  "language_info": {
   "codemirror_mode": {
    "name": "ipython",
    "version": 3
   },
   "file_extension": ".py",
   "mimetype": "text/x-python",
   "name": "python",
   "nbconvert_exporter": "python",
   "pygments_lexer": "ipython3",
   "version": "3.10.13"
  }
 },
 "nbformat": 4,
 "nbformat_minor": 5
}
