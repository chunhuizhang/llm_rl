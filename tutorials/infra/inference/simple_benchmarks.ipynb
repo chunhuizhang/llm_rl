{
 "cells": [
  {
   "cell_type": "markdown",
   "id": "5c41c14c-cee6-4351-82b7-89914f28d5e3",
   "metadata": {},
   "source": [
    "### evaluate pipeline & exp log"
   ]
  },
  {
   "cell_type": "markdown",
   "id": "353b7073-c55e-4cbb-b490-d4acd11ec3ee",
   "metadata": {},
   "source": [
    "- baseline vs. new model\n",
    "    - qwen2.5-7B-Instruct on gsm8k test dataset\n",
    "    - report 85.4%;\n",
    "        - https://arxiv.org/pdf/2412.15115\n",
    "- new model 训练用数据集，及超参等；\n",
    "- evaluate metrics\n",
    "    - accuracy\n",
    "- 实验前，列好表，留好空，跑实验就是填空的过程；"
   ]
  },
  {
   "cell_type": "markdown",
   "id": "fd3313ee-3ab9-4d85-be4d-af50dd21b582",
   "metadata": {},
   "source": [
    "### inference test"
   ]
  },
  {
   "cell_type": "markdown",
   "id": "565547e4-58ab-44ef-a7e7-8739c3f2e6fb",
   "metadata": {},
   "source": [
    "- `Qwen/Qwen2.5-7B-Instruct` on `gsm8k` test set, on a dual 4090s:\n",
    "\n",
    "```\n",
    "# 单卡\n",
    "python vllm_tp_dp.py --mode dp --num_gpus 1\n",
    "# dp = 2\n",
    "python vllm_tp_dp.py --mode dp --num_gpus 2\n",
    "# tp = 2\n",
    "python vllm_tp_dp.py --mode tp --num_gpus 2\n",
    "\n",
    "# 单卡\n",
    "python sglang_tp_dp.py --mode dp --num_gpus 1\n",
    "# dp = 2\n",
    "python sglang_tp_dp.py --mode dp --num_gpus 2\n",
    "# tp = 2\n",
    "python sglang_tp_dp.py --mode tp --num_gpus 2\n",
    "\n",
    "```\n",
    "\n",
    "|        |      | time(s) | accuracy |\n",
    "|--------|------|------|----------|\n",
    "| vllm   | 单卡  |   115.24   |  1034.0/1319 = 0.7839  |\n",
    "| vllm   | dp=2 |   80.88    |  1031.0/1319=0.7817  |\n",
    "| vllm   | tp=2 |   132.45   | 1034.0/1319 = 0.7839 |\n",
    "| sglang | 单卡  |   120.17   | 1062.0/1319 = 0.8051 |\n",
    "| sglang | dp=2 |   82.96    | 1069.0/1319 = 0.8105 |\n",
    "| sglang | tp=2 |   91.41    | 1058.0/1319 = 0.8021 |"
   ]
  },
  {
   "cell_type": "markdown",
   "id": "080b8840-0f20-4bcf-a119-6f5bcb421bad",
   "metadata": {},
   "source": [
    "- dp & tp\n",
    "    - dp size: 就是模型复制的次数（model replicas）\n",
    "    - num_gpus = dp_size x tp_size\n",
    "- vllm\n",
    "    - https://docs.vllm.ai/en/latest/serving/offline_inference.html\n",
    "    - dual 4090s (不支持 p2p access)\n",
    "        - `# GPU blocks: 25626, # CPU blocks: 9362`\n",
    "        ```\n",
    "        INFO 03-21 20:07:55 distributed_gpu_executor.py:57] # GPU blocks: 25626, # CPU blocks: 9362\n",
    "        INFO 03-21 20:07:55 distributed_gpu_executor.py:61] Maximum concurrency for 32768 tokens per request: 12.51x-\n",
    "        ```\n",
    "        - 25626 * 16 / 32768 = 12.51x\n",
    "- sglang\n",
    "    - `python3 -m sglang.check_env`\n",
    "    - https://docs.sglang.ai/backend/offline_engine_api.html\n",
    "    - dp\n",
    "        - sglang::scheduler_DP0_TP0\n",
    "        - sglang::scheduler_DP1_TP0\n",
    "    - tp\n",
    "        - sglang::scheduler_TP0\n",
    "        - sglang::scheduler_TP1"
   ]
  }
 ],
 "metadata": {
  "kernelspec": {
   "display_name": "verl",
   "language": "python",
   "name": "verl"
  },
  "language_info": {
   "codemirror_mode": {
    "name": "ipython",
    "version": 3
   },
   "file_extension": ".py",
   "mimetype": "text/x-python",
   "name": "python",
   "nbconvert_exporter": "python",
   "pygments_lexer": "ipython3",
   "version": "3.9.0"
  }
 },
 "nbformat": 4,
 "nbformat_minor": 5
}
