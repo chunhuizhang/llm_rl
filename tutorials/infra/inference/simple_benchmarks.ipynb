{
 "cells": [
  {
   "cell_type": "markdown",
   "id": "080b8840-0f20-4bcf-a119-6f5bcb421bad",
   "metadata": {},
   "source": [
    "- dual 4090s\n",
    "    - `# GPU blocks: 25626, # CPU blocks: 9362`\n",
    "- dp size: 就是模型复制的次数（model replicas）"
   ]
  }
 ],
 "metadata": {
  "kernelspec": {
   "display_name": "verl",
   "language": "python",
   "name": "verl"
  },
  "language_info": {
   "codemirror_mode": {
    "name": "ipython",
    "version": 3
   },
   "file_extension": ".py",
   "mimetype": "text/x-python",
   "name": "python",
   "nbconvert_exporter": "python",
   "pygments_lexer": "ipython3",
   "version": "3.9.0"
  }
 },
 "nbformat": 4,
 "nbformat_minor": 5
}
