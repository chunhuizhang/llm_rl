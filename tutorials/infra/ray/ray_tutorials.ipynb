{
 "cells": [
  {
   "cell_type": "markdown",
   "id": "7bfff8e2-44b1-44f1-9b0b-894f9db39355",
   "metadata": {},
   "source": [
    "- https://zhuanlan.zhihu.com/p/26833089345\n",
    "- `ray start --head --num-cpus=4`\n",
    "    - `--num-cpus`: cpu 进程的数量"
   ]
  },
  {
   "cell_type": "code",
   "execution_count": 8,
   "id": "04ea0ae2-3359-477a-a06d-ad79836306af",
   "metadata": {
    "execution": {
     "iopub.execute_input": "2025-03-16T10:55:21.223776Z",
     "iopub.status.busy": "2025-03-16T10:55:21.223068Z",
     "iopub.status.idle": "2025-03-16T10:55:21.235092Z",
     "shell.execute_reply": "2025-03-16T10:55:21.232849Z",
     "shell.execute_reply.started": "2025-03-16T10:55:21.223709Z"
    }
   },
   "outputs": [],
   "source": [
    "import os\n",
    "import ray\n",
    "import torch\n",
    "import warnings\n",
    "warnings.filterwarnings('ignore')\n",
    "import time"
   ]
  },
  {
   "cell_type": "code",
   "execution_count": 6,
   "id": "422adb2d-d6e0-41f8-8ba9-fe29a703926f",
   "metadata": {
    "execution": {
     "iopub.execute_input": "2025-03-16T10:54:48.516384Z",
     "iopub.status.busy": "2025-03-16T10:54:48.515673Z",
     "iopub.status.idle": "2025-03-16T10:54:51.603222Z",
     "shell.execute_reply": "2025-03-16T10:54:51.601745Z",
     "shell.execute_reply.started": "2025-03-16T10:54:48.516316Z"
    }
   },
   "outputs": [
    {
     "name": "stderr",
     "output_type": "stream",
     "text": [
      "2025-03-16 18:54:51,022\tINFO worker.py:1832 -- Started a local Ray instance. View the dashboard at \u001b[1m\u001b[32m127.0.0.1:8265 \u001b[39m\u001b[22m\n"
     ]
    },
    {
     "data": {
      "application/vnd.jupyter.widget-view+json": {
       "model_id": "5070d0416f5842afa5658a1bc72cfe1b",
       "version_major": 2,
       "version_minor": 0
      },
      "text/html": [
       "<div class=\"lm-Widget p-Widget lm-Panel p-Panel jp-Cell-outputWrapper\">\n",
       "    <div style=\"margin-left: 50px;display: flex;flex-direction: row;align-items: center\">\n",
       "        <div class=\"jp-RenderedHTMLCommon\" style=\"display: flex; flex-direction: row;\">\n",
       "  <svg viewBox=\"0 0 567 224\" fill=\"none\" xmlns=\"http://www.w3.org/2000/svg\" style=\"height: 3em;\">\n",
       "    <g clip-path=\"url(#clip0_4338_178347)\">\n",
       "        <path d=\"M341.29 165.561H355.29L330.13 129.051C345.63 123.991 354.21 112.051 354.21 94.2307C354.21 71.3707 338.72 58.1807 311.88 58.1807H271V165.561H283.27V131.661H311.8C314.25 131.661 316.71 131.501 319.01 131.351L341.25 165.561H341.29ZM283.29 119.851V70.0007H311.82C331.3 70.0007 342.34 78.2907 342.34 94.5507C342.34 111.271 331.34 119.861 311.82 119.861L283.29 119.851ZM451.4 138.411L463.4 165.561H476.74L428.74 58.1807H416L367.83 165.561H380.83L392.83 138.411H451.4ZM446.19 126.601H398L422 72.1407L446.24 126.601H446.19ZM526.11 128.741L566.91 58.1807H554.35L519.99 114.181L485.17 58.1807H472.44L514.01 129.181V165.541H526.13V128.741H526.11Z\" fill=\"var(--jp-ui-font-color0)\"/>\n",
       "        <path d=\"M82.35 104.44C84.0187 97.8827 87.8248 92.0678 93.1671 87.9146C98.5094 83.7614 105.083 81.5067 111.85 81.5067C118.617 81.5067 125.191 83.7614 130.533 87.9146C135.875 92.0678 139.681 97.8827 141.35 104.44H163.75C164.476 101.562 165.622 98.8057 167.15 96.2605L127.45 56.5605C121.071 60.3522 113.526 61.6823 106.235 60.3005C98.9443 58.9187 92.4094 54.9203 87.8602 49.0574C83.3109 43.1946 81.0609 35.8714 81.5332 28.4656C82.0056 21.0599 85.1679 14.0819 90.4252 8.8446C95.6824 3.60726 102.672 0.471508 110.08 0.0272655C117.487 -0.416977 124.802 1.86091 130.647 6.4324C136.493 11.0039 140.467 17.5539 141.821 24.8501C143.175 32.1463 141.816 39.6859 138 46.0505L177.69 85.7505C182.31 82.9877 187.58 81.4995 192.962 81.4375C198.345 81.3755 203.648 82.742 208.33 85.3976C213.012 88.0532 216.907 91.9029 219.616 96.5544C222.326 101.206 223.753 106.492 223.753 111.875C223.753 117.258 222.326 122.545 219.616 127.197C216.907 131.848 213.012 135.698 208.33 138.353C203.648 141.009 198.345 142.375 192.962 142.313C187.58 142.251 182.31 140.763 177.69 138L138 177.7C141.808 184.071 143.155 191.614 141.79 198.91C140.424 206.205 136.44 212.75 130.585 217.313C124.731 221.875 117.412 224.141 110.004 223.683C102.596 223.226 95.6103 220.077 90.3621 214.828C85.1139 209.58 81.9647 202.595 81.5072 195.187C81.0497 187.779 83.3154 180.459 87.878 174.605C92.4405 168.751 98.9853 164.766 106.281 163.401C113.576 162.035 121.119 163.383 127.49 167.19L167.19 127.49C165.664 124.941 164.518 122.182 163.79 119.3H141.39C139.721 125.858 135.915 131.673 130.573 135.826C125.231 139.98 118.657 142.234 111.89 142.234C105.123 142.234 98.5494 139.98 93.2071 135.826C87.8648 131.673 84.0587 125.858 82.39 119.3H60C58.1878 126.495 53.8086 132.78 47.6863 136.971C41.5641 141.163 34.1211 142.972 26.7579 142.059C19.3947 141.146 12.6191 137.574 7.70605 132.014C2.79302 126.454 0.0813599 119.29 0.0813599 111.87C0.0813599 104.451 2.79302 97.2871 7.70605 91.7272C12.6191 86.1673 19.3947 82.5947 26.7579 81.6817C34.1211 80.7686 41.5641 82.5781 47.6863 86.7696C53.8086 90.9611 58.1878 97.2456 60 104.44H82.35ZM100.86 204.32C103.407 206.868 106.759 208.453 110.345 208.806C113.93 209.159 117.527 208.258 120.522 206.256C123.517 204.254 125.725 201.276 126.771 197.828C127.816 194.38 127.633 190.677 126.253 187.349C124.874 184.021 122.383 181.274 119.205 179.577C116.027 177.88 112.359 177.337 108.826 178.042C105.293 178.746 102.113 180.654 99.8291 183.44C97.5451 186.226 96.2979 189.718 96.3 193.32C96.2985 195.364 96.7006 197.388 97.4831 199.275C98.2656 201.163 99.4132 202.877 100.86 204.32ZM204.32 122.88C206.868 120.333 208.453 116.981 208.806 113.396C209.159 109.811 208.258 106.214 206.256 103.219C204.254 100.223 201.275 98.0151 197.827 96.97C194.38 95.9249 190.676 96.1077 187.348 97.4873C184.02 98.8669 181.274 101.358 179.577 104.536C177.879 107.714 177.337 111.382 178.041 114.915C178.746 118.448 180.653 121.627 183.439 123.911C186.226 126.195 189.717 127.443 193.32 127.44C195.364 127.443 197.388 127.042 199.275 126.259C201.163 125.476 202.878 124.328 204.32 122.88ZM122.88 19.4205C120.333 16.8729 116.981 15.2876 113.395 14.9347C109.81 14.5817 106.213 15.483 103.218 17.4849C100.223 19.4868 98.0146 22.4654 96.9696 25.9131C95.9245 29.3608 96.1073 33.0642 97.4869 36.3922C98.8665 39.7202 101.358 42.4668 104.535 44.1639C107.713 45.861 111.381 46.4036 114.914 45.6992C118.447 44.9949 121.627 43.0871 123.911 40.301C126.195 37.515 127.442 34.0231 127.44 30.4205C127.44 28.3772 127.038 26.3539 126.255 24.4664C125.473 22.5788 124.326 20.8642 122.88 19.4205ZM19.42 100.86C16.8725 103.408 15.2872 106.76 14.9342 110.345C14.5813 113.93 15.4826 117.527 17.4844 120.522C19.4863 123.518 22.4649 125.726 25.9127 126.771C29.3604 127.816 33.0638 127.633 36.3918 126.254C39.7198 124.874 42.4664 122.383 44.1635 119.205C45.8606 116.027 46.4032 112.359 45.6988 108.826C44.9944 105.293 43.0866 102.114 40.3006 99.8296C37.5145 97.5455 34.0227 96.2983 30.42 96.3005C26.2938 96.3018 22.337 97.9421 19.42 100.86ZM100.86 100.86C98.3125 103.408 96.7272 106.76 96.3742 110.345C96.0213 113.93 96.9226 117.527 98.9244 120.522C100.926 123.518 103.905 125.726 107.353 126.771C110.8 127.816 114.504 127.633 117.832 126.254C121.16 124.874 123.906 122.383 125.604 119.205C127.301 116.027 127.843 112.359 127.139 108.826C126.434 105.293 124.527 102.114 121.741 99.8296C118.955 97.5455 115.463 96.2983 111.86 96.3005C109.817 96.299 107.793 96.701 105.905 97.4835C104.018 98.2661 102.303 99.4136 100.86 100.86Z\" fill=\"#00AEEF\"/>\n",
       "    </g>\n",
       "    <defs>\n",
       "        <clipPath id=\"clip0_4338_178347\">\n",
       "            <rect width=\"566.93\" height=\"223.75\" fill=\"white\"/>\n",
       "        </clipPath>\n",
       "    </defs>\n",
       "  </svg>\n",
       "</div>\n",
       "\n",
       "        <table class=\"jp-RenderedHTMLCommon\" style=\"border-collapse: collapse;color: var(--jp-ui-font-color1);font-size: var(--jp-ui-font-size1);\">\n",
       "    <tr>\n",
       "        <td style=\"text-align: left\"><b>Python version:</b></td>\n",
       "        <td style=\"text-align: left\"><b>3.9.0</b></td>\n",
       "    </tr>\n",
       "    <tr>\n",
       "        <td style=\"text-align: left\"><b>Ray version:</b></td>\n",
       "        <td style=\"text-align: left\"><b>2.42.0</b></td>\n",
       "    </tr>\n",
       "    <tr>\n",
       "    <td style=\"text-align: left\"><b>Dashboard:</b></td>\n",
       "    <td style=\"text-align: left\"><b><a href=\"http://127.0.0.1:8265\" target=\"_blank\">http://127.0.0.1:8265</a></b></td>\n",
       "</tr>\n",
       "\n",
       "</table>\n",
       "\n",
       "    </div>\n",
       "</div>\n"
      ],
      "text/plain": [
       "RayContext(dashboard_url='127.0.0.1:8265', python_version='3.9.0', ray_version='2.42.0', ray_commit='637116a090c052d061af5ba3bef8a467c8c3fc25')"
      ]
     },
     "execution_count": 6,
     "metadata": {},
     "output_type": "execute_result"
    },
    {
     "name": "stdout",
     "output_type": "stream",
     "text": [
      "\u001b[33m(raylet)\u001b[0m The autoscaler failed with the following error:\n",
      "Terminated with signal 15\n",
      "  File \"/home/whaow/anaconda3/envs/verl/lib/python3.9/site-packages/ray/autoscaler/_private/monitor.py\", line 719, in <module>\n",
      "    monitor.run()\n",
      "  File \"/home/whaow/anaconda3/envs/verl/lib/python3.9/site-packages/ray/autoscaler/_private/monitor.py\", line 604, in run\n",
      "    self._run()\n",
      "  File \"/home/whaow/anaconda3/envs/verl/lib/python3.9/site-packages/ray/autoscaler/_private/monitor.py\", line 458, in _run\n",
      "    time.sleep(AUTOSCALER_UPDATE_INTERVAL_S)\n",
      "\n"
     ]
    }
   ],
   "source": [
    "ray.init(num_cpus=4)"
   ]
  },
  {
   "cell_type": "code",
   "execution_count": 10,
   "id": "5cfcf6f1-ced3-4236-994f-437006f8e28e",
   "metadata": {
    "execution": {
     "iopub.execute_input": "2025-03-16T10:56:07.762791Z",
     "iopub.status.busy": "2025-03-16T10:56:07.762036Z",
     "iopub.status.idle": "2025-03-16T10:56:13.831773Z",
     "shell.execute_reply": "2025-03-16T10:56:13.829372Z",
     "shell.execute_reply.started": "2025-03-16T10:56:07.762723Z"
    }
   },
   "outputs": [
    {
     "name": "stdout",
     "output_type": "stream",
     "text": [
      "[0, 1, 4, 9, 16, 25, 36, 49, 64, 81]\n"
     ]
    }
   ],
   "source": [
    "@ray.remote\n",
    "def example_task(x):\n",
    "    time.sleep(2)\n",
    "    return x * x\n",
    "\n",
    "# 使用 ray.get 确保任务触发\n",
    "results = ray.get([example_task.remote(i) for i in range(10)])\n",
    "print(results)"
   ]
  },
  {
   "cell_type": "code",
   "execution_count": 11,
   "id": "0f30364a-c12a-425f-b6c8-eaeac634ffbc",
   "metadata": {
    "execution": {
     "iopub.execute_input": "2025-03-16T10:56:27.286306Z",
     "iopub.status.busy": "2025-03-16T10:56:27.285543Z",
     "iopub.status.idle": "2025-03-16T10:56:27.295649Z",
     "shell.execute_reply": "2025-03-16T10:56:27.293153Z",
     "shell.execute_reply.started": "2025-03-16T10:56:27.286241Z"
    }
   },
   "outputs": [],
   "source": [
    "# ray.shutdown()"
   ]
  },
  {
   "cell_type": "markdown",
   "id": "745bc436-e323-44fa-8338-cefcfdf57105",
   "metadata": {},
   "source": [
    "### basics"
   ]
  },
  {
   "cell_type": "markdown",
   "id": "8b3c3baa-5674-4266-aaf5-dea371584a6d",
   "metadata": {},
   "source": [
    "- Tasks: remote (stateless) functions；Actors: remote classes\n",
    "- 我们可以调用这个 Task/Actor 的 remote 方法，按照调度策略将这个 Task/Actor 分配到某个节点的进程池上运行或初始化。对于 driver 来说，分发出去的任务是异步运行的，因此还需要通过 ray.get去获取异步运行结果。\n",
    "- 如下例：\n",
    "    - 一个 Actor 中可以 remote 创建和调用另一个 Actor。"
   ]
  },
  {
   "cell_type": "code",
   "execution_count": 23,
   "id": "1bf29c16-7dcd-40bd-aba4-76bec32d421e",
   "metadata": {
    "execution": {
     "iopub.execute_input": "2025-03-05T16:49:25.881287Z",
     "iopub.status.busy": "2025-03-05T16:49:25.880616Z",
     "iopub.status.idle": "2025-03-05T16:49:25.897068Z",
     "shell.execute_reply": "2025-03-05T16:49:25.894725Z",
     "shell.execute_reply.started": "2025-03-05T16:49:25.881240Z"
    }
   },
   "outputs": [],
   "source": [
    "@ray.remote\n",
    "class ChildActor:\n",
    "    def do_work(self):\n",
    "        return \"Work done by child\"\n",
    "\n",
    "@ray.remote\n",
    "class ParentActor:\n",
    "    def create_child(self):\n",
    "        self.child_actor = ChildActor.remote()\n",
    "\n",
    "    def get_work(self):\n",
    "        return ray.get(self.child_actor.do_work.remote())"
   ]
  },
  {
   "cell_type": "code",
   "execution_count": 25,
   "id": "fa23cc3f-4ec2-4b2f-8b36-51943fe01119",
   "metadata": {
    "execution": {
     "iopub.execute_input": "2025-03-05T16:49:36.515542Z",
     "iopub.status.busy": "2025-03-05T16:49:36.515083Z",
     "iopub.status.idle": "2025-03-05T16:49:36.524991Z",
     "shell.execute_reply": "2025-03-05T16:49:36.523037Z",
     "shell.execute_reply.started": "2025-03-05T16:49:36.515513Z"
    }
   },
   "outputs": [
    {
     "data": {
      "text/plain": [
       "(<__main__.ActorClass(ChildActor) at 0x7fc5e5c133a0>,\n",
       " <__main__.ActorClass(ParentActor) at 0x7fc5e5c10160>)"
      ]
     },
     "execution_count": 25,
     "metadata": {},
     "output_type": "execute_result"
    }
   ],
   "source": [
    "ChildActor, ParentActor"
   ]
  },
  {
   "cell_type": "code",
   "execution_count": 26,
   "id": "e68365c1-d29f-49f1-8317-83c1d1193e8c",
   "metadata": {
    "execution": {
     "iopub.execute_input": "2025-03-05T16:49:41.069393Z",
     "iopub.status.busy": "2025-03-05T16:49:41.069109Z",
     "iopub.status.idle": "2025-03-05T16:49:41.082569Z",
     "shell.execute_reply": "2025-03-05T16:49:41.081275Z",
     "shell.execute_reply.started": "2025-03-05T16:49:41.069375Z"
    }
   },
   "outputs": [],
   "source": [
    "parent_actor = ParentActor.remote()"
   ]
  },
  {
   "cell_type": "code",
   "execution_count": 27,
   "id": "01f1f0ec-1849-44a0-8838-86919331cfe4",
   "metadata": {
    "execution": {
     "iopub.execute_input": "2025-03-05T16:49:44.357336Z",
     "iopub.status.busy": "2025-03-05T16:49:44.356737Z",
     "iopub.status.idle": "2025-03-05T16:49:44.369864Z",
     "shell.execute_reply": "2025-03-05T16:49:44.368140Z",
     "shell.execute_reply.started": "2025-03-05T16:49:44.357290Z"
    }
   },
   "outputs": [
    {
     "data": {
      "text/plain": [
       "Actor(ParentActor, 4e2fbc70b725c06782600a4601000000)"
      ]
     },
     "execution_count": 27,
     "metadata": {},
     "output_type": "execute_result"
    }
   ],
   "source": [
    "parent_actor"
   ]
  },
  {
   "cell_type": "code",
   "execution_count": 28,
   "id": "80452d52-d6b4-4fe2-9c8c-245c6daff30c",
   "metadata": {
    "execution": {
     "iopub.execute_input": "2025-03-05T16:50:00.429105Z",
     "iopub.status.busy": "2025-03-05T16:50:00.428414Z",
     "iopub.status.idle": "2025-03-05T16:50:00.441965Z",
     "shell.execute_reply": "2025-03-05T16:50:00.439700Z",
     "shell.execute_reply.started": "2025-03-05T16:50:00.429042Z"
    }
   },
   "outputs": [
    {
     "data": {
      "text/plain": [
       "ObjectRef(5d4b8d1788f12d2d4e2fbc70b725c06782600a460100000001000000)"
      ]
     },
     "execution_count": 28,
     "metadata": {},
     "output_type": "execute_result"
    }
   ],
   "source": [
    "parent_actor.create_child.remote()"
   ]
  },
  {
   "cell_type": "code",
   "execution_count": 29,
   "id": "a9946ec6-ee6c-40fd-9beb-105dcd45c846",
   "metadata": {
    "execution": {
     "iopub.execute_input": "2025-03-05T16:50:18.520694Z",
     "iopub.status.busy": "2025-03-05T16:50:18.520088Z",
     "iopub.status.idle": "2025-03-05T16:50:18.532116Z",
     "shell.execute_reply": "2025-03-05T16:50:18.530103Z",
     "shell.execute_reply.started": "2025-03-05T16:50:18.520649Z"
    }
   },
   "outputs": [],
   "source": [
    "ray.get(parent_actor.create_child.remote())"
   ]
  },
  {
   "cell_type": "code",
   "execution_count": 31,
   "id": "b90d6b76-7c59-4592-b4d2-5ed1dcb83e43",
   "metadata": {
    "execution": {
     "iopub.execute_input": "2025-03-05T16:51:04.176505Z",
     "iopub.status.busy": "2025-03-05T16:51:04.175845Z",
     "iopub.status.idle": "2025-03-05T16:51:04.194073Z",
     "shell.execute_reply": "2025-03-05T16:51:04.192129Z",
     "shell.execute_reply.started": "2025-03-05T16:51:04.176458Z"
    }
   },
   "outputs": [
    {
     "data": {
      "text/plain": [
       "'Work done by child'"
      ]
     },
     "execution_count": 31,
     "metadata": {},
     "output_type": "execute_result"
    }
   ],
   "source": [
    "ray.get(parent_actor.get_work.remote())"
   ]
  },
  {
   "cell_type": "markdown",
   "id": "35e066b5-0e19-4513-bfbb-dc0e37306b9b",
   "metadata": {},
   "source": [
    "### ray.remote"
   ]
  },
  {
   "cell_type": "code",
   "execution_count": 3,
   "id": "2c56d11f-1742-40b0-9f0e-6bea1f41cffa",
   "metadata": {
    "execution": {
     "iopub.execute_input": "2025-03-05T16:27:25.948180Z",
     "iopub.status.busy": "2025-03-05T16:27:25.947488Z",
     "iopub.status.idle": "2025-03-05T16:27:25.962126Z",
     "shell.execute_reply": "2025-03-05T16:27:25.959980Z",
     "shell.execute_reply.started": "2025-03-05T16:27:25.948123Z"
    }
   },
   "outputs": [],
   "source": [
    "@ray.remote\n",
    "class Accumulator:\n",
    "    def __init__(self):\n",
    "        self.value = 0\n",
    "        \n",
    "    def add(self, x):\n",
    "        self.value += x\n",
    "        \n",
    "    def get_value(self):\n",
    "        return self.value"
   ]
  },
  {
   "cell_type": "code",
   "execution_count": 4,
   "id": "6bb31153-9a61-4d42-b909-6806fb8a7f54",
   "metadata": {
    "execution": {
     "iopub.execute_input": "2025-03-05T16:27:30.886192Z",
     "iopub.status.busy": "2025-03-05T16:27:30.885638Z",
     "iopub.status.idle": "2025-03-05T16:27:30.911217Z",
     "shell.execute_reply": "2025-03-05T16:27:30.909131Z",
     "shell.execute_reply.started": "2025-03-05T16:27:30.886154Z"
    }
   },
   "outputs": [],
   "source": [
    "accumulator = Accumulator.remote()"
   ]
  },
  {
   "cell_type": "code",
   "execution_count": 5,
   "id": "83e5af78-19ea-4089-90ff-a2c4719d14d5",
   "metadata": {
    "execution": {
     "iopub.execute_input": "2025-03-05T16:27:52.101201Z",
     "iopub.status.busy": "2025-03-05T16:27:52.100549Z",
     "iopub.status.idle": "2025-03-05T16:27:52.443376Z",
     "shell.execute_reply": "2025-03-05T16:27:52.442276Z",
     "shell.execute_reply.started": "2025-03-05T16:27:52.101155Z"
    }
   },
   "outputs": [
    {
     "name": "stdout",
     "output_type": "stream",
     "text": [
      "0\n"
     ]
    }
   ],
   "source": [
    "# Check the current value. Note that this function returns immediately and does not actually wait for the remote execution to complete.\n",
    "value_ref = accumulator.get_value.remote() \n",
    "# Get the value\n",
    "value = ray.get(value_ref)\n",
    "print(value)"
   ]
  },
  {
   "cell_type": "code",
   "execution_count": 6,
   "id": "811a117f-3385-4662-a5b2-61bfeee2ab31",
   "metadata": {
    "execution": {
     "iopub.execute_input": "2025-03-05T16:28:00.099371Z",
     "iopub.status.busy": "2025-03-05T16:28:00.098677Z",
     "iopub.status.idle": "2025-03-05T16:28:00.113469Z",
     "shell.execute_reply": "2025-03-05T16:28:00.111546Z",
     "shell.execute_reply.started": "2025-03-05T16:28:00.099319Z"
    }
   },
   "outputs": [
    {
     "name": "stdout",
     "output_type": "stream",
     "text": [
      "10\n"
     ]
    }
   ],
   "source": [
    "# Accumulate, then check the result.\n",
    "accumulator.add.remote(10)  # Similarly, the 'add' here will return immediately.\n",
    "new_value = ray.get(accumulator.get_value.remote())\n",
    "print(new_value)"
   ]
  },
  {
   "cell_type": "markdown",
   "id": "b3cf9ab4-f696-4b68-ba72-3a0921505f73",
   "metadata": {},
   "source": [
    "### Resource Pool and RayWorkerGroup"
   ]
  },
  {
   "cell_type": "markdown",
   "id": "94af79b2-31bc-4005-888a-cae2cc60faeb",
   "metadata": {},
   "source": [
    "-  execute_all_sync function in the RayWorkerGroup to dispatch data from the **driver** to **each worker**."
   ]
  },
  {
   "cell_type": "code",
   "execution_count": 7,
   "id": "799a4de4-120e-49f5-9569-fe7013b3cb9c",
   "metadata": {
    "execution": {
     "iopub.execute_input": "2025-03-05T16:28:31.570105Z",
     "iopub.status.busy": "2025-03-05T16:28:31.569517Z",
     "iopub.status.idle": "2025-03-05T16:28:31.794595Z",
     "shell.execute_reply": "2025-03-05T16:28:31.792734Z",
     "shell.execute_reply.started": "2025-03-05T16:28:31.570076Z"
    }
   },
   "outputs": [],
   "source": [
    "from verl.single_controller.ray.base import RayResourcePool, RayClassWithInitArgs, RayWorkerGroup, merge_resource_pool\n",
    "from verl.single_controller.base import Worker"
   ]
  },
  {
   "cell_type": "code",
   "execution_count": 8,
   "id": "19bbad8c-61c7-4192-97b2-0df1157f8051",
   "metadata": {
    "execution": {
     "iopub.execute_input": "2025-03-05T16:28:46.984658Z",
     "iopub.status.busy": "2025-03-05T16:28:46.984144Z",
     "iopub.status.idle": "2025-03-05T16:28:46.993807Z",
     "shell.execute_reply": "2025-03-05T16:28:46.991867Z",
     "shell.execute_reply.started": "2025-03-05T16:28:46.984620Z"
    }
   },
   "outputs": [],
   "source": [
    "resource_pool = RayResourcePool([2], use_gpu=True)"
   ]
  },
  {
   "cell_type": "code",
   "execution_count": 9,
   "id": "72bde29f-903e-44c4-9e3b-48b05f71e6a6",
   "metadata": {
    "execution": {
     "iopub.execute_input": "2025-03-05T16:28:56.210455Z",
     "iopub.status.busy": "2025-03-05T16:28:56.209794Z",
     "iopub.status.idle": "2025-03-05T16:28:56.227300Z",
     "shell.execute_reply": "2025-03-05T16:28:56.224982Z",
     "shell.execute_reply.started": "2025-03-05T16:28:56.210408Z"
    }
   },
   "outputs": [],
   "source": [
    "@ray.remote\n",
    "class GPUAccumulator(Worker):\n",
    "\n",
    "    def __init__(self) -> None:\n",
    "        super().__init__()\n",
    "        # The initial value of each rank is the same as the rank\n",
    "        self.value = torch.zeros(size=(1,), device='cuda') + self.rank\n",
    "\n",
    "    def add(self, x):\n",
    "        self.value += x\n",
    "        print(f'rank {self.rank}, value: {self.value}')\n",
    "        return self.value.cpu()\n",
    "        \n",
    "    def get_value(self):\n",
    "        return self.value"
   ]
  },
  {
   "cell_type": "code",
   "execution_count": 10,
   "id": "6f1f63fd-206d-46a4-ac86-b2c5ccd3703a",
   "metadata": {
    "execution": {
     "iopub.execute_input": "2025-03-05T16:31:05.291861Z",
     "iopub.status.busy": "2025-03-05T16:31:05.291210Z",
     "iopub.status.idle": "2025-03-05T16:31:10.533700Z",
     "shell.execute_reply": "2025-03-05T16:31:10.531420Z",
     "shell.execute_reply.started": "2025-03-05T16:31:05.291812Z"
    }
   },
   "outputs": [],
   "source": [
    "# Each worker's initial value is its rank, and then each rank's value is incremented by 1, so the values obtained on each rank are [1, 2, 3, 4]\n",
    "class_with_args = RayClassWithInitArgs(cls=GPUAccumulator)\n",
    "worker_group = RayWorkerGroup(resource_pool, class_with_args)"
   ]
  },
  {
   "cell_type": "code",
   "execution_count": 12,
   "id": "191513c0-7703-48fb-9763-c73f6a72b0d1",
   "metadata": {
    "execution": {
     "iopub.execute_input": "2025-03-05T16:31:56.690706Z",
     "iopub.status.busy": "2025-03-05T16:31:56.690021Z",
     "iopub.status.idle": "2025-03-05T16:31:56.702337Z",
     "shell.execute_reply": "2025-03-05T16:31:56.700071Z",
     "shell.execute_reply.started": "2025-03-05T16:31:56.690648Z"
    }
   },
   "outputs": [
    {
     "data": {
      "text/plain": [
       "[Actor(GPUAccumulator, 2856196208ad0ee8758ea19701000000),\n",
       " Actor(GPUAccumulator, 07b0ea304ca05b56917b607e01000000)]"
      ]
     },
     "execution_count": 12,
     "metadata": {},
     "output_type": "execute_result"
    }
   ],
   "source": [
    "worker_group.workers"
   ]
  },
  {
   "cell_type": "code",
   "execution_count": 15,
   "id": "068d49c3-5c42-4b55-a65f-4b66f80091c6",
   "metadata": {
    "execution": {
     "iopub.execute_input": "2025-03-05T16:33:00.861877Z",
     "iopub.status.busy": "2025-03-05T16:33:00.861222Z",
     "iopub.status.idle": "2025-03-05T16:33:00.874633Z",
     "shell.execute_reply": "2025-03-05T16:33:00.872256Z",
     "shell.execute_reply.started": "2025-03-05T16:33:00.861830Z"
    }
   },
   "outputs": [
    {
     "data": {
      "text/plain": [
       "[Actor(GPUAccumulator, 2856196208ad0ee8758ea19701000000),\n",
       " Actor(GPUAccumulator, 07b0ea304ca05b56917b607e01000000)]"
      ]
     },
     "execution_count": 15,
     "metadata": {},
     "output_type": "execute_result"
    }
   ],
   "source": [
    "worker_group.workers"
   ]
  },
  {
   "cell_type": "code",
   "execution_count": 16,
   "id": "d1b9d4f9-9c35-45b9-bdb3-f5e3c09b620f",
   "metadata": {
    "execution": {
     "iopub.execute_input": "2025-03-05T16:33:30.431870Z",
     "iopub.status.busy": "2025-03-05T16:33:30.431205Z",
     "iopub.status.idle": "2025-03-05T16:33:30.745213Z",
     "shell.execute_reply": "2025-03-05T16:33:30.742787Z",
     "shell.execute_reply.started": "2025-03-05T16:33:30.431816Z"
    }
   },
   "outputs": [
    {
     "name": "stdout",
     "output_type": "stream",
     "text": [
      "\u001b[36m(GPUAccumulator pid=1172476)\u001b[0m rank 0, value: tensor([1.], device='cuda:0')\n",
      "[tensor([1.]), tensor([4.])]\n",
      "\u001b[36m(GPUAccumulator pid=1172642)\u001b[0m rank 1, value: tensor([4.], device='cuda:0')\n"
     ]
    }
   ],
   "source": [
    "# 0 + 1 => 1\n",
    "# 1 + 3 => 4\n",
    "print(worker_group.execute_all_sync('add', x=[1, 3]))"
   ]
  },
  {
   "cell_type": "code",
   "execution_count": 17,
   "id": "933ae957-6697-43d3-b938-d8f86c39e7c3",
   "metadata": {
    "execution": {
     "iopub.execute_input": "2025-03-05T16:38:28.697754Z",
     "iopub.status.busy": "2025-03-05T16:38:28.697094Z",
     "iopub.status.idle": "2025-03-05T16:38:28.710651Z",
     "shell.execute_reply": "2025-03-05T16:38:28.707976Z",
     "shell.execute_reply.started": "2025-03-05T16:38:28.697705Z"
    }
   },
   "outputs": [
    {
     "data": {
      "text/plain": [
       "2"
      ]
     },
     "execution_count": 17,
     "metadata": {},
     "output_type": "execute_result"
    }
   ],
   "source": [
    "worker_group.world_size"
   ]
  },
  {
   "cell_type": "markdown",
   "id": "489edd8c-a4d4-482f-95ac-cc2778a7b39e",
   "metadata": {},
   "source": [
    "### GPU Resource Sharing"
   ]
  },
  {
   "cell_type": "markdown",
   "id": "f58d6a63-2089-444b-b433-d99cc97208b5",
   "metadata": {},
   "source": [
    "### Data Dispatch, Execution and Collection"
   ]
  },
  {
   "cell_type": "code",
   "execution_count": 18,
   "id": "4e26ba7f-a7b5-49e8-b07a-f8a77d796671",
   "metadata": {
    "execution": {
     "iopub.execute_input": "2025-03-05T16:40:35.793628Z",
     "iopub.status.busy": "2025-03-05T16:40:35.793082Z",
     "iopub.status.idle": "2025-03-05T16:40:35.802517Z",
     "shell.execute_reply": "2025-03-05T16:40:35.800002Z",
     "shell.execute_reply.started": "2025-03-05T16:40:35.793589Z"
    }
   },
   "outputs": [],
   "source": [
    "from verl.single_controller.base.decorator import register, Dispatch, Execute"
   ]
  },
  {
   "cell_type": "code",
   "execution_count": 19,
   "id": "7146a24e-257d-4bf4-9a70-c377cacde956",
   "metadata": {
    "execution": {
     "iopub.execute_input": "2025-03-05T16:40:40.649766Z",
     "iopub.status.busy": "2025-03-05T16:40:40.649163Z",
     "iopub.status.idle": "2025-03-05T16:40:40.665508Z",
     "shell.execute_reply": "2025-03-05T16:40:40.663725Z",
     "shell.execute_reply.started": "2025-03-05T16:40:40.649722Z"
    }
   },
   "outputs": [],
   "source": [
    "@ray.remote\n",
    "class GPUAccumulatorDecorator(Worker):\n",
    "\n",
    "    def __init__(self) -> None:\n",
    "        super().__init__()\n",
    "        # The initial value of each rank is the same as the rank\n",
    "        self.value = torch.zeros(size=(1,), device='cuda') + self.rank\n",
    "    \n",
    "    # map from a single input to all the worker\n",
    "    @register(Dispatch.ONE_TO_ALL)\n",
    "    def add(self, x):\n",
    "        print(x)\n",
    "        self.value = self.value + x\n",
    "        print(f'rank {self.rank}, value: {self.value}')\n",
    "        return self.value.cpu()"
   ]
  },
  {
   "cell_type": "code",
   "execution_count": 20,
   "id": "c257af70-0fd4-4f8b-865c-8e26498762f2",
   "metadata": {
    "execution": {
     "iopub.execute_input": "2025-03-05T16:41:41.048355Z",
     "iopub.status.busy": "2025-03-05T16:41:41.047689Z",
     "iopub.status.idle": "2025-03-05T16:41:45.220197Z",
     "shell.execute_reply": "2025-03-05T16:41:45.217967Z",
     "shell.execute_reply.started": "2025-03-05T16:41:41.048296Z"
    }
   },
   "outputs": [],
   "source": [
    "class_with_args = RayClassWithInitArgs(cls=GPUAccumulatorDecorator)\n",
    "gpu_accumulator_decorator = RayWorkerGroup(resource_pool, class_with_args)"
   ]
  },
  {
   "cell_type": "code",
   "execution_count": 21,
   "id": "06823a1f-f2b4-47b4-bf76-5a6ec993a142",
   "metadata": {
    "execution": {
     "iopub.execute_input": "2025-03-05T16:42:27.624903Z",
     "iopub.status.busy": "2025-03-05T16:42:27.624253Z",
     "iopub.status.idle": "2025-03-05T16:42:27.920147Z",
     "shell.execute_reply": "2025-03-05T16:42:27.918094Z",
     "shell.execute_reply.started": "2025-03-05T16:42:27.624856Z"
    }
   },
   "outputs": [
    {
     "name": "stdout",
     "output_type": "stream",
     "text": [
      "\u001b[36m(GPUAccumulatorDecorator pid=1173038)\u001b[0m 10\n",
      "\u001b[36m(GPUAccumulatorDecorator pid=1173188)\u001b[0m 10\n"
     ]
    },
    {
     "data": {
      "text/plain": [
       "[tensor([10.]), tensor([11.])]"
      ]
     },
     "execution_count": 21,
     "metadata": {},
     "output_type": "execute_result"
    },
    {
     "name": "stdout",
     "output_type": "stream",
     "text": [
      "\u001b[36m(GPUAccumulatorDecorator pid=1173038)\u001b[0m rank 0, value: tensor([10.], device='cuda:0')\n"
     ]
    }
   ],
   "source": [
    "gpu_accumulator_decorator.add(10)"
   ]
  },
  {
   "cell_type": "code",
   "execution_count": 22,
   "id": "cd4216ce-453f-4f0a-804e-73d6de2802ce",
   "metadata": {
    "execution": {
     "iopub.execute_input": "2025-03-05T16:43:25.762501Z",
     "iopub.status.busy": "2025-03-05T16:43:25.761833Z",
     "iopub.status.idle": "2025-03-05T16:43:25.772351Z",
     "shell.execute_reply": "2025-03-05T16:43:25.769814Z",
     "shell.execute_reply.started": "2025-03-05T16:43:25.762454Z"
    }
   },
   "outputs": [],
   "source": [
    "from verl.single_controller.base.decorator import register, Dispatch, collect_all_to_all, Execute"
   ]
  },
  {
   "cell_type": "code",
   "execution_count": null,
   "id": "a962805b-cf50-420a-8c37-85b3509d9a28",
   "metadata": {},
   "outputs": [],
   "source": []
  }
 ],
 "metadata": {
  "kernelspec": {
   "display_name": "verl",
   "language": "python",
   "name": "verl"
  },
  "language_info": {
   "codemirror_mode": {
    "name": "ipython",
    "version": 3
   },
   "file_extension": ".py",
   "mimetype": "text/x-python",
   "name": "python",
   "nbconvert_exporter": "python",
   "pygments_lexer": "ipython3",
   "version": "3.9.0"
  }
 },
 "nbformat": 4,
 "nbformat_minor": 5
}
