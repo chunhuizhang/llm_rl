{
 "cells": [
  {
   "cell_type": "markdown",
   "id": "9dc7298e-d04a-4e19-953d-42489123a687",
   "metadata": {},
   "source": [
    "### ray init"
   ]
  },
  {
   "cell_type": "markdown",
   "id": "7b444451-a7fc-4173-a7db-1529ffe58254",
   "metadata": {},
   "source": [
    "- `runtime_env`\n",
    "    ```\n",
    "    'env_vars': {\n",
    "        'TOKENIZERS_PARALLELISM': 'true',\n",
    "        'NCCL_DEBUG': 'WARN',\n",
    "        'VLLM_LOGGING_LEVEL': 'WARN'\n",
    "    }\n",
    "    ```\n",
    "- `_temp_dir` – If provided, specifies the root temporary directory for the Ray process.\n",
    "    - Must be an absolute path.\n",
    "    - Defaults to an OS-specific conventional location, e.g., “/tmp/ray”."
   ]
  }
 ],
 "metadata": {
  "kernelspec": {
   "display_name": "casual",
   "language": "python",
   "name": "casual"
  },
  "language_info": {
   "codemirror_mode": {
    "name": "ipython",
    "version": 3
   },
   "file_extension": ".py",
   "mimetype": "text/x-python",
   "name": "python",
   "nbconvert_exporter": "python",
   "pygments_lexer": "ipython3",
   "version": "3.10.0"
  }
 },
 "nbformat": 4,
 "nbformat_minor": 5
}
