{
 "cells": [
  {
   "cell_type": "markdown",
   "id": "7ebec5f2-b272-4516-8f83-8c4258fb8a94",
   "metadata": {},
   "source": [
    "### Ray 调度机制的局限性"
   ]
  },
  {
   "cell_type": "markdown",
   "id": "4ed43afd-991e-4fc7-adb7-a9b50da89b21",
   "metadata": {},
   "source": [
    "- Ray 的调度器认为\"0.25 GPU\"是可用资源，会将多个任务调度到同- GPU 节点。\n",
    "- 但由于 GPU 的物理独占性，这些任务实际上会 串行执行(排队等待)，而非真正并行。\n",
    "- if you wish to share one GPU among 4 actors, then you can have each actor require 1/4th of a GPU. This can be done by declaring the actor class with\n",
    "```python\n",
    "@ray.remote(num_gpus=0.25)\n",
    "```\n",
    "- colocate: 串行\n",
    "    - vllm -> actor -> critic -> value -> reward -> actor training -> critic training"
   ]
  }
 ],
 "metadata": {
  "kernelspec": {
   "display_name": "Python 3 (ipykernel)",
   "language": "python",
   "name": "python3"
  },
  "language_info": {
   "codemirror_mode": {
    "name": "ipython",
    "version": 3
   },
   "file_extension": ".py",
   "mimetype": "text/x-python",
   "name": "python",
   "nbconvert_exporter": "python",
   "pygments_lexer": "ipython3",
   "version": "3.9.0"
  }
 },
 "nbformat": 4,
 "nbformat_minor": 5
}
