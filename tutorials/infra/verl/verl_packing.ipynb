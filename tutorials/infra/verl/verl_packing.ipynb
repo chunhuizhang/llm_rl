{
 "cells": [
  {
   "cell_type": "markdown",
   "id": "f8e1ccfd-aa1c-4ac3-a395-507eb4a7cae1",
   "metadata": {},
   "source": [
    "- https://verl.readthedocs.io/en/latest/perf/perf_tuning.html\n",
    "    - `use_remove_padding=True` for sequence packing (i.e., data packing and remove padding).\n",
    "        - rmpad\n",
    "    - https://github.com/volcengine/verl/blob/main/tests/model/test_transformer.py"
   ]
  },
  {
   "cell_type": "markdown",
   "id": "d593f71a-f84f-4c69-a2b6-4a107568f3df",
   "metadata": {
    "execution": {
     "iopub.execute_input": "2025-04-12T08:21:55.493217Z",
     "iopub.status.busy": "2025-04-12T08:21:55.492942Z",
     "iopub.status.idle": "2025-04-12T08:21:55.502889Z",
     "shell.execute_reply": "2025-04-12T08:21:55.501507Z",
     "shell.execute_reply.started": "2025-04-12T08:21:55.493191Z"
    }
   },
   "source": [
    "```\n",
    "from flash_attn.bert_padding import unpad_input, pad_input, index_first_axis, rearrange\n",
    "```\n",
    "- `def unpad_input(hidden_states, attention_mask, unused_mask=None):`\n",
    "    - `input_ids_rmpad, indices, * = unpad_input(input_ids.unsqueeze(-1), attention_mask)`\n",
    "        - (4, 128) => (4, 128, 1), attention_mask.sum() == 301\n",
    "        - input_ids_rmpad.shape() == (1, 301)\n",
    "        - indices.shape == (301)\n",
    "            - 记录了每个有效 token 在原始 (batch, seqlen) 张量中的位置。\n",
    "    - `origin_logits_rmpad, origin_logits_indices, *_ = unpad_input(origin_logits, attention_mask)`\n",
    "        - origin_logits.shape == (4, 128, 32000)\n",
    "        - origin_logits_rmpad.shape == (301, 32000)\n",
    "- index_first_axis\n",
    "    - 根据提供的索引 (indices)，从输入张量 (x) 的第一个维度（axis=0）中高效地选取指定的行/元素。"
   ]
  },
  {
   "cell_type": "markdown",
   "id": "c0fe6615-af9b-4df0-ae2e-0d82fa207266",
   "metadata": {},
   "source": [
    "https://github.com/Dao-AILab/flash-attention/issues/11#issuecomment-1156681278\n",
    "\n",
    "The most performant approach is to do the unpadding (i.e. remove padding tokens) before the first encoder block and add back the padding after the last encoder block, so that unpadding / padding is only called once (instead of 24 times if you have 24 layers). This has the added benefit of speeding up all other layers (LayerNorm, FFN, etc.) since they don't need to operate on padding tokens."
   ]
  },
  {
   "cell_type": "markdown",
   "id": "e52d0ed0-b770-454b-b131-fb14452ae179",
   "metadata": {},
   "source": [
    "- `AutoModelForCausalLM.from_config(xx, attn_implementation='flash_attention_2')`\n",
    "    - `logits_rmpad = model(input_ids_rmpad, position_ids=position_ids_rmpad, ...)`\n",
    "\n",
    "使用input_ids_rmpad和position_ids_rmpad调用模型不受影响的核心原因有：\n",
    "- Flash Attention 2的变长序列支持（flash_attn_varlen）：\n",
    "    - 代码中指定了attn_implementation='flash_attention_2'\n",
    "    - Flash Attention 2原生支持变长序列处理，无需传统的方形注意力矩阵\n",
    "- 有效信息完整保留：\n",
    "    - unpad_input函数只移除填充部分，保留所有有效token\n",
    "    - indices变量记录了每个token在原始批次中的位置信息\n",
    "    - 移除填充后形状从(batch_size, seqlen)变为(1, total_nnz)（`number of nonzero`），但信息不丢失\n",
    "- 位置编码的精确对齐：\n",
    "    - position_ids_rmpad保存了每个有效token的正确位置ID\n",
    "    - 确保模型内部的旋转位置编码(rotary embedding)能够正常工作\n",
    "    - 这使得移除填充后的位置信息与原始位置信息一致\n",
    "- Transformer架构的特性：\n",
    "    - Transformer对每个token的处理本质上是并行的\n",
    "    - 只要提供正确的位置信息和token关系，不需要处理无意义的填充"
   ]
  },
  {
   "cell_type": "markdown",
   "id": "bf515f4b-647c-45a7-949d-7e234553bb5b",
   "metadata": {},
   "source": [
    "## 一个示例"
   ]
  },
  {
   "cell_type": "markdown",
   "id": "44d68f74-0620-4185-9396-bf3849593b66",
   "metadata": {},
   "source": [
    "- input_ids: \n",
    "    - `[[句子A token1, 句子A token2, PAD, PAD]`,\n",
    "    - ` [句子B token1, 句子B token2, 句子B token3, PAD]]`\n",
    "- attention_mask:\n",
    "    - `[[1, 1, 0, 0],`\n",
    "    - `  [1, 1, 1, 0]]` (1 代表有效 token，0 代表 PAD)\n",
    "- position_ids:\n",
    "    - `[[0, 1, 0, 0],`\n",
    "    - ` [0, 1, 2, 0]]` (简化表示，实际可能不同，但 PAD 位通常无效)"
   ]
  },
  {
   "cell_type": "markdown",
   "id": "2e2ec4de-4b41-421e-bd05-55f743060057",
   "metadata": {},
   "source": [
    "## qwen2.5-0.5"
   ]
  },
  {
   "cell_type": "code",
   "execution_count": 3,
   "id": "5b08a61c-0947-451f-be31-3e0dc8b6d1d9",
   "metadata": {
    "execution": {
     "iopub.execute_input": "2025-04-12T09:24:18.598020Z",
     "iopub.status.busy": "2025-04-12T09:24:18.597544Z",
     "iopub.status.idle": "2025-04-12T09:24:18.606314Z",
     "shell.execute_reply": "2025-04-12T09:24:18.604070Z",
     "shell.execute_reply.started": "2025-04-12T09:24:18.597988Z"
    }
   },
   "outputs": [],
   "source": [
    "import torch\n",
    "from transformers import AutoModelForCausalLM, AutoTokenizer\n",
    "from flash_attn.bert_padding import unpad_input, pad_input, index_first_axis, rearrange"
   ]
  },
  {
   "cell_type": "code",
   "execution_count": 4,
   "id": "ed5eac19-7d66-4c35-8c52-4939d623b488",
   "metadata": {
    "execution": {
     "iopub.execute_input": "2025-04-12T09:24:20.537836Z",
     "iopub.status.busy": "2025-04-12T09:24:20.536293Z",
     "iopub.status.idle": "2025-04-12T09:24:23.874830Z",
     "shell.execute_reply": "2025-04-12T09:24:23.872170Z",
     "shell.execute_reply.started": "2025-04-12T09:24:20.537753Z"
    }
   },
   "outputs": [],
   "source": [
    "model_name = \"Qwen/Qwen2.5-0.5B-Instruct\"\n",
    "device = torch.device(\"cuda\" if torch.cuda.is_available() else \"cpu\")\n",
    "dtype = torch.bfloat16 if device.type == \"cuda\" else torch.float32\n",
    "\n",
    "model = AutoModelForCausalLM.from_pretrained(\n",
    "    model_name,\n",
    "    torch_dtype=dtype,\n",
    "    attn_implementation=\"flash_attention_2\",\n",
    "    device_map=device\n",
    ")"
   ]
  },
  {
   "cell_type": "code",
   "execution_count": 6,
   "id": "87e49b9f-36ed-41c0-9040-1d2adc9a3d35",
   "metadata": {
    "execution": {
     "iopub.execute_input": "2025-04-12T09:24:36.376101Z",
     "iopub.status.busy": "2025-04-12T09:24:36.375666Z",
     "iopub.status.idle": "2025-04-12T09:24:37.158041Z",
     "shell.execute_reply": "2025-04-12T09:24:37.156184Z",
     "shell.execute_reply.started": "2025-04-12T09:24:36.376071Z"
    }
   },
   "outputs": [],
   "source": [
    "tokenizer = AutoTokenizer.from_pretrained(model_name)"
   ]
  },
  {
   "cell_type": "code",
   "execution_count": 7,
   "id": "deb29e62-a16c-423f-adb0-b1de0324768b",
   "metadata": {
    "execution": {
     "iopub.execute_input": "2025-04-12T09:24:46.096429Z",
     "iopub.status.busy": "2025-04-12T09:24:46.096072Z",
     "iopub.status.idle": "2025-04-12T09:24:46.105591Z",
     "shell.execute_reply": "2025-04-12T09:24:46.103086Z",
     "shell.execute_reply.started": "2025-04-12T09:24:46.096400Z"
    }
   },
   "outputs": [
    {
     "name": "stdout",
     "output_type": "stream",
     "text": [
      "<|endoftext|>\n"
     ]
    }
   ],
   "source": [
    "print(tokenizer.pad_token)\n",
    "if tokenizer.pad_token is None:\n",
    "    tokenizer.pad_token = tokenizer.eos_token # Use EOS if pad token is not set"
   ]
  },
  {
   "cell_type": "code",
   "execution_count": 16,
   "id": "95715f90-8650-483e-8f85-a414a5e1b6dc",
   "metadata": {
    "execution": {
     "iopub.execute_input": "2025-04-12T09:26:46.236539Z",
     "iopub.status.busy": "2025-04-12T09:26:46.236175Z",
     "iopub.status.idle": "2025-04-12T09:26:46.244354Z",
     "shell.execute_reply": "2025-04-12T09:26:46.242377Z",
     "shell.execute_reply.started": "2025-04-12T09:26:46.236511Z"
    }
   },
   "outputs": [],
   "source": [
    "prompts = [\n",
    "    \"你好，请给我介绍一下大型语言模型。\",\n",
    "    \"今天天气怎么样？\"\n",
    "]"
   ]
  },
  {
   "cell_type": "markdown",
   "id": "437b12a7-391e-497f-bc5d-b5ae71511fec",
   "metadata": {},
   "source": [
    "### original process"
   ]
  },
  {
   "cell_type": "code",
   "execution_count": 17,
   "id": "4a5b8b80-bebc-4925-9422-a93da8b3e2f0",
   "metadata": {
    "execution": {
     "iopub.execute_input": "2025-04-12T09:26:48.136360Z",
     "iopub.status.busy": "2025-04-12T09:26:48.136024Z",
     "iopub.status.idle": "2025-04-12T09:26:48.158220Z",
     "shell.execute_reply": "2025-04-12T09:26:48.156367Z",
     "shell.execute_reply.started": "2025-04-12T09:26:48.136329Z"
    }
   },
   "outputs": [],
   "source": [
    "inputs_padded = tokenizer(prompts, return_tensors=\"pt\", padding=True, truncation=True, max_length=64).to(device)\n",
    "input_ids = inputs_padded['input_ids']\n",
    "attention_mask = inputs_padded['attention_mask']\n",
    "batch_size, seqlen = input_ids.shape"
   ]
  },
  {
   "cell_type": "code",
   "execution_count": 9,
   "id": "72321dbe-620f-41fb-9ad5-b5f4b4963634",
   "metadata": {
    "execution": {
     "iopub.execute_input": "2025-04-12T09:25:07.680304Z",
     "iopub.status.busy": "2025-04-12T09:25:07.679605Z",
     "iopub.status.idle": "2025-04-12T09:25:07.702815Z",
     "shell.execute_reply": "2025-04-12T09:25:07.700851Z",
     "shell.execute_reply.started": "2025-04-12T09:25:07.680238Z"
    }
   },
   "outputs": [
    {
     "data": {
      "text/plain": [
       "tensor([[108386,  37945, 104169, 109432, 101951, 102064, 104949,   1773],\n",
       "        [100644, 104307, 104472,  11319, 151643, 151643, 151643, 151643]],\n",
       "       device='cuda:0')"
      ]
     },
     "execution_count": 9,
     "metadata": {},
     "output_type": "execute_result"
    }
   ],
   "source": [
    "input_ids"
   ]
  },
  {
   "cell_type": "code",
   "execution_count": 13,
   "id": "106c0c62-6981-4efd-9f20-49519b6f3107",
   "metadata": {
    "execution": {
     "iopub.execute_input": "2025-04-12T09:25:56.380593Z",
     "iopub.status.busy": "2025-04-12T09:25:56.379858Z",
     "iopub.status.idle": "2025-04-12T09:25:56.395350Z",
     "shell.execute_reply": "2025-04-12T09:25:56.392764Z",
     "shell.execute_reply.started": "2025-04-12T09:25:56.380527Z"
    }
   },
   "outputs": [
    {
     "name": "stdout",
     "output_type": "stream",
     "text": [
      "你好，请给我介绍一下大型语言模型。\n",
      "今天天气怎么样？<|endoftext|><|endoftext|><|endoftext|><|endoftext|>\n"
     ]
    }
   ],
   "source": [
    "print(tokenizer.decode(input_ids[0]))\n",
    "print(tokenizer.decode(input_ids[1]))"
   ]
  },
  {
   "cell_type": "code",
   "execution_count": 14,
   "id": "e277d181-af81-4728-a519-4a750001444c",
   "metadata": {
    "execution": {
     "iopub.execute_input": "2025-04-12T09:26:13.808164Z",
     "iopub.status.busy": "2025-04-12T09:26:13.807485Z",
     "iopub.status.idle": "2025-04-12T09:26:13.823961Z",
     "shell.execute_reply": "2025-04-12T09:26:13.821724Z",
     "shell.execute_reply.started": "2025-04-12T09:26:13.808100Z"
    }
   },
   "outputs": [
    {
     "data": {
      "text/plain": [
       "tensor([[1, 1, 1, 1, 1, 1, 1, 1],\n",
       "        [1, 1, 1, 1, 0, 0, 0, 0]], device='cuda:0')"
      ]
     },
     "execution_count": 14,
     "metadata": {},
     "output_type": "execute_result"
    }
   ],
   "source": [
    "attention_mask"
   ]
  },
  {
   "cell_type": "code",
   "execution_count": 15,
   "id": "db449300-07bd-414a-83e0-a414ba006d11",
   "metadata": {
    "execution": {
     "iopub.execute_input": "2025-04-12T09:26:16.733595Z",
     "iopub.status.busy": "2025-04-12T09:26:16.732837Z",
     "iopub.status.idle": "2025-04-12T09:26:17.282885Z",
     "shell.execute_reply": "2025-04-12T09:26:17.281518Z",
     "shell.execute_reply.started": "2025-04-12T09:26:16.733526Z"
    }
   },
   "outputs": [
    {
     "data": {
      "text/plain": [
       "tensor([[0, 1, 2, 3, 4, 5, 6, 7],\n",
       "        [0, 1, 2, 3, 1, 1, 1, 1]], device='cuda:0')"
      ]
     },
     "execution_count": 15,
     "metadata": {},
     "output_type": "execute_result"
    }
   ],
   "source": [
    "position_ids = attention_mask.long().cumsum(-1) - 1\n",
    "position_ids.masked_fill_(attention_mask == 0, 1) # Use 1 for masked positions (consistent with tests)"
   ]
  },
  {
   "cell_type": "code",
   "execution_count": 23,
   "id": "0b42fe24-f6f2-42e9-8a6c-6f447482228c",
   "metadata": {
    "execution": {
     "iopub.execute_input": "2025-04-12T09:29:22.002956Z",
     "iopub.status.busy": "2025-04-12T09:29:22.002638Z",
     "iopub.status.idle": "2025-04-12T09:29:22.071168Z",
     "shell.execute_reply": "2025-04-12T09:29:22.069141Z",
     "shell.execute_reply.started": "2025-04-12T09:29:22.002928Z"
    }
   },
   "outputs": [],
   "source": [
    "with torch.no_grad():\n",
    "    outputs_standard = model(\n",
    "        input_ids=input_ids,\n",
    "        attention_mask=attention_mask,\n",
    "        position_ids=position_ids,\n",
    "        use_cache=False\n",
    "    )\n",
    "origin_logits = outputs_standard.logits"
   ]
  },
  {
   "cell_type": "code",
   "execution_count": 27,
   "id": "d96a3ec3-74e4-487e-b67b-699aa5e4b1b2",
   "metadata": {
    "execution": {
     "iopub.execute_input": "2025-04-12T09:30:05.893496Z",
     "iopub.status.busy": "2025-04-12T09:30:05.892713Z",
     "iopub.status.idle": "2025-04-12T09:30:05.916565Z",
     "shell.execute_reply": "2025-04-12T09:30:05.914327Z",
     "shell.execute_reply.started": "2025-04-12T09:30:05.893425Z"
    }
   },
   "outputs": [
    {
     "data": {
      "text/plain": [
       "(torch.Size([2, 8, 151936]),\n",
       " tensor([[[ 7.0000,  6.5625,  1.6328,  ..., -2.9375, -2.9375, -2.9375],\n",
       "          [ 8.5000,  5.6875,  4.3438,  ..., -2.9688, -2.9688, -2.9688],\n",
       "          [ 3.8438,  6.8125,  2.4062,  ..., -4.2812, -4.2812, -4.2812],\n",
       "          ...,\n",
       "          [ 4.5625,  7.0312, -1.0703,  ..., -3.5938, -3.5938, -3.5938],\n",
       "          [ 5.3125, 10.9375,  3.1094,  ..., -3.3281, -3.3281, -3.3281],\n",
       "          [ 5.7188, 10.0000,  7.3750,  ..., -5.7812, -5.7812, -5.7812]],\n",
       " \n",
       "         [[ 2.8438,  8.2500,  2.7812,  ..., -2.8281, -2.8281, -2.8281],\n",
       "          [ 6.3750,  8.8125,  6.2188,  ..., -4.0312, -4.0312, -4.0312],\n",
       "          [11.9375,  9.6875,  7.9375,  ..., -3.2344, -3.2344, -3.2344],\n",
       "          ...,\n",
       "          [ 0.4297, -3.3750,  5.2188,  ..., -0.2324, -0.2334, -0.2324],\n",
       "          [ 0.4297, -3.3750,  5.2188,  ..., -0.2324, -0.2334, -0.2324],\n",
       "          [ 0.4297, -3.3750,  5.2188,  ..., -0.2324, -0.2334, -0.2324]]],\n",
       "        device='cuda:0', dtype=torch.bfloat16))"
      ]
     },
     "execution_count": 27,
     "metadata": {},
     "output_type": "execute_result"
    }
   ],
   "source": [
    "origin_logits.shape, origin_logits"
   ]
  },
  {
   "cell_type": "markdown",
   "id": "0693a2f5-bfa0-42b6-9ef2-63ba27c1375f",
   "metadata": {},
   "source": [
    "### unpad"
   ]
  },
  {
   "cell_type": "code",
   "execution_count": 18,
   "id": "40c1cb38-7302-42e5-9b1f-74cedeace1b0",
   "metadata": {
    "execution": {
     "iopub.execute_input": "2025-04-12T09:27:33.355655Z",
     "iopub.status.busy": "2025-04-12T09:27:33.352907Z",
     "iopub.status.idle": "2025-04-12T09:27:33.457290Z",
     "shell.execute_reply": "2025-04-12T09:27:33.455667Z",
     "shell.execute_reply.started": "2025-04-12T09:27:33.355570Z"
    }
   },
   "outputs": [],
   "source": [
    "input_ids_unpad, indices, *_ = unpad_input(input_ids.unsqueeze(-1), attention_mask)\n",
    "input_ids_unpad = input_ids_unpad.squeeze(-1) # Back to (total_tokens,)\n",
    "\n",
    "position_ids_reshaped = rearrange(position_ids.unsqueeze(-1), \"b s ... -> (b s) ...\") # (b*s, 1)\n",
    "position_ids_unpad = index_first_axis(position_ids_reshaped, indices) # (total_tokens, 1)\n",
    "position_ids_unpad = position_ids_unpad.squeeze(-1) # (total_tokens,)"
   ]
  },
  {
   "cell_type": "code",
   "execution_count": 40,
   "id": "154aed56-50da-4898-991b-40de43f227bc",
   "metadata": {
    "execution": {
     "iopub.execute_input": "2025-04-12T09:48:50.688952Z",
     "iopub.status.busy": "2025-04-12T09:48:50.688235Z",
     "iopub.status.idle": "2025-04-12T09:48:50.705390Z",
     "shell.execute_reply": "2025-04-12T09:48:50.702844Z",
     "shell.execute_reply.started": "2025-04-12T09:48:50.688888Z"
    }
   },
   "outputs": [
    {
     "data": {
      "text/plain": [
       "tensor([[0],\n",
       "        [1],\n",
       "        [2],\n",
       "        [3],\n",
       "        [4],\n",
       "        [5],\n",
       "        [6],\n",
       "        [7],\n",
       "        [0],\n",
       "        [1],\n",
       "        [2],\n",
       "        [3],\n",
       "        [1],\n",
       "        [1],\n",
       "        [1],\n",
       "        [1]], device='cuda:0')"
      ]
     },
     "execution_count": 40,
     "metadata": {},
     "output_type": "execute_result"
    }
   ],
   "source": [
    "position_ids_reshaped"
   ]
  },
  {
   "cell_type": "code",
   "execution_count": 39,
   "id": "8cb3c8ad-b61f-4645-8c1a-8aa319749bd6",
   "metadata": {
    "execution": {
     "iopub.execute_input": "2025-04-12T09:38:49.210716Z",
     "iopub.status.busy": "2025-04-12T09:38:49.210049Z",
     "iopub.status.idle": "2025-04-12T09:38:49.229244Z",
     "shell.execute_reply": "2025-04-12T09:38:49.226927Z",
     "shell.execute_reply.started": "2025-04-12T09:38:49.210654Z"
    }
   },
   "outputs": [
    {
     "data": {
      "text/plain": [
       "tensor([[0],\n",
       "        [1],\n",
       "        [2],\n",
       "        [3],\n",
       "        [4],\n",
       "        [5],\n",
       "        [6],\n",
       "        [7],\n",
       "        [0],\n",
       "        [1],\n",
       "        [2],\n",
       "        [3]], device='cuda:0')"
      ]
     },
     "execution_count": 39,
     "metadata": {},
     "output_type": "execute_result"
    }
   ],
   "source": [
    "index_first_axis(position_ids_reshaped, indices)"
   ]
  },
  {
   "cell_type": "code",
   "execution_count": 19,
   "id": "024d1d04-c7cd-44da-970d-9f3dfdcafe41",
   "metadata": {
    "execution": {
     "iopub.execute_input": "2025-04-12T09:27:36.121669Z",
     "iopub.status.busy": "2025-04-12T09:27:36.120913Z",
     "iopub.status.idle": "2025-04-12T09:27:36.137886Z",
     "shell.execute_reply": "2025-04-12T09:27:36.135570Z",
     "shell.execute_reply.started": "2025-04-12T09:27:36.121601Z"
    }
   },
   "outputs": [
    {
     "data": {
      "text/plain": [
       "tensor([108386,  37945, 104169, 109432, 101951, 102064, 104949,   1773, 100644,\n",
       "        104307, 104472,  11319], device='cuda:0')"
      ]
     },
     "execution_count": 19,
     "metadata": {},
     "output_type": "execute_result"
    }
   ],
   "source": [
    "input_ids_unpad"
   ]
  },
  {
   "cell_type": "code",
   "execution_count": 20,
   "id": "a19f1552-e592-4e1d-be05-72f40bde89fe",
   "metadata": {
    "execution": {
     "iopub.execute_input": "2025-04-12T09:27:52.569278Z",
     "iopub.status.busy": "2025-04-12T09:27:52.568596Z",
     "iopub.status.idle": "2025-04-12T09:27:52.584030Z",
     "shell.execute_reply": "2025-04-12T09:27:52.582132Z",
     "shell.execute_reply.started": "2025-04-12T09:27:52.569214Z"
    }
   },
   "outputs": [
    {
     "data": {
      "text/plain": [
       "tensor([ 0,  1,  2,  3,  4,  5,  6,  7,  8,  9, 10, 11], device='cuda:0')"
      ]
     },
     "execution_count": 20,
     "metadata": {},
     "output_type": "execute_result"
    }
   ],
   "source": [
    "indices"
   ]
  },
  {
   "cell_type": "code",
   "execution_count": 21,
   "id": "82c5a265-5fb5-449b-a63b-7a9985b1088a",
   "metadata": {
    "execution": {
     "iopub.execute_input": "2025-04-12T09:28:10.609972Z",
     "iopub.status.busy": "2025-04-12T09:28:10.609267Z",
     "iopub.status.idle": "2025-04-12T09:28:10.624977Z",
     "shell.execute_reply": "2025-04-12T09:28:10.622946Z",
     "shell.execute_reply.started": "2025-04-12T09:28:10.609906Z"
    }
   },
   "outputs": [
    {
     "data": {
      "text/plain": [
       "tensor([0, 1, 2, 3, 4, 5, 6, 7, 0, 1, 2, 3], device='cuda:0')"
      ]
     },
     "execution_count": 21,
     "metadata": {},
     "output_type": "execute_result"
    }
   ],
   "source": [
    "position_ids_unpad"
   ]
  },
  {
   "cell_type": "code",
   "execution_count": 22,
   "id": "029a6658-c503-4df8-b24f-1c1f716e5dec",
   "metadata": {
    "execution": {
     "iopub.execute_input": "2025-04-12T09:28:41.875739Z",
     "iopub.status.busy": "2025-04-12T09:28:41.875013Z",
     "iopub.status.idle": "2025-04-12T09:28:42.451025Z",
     "shell.execute_reply": "2025-04-12T09:28:42.448934Z",
     "shell.execute_reply.started": "2025-04-12T09:28:41.875676Z"
    }
   },
   "outputs": [],
   "source": [
    "with torch.no_grad():\n",
    "     input_ids_unpad_batch = input_ids_unpad.unsqueeze(0) # (1, total_tokens)\n",
    "     position_ids_unpad_batch = position_ids_unpad.unsqueeze(0) # (1, total_tokens)\n",
    "\n",
    "     outputs_unpad = model(\n",
    "         input_ids=input_ids_unpad_batch,\n",
    "         position_ids=position_ids_unpad_batch, # Pass unpadded position_ids\n",
    "         use_cache=False\n",
    "     )"
   ]
  },
  {
   "cell_type": "code",
   "execution_count": 28,
   "id": "1afa8b06-9afc-4ace-8ca7-b1d1ecefe13a",
   "metadata": {
    "execution": {
     "iopub.execute_input": "2025-04-12T09:31:28.373580Z",
     "iopub.status.busy": "2025-04-12T09:31:28.372818Z",
     "iopub.status.idle": "2025-04-12T09:31:28.384163Z",
     "shell.execute_reply": "2025-04-12T09:31:28.381694Z",
     "shell.execute_reply.started": "2025-04-12T09:31:28.373503Z"
    }
   },
   "outputs": [],
   "source": [
    "logits_unpad = outputs_unpad.logits.squeeze(0)"
   ]
  },
  {
   "cell_type": "code",
   "execution_count": 29,
   "id": "c203674d-2c62-4ea0-b1b1-510ad39c1838",
   "metadata": {
    "execution": {
     "iopub.execute_input": "2025-04-12T09:31:37.488711Z",
     "iopub.status.busy": "2025-04-12T09:31:37.488179Z",
     "iopub.status.idle": "2025-04-12T09:31:37.500473Z",
     "shell.execute_reply": "2025-04-12T09:31:37.498647Z",
     "shell.execute_reply.started": "2025-04-12T09:31:37.488666Z"
    }
   },
   "outputs": [
    {
     "data": {
      "text/plain": [
       "torch.Size([12, 151936])"
      ]
     },
     "execution_count": 29,
     "metadata": {},
     "output_type": "execute_result"
    }
   ],
   "source": [
    "logits_unpad.shape"
   ]
  },
  {
   "cell_type": "code",
   "execution_count": 30,
   "id": "a4279a23-a9bd-4619-8bb9-c6b223671af3",
   "metadata": {
    "execution": {
     "iopub.execute_input": "2025-04-12T09:32:00.753710Z",
     "iopub.status.busy": "2025-04-12T09:32:00.753045Z",
     "iopub.status.idle": "2025-04-12T09:32:00.770468Z",
     "shell.execute_reply": "2025-04-12T09:32:00.767794Z",
     "shell.execute_reply.started": "2025-04-12T09:32:00.753660Z"
    }
   },
   "outputs": [],
   "source": [
    "logits_re_padded = pad_input(logits_unpad, indices, batch_size, seqlen)"
   ]
  },
  {
   "cell_type": "code",
   "execution_count": 31,
   "id": "8d93c077-f9ba-4e77-bee1-6ba99a3e0f14",
   "metadata": {
    "execution": {
     "iopub.execute_input": "2025-04-12T09:32:03.168885Z",
     "iopub.status.busy": "2025-04-12T09:32:03.168174Z",
     "iopub.status.idle": "2025-04-12T09:32:03.191634Z",
     "shell.execute_reply": "2025-04-12T09:32:03.189391Z",
     "shell.execute_reply.started": "2025-04-12T09:32:03.168802Z"
    }
   },
   "outputs": [
    {
     "data": {
      "text/plain": [
       "tensor([[[ 7.0000,  6.5625,  1.6328,  ..., -2.9375, -2.9375, -2.9375],\n",
       "         [ 8.5000,  5.6875,  4.3438,  ..., -2.9688, -2.9688, -2.9688],\n",
       "         [ 3.8438,  6.8125,  2.4062,  ..., -4.2812, -4.2812, -4.2812],\n",
       "         ...,\n",
       "         [ 4.5625,  7.0312, -1.0703,  ..., -3.5938, -3.5938, -3.5938],\n",
       "         [ 5.3125, 10.9375,  3.1094,  ..., -3.3281, -3.3281, -3.3281],\n",
       "         [ 5.7188, 10.0000,  7.3750,  ..., -5.7812, -5.7812, -5.7812]],\n",
       "\n",
       "        [[ 2.8438,  8.2500,  2.7812,  ..., -2.8281, -2.8281, -2.8281],\n",
       "         [ 6.3750,  8.8125,  6.2188,  ..., -4.0312, -4.0312, -4.0312],\n",
       "         [11.9375,  9.6875,  7.9375,  ..., -3.2344, -3.2344, -3.2344],\n",
       "         ...,\n",
       "         [ 0.0000,  0.0000,  0.0000,  ...,  0.0000,  0.0000,  0.0000],\n",
       "         [ 0.0000,  0.0000,  0.0000,  ...,  0.0000,  0.0000,  0.0000],\n",
       "         [ 0.0000,  0.0000,  0.0000,  ...,  0.0000,  0.0000,  0.0000]]],\n",
       "       device='cuda:0', dtype=torch.bfloat16)"
      ]
     },
     "execution_count": 31,
     "metadata": {},
     "output_type": "execute_result"
    }
   ],
   "source": [
    "logits_re_padded"
   ]
  },
  {
   "cell_type": "code",
   "execution_count": 32,
   "id": "691f3503-cb54-45f5-9484-9227f76767a9",
   "metadata": {
    "execution": {
     "iopub.execute_input": "2025-04-12T09:32:20.231812Z",
     "iopub.status.busy": "2025-04-12T09:32:20.231132Z",
     "iopub.status.idle": "2025-04-12T09:32:20.246190Z",
     "shell.execute_reply": "2025-04-12T09:32:20.244255Z",
     "shell.execute_reply.started": "2025-04-12T09:32:20.231747Z"
    }
   },
   "outputs": [
    {
     "data": {
      "text/plain": [
       "tensor([[1, 1, 1, 1, 1, 1, 1, 1],\n",
       "        [1, 1, 1, 1, 0, 0, 0, 0]], device='cuda:0')"
      ]
     },
     "execution_count": 32,
     "metadata": {},
     "output_type": "execute_result"
    }
   ],
   "source": [
    "attention_mask"
   ]
  },
  {
   "cell_type": "code",
   "execution_count": 33,
   "id": "50332ef7-f3c0-4835-b5f8-548930a8cf24",
   "metadata": {
    "execution": {
     "iopub.execute_input": "2025-04-12T09:33:01.922807Z",
     "iopub.status.busy": "2025-04-12T09:33:01.922128Z",
     "iopub.status.idle": "2025-04-12T09:33:01.948214Z",
     "shell.execute_reply": "2025-04-12T09:33:01.945796Z",
     "shell.execute_reply.started": "2025-04-12T09:33:01.922742Z"
    }
   },
   "outputs": [
    {
     "data": {
      "text/plain": [
       "tensor([[[ True],\n",
       "         [ True],\n",
       "         [ True],\n",
       "         [ True],\n",
       "         [ True],\n",
       "         [ True],\n",
       "         [ True],\n",
       "         [ True]],\n",
       "\n",
       "        [[ True],\n",
       "         [ True],\n",
       "         [ True],\n",
       "         [ True],\n",
       "         [False],\n",
       "         [False],\n",
       "         [False],\n",
       "         [False]]], device='cuda:0')"
      ]
     },
     "execution_count": 33,
     "metadata": {},
     "output_type": "execute_result"
    }
   ],
   "source": [
    "mask_expanded = attention_mask.unsqueeze(-1).bool()\n",
    "mask_expanded"
   ]
  },
  {
   "cell_type": "code",
   "execution_count": 34,
   "id": "442140e1-c31a-46b5-9ba4-59c8e2af5fe3",
   "metadata": {
    "execution": {
     "iopub.execute_input": "2025-04-12T09:33:11.416478Z",
     "iopub.status.busy": "2025-04-12T09:33:11.415789Z",
     "iopub.status.idle": "2025-04-12T09:33:11.427502Z",
     "shell.execute_reply": "2025-04-12T09:33:11.425148Z",
     "shell.execute_reply.started": "2025-04-12T09:33:11.416412Z"
    }
   },
   "outputs": [],
   "source": [
    "valid_origin_logits = torch.masked_select(origin_logits, mask_expanded)\n",
    "valid_re_padded_logits = torch.masked_select(logits_re_padded, mask_expanded)"
   ]
  },
  {
   "cell_type": "code",
   "execution_count": 35,
   "id": "26d17aa6-987d-4c93-968b-cfa926965f60",
   "metadata": {
    "execution": {
     "iopub.execute_input": "2025-04-12T09:33:14.945757Z",
     "iopub.status.busy": "2025-04-12T09:33:14.945018Z",
     "iopub.status.idle": "2025-04-12T09:33:14.963204Z",
     "shell.execute_reply": "2025-04-12T09:33:14.960521Z",
     "shell.execute_reply.started": "2025-04-12T09:33:14.945692Z"
    }
   },
   "outputs": [
    {
     "data": {
      "text/plain": [
       "tensor([ 7.0000,  6.5625,  1.6328,  ..., -4.5000, -4.5000, -4.5000],\n",
       "       device='cuda:0', dtype=torch.bfloat16)"
      ]
     },
     "execution_count": 35,
     "metadata": {},
     "output_type": "execute_result"
    }
   ],
   "source": [
    "valid_origin_logits"
   ]
  },
  {
   "cell_type": "code",
   "execution_count": 36,
   "id": "53cd8dae-1a07-4240-bf1e-5ea4dee3cb3e",
   "metadata": {
    "execution": {
     "iopub.execute_input": "2025-04-12T09:33:18.189013Z",
     "iopub.status.busy": "2025-04-12T09:33:18.188261Z",
     "iopub.status.idle": "2025-04-12T09:33:18.205931Z",
     "shell.execute_reply": "2025-04-12T09:33:18.203609Z",
     "shell.execute_reply.started": "2025-04-12T09:33:18.188944Z"
    }
   },
   "outputs": [
    {
     "data": {
      "text/plain": [
       "tensor([ 7.0000,  6.5625,  1.6328,  ..., -4.5000, -4.5000, -4.5000],\n",
       "       device='cuda:0', dtype=torch.bfloat16)"
      ]
     },
     "execution_count": 36,
     "metadata": {},
     "output_type": "execute_result"
    }
   ],
   "source": [
    "valid_re_padded_logits"
   ]
  },
  {
   "cell_type": "code",
   "execution_count": null,
   "id": "45e4ffc8-d9ab-4d2f-85ba-4af721f5046b",
   "metadata": {},
   "outputs": [],
   "source": []
  }
 ],
 "metadata": {
  "kernelspec": {
   "display_name": "verl",
   "language": "python",
   "name": "verl"
  },
  "language_info": {
   "codemirror_mode": {
    "name": "ipython",
    "version": 3
   },
   "file_extension": ".py",
   "mimetype": "text/x-python",
   "name": "python",
   "nbconvert_exporter": "python",
   "pygments_lexer": "ipython3",
   "version": "3.9.0"
  }
 },
 "nbformat": 4,
 "nbformat_minor": 5
}
