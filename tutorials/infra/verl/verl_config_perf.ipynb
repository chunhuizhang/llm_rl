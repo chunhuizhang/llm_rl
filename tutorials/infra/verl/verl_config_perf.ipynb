{
 "cells": [
  {
   "cell_type": "markdown",
   "id": "68f39100-3e0f-4e35-a272-23d762cc241e",
   "metadata": {},
   "source": [
    "- https://verl.readthedocs.io/en/latest/examples/config.html\n",
    "- https://verl.readthedocs.io/en/latest/perf/perf_tuning.html\n",
    "- https://verl.readthedocs.io/en/latest/perf/device_tuning.html\n",
    "    - https://github.com/volcengine/verl/blob/main/examples/tuning/7b/qwen2-7b_grpo_2_h800_fsdp_vllm.sh"
   ]
  },
  {
   "cell_type": "markdown",
   "id": "103e2be8-bc51-4a09-8a1e-348d8cd411d3",
   "metadata": {},
   "source": [
    "### PPO & GRPO"
   ]
  },
  {
   "cell_type": "markdown",
   "id": "6eff1146-2183-4de4-9b41-3f8c8ace9a25",
   "metadata": {},
   "source": [
    "$$\n",
    "\\mathcal{J}_{PPO}(\\theta) = \\mathbb{E}[q \\sim P(Q), o \\sim \\pi_{\\theta_{old}}(O|q)] \\frac{1}{|o|} \\sum_{t=1}^{|o|} \\min \\left[ \\frac{\\pi_{\\theta}(o_t|q, o_{<t})}{\\pi_{\\theta_{old}}(o_t|q, o_{<t})} A_t, \\text{clip} \\left( \\frac{\\pi_{\\theta}(o_t|q, o_{<t})}{\\pi_{\\theta_{old}}(o_t|q, o_{<t})}, 1 - \\epsilon, 1 + \\epsilon \\right) A_t \\right]\n",
    "$$\n",
    "- $r$ 的计算 （定义在token级别，(reverse) kl term  within the reward）\n",
    "    - $r_t = r_{\\phi}(q, o_{\\le t}) - \\beta \\log \\frac{\\pi_{\\theta}(o_t|q, o_{<t})}{\\pi_{ref}(o_t|q, o_{<t})}$\n",
    "- GAE（advantage）的计算(r, v => GAE)\n",
    "    - $\\delta_t = r_t + \\gamma V(s_{t+1}) - V(s_t)$\n",
    "    - $\\hat{A}_t^{GAE(\\gamma, \\lambda)} = \\sum_{l=0}^{\\infty} (\\gamma \\lambda)^l \\delta_{t+l}$\n",
    "    - $\\hat{A}_t^{GAE(\\gamma, \\lambda)} = \\sum_{l=0}^{\\infty} (\\gamma \\lambda)^l (r_{t+l} + \\gamma V(s_{t+l+1}) - V(s_{t+l}))$\n",
    "        - $\\hat{A}_t^{GAE(\\gamma, \\lambda)}$: 在时间步 t 的广义优势估计。\n",
    "        - $\\gamma$: 折扣因子 (discount factor)，通常取值在 0 到 1 之间，表示未来奖励的重要性。\n",
    "        - $\\lambda$: GAE 参数，通常取值在 0 到 1 之间，用于在偏差 (bias) 和方差 (variance) 之间进行权衡。\n",
    "            - 当 $\\lambda = 0$ 时，GAE 退化为标准的 TD 优势估计：$\\hat{A}_t = \\delta_t = r_t + \\gamma V(s_{t+1}) - V(s_t)$ (低偏差，高方差)。\n",
    "            - 当 $\\lambda = 1$ 时，GAE 考虑了直到回合结束的所有 TD 残差的折扣和，类似于蒙特卡洛优势估计 (高偏差，低方差)。"
   ]
  },
  {
   "cell_type": "markdown",
   "id": "35d38ef5-7dc2-41f6-a343-417acc35370e",
   "metadata": {},
   "source": [
    "$$\n",
    "\\mathcal{J}_{GRPO}(\\theta) = \\mathbb{E}[q \\sim P(Q), \\{o_i\\}_{i=1}^G \\sim \\pi_{\\theta_{old}}(O|q)] \\\\\n",
    "\\frac{1}{G} \\sum_{i=1}^G \\frac{1}{|o_i|} \\sum_{t=1}^{|o_i|} \\left\\{ \\min \\left[ \\frac{\\pi_{\\theta}(o_{i,t}|q, o_{i,<t})}{\\pi_{\\theta_{old}}(o_{i,t}|q, o_{i,<t})} \\hat{A}_{i,t}, \\text{clip} \\left( \\frac{\\pi_{\\theta}(o_{i,t}|q, o_{i,<t})}{\\pi_{\\theta_{old}}(o_{i,t}|q, o_{i,<t})}, 1 - \\epsilon, 1 + \\epsilon \\right) \\hat{A}_{i,t} \\right] - \\beta \\mathbb{D}_{KL}[\\pi_{\\theta}||\\pi_{ref}] \\right\\}\n",
    "$$\n",
    "- advantage\n",
    "    - $\\hat{A}_{i,t} = \\tilde{r}_i = \\frac{r_i - \\text{mean}(r)}{\\text{std}(r)}$\n",
    "- kl estimation\n",
    "    - $\\mathbb{D}_{KL}[\\pi_\\theta || \\pi_{ref}] = \\frac{\\pi_{ref}(o_{i,t}|q, o_{i,<t})}{\\pi_\\theta(o_{i,t}|q, o_{i,<t})} - \\log \\frac{\\pi_{ref}(o_{i,t}|q, o_{i,<t})}{\\pi_\\theta(o_{i,t}|q, o_{i,<t})} - 1$\n",
    "    - $\\mathbb{D}_{KL}[\\pi_\\theta || \\pi_{ref}] = \\sum_{y} \\pi_\\theta(y|q) \\log \\frac{\\pi_\\theta(y|q)}{\\pi_{ref}(y|q)} = \\mathbb{E}_{y \\sim \\pi_\\theta(\\cdot|q)} \\left[ \\sum_{t=1}^{T} \\log \\frac{\\pi_\\theta(o_t | q, o_{<t})}{\\pi_{ref}(o_t | q, o_{<t})} \\right]$\n",
    "        - $\\pi(y|q) = \\pi(o_1, ..., o_T | q) = \\prod_{t=1}^{T} \\pi(o_t | q, o_{<t})$\n",
    "        - $\\log \\frac{\\pi_\\theta(y|q)}{\\pi_{ref}(y|q)} = \\log \\frac{\\prod_{t=1}^{T} \\pi_\\theta(o_t | q, o_{<t})}{\\prod_{t=1}^{T} \\pi_{ref}(o_t | q, o_{<t})}$\n",
    "            - $= \\sum_{t=1}^{T} \\log \\pi_\\theta(o_t | q, o_{<t}) - \\sum_{t=1}^{T} \\log \\pi_{ref}(o_t | q, o_{<t})$\n",
    "            - $= \\sum_{t=1}^{T} \\left[ \\log \\pi_\\theta(o_t | q, o_{<t}) - \\log \\pi_{ref}(o_t | q, o_{<t}) \\right]$\n",
    "            - $= \\sum_{t=1}^{T} \\log \\frac{\\pi_\\theta(o_t | q, o_{<t})}{\\pi_{ref}(o_t | q, o_{<t})}$"
   ]
  }
 ],
 "metadata": {
  "kernelspec": {
   "display_name": "casual",
   "language": "python",
   "name": "casual"
  },
  "language_info": {
   "codemirror_mode": {
    "name": "ipython",
    "version": 3
   },
   "file_extension": ".py",
   "mimetype": "text/x-python",
   "name": "python",
   "nbconvert_exporter": "python",
   "pygments_lexer": "ipython3",
   "version": "3.10.0"
  }
 },
 "nbformat": 4,
 "nbformat_minor": 5
}
