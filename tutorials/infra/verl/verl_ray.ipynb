{
 "cells": [
  {
   "cell_type": "markdown",
   "id": "e61d7e7e-f5e3-48c1-82ce-4d94a9ffdc98",
   "metadata": {},
   "source": [
    "### RayClassWithInitArgs & RayWorkerGroup"
   ]
  },
  {
   "cell_type": "markdown",
   "id": "18fccfcb-68de-4a1f-9d6b-6a34be54a381",
   "metadata": {},
   "source": [
    "\n",
    "```python\n",
    "fsdp_workers.py\n",
    "\n",
    "class ActorRolloutRefWorker(Worker):\n",
    "    \"\"\"\n",
    "    This worker can be instantiated as a standalone actor or a standalone rollout or a standalone reference policy\n",
    "    or a hybrid engine based on the config.rollout\n",
    "    \"\"\"\n",
    "\n",
    "    def __init__(self, config: DictConfig, role: str):\n",
    "        super().__init__()\n",
    "        self.config = config\n",
    "\n",
    "------\n",
    "\n",
    "ray_cls_with_init = RayClassWithInitArgs(cls=ray.remote(ActorRolloutRefWorker), \n",
    "                                         config=config, \n",
    "                                         role='rollout')\n",
    "resource_pool = RayResourcePool(process_on_nodes=[config.trainer.n_gpus_per_node] * config.trainer.nnodes)\n",
    "wg = RayWorkerGroup(resource_pool=resource_pool, \n",
    "                    ray_cls_with_init=ray_cls_with_init)\n",
    "# 这里 wg（RayWorkerGroup）代理的其实是 ActorRolloutRefWorker 对象\n",
    "wg.init_model()\n",
    "```"
   ]
  }
 ],
 "metadata": {
  "kernelspec": {
   "display_name": "casual",
   "language": "python",
   "name": "casual"
  },
  "language_info": {
   "codemirror_mode": {
    "name": "ipython",
    "version": 3
   },
   "file_extension": ".py",
   "mimetype": "text/x-python",
   "name": "python",
   "nbconvert_exporter": "python",
   "pygments_lexer": "ipython3",
   "version": "3.10.0"
  }
 },
 "nbformat": 4,
 "nbformat_minor": 5
}
