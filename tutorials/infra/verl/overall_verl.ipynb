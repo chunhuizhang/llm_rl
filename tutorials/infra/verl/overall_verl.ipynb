{
 "cells": [
  {
   "cell_type": "code",
   "execution_count": 1,
   "id": "069e1c87-f108-482c-b2ff-0918b3025e97",
   "metadata": {
    "execution": {
     "iopub.execute_input": "2025-04-12T04:05:06.722554Z",
     "iopub.status.busy": "2025-04-12T04:05:06.721992Z",
     "iopub.status.idle": "2025-04-12T04:05:06.732387Z",
     "shell.execute_reply": "2025-04-12T04:05:06.730375Z",
     "shell.execute_reply.started": "2025-04-12T04:05:06.722501Z"
    }
   },
   "outputs": [],
   "source": [
    "from IPython.display import Image"
   ]
  },
  {
   "cell_type": "markdown",
   "id": "1257b2a7-d1af-4cd3-8879-b87cfcb52a7c",
   "metadata": {},
   "source": [
    "## Dataflow"
   ]
  },
  {
   "cell_type": "markdown",
   "id": "1657574d-4869-45e8-ac4e-467ec0372e93",
   "metadata": {},
   "source": [
    "- https://verl.readthedocs.io/en/latest/hybrid_flow.html"
   ]
  },
  {
   "cell_type": "code",
   "execution_count": 4,
   "id": "4a38d177-b24c-4a80-85a4-dab1fb1f535f",
   "metadata": {
    "execution": {
     "iopub.execute_input": "2025-04-12T04:05:32.015957Z",
     "iopub.status.busy": "2025-04-12T04:05:32.015236Z",
     "iopub.status.idle": "2025-04-12T04:05:32.031767Z",
     "shell.execute_reply": "2025-04-12T04:05:32.029440Z",
     "shell.execute_reply.started": "2025-04-12T04:05:32.015893Z"
    }
   },
   "outputs": [
    {
     "data": {
      "text/html": [
       "<img src=\"https://picx.zhimg.com/70/v2-cb8ab5ee946a105aab6a563e92682ffa_1440w.avis?source=172ae18b&biz_tag=Post\" width=\"600\"/>"
      ],
      "text/plain": [
       "<IPython.core.display.Image object>"
      ]
     },
     "execution_count": 4,
     "metadata": {},
     "output_type": "execute_result"
    }
   ],
   "source": [
    "Image(url='https://picx.zhimg.com/70/v2-cb8ab5ee946a105aab6a563e92682ffa_1440w.avis?source=172ae18b&biz_tag=Post', width=600)"
   ]
  },
  {
   "cell_type": "markdown",
   "id": "9c7072a4-bfa1-4af3-b6d5-dee927f901f0",
   "metadata": {},
   "source": [
    "## Resource & Worker"
   ]
  },
  {
   "cell_type": "markdown",
   "id": "b6e1b061-2aea-459a-bcbe-897b0661773a",
   "metadata": {},
   "source": [
    "- example, `[8]*4` GPUS, co-locate Actor & Ref policy\n",
    "\n",
    "```\n",
    "global_pool_id = 'global_pool'\n",
    "resource_pool_spec = {\n",
    "    # [8] * 4 => [8, 8, 8, 8]\n",
    "    global_pool_id: [config.trainer.n_gpus_per_node] * config.trainer.nnodes,\n",
    "}\n",
    "mapping = {\n",
    "    Role.ActorRollout: global_pool_id,\n",
    "    Role.Critic: global_pool_id,\n",
    "    Role.RefPolicy: global_pool_id,\n",
    "}\n",
    "\n",
    "resource_pool_manager = ResourcePoolManager(resource_pool_spec=resource_pool_spec, mapping=mapping)\n",
    "\n",
    "role_worker_mapping = {\n",
    "    Role.ActorRollout: ray.remote(ActorRolloutRefWorker),\n",
    "    Role.Critic: ray.remote(CriticWorker),\n",
    "    Role.RefPolicy: ray.remote(ActorRolloutRefWorker)\n",
    "}\n",
    "```"
   ]
  },
  {
   "cell_type": "code",
   "execution_count": 5,
   "id": "934b01d0-2565-440f-8987-da1a953c4e99",
   "metadata": {
    "execution": {
     "iopub.execute_input": "2025-04-12T04:07:27.456809Z",
     "iopub.status.busy": "2025-04-12T04:07:27.456121Z",
     "iopub.status.idle": "2025-04-12T04:07:27.471123Z",
     "shell.execute_reply": "2025-04-12T04:07:27.469183Z",
     "shell.execute_reply.started": "2025-04-12T04:07:27.456745Z"
    }
   },
   "outputs": [
    {
     "data": {
      "text/html": [
       "<img src=\"https://github.com/eric-haibin-lin/verl-community/blob/main/docs/driver_worker.png?raw=true\" width=\"600\"/>"
      ],
      "text/plain": [
       "<IPython.core.display.Image object>"
      ]
     },
     "execution_count": 5,
     "metadata": {},
     "output_type": "execute_result"
    }
   ],
   "source": [
    "Image(url='https://github.com/eric-haibin-lin/verl-community/blob/main/docs/driver_worker.png?raw=true', width=600)"
   ]
  },
  {
   "cell_type": "markdown",
   "id": "7afc027e-53f5-4fb8-9200-c0994166a5a3",
   "metadata": {},
   "source": [
    "## HybridEngine: optimal sharding"
   ]
  },
  {
   "cell_type": "code",
   "execution_count": 6,
   "id": "80942543-400f-40c2-824b-b32870e3a05e",
   "metadata": {
    "execution": {
     "iopub.execute_input": "2025-04-12T04:25:29.736138Z",
     "iopub.status.busy": "2025-04-12T04:25:29.735415Z",
     "iopub.status.idle": "2025-04-12T04:25:29.750290Z",
     "shell.execute_reply": "2025-04-12T04:25:29.748316Z",
     "shell.execute_reply.started": "2025-04-12T04:25:29.736070Z"
    }
   },
   "outputs": [
    {
     "data": {
      "text/html": [
       "<img src=\"./imgs/train_inference_tp_dp.png\" width=\"400\"/>"
      ],
      "text/plain": [
       "<IPython.core.display.Image object>"
      ]
     },
     "execution_count": 6,
     "metadata": {},
     "output_type": "execute_result"
    }
   ],
   "source": [
    "Image(url='./imgs/train_inference_tp_dp.png', width=400)"
   ]
  },
  {
   "cell_type": "markdown",
   "id": "a8a82468-a561-42ed-88e8-6710a5f0ae71",
   "metadata": {},
   "source": [
    "- Training: TP = 4, DP = 2\n",
    "- Rollout: TP = 2, DP = 4"
   ]
  }
 ],
 "metadata": {
  "kernelspec": {
   "display_name": "Python 3 (ipykernel)",
   "language": "python",
   "name": "python3"
  },
  "language_info": {
   "codemirror_mode": {
    "name": "ipython",
    "version": 3
   },
   "file_extension": ".py",
   "mimetype": "text/x-python",
   "name": "python",
   "nbconvert_exporter": "python",
   "pygments_lexer": "ipython3",
   "version": "3.10.0"
  }
 },
 "nbformat": 4,
 "nbformat_minor": 5
}
