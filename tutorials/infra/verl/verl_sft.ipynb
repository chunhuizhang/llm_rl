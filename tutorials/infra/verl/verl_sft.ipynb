{
 "cells": [
  {
   "cell_type": "code",
   "execution_count": 1,
   "id": "a735332e-db88-4141-aab1-7065da210ad4",
   "metadata": {
    "execution": {
     "iopub.execute_input": "2025-05-08T14:48:01.412588Z",
     "iopub.status.busy": "2025-05-08T14:48:01.411964Z",
     "iopub.status.idle": "2025-05-08T14:48:01.570165Z",
     "shell.execute_reply": "2025-05-08T14:48:01.569479Z",
     "shell.execute_reply.started": "2025-05-08T14:48:01.412525Z"
    }
   },
   "outputs": [],
   "source": [
    "import numpy as np"
   ]
  },
  {
   "cell_type": "markdown",
   "id": "bd4259e6-6a1d-403a-847f-0078d94a9b22",
   "metadata": {},
   "source": [
    "### training process"
   ]
  },
  {
   "cell_type": "markdown",
   "id": "c6602101-a8b8-429e-ac7a-4c8fccf6a7c9",
   "metadata": {},
   "source": [
    "- loss_mask\n",
    "    - 指示哪些token的预测应该被计入损失（例如，在多轮对话中，可能只计算回答部分的损失，而不计算提示部分的损失）。它通常排除了最后一个token，因为最后一个token没有下一个token可供预测。\n",
    "    - multiturn\n",
    "        - mask prompts，只 supervised response 部分，即只计算 response 的 loss\n",
    "- logits\n",
    "    - shape: `[batch_size, seq_len, vocab_size]`\n",
    "- 对齐 logits 与 labels\n",
    "    - `labels` (目标) 通常是 `input_ids` 向左移动一位得到 (`input_ids[:, 1:]`)。\n",
    "    - `shift_logits` 是 logits 去掉最后一个时间步的预测 (`logits[..., :-1, :]`)，以与 labels 对齐。\n",
    "- 逐 token 计算 loss\n",
    "    - `nn.CrossEntropyLoss(reduction=\"none\")`"
   ]
  },
  {
   "cell_type": "markdown",
   "id": "691c2d2a-9dd0-4bf5-87b7-f62d74f7ed35",
   "metadata": {},
   "source": [
    "### data & prompt"
   ]
  },
  {
   "cell_type": "code",
   "execution_count": 1,
   "id": "1614afe1-c0ae-4114-9042-b66e2b372f9a",
   "metadata": {
    "execution": {
     "iopub.execute_input": "2025-05-11T10:40:33.944588Z",
     "iopub.status.busy": "2025-05-11T10:40:33.944011Z",
     "iopub.status.idle": "2025-05-11T10:40:34.806164Z",
     "shell.execute_reply": "2025-05-11T10:40:34.804283Z",
     "shell.execute_reply.started": "2025-05-11T10:40:33.944549Z"
    }
   },
   "outputs": [],
   "source": [
    "from transformers import AutoTokenizer"
   ]
  },
  {
   "cell_type": "code",
   "execution_count": 3,
   "id": "475dd157-8cb6-47fb-b871-cb62de7b787d",
   "metadata": {
    "execution": {
     "iopub.execute_input": "2025-05-11T10:41:09.134006Z",
     "iopub.status.busy": "2025-05-11T10:41:09.133725Z",
     "iopub.status.idle": "2025-05-11T10:41:10.184308Z",
     "shell.execute_reply": "2025-05-11T10:41:10.182370Z",
     "shell.execute_reply.started": "2025-05-11T10:41:09.133980Z"
    }
   },
   "outputs": [
    {
     "data": {
      "text/plain": [
       "{'eos_token': '<|im_end|>',\n",
       " 'pad_token': '<|endoftext|>',\n",
       " 'additional_special_tokens': ['<|im_start|>',\n",
       "  '<|im_end|>',\n",
       "  '<|object_ref_start|>',\n",
       "  '<|object_ref_end|>',\n",
       "  '<|box_start|>',\n",
       "  '<|box_end|>',\n",
       "  '<|quad_start|>',\n",
       "  '<|quad_end|>',\n",
       "  '<|vision_start|>',\n",
       "  '<|vision_end|>',\n",
       "  '<|vision_pad|>',\n",
       "  '<|image_pad|>',\n",
       "  '<|video_pad|>']}"
      ]
     },
     "execution_count": 3,
     "metadata": {},
     "output_type": "execute_result"
    }
   ],
   "source": [
    "T = AutoTokenizer.from_pretrained('Qwen/Qwen2.5-7B-Instruct')\n",
    "T.special_tokens_map"
   ]
  },
  {
   "cell_type": "markdown",
   "id": "03bffd27-5eb9-4b7b-9163-518d854cbdb1",
   "metadata": {},
   "source": [
    "- `sft_dataset.py`: SFTDataset\n",
    "    - eos_token: `<|im_end|>`  (151645)\n",
    "        - im: instruct message（from base model to instruct model）\n",
    "        - 注意不是 `<|endoftext|>`(`pad_token`, 151643)，\n",
    "```python\n",
    " # apply chat template\n",
    "prompt_chat = [{\"role\": \"user\", \"content\": prompt}]\n",
    "\n",
    "# string\n",
    "prompt_chat_str = tokenizer.apply_chat_template(prompt_chat, add_generation_prompt=True, tokenize=False)\n",
    "response_chat_str = response + tokenizer.eos_token\n",
    "```"
   ]
  },
  {
   "cell_type": "markdown",
   "id": "6857328e-eab3-4bcf-b764-531bc3b01da3",
   "metadata": {},
   "source": [
    "```\n",
    "<|im_start|>system\n",
    "You are a helpful assistant.\n",
    "<|im_end|>\n",
    "<|im_start|>user\n",
    "你好，请问今天天气怎么样？\n",
    "<|im_end|>\n",
    "<|im_start|>assistant\n",
    "你好！请告诉我您所在的城市，我可以为您查询天气。\n",
    "<|im_end|>\n",
    "```"
   ]
  },
  {
   "cell_type": "markdown",
   "id": "37e68778-f281-4626-b340-2f2d59147bee",
   "metadata": {},
   "source": [
    "### traing loss"
   ]
  },
  {
   "cell_type": "markdown",
   "id": "e4b5ae36-20ec-4a2c-a72c-87807db16620",
   "metadata": {},
   "source": [
    "$$\n",
    "\\text{CE}=-\\log(P_{\\text{true\\_token}})\n",
    "$$\n",
    "\n",
    "- 假如训练到 0.3 的 loss 水平\n",
    "    - $P_{\\text{true\\_token}}=\\exp(-0.3)=0.7408$\n",
    "- 考虑到 qwen vocab size 152064 的水平\n",
    "    - 瞎猜 $\\text{CE}_{\\text{rand}}=-\\log(\\frac1{152064})=11.93$\n",
    "- 从 PPL（perplexity）的角度\n",
    "    - $PPL=\\exp(\\text{CE})$\n",
    "        - CEL = 0.3 => PPL = 1.35 (能将下一个最可能的词的范围缩小到好像平均只有 1 到 2 个（1.3634）选项一样。)"
   ]
  },
  {
   "cell_type": "code",
   "execution_count": 5,
   "id": "8221d090-8d98-45d0-a166-3f381a0a847a",
   "metadata": {
    "execution": {
     "iopub.execute_input": "2025-05-08T14:51:59.764370Z",
     "iopub.status.busy": "2025-05-08T14:51:59.763740Z",
     "iopub.status.idle": "2025-05-08T14:51:59.778666Z",
     "shell.execute_reply": "2025-05-08T14:51:59.776505Z",
     "shell.execute_reply.started": "2025-05-08T14:51:59.764291Z"
    }
   },
   "outputs": [
    {
     "data": {
      "text/plain": [
       "(0.7408182206817179,\n",
       " 11.932056763842207,\n",
       " 1.3498588075760032,\n",
       " 151751.56167916086)"
      ]
     },
     "execution_count": 5,
     "metadata": {},
     "output_type": "execute_result"
    }
   ],
   "source": [
    "np.exp(-0.3), np.log(152064), np.exp(0.3), np.exp(11.93)"
   ]
  },
  {
   "cell_type": "markdown",
   "id": "a22796e6-82bb-4d4c-8261-0ffb9fa8f847",
   "metadata": {
    "jp-MarkdownHeadingCollapsed": true
   },
   "source": [
    "### overfitting"
   ]
  },
  {
   "cell_type": "markdown",
   "id": "463b36e8-a38b-4068-aa34-2c6058b1b7f1",
   "metadata": {},
   "source": [
    "- 需要持续监控 training losses & val losses\n",
    "    - training losses 不断地下降，但 val losses 先下降后上升；\n",
    "    - 我这边的经验即是，2个epochs，就会达到 val losses 较低的水平，后续会上升；"
   ]
  },
  {
   "cell_type": "markdown",
   "id": "fa7a09bd-f175-41d1-b6c4-a987dffa9497",
   "metadata": {},
   "source": [
    "### learning rate scheduler"
   ]
  },
  {
   "cell_type": "markdown",
   "id": "d78545ff-e553-473f-8b1e-f3c01c4180d2",
   "metadata": {},
   "source": [
    "- AdamW\n",
    "    - `lr=1e-5`\n",
    "- `get_cosine_schedule_with_warmup`"
   ]
  },
  {
   "cell_type": "code",
   "execution_count": 5,
   "id": "290d6c07-34ce-4d4c-bf6c-bb1bed33b5bc",
   "metadata": {
    "execution": {
     "iopub.execute_input": "2025-05-11T13:40:20.056161Z",
     "iopub.status.busy": "2025-05-11T13:40:20.055527Z",
     "iopub.status.idle": "2025-05-11T13:40:20.071686Z",
     "shell.execute_reply": "2025-05-11T13:40:20.069380Z",
     "shell.execute_reply.started": "2025-05-11T13:40:20.056096Z"
    }
   },
   "outputs": [],
   "source": [
    "import math\n",
    "\n",
    "def get_lr_at_step(\n",
    "    current_step: int,\n",
    "    initial_lr: float,\n",
    "    num_warmup_steps: int,\n",
    "    num_training_steps: int,\n",
    "    min_lr_ratio: float = 0.0,\n",
    "    num_cycles: float = 0.5,\n",
    "):\n",
    "    assert min_lr_ratio >= 0 and min_lr_ratio <= 1.0\n",
    "    # 0.5\n",
    "    coef = (1 - min_lr_ratio) * 0.5\n",
    "    # 0.5\n",
    "    intercept = (1 + min_lr_ratio) * 0.5\n",
    "\n",
    "    if current_step < num_warmup_steps:\n",
    "        # Linear warmup\n",
    "        scale = float(current_step) / float(max(1, num_warmup_steps))\n",
    "    else:\n",
    "        # Cosine decay\n",
    "        progress = float(current_step - num_warmup_steps) / float(max(1, num_training_steps - num_warmup_steps))\n",
    "        x = math.cos(math.pi * float(num_cycles) * 2.0 * progress)\n",
    "        scale = max(0.0, x * coef + intercept) # Ensure learning rate is not negative\n",
    "        \n",
    "    return initial_lr * scale"
   ]
  },
  {
   "cell_type": "markdown",
   "id": "48093e3a-c230-4733-a9b7-cfcd04a405d7",
   "metadata": {},
   "source": [
    "- cos\n",
    "    - cos(pi * 0): 1, cos(pi*1): -1\n",
    "    - 0 -> pi, 变量 x (即 math.cos(...) 的计算结果) 会平滑地从 1 降低到 -1。这就是所谓的“半个余弦周期”——从波峰到波谷。\n",
    "    - 0.5 * x + 0.5\n",
    "        - 1 (0.5 + 0.5) => 0"
   ]
  },
  {
   "cell_type": "code",
   "execution_count": 13,
   "id": "b9345d70-dbe5-431e-826c-a00b9c9a364b",
   "metadata": {
    "execution": {
     "iopub.execute_input": "2025-05-11T13:44:07.481319Z",
     "iopub.status.busy": "2025-05-11T13:44:07.480746Z",
     "iopub.status.idle": "2025-05-11T13:44:07.491457Z",
     "shell.execute_reply": "2025-05-11T13:44:07.489268Z",
     "shell.execute_reply.started": "2025-05-11T13:44:07.481262Z"
    }
   },
   "outputs": [],
   "source": [
    "initial_lr = 1e-5\n",
    "# warmup_ratio = 0.1\n",
    "num_warmup_steps = 7\n",
    "total_steps = 72 # This is num_training_steps in the function context\n",
    "\n",
    "lr_values = [get_lr_at_step(step, initial_lr, num_warmup_steps, total_steps) for step in range(1, total_steps+1)]"
   ]
  },
  {
   "cell_type": "code",
   "execution_count": 16,
   "id": "91bfaaa7-8ae9-4ae3-a166-5f424e365808",
   "metadata": {
    "execution": {
     "iopub.execute_input": "2025-05-11T13:44:32.150249Z",
     "iopub.status.busy": "2025-05-11T13:44:32.149871Z",
     "iopub.status.idle": "2025-05-11T13:44:32.475301Z",
     "shell.execute_reply": "2025-05-11T13:44:32.473395Z",
     "shell.execute_reply.started": "2025-05-11T13:44:32.150215Z"
    }
   },
   "outputs": [
    {
     "data": {
      "text/plain": [
       "<matplotlib.legend.Legend at 0x7800770af340>"
      ]
     },
     "execution_count": 16,
     "metadata": {},
     "output_type": "execute_result"
    },
    {
     "data": {
      "image/png": "[encoded data removed]",
      "text/plain": [
       "<Figure size 1200x400 with 1 Axes>"
      ]
     },
     "metadata": {},
     "output_type": "display_data"
    }
   ],
   "source": [
    "import matplotlib.pyplot as plt\n",
    "plt.figure(figsize=(12, 4))\n",
    "plt.plot(range(1, total_steps+1), lr_values, marker='o', linestyle='-')\n",
    "plt.xlabel(\"Steps\")\n",
    "plt.ylabel(\"Learning Rate\")\n",
    "plt.title(f\"Cosine Schedule with Warmup (LR={initial_lr}, Warmup={num_warmup_steps}, Total={total_steps})\")\n",
    "plt.grid(True)\n",
    "plt.xticks(list(range(0, total_steps, 5))) # Adjust x-axis ticks for better readability\n",
    "plt.axvline(x=num_warmup_steps , color='r', linestyle='--', label=f'Warmup End (Step {num_warmup_steps-1})')\n",
    "plt.legend()"
   ]
  }
 ],
 "metadata": {
  "kernelspec": {
   "display_name": "casual",
   "language": "python",
   "name": "casual"
  },
  "language_info": {
   "codemirror_mode": {
    "name": "ipython",
    "version": 3
   },
   "file_extension": ".py",
   "mimetype": "text/x-python",
   "name": "python",
   "nbconvert_exporter": "python",
   "pygments_lexer": "ipython3",
   "version": "3.10.0"
  }
 },
 "nbformat": 4,
 "nbformat_minor": 5
}
