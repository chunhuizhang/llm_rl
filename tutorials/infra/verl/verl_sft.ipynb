{
 "cells": [
  {
   "cell_type": "code",
   "execution_count": 1,
   "id": "a735332e-db88-4141-aab1-7065da210ad4",
   "metadata": {
    "execution": {
     "iopub.execute_input": "2025-05-18T08:01:24.978676Z",
     "iopub.status.busy": "2025-05-18T08:01:24.977991Z",
     "iopub.status.idle": "2025-05-18T08:01:25.624163Z",
     "shell.execute_reply": "2025-05-18T08:01:25.623277Z",
     "shell.execute_reply.started": "2025-05-18T08:01:24.978610Z"
    }
   },
   "outputs": [],
   "source": [
    "import numpy as np\n",
    "import matplotlib.pyplot as plt"
   ]
  },
  {
   "cell_type": "markdown",
   "id": "e90dd0cc-96bb-4a70-9cfd-237a2f16643b",
   "metadata": {},
   "source": [
    "- deep learning 框架的一个好的设计和抽象\n",
    "    - Dataset, `__getitem__`\n",
    "        - veRL: `SFTDataset`, `RLHFDataset`\n",
    "    - Trainer\n",
    "        - veRL: `FSDPSFTTrainer`, `RayPPOTrainer`"
   ]
  },
  {
   "cell_type": "markdown",
   "id": "691c2d2a-9dd0-4bf5-87b7-f62d74f7ed35",
   "metadata": {},
   "source": [
    "### data & prompt"
   ]
  },
  {
   "cell_type": "code",
   "execution_count": 2,
   "id": "1614afe1-c0ae-4114-9042-b66e2b372f9a",
   "metadata": {
    "execution": {
     "iopub.execute_input": "2025-05-18T08:01:29.175336Z",
     "iopub.status.busy": "2025-05-18T08:01:29.175067Z",
     "iopub.status.idle": "2025-05-18T08:01:31.502029Z",
     "shell.execute_reply": "2025-05-18T08:01:31.501118Z",
     "shell.execute_reply.started": "2025-05-18T08:01:29.175317Z"
    }
   },
   "outputs": [
    {
     "name": "stderr",
     "output_type": "stream",
     "text": [
      "/home/whaow/anaconda3/envs/casual/lib/python3.10/site-packages/tqdm/auto.py:21: TqdmWarning: IProgress not found. Please update jupyter and ipywidgets. See https://ipywidgets.readthedocs.io/en/stable/user_install.html\n",
      "  from .autonotebook import tqdm as notebook_tqdm\n"
     ]
    }
   ],
   "source": [
    "from transformers import AutoTokenizer"
   ]
  },
  {
   "cell_type": "code",
   "execution_count": 3,
   "id": "475dd157-8cb6-47fb-b871-cb62de7b787d",
   "metadata": {
    "execution": {
     "iopub.execute_input": "2025-05-18T08:01:31.740358Z",
     "iopub.status.busy": "2025-05-18T08:01:31.740117Z",
     "iopub.status.idle": "2025-05-18T08:01:37.260278Z",
     "shell.execute_reply": "2025-05-18T08:01:37.258440Z",
     "shell.execute_reply.started": "2025-05-18T08:01:31.740340Z"
    }
   },
   "outputs": [
    {
     "data": {
      "text/plain": [
       "{'eos_token': '<|im_end|>',\n",
       " 'pad_token': '<|endoftext|>',\n",
       " 'additional_special_tokens': ['<|im_start|>',\n",
       "  '<|im_end|>',\n",
       "  '<|object_ref_start|>',\n",
       "  '<|object_ref_end|>',\n",
       "  '<|box_start|>',\n",
       "  '<|box_end|>',\n",
       "  '<|quad_start|>',\n",
       "  '<|quad_end|>',\n",
       "  '<|vision_start|>',\n",
       "  '<|vision_end|>',\n",
       "  '<|vision_pad|>',\n",
       "  '<|image_pad|>',\n",
       "  '<|video_pad|>']}"
      ]
     },
     "execution_count": 3,
     "metadata": {},
     "output_type": "execute_result"
    }
   ],
   "source": [
    "T = AutoTokenizer.from_pretrained('Qwen/Qwen2.5-7B-Instruct')\n",
    "T.special_tokens_map"
   ]
  },
  {
   "cell_type": "code",
   "execution_count": 9,
   "id": "7de2234f-c864-4e1b-a8df-6634f69f0882",
   "metadata": {
    "execution": {
     "iopub.execute_input": "2025-05-12T15:33:24.257459Z",
     "iopub.status.busy": "2025-05-12T15:33:24.256870Z",
     "iopub.status.idle": "2025-05-12T15:33:24.269669Z",
     "shell.execute_reply": "2025-05-12T15:33:24.267283Z",
     "shell.execute_reply.started": "2025-05-12T15:33:24.257401Z"
    }
   },
   "outputs": [
    {
     "data": {
      "text/plain": [
       "'<|im_end|>'"
      ]
     },
     "execution_count": 9,
     "metadata": {},
     "output_type": "execute_result"
    }
   ],
   "source": [
    "T.eos_token"
   ]
  },
  {
   "cell_type": "markdown",
   "id": "03bffd27-5eb9-4b7b-9163-518d854cbdb1",
   "metadata": {},
   "source": [
    "- `sft_dataset.py`: SFTDataset\n",
    "    - eos_token: `<|im_end|>`  (151645)\n",
    "        - im: instruct message（from base model to instruct model）\n",
    "        - 注意不是 `<|endoftext|>`(`pad_token`, 151643)，\n",
    "```python\n",
    " # apply chat template\n",
    "prompt_chat = [{\"role\": \"user\", \"content\": prompt}]\n",
    "\n",
    "# string\n",
    "prompt_chat_str = tokenizer.apply_chat_template(prompt_chat, add_generation_prompt=True, tokenize=False)\n",
    "response_chat_str = response + tokenizer.eos_token\n",
    "\n",
    "input_ids = torch.cat((prompt_ids, response_ids), dim=-1)\n",
    "attention_mask = torch.cat((prompt_attention_mask, response_attention_mask), dim=-1)\n",
    "```"
   ]
  },
  {
   "cell_type": "markdown",
   "id": "6857328e-eab3-4bcf-b764-531bc3b01da3",
   "metadata": {},
   "source": [
    "```\n",
    "<|im_start|>system\n",
    "You are a helpful assistant.\n",
    "<|im_end|>\n",
    "<|im_start|>user\n",
    "你好，请问今天天气怎么样？\n",
    "<|im_end|>\n",
    "<|im_start|>assistant\n",
    "你好！请告诉我您所在的城市，我可以为您查询天气。\n",
    "<|im_end|>\n",
    "```"
   ]
  },
  {
   "cell_type": "markdown",
   "id": "bd4259e6-6a1d-403a-847f-0078d94a9b22",
   "metadata": {},
   "source": [
    "### training process"
   ]
  },
  {
   "cell_type": "markdown",
   "id": "c6602101-a8b8-429e-ac7a-4c8fccf6a7c9",
   "metadata": {},
   "source": [
    "- `fsdp_sft_trainer.py`\n",
    "    - A lightweight one-file FSDP SFT Trainer\n",
    "- logits\n",
    "    - shape: `[batch_size, seq_len, vocab_size]`\n",
    "- 对齐 logits 与 labels\n",
    "    - `labels` (目标) 通常是 `input_ids` 向左移动一位得到 (`labels = input_ids[:, 1:].contiguous()`)。\n",
    "    - `shift_logits` 是 logits 去掉最后一个时间步的预测 (`logits[..., :-1, :]`)，以与 labels 对齐。\n",
    "        - `shift_logits = logits[..., :-1, :].contiguous()`\n",
    "        - `shift_labels = labels.contiguous()`\n",
    "    - input_ids = `[T1, T2, T3, T4]`\n",
    "        - labels: [T2, T3, T4]\n",
    "        - shift_logits[.., 0, :]: T2\n",
    "        - shift_logits[.., 1, :]: T3\n",
    "        - shift_logits[.., 2, :]: T4\n",
    "- 逐 token 计算 loss\n",
    "    - `nn.CrossEntropyLoss(reduction=\"none\")`\n",
    "- mask loss: mask prompt & eos token (151645, `<|im_end|>`)\n",
    "    ```\n",
    "    loss_mask = attention_mask.clone()\n",
    "    if prompt_length > 1:\n",
    "        # mask out prompt for SFT.\n",
    "        loss_mask[: min(prompt_length, loss_mask.size(0)) - 1] = 0\n",
    "    # mask out the last token in response\n",
    "    loss_mask[min(prompt_length + response_length, loss_mask.size(0)) - 1] = 0\n",
    "    ```\n",
    "    - 指示哪些token的预测应该被计入损失（例如，在多轮对话中，可能只计算回答部分的损失，而不计算提示部分的损失）。它通常排除了最后一个token，因为最后一个token没有下一个token可供预测。\n",
    "    - multiturn\n",
    "        - mask prompts，只 supervised response 部分，即只计算 response 的 loss\n"
   ]
  },
  {
   "cell_type": "markdown",
   "id": "37e68778-f281-4626-b340-2f2d59147bee",
   "metadata": {},
   "source": [
    "### traing loss"
   ]
  },
  {
   "cell_type": "markdown",
   "id": "e4b5ae36-20ec-4a2c-a72c-87807db16620",
   "metadata": {},
   "source": [
    "$$\n",
    "\\text{CE}=-\\log(P_{\\text{true\\_token}})\n",
    "$$\n",
    "\n",
    "- nll: negative log likelihood\n",
    "- 假如训练到 0.3 的 loss 水平\n",
    "    - $P_{\\text{true\\_token}}=\\exp(-0.3)=0.7408$\n",
    "- 考虑到 qwen vocab size 152064 的水平\n",
    "    - 瞎猜 $\\text{CE}_{\\text{rand}}=-\\log(\\frac1{152064})=11.93$\n",
    "- 从 PPL（perplexity）的角度\n",
    "    - $PPL=\\exp(\\text{CE})$\n",
    "        - CEL = 0.3 => PPL = 1.35 (能将下一个最可能的词的范围缩小到好像平均只有 1 到 2 个（1.3634）选项一样。)\n",
    "- 增大batch size，起到稳定训练的作用，single sentence 容易在 learning 时有波动"
   ]
  },
  {
   "cell_type": "code",
   "execution_count": 5,
   "id": "8221d090-8d98-45d0-a166-3f381a0a847a",
   "metadata": {
    "execution": {
     "iopub.execute_input": "2025-05-08T14:51:59.764370Z",
     "iopub.status.busy": "2025-05-08T14:51:59.763740Z",
     "iopub.status.idle": "2025-05-08T14:51:59.778666Z",
     "shell.execute_reply": "2025-05-08T14:51:59.776505Z",
     "shell.execute_reply.started": "2025-05-08T14:51:59.764291Z"
    }
   },
   "outputs": [
    {
     "data": {
      "text/plain": [
       "(0.7408182206817179,\n",
       " 11.932056763842207,\n",
       " 1.3498588075760032,\n",
       " 151751.56167916086)"
      ]
     },
     "execution_count": 5,
     "metadata": {},
     "output_type": "execute_result"
    }
   ],
   "source": [
    "np.exp(-0.3), np.log(152064), np.exp(0.3), np.exp(11.93)"
   ]
  },
  {
   "cell_type": "markdown",
   "id": "63c9489f-3c30-4e13-b91b-d5ce32d91128",
   "metadata": {},
   "source": [
    "- 句子级别 $w=w_1,w_2,\\cdots, w_N$，其联合概率\n",
    "$$\n",
    "p(W)=p(w_1)p(w_2|w_1)\\cdots p(w_N|w_1,\\cdots,w_{N-1})  \n",
    "$$\n",
    "- avg ce\n",
    "\n",
    "$$\n",
    "\\begin{split}\n",
    "\\text{avg CE}&=-\\frac1N\\sum_{t=1}^N\\log P(w_t|w_1,\\cdots,w_{\\lt t})\\\\\n",
    "&=-\\frac1N\\log P(W)\n",
    "\\end{split}\n",
    "$$\n",
    "- ppl = exp(ce)\n",
    "$$\n",
    "\\begin{split}\n",
    "PPL&=P(W)^{-\\frac1N}=\\exp(-\\frac1N\\log P(W))\\\\\n",
    "&=(\\exp(\\log P(W)))^{-\\frac1N}\\\\\n",
    "&=\\exp(-\\frac1N\\log P(W))\n",
    "\\end{split}\n",
    "$$"
   ]
  },
  {
   "cell_type": "markdown",
   "id": "15459d55-2f4d-4a9e-bab2-a1b138274a97",
   "metadata": {},
   "source": [
    "### why -log P"
   ]
  },
  {
   "cell_type": "markdown",
   "id": "d517bd8f-b95e-45b5-91d6-f6f6b5be78b2",
   "metadata": {},
   "source": [
    "- P 越远离 1（正确token对应的概率），loss 指数增加；"
   ]
  },
  {
   "cell_type": "code",
   "execution_count": 4,
   "id": "c3a7496e-adde-41de-a7ad-e2de60ee9a8f",
   "metadata": {
    "execution": {
     "iopub.execute_input": "2025-05-18T08:40:31.098168Z",
     "iopub.status.busy": "2025-05-18T08:40:31.097442Z",
     "iopub.status.idle": "2025-05-18T08:40:31.440249Z",
     "shell.execute_reply": "2025-05-18T08:40:31.438296Z",
     "shell.execute_reply.started": "2025-05-18T08:40:31.098102Z"
    }
   },
   "outputs": [
    {
     "data": {
      "text/plain": [
       "<matplotlib.legend.Legend at 0x7041745fb3a0>"
      ]
     },
     "execution_count": 4,
     "metadata": {},
     "output_type": "execute_result"
    },
    {
     "data": {
      "image/png": "[encoded data removed]",
      "text/plain": [
       "<Figure size 400x800 with 1 Axes>"
      ]
     },
     "metadata": {},
     "output_type": "display_data"
    }
   ],
   "source": [
    "p_values = np.linspace(0.01, 1, 400)\n",
    "neg_log_p_values = -np.log(p_values)\n",
    "\n",
    "p_highlight = np.array([0.1, 0.3, 0.5, 0.7, 0.9])\n",
    "neg_log_p_highlight = -np.log(p_highlight)\n",
    "\n",
    "plt.figure(figsize=(4, 8))\n",
    "plt.plot(p_values, neg_log_p_values, label='-log(P)')\n",
    "plt.scatter(p_highlight, neg_log_p_highlight, color='red', zorder=5)\n",
    "for i, txt in enumerate(p_highlight):\n",
    "    plt.annotate(f'(p={txt:.1f}, y={neg_log_p_highlight[i]:.2f})', \n",
    "                 (p_highlight[i], neg_log_p_highlight[i]),\n",
    "                 textcoords=\"offset points\", \n",
    "                 xytext=(0,10), \n",
    "                 ha='center')\n",
    "\n",
    "plt.title('Plot of -log(p)')\n",
    "plt.xlabel('p')\n",
    "plt.ylabel('-log(p)')\n",
    "plt.grid(False)\n",
    "plt.legend()"
   ]
  },
  {
   "cell_type": "markdown",
   "id": "a22796e6-82bb-4d4c-8261-0ffb9fa8f847",
   "metadata": {},
   "source": [
    "### overfitting"
   ]
  },
  {
   "cell_type": "markdown",
   "id": "463b36e8-a38b-4068-aa34-2c6058b1b7f1",
   "metadata": {},
   "source": [
    "- 需要持续监控 training losses & val losses\n",
    "    - training losses 不断地下降，但 val losses 先下降后上升；\n",
    "    - 我这边的经验即是，2个epochs，就会达到 val losses 较低的水平，后续会上升；"
   ]
  },
  {
   "cell_type": "markdown",
   "id": "fa7a09bd-f175-41d1-b6c4-a987dffa9497",
   "metadata": {},
   "source": [
    "### learning rate scheduler"
   ]
  },
  {
   "cell_type": "markdown",
   "id": "d78545ff-e553-473f-8b1e-f3c01c4180d2",
   "metadata": {},
   "source": [
    "- AdamW\n",
    "    - `lr=1e-5`\n",
    "- `get_cosine_schedule_with_warmup`"
   ]
  },
  {
   "cell_type": "code",
   "execution_count": 5,
   "id": "290d6c07-34ce-4d4c-bf6c-bb1bed33b5bc",
   "metadata": {
    "execution": {
     "iopub.execute_input": "2025-05-11T13:40:20.056161Z",
     "iopub.status.busy": "2025-05-11T13:40:20.055527Z",
     "iopub.status.idle": "2025-05-11T13:40:20.071686Z",
     "shell.execute_reply": "2025-05-11T13:40:20.069380Z",
     "shell.execute_reply.started": "2025-05-11T13:40:20.056096Z"
    }
   },
   "outputs": [],
   "source": [
    "import math\n",
    "\n",
    "def get_lr_at_step(\n",
    "    current_step: int,\n",
    "    initial_lr: float,\n",
    "    num_warmup_steps: int,\n",
    "    num_training_steps: int,\n",
    "    min_lr_ratio: float = 0.0,\n",
    "    num_cycles: float = 0.5,\n",
    "):\n",
    "    assert min_lr_ratio >= 0 and min_lr_ratio <= 1.0\n",
    "    # 0.5\n",
    "    coef = (1 - min_lr_ratio) * 0.5\n",
    "    # 0.5\n",
    "    intercept = (1 + min_lr_ratio) * 0.5\n",
    "\n",
    "    if current_step < num_warmup_steps:\n",
    "        # Linear warmup\n",
    "        scale = float(current_step) / float(max(1, num_warmup_steps))\n",
    "    else:\n",
    "        # Cosine decay\n",
    "        progress = float(current_step - num_warmup_steps) / float(max(1, num_training_steps - num_warmup_steps))\n",
    "        x = math.cos(math.pi * float(num_cycles) * 2.0 * progress)\n",
    "        scale = max(0.0, x * coef + intercept) # Ensure learning rate is not negative\n",
    "        \n",
    "    return initial_lr * scale"
   ]
  },
  {
   "cell_type": "markdown",
   "id": "48093e3a-c230-4733-a9b7-cfcd04a405d7",
   "metadata": {},
   "source": [
    "- cos\n",
    "    - cos(pi * 0): 1, cos(pi*1): -1\n",
    "    - 0 -> pi, 变量 x (即 math.cos(...) 的计算结果) 会平滑地从 1 降低到 -1。这就是所谓的“半个余弦周期”——从波峰到波谷。\n",
    "    - 0.5 * x + 0.5\n",
    "        - 1 (0.5 + 0.5) => 0"
   ]
  },
  {
   "cell_type": "code",
   "execution_count": 13,
   "id": "b9345d70-dbe5-431e-826c-a00b9c9a364b",
   "metadata": {
    "execution": {
     "iopub.execute_input": "2025-05-11T13:44:07.481319Z",
     "iopub.status.busy": "2025-05-11T13:44:07.480746Z",
     "iopub.status.idle": "2025-05-11T13:44:07.491457Z",
     "shell.execute_reply": "2025-05-11T13:44:07.489268Z",
     "shell.execute_reply.started": "2025-05-11T13:44:07.481262Z"
    }
   },
   "outputs": [],
   "source": [
    "initial_lr = 1e-5\n",
    "# warmup_ratio = 0.1\n",
    "num_warmup_steps = 7\n",
    "total_steps = 72 # This is num_training_steps in the function context\n",
    "\n",
    "lr_values = [get_lr_at_step(step, initial_lr, num_warmup_steps, total_steps) for step in range(1, total_steps+1)]"
   ]
  },
  {
   "cell_type": "code",
   "execution_count": 16,
   "id": "91bfaaa7-8ae9-4ae3-a166-5f424e365808",
   "metadata": {
    "execution": {
     "iopub.execute_input": "2025-05-11T13:44:32.150249Z",
     "iopub.status.busy": "2025-05-11T13:44:32.149871Z",
     "iopub.status.idle": "2025-05-11T13:44:32.475301Z",
     "shell.execute_reply": "2025-05-11T13:44:32.473395Z",
     "shell.execute_reply.started": "2025-05-11T13:44:32.150215Z"
    }
   },
   "outputs": [
    {
     "data": {
      "text/plain": [
       "<matplotlib.legend.Legend at 0x7800770af340>"
      ]
     },
     "execution_count": 16,
     "metadata": {},
     "output_type": "execute_result"
    },
    {
     "data": {
      "image/png": "[encoded data removed]",
      "text/plain": [
       "<Figure size 1200x400 with 1 Axes>"
      ]
     },
     "metadata": {},
     "output_type": "display_data"
    }
   ],
   "source": [
    "import matplotlib.pyplot as plt\n",
    "plt.figure(figsize=(12, 4))\n",
    "plt.plot(range(1, total_steps+1), lr_values, marker='o', linestyle='-')\n",
    "plt.xlabel(\"Steps\")\n",
    "plt.ylabel(\"Learning Rate\")\n",
    "plt.title(f\"Cosine Schedule with Warmup (LR={initial_lr}, Warmup={num_warmup_steps}, Total={total_steps})\")\n",
    "plt.grid(True)\n",
    "plt.xticks(list(range(0, total_steps, 5))) # Adjust x-axis ticks for better readability\n",
    "plt.axvline(x=num_warmup_steps , color='r', linestyle='--', label=f'Warmup End (Step {num_warmup_steps-1})')\n",
    "plt.legend()"
   ]
  },
  {
   "cell_type": "markdown",
   "id": "f8cb8be7-5ae6-4282-bda3-c31d070cbecf",
   "metadata": {},
   "source": [
    "### SFT vs. RL"
   ]
  },
  {
   "cell_type": "markdown",
   "id": "481bdb93-7f80-4771-ab1b-21944e0309d3",
   "metadata": {},
   "source": [
    "- sft：对 response tokens 做 token 级别的监督学习；\n",
    "    - rl：model 自己产生（rollout）完整的 responses，reward model 提供 reward signal；\n",
    "- RL ref model 的 kl loss，不会偏离原来的模型太多；有一种定向增强模型能力的感觉\n",
    "- SFT 关心 loss，RL 关心 reward\n",
    "    - RL 中我们反而不关心 loss 是否下降，反而追求 loss（kl loss） 某种意义上的上升，因为它在进行探索；\n",
    "- SFT memorization，RL generalization\n",
    "- SFT 是 token level 的 0/1 奖励, RL 是句子 level 的离散奖励.\n",
    "    - https://qiankunli.github.io/2024/07/28/llm_finetune_practice.html\n",
    "    - https://zhuanlan.zhihu.com/p/26370587517"
   ]
  }
 ],
 "metadata": {
  "kernelspec": {
   "display_name": "casual",
   "language": "python",
   "name": "casual"
  },
  "language_info": {
   "codemirror_mode": {
    "name": "ipython",
    "version": 3
   },
   "file_extension": ".py",
   "mimetype": "text/x-python",
   "name": "python",
   "nbconvert_exporter": "python",
   "pygments_lexer": "ipython3",
   "version": "3.10.0"
  }
 },
 "nbformat": 4,
 "nbformat_minor": 5
}
