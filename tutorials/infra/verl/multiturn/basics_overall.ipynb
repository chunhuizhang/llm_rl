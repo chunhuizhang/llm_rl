{
 "cells": [
  {
   "cell_type": "markdown",
   "id": "3e2929c9-25ea-4082-b211-30ef187eba94",
   "metadata": {},
   "source": [
    "- 调参\n",
    "    - 大 train_batch_size， 多 epochs\n",
    "- 参考\n",
    "    - https://mp.weixin.qq.com/s/6nhGaqO066TzOSZaBQWOUg\n",
    "    - https://wandb.ai/swordfaith/gsm8k_async_rl/runs/0pv3qwcy?nw=nwuserswordfaith"
   ]
  },
  {
   "cell_type": "markdown",
   "id": "0224689c-44f9-4edc-9b8f-1f06ad553c02",
   "metadata": {},
   "source": [
    "### prompts & data_preparation"
   ]
  },
  {
   "cell_type": "code",
   "execution_count": 2,
   "id": "d6cc2a6a-3109-443c-89a7-648cac75e2e0",
   "metadata": {
    "execution": {
     "iopub.execute_input": "2025-05-08T12:02:30.138888Z",
     "iopub.status.busy": "2025-05-08T12:02:30.138254Z",
     "iopub.status.idle": "2025-05-08T12:02:30.159362Z",
     "shell.execute_reply": "2025-05-08T12:02:30.157065Z",
     "shell.execute_reply.started": "2025-05-08T12:02:30.138828Z"
    }
   },
   "outputs": [
    {
     "data": {
      "text/plain": [
       "'You are a math expert. You are given a question and you need to solve it step by step. Reasoning step by step before any tool call. You should use the `calc_gsm8k_reward` tool after step by step solving the question, before generate final answer at least once and refine your answer if necessary. Put your final answer in the format of `#### <answer>`.'"
      ]
     },
     "execution_count": 2,
     "metadata": {},
     "output_type": "execute_result"
    }
   ],
   "source": [
    "system_prompt = (\n",
    "    \"You are a math expert. You are given a question and you need to solve it step by step. \"\n",
    "    \"Reasoning step by step before any tool call. \"\n",
    "    \"You should use the `calc_gsm8k_reward` tool after step by step solving the question, \"\n",
    "    \"before generate final answer at least once and refine your answer if necessary. \"\n",
    "    \"Put your final answer in the format of `#### <answer>`.\"\n",
    ")\n",
    "system_prompt"
   ]
  }
 ],
 "metadata": {
  "kernelspec": {
   "display_name": "casual",
   "language": "python",
   "name": "casual"
  },
  "language_info": {
   "codemirror_mode": {
    "name": "ipython",
    "version": 3
   },
   "file_extension": ".py",
   "mimetype": "text/x-python",
   "name": "python",
   "nbconvert_exporter": "python",
   "pygments_lexer": "ipython3",
   "version": "3.10.0"
  }
 },
 "nbformat": 4,
 "nbformat_minor": 5
}
