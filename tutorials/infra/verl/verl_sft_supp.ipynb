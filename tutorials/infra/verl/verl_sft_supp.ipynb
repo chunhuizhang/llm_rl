{
 "cells": [
  {
   "cell_type": "markdown",
   "id": "5de0f2e9-5380-4d84-97ca-77220675815f",
   "metadata": {},
   "source": [
    "```python\n",
    "labels = input_ids[:, 1:].contiguous()\n",
    "output = self.fsdp_model(input_ids=input_ids, attention_mask=attention_mask, position_ids=position_ids, use_cache=False)\n",
    "```\n",
    "\n",
    "- sft 训练的时候，不需要模型进行任何的 decoding/generation\n",
    "    - 所有的 response 都是训练数据，这里的 `input_ids = prompt + response + eos_token`\n",
    "    - 模型的前向只是标准地计算各个位置（预测下一个 token 时）在整个词表上的 logits 分布\n",
    "        - https://www.bilibili.com/video/av1005936005/\n",
    "    - `(batch_size, sequence_length)` => `(batch_size, sequence_length, vocab_size)`"
   ]
  },
  {
   "cell_type": "markdown",
   "id": "6ac6ba52-0455-4af1-831e-8cebffe187b4",
   "metadata": {},
   "source": [
    "- prompt: `你好吗？`\n",
    "- response：`我很好，谢谢你！`\n",
    "  \n",
    "|~~好~~|~~吗~~ |~~？~~|我|很 |好|，|谢 |谢|你|! |EOS|x|\n",
    "|--|--|--|--|--|--|--|--|--|--|--|--|--|\n",
    "|~~你~~|~~好~~|~~吗~~ |？|我 |很|好|， |谢|谢|你|!|~~EOS~~\n",
    "\n",
    "- response 包含 eos token 都需要监督算 loss"
   ]
  },
  {
   "cell_type": "code",
   "execution_count": 26,
   "id": "f1f31ee7-d81e-4153-8660-cf5933a2e137",
   "metadata": {},
   "outputs": [],
   "source": [
    "import torch\n",
    "from transformers import AutoTokenizer"
   ]
  },
  {
   "cell_type": "code",
   "execution_count": 2,
   "id": "2aae66c9-cf11-4857-bb9e-58cb58d69691",
   "metadata": {},
   "outputs": [],
   "source": [
    "tokenizer = AutoTokenizer.from_pretrained('Qwen/Qwen2.5-0.5B-Instruct')"
   ]
  },
  {
   "cell_type": "code",
   "execution_count": 10,
   "id": "6fa73c29-1655-4156-9e05-5cff20f38ffd",
   "metadata": {},
   "outputs": [
    {
     "data": {
      "text/plain": [
       "{'eos_token': '<|im_end|>',\n",
       " 'pad_token': '<|endoftext|>',\n",
       " 'additional_special_tokens': ['<|im_start|>',\n",
       "  '<|im_end|>',\n",
       "  '<|object_ref_start|>',\n",
       "  '<|object_ref_end|>',\n",
       "  '<|box_start|>',\n",
       "  '<|box_end|>',\n",
       "  '<|quad_start|>',\n",
       "  '<|quad_end|>',\n",
       "  '<|vision_start|>',\n",
       "  '<|vision_end|>',\n",
       "  '<|vision_pad|>',\n",
       "  '<|image_pad|>',\n",
       "  '<|video_pad|>']}"
      ]
     },
     "execution_count": 10,
     "metadata": {},
     "output_type": "execute_result"
    }
   ],
   "source": [
    "tokenizer.special_tokens_map"
   ]
  },
  {
   "cell_type": "code",
   "execution_count": 34,
   "id": "dacf3f89-d996-4b53-afe6-4881cd31d4a8",
   "metadata": {},
   "outputs": [
    {
     "data": {
      "text/plain": [
       "('<|im_end|>', 151643, [151644, 151645])"
      ]
     },
     "execution_count": 34,
     "metadata": {},
     "output_type": "execute_result"
    }
   ],
   "source": [
    "tokenizer.eos_token, tokenizer.pad_token_id, tokenizer.encode(['<|im_start|>', '<|im_end|>'])"
   ]
  },
  {
   "cell_type": "code",
   "execution_count": 32,
   "id": "cba90b6d-24cf-43d5-8b96-692868b86866",
   "metadata": {},
   "outputs": [
    {
     "data": {
      "text/plain": [
       "'<|endoftext|>'"
      ]
     },
     "execution_count": 32,
     "metadata": {},
     "output_type": "execute_result"
    }
   ],
   "source": [
    "tokenizer.decode(151643)"
   ]
  },
  {
   "cell_type": "code",
   "execution_count": 12,
   "id": "660d0990-8d25-4acc-8db6-798054b2e0a2",
   "metadata": {},
   "outputs": [],
   "source": [
    "# tokenizer.eos_token == '<|im_end|>'"
   ]
  },
  {
   "cell_type": "code",
   "execution_count": 3,
   "id": "c70d25d7-84f4-41ab-88ed-1cf7c9f53eed",
   "metadata": {},
   "outputs": [],
   "source": [
    "prompt = '你好吗？'\n",
    "response = '我很好，谢谢你！'"
   ]
  },
  {
   "cell_type": "code",
   "execution_count": 4,
   "id": "6250330c-23ec-4a75-a0ce-ccde9e8c86a5",
   "metadata": {},
   "outputs": [],
   "source": [
    "prompt_chat = [{\"role\": \"user\", \"content\": prompt}]"
   ]
  },
  {
   "cell_type": "code",
   "execution_count": 6,
   "id": "34c0b86a-3c1b-4187-ba98-5e4f51b9be48",
   "metadata": {},
   "outputs": [],
   "source": [
    "prompt_chat_str = tokenizer.apply_chat_template(prompt_chat, add_generation_prompt=True, tokenize=False)\n",
    "response_chat_str = response + tokenizer.eos_token"
   ]
  },
  {
   "cell_type": "code",
   "execution_count": 7,
   "id": "e7b023d3-cf02-4151-9e12-1a895ee2d107",
   "metadata": {},
   "outputs": [
    {
     "data": {
      "text/plain": [
       "'<|im_start|>system\\nYou are Qwen, created by Alibaba Cloud. You are a helpful assistant.<|im_end|>\\n<|im_start|>user\\n你好吗？<|im_end|>\\n<|im_start|>assistant\\n'"
      ]
     },
     "execution_count": 7,
     "metadata": {},
     "output_type": "execute_result"
    }
   ],
   "source": [
    "prompt_chat_str"
   ]
  },
  {
   "cell_type": "code",
   "execution_count": 8,
   "id": "18e98c2f-062d-4d6f-a9f3-e31e8ac6eb73",
   "metadata": {},
   "outputs": [
    {
     "data": {
      "text/plain": [
       "'我很好，谢谢你！<|im_end|>'"
      ]
     },
     "execution_count": 8,
     "metadata": {},
     "output_type": "execute_result"
    }
   ],
   "source": [
    "response_chat_str"
   ]
  },
  {
   "cell_type": "markdown",
   "id": "ac0421a4-c449-4bb7-ac65-dfae384118c1",
   "metadata": {},
   "source": [
    "### tokenize"
   ]
  },
  {
   "cell_type": "code",
   "execution_count": 13,
   "id": "d8dbc76d-560d-4a64-b686-b3329fabf147",
   "metadata": {},
   "outputs": [],
   "source": [
    "prompt_ids_output = tokenizer(prompt_chat_str, return_tensors=\"pt\", add_special_tokens=False)"
   ]
  },
  {
   "cell_type": "code",
   "execution_count": 14,
   "id": "dcab1ffd-6689-4a56-b3ac-d249a6ea1e9c",
   "metadata": {},
   "outputs": [
    {
     "data": {
      "text/plain": [
       "(tensor([151644,   8948,    198,   2610,    525,   1207,  16948,     11,   3465,\n",
       "            553,  54364,  14817,     13,   1446,    525,    264,  10950,  17847,\n",
       "             13, 151645,    198, 151644,    872,    198, 108386, 101037,  11319,\n",
       "         151645,    198, 151644,  77091,    198]),\n",
       " tensor([1, 1, 1, 1, 1, 1, 1, 1, 1, 1, 1, 1, 1, 1, 1, 1, 1, 1, 1, 1, 1, 1, 1, 1,\n",
       "         1, 1, 1, 1, 1, 1, 1, 1]))"
      ]
     },
     "execution_count": 14,
     "metadata": {},
     "output_type": "execute_result"
    }
   ],
   "source": [
    "prompt_ids = prompt_ids_output[\"input_ids\"][0]\n",
    "prompt_attention_mask = prompt_ids_output[\"attention_mask\"][0]\n",
    "prompt_ids, prompt_attention_mask"
   ]
  },
  {
   "cell_type": "code",
   "execution_count": 19,
   "id": "332516bb-5a0a-43a5-a9f7-f93db5eb07d6",
   "metadata": {},
   "outputs": [
    {
     "data": {
      "text/plain": [
       "'你好吗？'"
      ]
     },
     "execution_count": 19,
     "metadata": {},
     "output_type": "execute_result"
    }
   ],
   "source": [
    "tokenizer.decode([108386, 101037,  11319])"
   ]
  },
  {
   "cell_type": "code",
   "execution_count": 21,
   "id": "39612086-c37c-4617-b7d9-5650fccae499",
   "metadata": {},
   "outputs": [
    {
     "data": {
      "text/plain": [
       "tensor([ 35946, 101243,   3837, 116642,   6313, 151645])"
      ]
     },
     "execution_count": 21,
     "metadata": {},
     "output_type": "execute_result"
    }
   ],
   "source": [
    "response_ids_output = tokenizer(response_chat_str, return_tensors=\"pt\", add_special_tokens=False)\n",
    "response_ids = response_ids_output[\"input_ids\"][0]\n",
    "response_attention_mask = response_ids_output[\"attention_mask\"][0]\n",
    "response_ids"
   ]
  },
  {
   "cell_type": "code",
   "execution_count": 22,
   "id": "2f311966-438c-4317-a188-530f6c1408e4",
   "metadata": {},
   "outputs": [
    {
     "data": {
      "text/plain": [
       "'我很好，谢谢你！'"
      ]
     },
     "execution_count": 22,
     "metadata": {},
     "output_type": "execute_result"
    }
   ],
   "source": [
    "tokenizer.decode([35946, 101243,   3837, 116642,   6313])"
   ]
  },
  {
   "cell_type": "markdown",
   "id": "09aabc7f-cf53-4575-915a-d87c1435d87b",
   "metadata": {},
   "source": [
    "### padding"
   ]
  },
  {
   "cell_type": "code",
   "execution_count": 24,
   "id": "419780ff-e855-4277-a323-9c6fbf87f08d",
   "metadata": {},
   "outputs": [
    {
     "data": {
      "text/plain": [
       "(32, 6)"
      ]
     },
     "execution_count": 24,
     "metadata": {},
     "output_type": "execute_result"
    }
   ],
   "source": [
    "prompt_length = prompt_ids.shape[0]\n",
    "response_length = response_ids.shape[0]\n",
    "prompt_length, response_length"
   ]
  },
  {
   "cell_type": "code",
   "execution_count": 28,
   "id": "7d08f873-effe-491f-8fbb-33823b513ee6",
   "metadata": {},
   "outputs": [
    {
     "data": {
      "text/plain": [
       "(torch.Size([38]), torch.Size([38]))"
      ]
     },
     "execution_count": 28,
     "metadata": {},
     "output_type": "execute_result"
    }
   ],
   "source": [
    "input_ids = torch.cat((prompt_ids, response_ids), dim=-1)\n",
    "attention_mask = torch.cat((prompt_attention_mask, response_attention_mask), dim=-1)\n",
    "input_ids.shape, attention_mask.shape"
   ]
  },
  {
   "cell_type": "code",
   "execution_count": 39,
   "id": "0acc4e0b-6d50-43d6-9267-b1cd25714363",
   "metadata": {},
   "outputs": [],
   "source": [
    "sequence_length = input_ids.shape[0]"
   ]
  },
  {
   "cell_type": "code",
   "execution_count": 36,
   "id": "122647dc-b807-4a73-b690-22fd632768b4",
   "metadata": {},
   "outputs": [],
   "source": [
    "max_length = 40"
   ]
  },
  {
   "cell_type": "code",
   "execution_count": 40,
   "id": "1681a40d-e868-43e0-a1e4-455fe8853140",
   "metadata": {},
   "outputs": [],
   "source": [
    "padded_input_ids = torch.ones(size=(max_length - sequence_length,), dtype=input_ids.dtype) * tokenizer.pad_token_id\n",
    "padded_attention_mask = torch.zeros(size=(max_length - sequence_length,), dtype=attention_mask.dtype)"
   ]
  },
  {
   "cell_type": "code",
   "execution_count": 42,
   "id": "011347d8-85da-4b3e-a6d7-5ef860efe91f",
   "metadata": {},
   "outputs": [
    {
     "data": {
      "text/plain": [
       "(tensor([151643, 151643]), tensor([0, 0]))"
      ]
     },
     "execution_count": 42,
     "metadata": {},
     "output_type": "execute_result"
    }
   ],
   "source": [
    "padded_input_ids, padded_attention_mask"
   ]
  },
  {
   "cell_type": "code",
   "execution_count": 43,
   "id": "9f3ad804-161a-4dcf-acb7-a87db84ed087",
   "metadata": {},
   "outputs": [],
   "source": [
    "input_ids = torch.cat((input_ids, padded_input_ids))\n",
    "attention_mask = torch.cat((attention_mask, padded_attention_mask))"
   ]
  },
  {
   "cell_type": "code",
   "execution_count": 45,
   "id": "954d14bb-6b16-419c-9e5a-50f743e5ff24",
   "metadata": {},
   "outputs": [
    {
     "data": {
      "text/plain": [
       "(tensor([151644,   8948,    198,   2610,    525,   1207,  16948,     11,   3465,\n",
       "            553,  54364,  14817,     13,   1446,    525,    264,  10950,  17847,\n",
       "             13, 151645,    198, 151644,    872,    198, 108386, 101037,  11319,\n",
       "         151645,    198, 151644,  77091,    198,  35946, 101243,   3837, 116642,\n",
       "           6313, 151645, 151643, 151643]),\n",
       " tensor([1, 1, 1, 1, 1, 1, 1, 1, 1, 1, 1, 1, 1, 1, 1, 1, 1, 1, 1, 1, 1, 1, 1, 1,\n",
       "         1, 1, 1, 1, 1, 1, 1, 1, 1, 1, 1, 1, 1, 1, 0, 0]))"
      ]
     },
     "execution_count": 45,
     "metadata": {},
     "output_type": "execute_result"
    }
   ],
   "source": [
    "input_ids, attention_mask"
   ]
  },
  {
   "cell_type": "code",
   "execution_count": 46,
   "id": "d04311f1-d001-4f88-b721-cb81437650f9",
   "metadata": {},
   "outputs": [],
   "source": [
    "def compute_position_id_with_mask(mask):\n",
    "    return torch.clip(torch.cumsum(mask, dim=-1) - 1, min=0, max=None)"
   ]
  },
  {
   "cell_type": "code",
   "execution_count": 48,
   "id": "73c31eab-ef24-4fc3-9aa3-2b9166b820fb",
   "metadata": {},
   "outputs": [
    {
     "data": {
      "text/plain": [
       "tensor([ 0,  1,  2,  3,  4,  5,  6,  7,  8,  9, 10, 11, 12, 13, 14, 15, 16, 17,\n",
       "        18, 19, 20, 21, 22, 23, 24, 25, 26, 27, 28, 29, 30, 31, 32, 33, 34, 35,\n",
       "        36, 37, 37, 37])"
      ]
     },
     "execution_count": 48,
     "metadata": {},
     "output_type": "execute_result"
    }
   ],
   "source": [
    "position_ids = compute_position_id_with_mask(attention_mask)\n",
    "position_ids"
   ]
  },
  {
   "cell_type": "code",
   "execution_count": 49,
   "id": "f850a6f3-909b-4e2d-9cac-e186b05d51f2",
   "metadata": {},
   "outputs": [],
   "source": [
    "loss_mask = attention_mask.clone()"
   ]
  },
  {
   "cell_type": "code",
   "execution_count": 53,
   "id": "0deb42ba-7f5c-4be7-ada9-80660f472a08",
   "metadata": {},
   "outputs": [],
   "source": [
    "if prompt_length > 1:\n",
    "    # mask out prompt for SFT. prompt 的最后一个 token 参与预测，即预测 response 的第一个 token\n",
    "    loss_mask[: min(prompt_length, loss_mask.size(0)) - 1] = 0\n",
    "# mask out the last token in response\n",
    "loss_mask[min(prompt_length + response_length, loss_mask.size(0)) - 1] = 0"
   ]
  },
  {
   "cell_type": "code",
   "execution_count": 52,
   "id": "ecc820f6-77b6-408f-bab6-36955e596779",
   "metadata": {},
   "outputs": [
    {
     "data": {
      "text/plain": [
       "38"
      ]
     },
     "execution_count": 52,
     "metadata": {},
     "output_type": "execute_result"
    }
   ],
   "source": [
    "min(prompt_length + response_length, loss_mask.size(0))"
   ]
  },
  {
   "cell_type": "code",
   "execution_count": 51,
   "id": "9a144120-48cd-46ac-9f93-5c6ed7de9781",
   "metadata": {},
   "outputs": [
    {
     "data": {
      "text/plain": [
       "tensor([0, 0, 0, 0, 0, 0, 0, 0, 0, 0, 0, 0, 0, 0, 0, 0, 0, 0, 0, 0, 0, 0, 0, 0,\n",
       "        0, 0, 0, 0, 0, 0, 0, 1, 1, 1, 1, 1, 1, 0, 0, 0])"
      ]
     },
     "execution_count": 51,
     "metadata": {},
     "output_type": "execute_result"
    }
   ],
   "source": [
    "# response 包含 eos token 都需要监督算 loss\n",
    "loss_mask"
   ]
  },
  {
   "cell_type": "code",
   "execution_count": null,
   "id": "fec99e49-9e13-4fa4-85c9-5cf4d8e702b0",
   "metadata": {},
   "outputs": [],
   "source": []
  }
 ],
 "metadata": {
  "kernelspec": {
   "display_name": "Python 3 (ipykernel)",
   "language": "python",
   "name": "python3"
  },
  "language_info": {
   "codemirror_mode": {
    "name": "ipython",
    "version": 3
   },
   "file_extension": ".py",
   "mimetype": "text/x-python",
   "name": "python",
   "nbconvert_exporter": "python",
   "pygments_lexer": "ipython3",
   "version": "3.10.0"
  }
 },
 "nbformat": 4,
 "nbformat_minor": 5
}
