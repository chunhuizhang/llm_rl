{
 "cells": [
  {
   "cell_type": "markdown",
   "id": "a28c763b-17bd-4b1f-94bc-21081033c352",
   "metadata": {},
   "source": [
    "```\n",
    "self.ulysses_sequence_parallel_size = self.config.ulysses_sequence_parallel_size\n",
    "self.use_ulysses_sp = self.ulysses_sequence_parallel_size > 1\n",
    "```"
   ]
  }
 ],
 "metadata": {
  "kernelspec": {
   "display_name": "verl",
   "language": "python",
   "name": "verl"
  },
  "language_info": {
   "codemirror_mode": {
    "name": "ipython",
    "version": 3
   },
   "file_extension": ".py",
   "mimetype": "text/x-python",
   "name": "python",
   "nbconvert_exporter": "python",
   "pygments_lexer": "ipython3",
   "version": "3.9.0"
  }
 },
 "nbformat": 4,
 "nbformat_minor": 5
}
