{
 "cells": [
  {
   "cell_type": "markdown",
   "id": "a28c763b-17bd-4b1f-94bc-21081033c352",
   "metadata": {},
   "source": [
    "```\n",
    "self.ulysses_sequence_parallel_size = self.config.ulysses_sequence_parallel_size\n",
    "self.use_ulysses_sp = self.ulysses_sequence_parallel_size > 1\n",
    "```"
   ]
  },
  {
   "cell_type": "markdown",
   "id": "d130424b-5176-4d40-b978-5e263d1aa32b",
   "metadata": {},
   "source": [
    "```python\n",
    "actor_rollout_ref.actor.ppo_max_token_len_per_gpu=8192 \\\n",
    "actor_rollout_ref.rollout.log_prob_max_token_len_per_gpu=8192 \\\n",
    "actor_rollout_ref.ref.log_prob_max_token_len_per_gpu=8192 \\\n",
    "```"
   ]
  }
 ],
 "metadata": {
  "kernelspec": {
   "display_name": "casual",
   "language": "python",
   "name": "casual"
  },
  "language_info": {
   "codemirror_mode": {
    "name": "ipython",
    "version": 3
   },
   "file_extension": ".py",
   "mimetype": "text/x-python",
   "name": "python",
   "nbconvert_exporter": "python",
   "pygments_lexer": "ipython3",
   "version": "3.10.0"
  }
 },
 "nbformat": 4,
 "nbformat_minor": 5
}
