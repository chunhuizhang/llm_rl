{
 "cells": [
  {
   "cell_type": "markdown",
   "id": "68f39100-3e0f-4e35-a272-23d762cc241e",
   "metadata": {},
   "source": [
    "- https://verl.readthedocs.io/en/latest/perf/perf_tuning.html\n",
    "- https://verl.readthedocs.io/en/latest/perf/device_tuning.html\n",
    "    - https://github.com/volcengine/verl/blob/main/examples/tuning/7b/qwen2-7b_grpo_2_h800_fsdp_vllm.sh"
   ]
  }
 ],
 "metadata": {
  "kernelspec": {
   "display_name": "verl",
   "language": "python",
   "name": "verl"
  },
  "language_info": {
   "codemirror_mode": {
    "name": "ipython",
    "version": 3
   },
   "file_extension": ".py",
   "mimetype": "text/x-python",
   "name": "python",
   "nbconvert_exporter": "python",
   "pygments_lexer": "ipython3",
   "version": "3.9.0"
  }
 },
 "nbformat": 4,
 "nbformat_minor": 5
}
