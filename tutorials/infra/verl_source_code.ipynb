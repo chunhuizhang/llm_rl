{
 "cells": [
  {
   "cell_type": "code",
   "execution_count": 1,
   "id": "36c0e1a0-0a21-470e-822c-30189db1d6fc",
   "metadata": {
    "execution": {
     "iopub.execute_input": "2025-03-15T04:12:59.599028Z",
     "iopub.status.busy": "2025-03-15T04:12:59.598371Z",
     "iopub.status.idle": "2025-03-15T04:12:59.608412Z",
     "shell.execute_reply": "2025-03-15T04:12:59.606653Z",
     "shell.execute_reply.started": "2025-03-15T04:12:59.598976Z"
    }
   },
   "outputs": [],
   "source": [
    "import json"
   ]
  },
  {
   "cell_type": "markdown",
   "id": "3bae1453-b7a1-4b4d-b5d2-52953b8b14ae",
   "metadata": {},
   "source": [
    "- 算法流程（ppo，grpo）\n",
    "- 懂 verl 的工作流程\n",
    "    - verl 的数据结构设计；\n",
    "        - DataProto：batch、non_batch_tensor"
   ]
  },
  {
   "cell_type": "markdown",
   "id": "6aff2042-466b-4a02-a452-0acfb652d8e8",
   "metadata": {},
   "source": [
    "```sh\n",
    "set -x\n",
    "\n",
    "export VLLM_ATTENTION_BACKEND=XFORMERS\n",
    "\n",
    "NUM_GPUS=$(nvidia-smi --query-gpu=name --format=csv,noheader | wc -l)\n",
    "\n",
    "ray stop\n",
    "sleep 5\n",
    "\n",
    "ray start --head --node-ip-address 0.0.0.0 --num-gpus $NUM_GPUS --ray-debugger-external --port 6380\n",
    "\n",
    "python3 -m verl.trainer.main_ppo \\\n",
    "    algorithm.adv_estimator=grpo \\\n",
    "    data.train_files=$HOME/data/gsm8k/train.parquet \\\n",
    "    data.val_files=$HOME/data/gsm8k/test.parquet \\\n",
    "    data.train_batch_size=8 \\\n",
    "    data.max_prompt_length=256 \\\n",
    "    data.max_response_length=512 \\\n",
    "    actor_rollout_ref.model.path=Qwen/Qwen2.5-0.5B-Instruct \\\n",
    "    actor_rollout_ref.actor.optim.lr=1e-6 \\\n",
    "    actor_rollout_ref.model.use_remove_padding=True \\\n",
    "    actor_rollout_ref.actor.ppo_mini_batch_size=8 \\\n",
    "    actor_rollout_ref.actor.ppo_micro_batch_size_per_gpu=4 \\\n",
    "    actor_rollout_ref.actor.use_kl_loss=True \\\n",
    "    actor_rollout_ref.actor.kl_loss_coef=0.001 \\\n",
    "    actor_rollout_ref.actor.kl_loss_type=low_var_kl \\\n",
    "    actor_rollout_ref.model.enable_gradient_checkpointing=True \\\n",
    "    actor_rollout_ref.actor.fsdp_config.param_offload=False \\\n",
    "    actor_rollout_ref.actor.fsdp_config.optimizer_offload=False \\\n",
    "    actor_rollout_ref.rollout.log_prob_micro_batch_size_per_gpu=160 \\\n",
    "    actor_rollout_ref.rollout.tensor_model_parallel_size=1 \\\n",
    "    actor_rollout_ref.rollout.name=vllm \\\n",
    "    actor_rollout_ref.rollout.gpu_memory_utilization=0.6 \\\n",
    "    actor_rollout_ref.rollout.n=2 \\\n",
    "    actor_rollout_ref.ref.log_prob_micro_batch_size_per_gpu=160 \\\n",
    "    actor_rollout_ref.ref.fsdp_config.param_offload=True \\\n",
    "    algorithm.kl_ctrl.kl_coef=0.001 \\\n",
    "    trainer.critic_warmup=0 \\\n",
    "    trainer.logger=['console','wandb'] \\\n",
    "    trainer.project_name='verl_grpo_example_gsm8k' \\\n",
    "    trainer.experiment_name='qwen_0.5b_function_rm' \\\n",
    "    trainer.n_gpus_per_node=$NUM_GPUS \\\n",
    "    trainer.nnodes=1 \\\n",
    "    trainer.save_freq=-1 \\\n",
    "    trainer.test_freq=5 \\\n",
    "    trainer.total_epochs=15 $@\n",
    "```"
   ]
  },
  {
   "cell_type": "markdown",
   "id": "c2674660-3796-41d0-a5a4-7cd6962405ea",
   "metadata": {},
   "source": [
    "- main_ppo.py\n",
    "\n",
    "```python\n",
    "trainer = RayPPOTrainer(config=config,\n",
    "                        tokenizer=tokenizer,\n",
    "                        role_worker_mapping=role_worker_mapping,\n",
    "                        resource_pool_manager=resource_pool_manager,\n",
    "                        ray_worker_group_cls=ray_worker_group_cls,\n",
    "                        reward_fn=reward_fn,\n",
    "                        val_reward_fn=val_reward_fn)\n",
    "trainer.init_workers()\n",
    "trainer.fit()\n",
    "```"
   ]
  },
  {
   "cell_type": "markdown",
   "id": "9bd54e1f-2faf-401e-b135-f30fd7000634",
   "metadata": {},
   "source": [
    "## data"
   ]
  },
  {
   "cell_type": "markdown",
   "id": "9d878870-a729-4b27-abd3-ece1413c95a9",
   "metadata": {},
   "source": [
    "- tokenizer => apply_chat_template\n",
    "    - vllm parameters\n",
    "- data_source\n",
    "    - 一份 val，可以 merge 多个 data_source 来源的数据\n",
    " \n",
    "```json\n",
    "{\n",
    "    'data_source': 'openai/gsm8k', \n",
    "    'ability': 'math', \n",
    "    'reward_model': {'ground_truth': '18', 'style': 'rule'}, \n",
    "    'extra_info': {'answer': 'Janet sells 16 - 3 -...t.\\n#### 18', 'index': 0, 'question': 'Janet’s ducks lay 16... market?\", 'split': 'test'}, \n",
    "    'index': 0\n",
    "}\n",
    "```"
   ]
  },
  {
   "cell_type": "markdown",
   "id": "6866c85b-ac5d-44b8-9d9c-01ca23dc0aa6",
   "metadata": {},
   "source": [
    "### DataProto"
   ]
  },
  {
   "cell_type": "markdown",
   "id": "5dbbb496-e963-4ca5-ba9e-2c80b18185de",
   "metadata": {},
   "source": [
    "```\n",
    "batch: TensorDict = None\n",
    "non_tensor_batch: Dict = field(default_factory=dict)\n",
    "meta_info: Dict = field(default_factory=dict)\n",
    "```"
   ]
  },
  {
   "cell_type": "markdown",
   "id": "a0a227d5-35ac-4799-beab-3d854c9ec4bd",
   "metadata": {},
   "source": [
    "## `_validate`"
   ]
  },
  {
   "cell_type": "markdown",
   "id": "6bfc6532-df56-405f-bf03-c411c272fb90",
   "metadata": {},
   "source": [
    "- `Validation datasets are sent to inference engines as a whole batch, which will schedule the memory themselves.`\n",
    "    - vllm inference engine\n",
    "- batch\n",
    "    - left padding, 151643, `<|endoftext|>`\n",
    "        - 198, '\\n'"
   ]
  },
  {
   "cell_type": "markdown",
   "id": "fdaa2e64-4d6d-4aa2-b5c3-281f59479955",
   "metadata": {},
   "source": [
    "### ppo training"
   ]
  },
  {
   "cell_type": "markdown",
   "id": "a563fa70-f6f0-482f-a810-1314217ca782",
   "metadata": {},
   "source": [
    "### metrics"
   ]
  },
  {
   "cell_type": "markdown",
   "id": "6dc39c09-ff8c-44af-99bb-3a7f4a94e266",
   "metadata": {},
   "source": [
    "- actor\n",
    "    - ppo_kl (inside PPO (RLHF)):\n",
    "        ```python\n",
    "        negative_approx_kl = log_prob - old_log_prob\n",
    "        ratio = torch.exp(negative_approx_kl)\n",
    "        ppo_kl = verl_F.masked_mean(-negative_approx_kl, eos_mask)\n",
    "        ```\n",
    "    - kl_loss: $kl(\\pi_\\theta\\|\\pi_{ref})$"
   ]
  }
 ],
 "metadata": {
  "kernelspec": {
   "display_name": "Python 3 (ipykernel)",
   "language": "python",
   "name": "python3"
  },
  "language_info": {
   "codemirror_mode": {
    "name": "ipython",
    "version": 3
   },
   "file_extension": ".py",
   "mimetype": "text/x-python",
   "name": "python",
   "nbconvert_exporter": "python",
   "pygments_lexer": "ipython3",
   "version": "3.9.0"
  }
 },
 "nbformat": 4,
 "nbformat_minor": 5
}
