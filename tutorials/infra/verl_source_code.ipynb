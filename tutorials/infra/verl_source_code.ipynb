{
 "cells": [
  {
   "cell_type": "code",
   "execution_count": 1,
   "id": "36c0e1a0-0a21-470e-822c-30189db1d6fc",
   "metadata": {
    "execution": {
     "iopub.execute_input": "2025-03-15T04:12:59.599028Z",
     "iopub.status.busy": "2025-03-15T04:12:59.598371Z",
     "iopub.status.idle": "2025-03-15T04:12:59.608412Z",
     "shell.execute_reply": "2025-03-15T04:12:59.606653Z",
     "shell.execute_reply.started": "2025-03-15T04:12:59.598976Z"
    }
   },
   "outputs": [],
   "source": [
    "import json"
   ]
  },
  {
   "cell_type": "markdown",
   "id": "c2674660-3796-41d0-a5a4-7cd6962405ea",
   "metadata": {},
   "source": [
    "- main_ppo.py\n",
    "\n",
    "```python\n",
    "trainer = RayPPOTrainer(config=config,\n",
    "                        tokenizer=tokenizer,\n",
    "                        role_worker_mapping=role_worker_mapping,\n",
    "                        resource_pool_manager=resource_pool_manager,\n",
    "                        ray_worker_group_cls=ray_worker_group_cls,\n",
    "                        reward_fn=reward_fn,\n",
    "                        val_reward_fn=val_reward_fn)\n",
    "trainer.init_workers()\n",
    "trainer.fit()\n",
    "```"
   ]
  },
  {
   "cell_type": "markdown",
   "id": "9bd54e1f-2faf-401e-b135-f30fd7000634",
   "metadata": {},
   "source": [
    "### data"
   ]
  },
  {
   "cell_type": "markdown",
   "id": "9d878870-a729-4b27-abd3-ece1413c95a9",
   "metadata": {},
   "source": [
    "- tokenizer => apply_chat_template\n",
    "    - vllm parameters\n",
    "- data_source\n",
    "    - 一份 val，可以 merge 多个 data_source 来源的数据\n",
    " \n",
    "```json\n",
    "{\n",
    "    'data_source': 'openai/gsm8k', \n",
    "    'ability': 'math', \n",
    "    'reward_model': {'ground_truth': '18', 'style': 'rule'}, \n",
    "    'extra_info': {'answer': 'Janet sells 16 - 3 -...t.\\n#### 18', 'index': 0, 'question': 'Janet’s ducks lay 16... market?\", 'split': 'test'}, \n",
    "    'index': 0\n",
    "}\n",
    "```"
   ]
  },
  {
   "cell_type": "markdown",
   "id": "a0a227d5-35ac-4799-beab-3d854c9ec4bd",
   "metadata": {},
   "source": [
    "### `_validate`"
   ]
  },
  {
   "cell_type": "markdown",
   "id": "6bfc6532-df56-405f-bf03-c411c272fb90",
   "metadata": {},
   "source": [
    "- `Validation datasets are sent to inference engines as a whole batch, which will schedule the memory themselves.`\n",
    "    - vllm inference engine\n",
    "- batch\n",
    "    - left padding, 151643, `<|endoftext|>`\n",
    "        - 198, '\\n'"
   ]
  },
  {
   "cell_type": "markdown",
   "id": "fdaa2e64-4d6d-4aa2-b5c3-281f59479955",
   "metadata": {},
   "source": [
    "### ppo training"
   ]
  },
  {
   "cell_type": "markdown",
   "id": "a563fa70-f6f0-482f-a810-1314217ca782",
   "metadata": {},
   "source": [
    "### metrics"
   ]
  },
  {
   "cell_type": "code",
   "execution_count": null,
   "id": "1c1f4067-4864-4992-8b02-0074f68a9b73",
   "metadata": {},
   "outputs": [],
   "source": []
  }
 ],
 "metadata": {
  "kernelspec": {
   "display_name": "Python 3 (ipykernel)",
   "language": "python",
   "name": "python3"
  },
  "language_info": {
   "codemirror_mode": {
    "name": "ipython",
    "version": 3
   },
   "file_extension": ".py",
   "mimetype": "text/x-python",
   "name": "python",
   "nbconvert_exporter": "python",
   "pygments_lexer": "ipython3",
   "version": "3.10.13"
  }
 },
 "nbformat": 4,
 "nbformat_minor": 5
}
