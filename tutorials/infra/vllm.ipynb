{
 "cells": [
  {
   "cell_type": "code",
   "execution_count": 1,
   "id": "27dfd576-6b9e-4033-aaf3-86e31375b011",
   "metadata": {
    "execution": {
     "iopub.execute_input": "2025-03-04T16:16:41.249024Z",
     "iopub.status.busy": "2025-03-04T16:16:41.248763Z",
     "iopub.status.idle": "2025-03-04T16:16:41.253932Z",
     "shell.execute_reply": "2025-03-04T16:16:41.252834Z",
     "shell.execute_reply.started": "2025-03-04T16:16:41.249006Z"
    }
   },
   "outputs": [],
   "source": [
    "from vllm import SamplingParams"
   ]
  },
  {
   "cell_type": "code",
   "execution_count": 5,
   "id": "7888232c-c731-4816-98ea-80c9b3cab2e8",
   "metadata": {
    "execution": {
     "iopub.execute_input": "2025-03-04T16:17:53.188229Z",
     "iopub.status.busy": "2025-03-04T16:17:53.187725Z",
     "iopub.status.idle": "2025-03-04T16:17:53.196252Z",
     "shell.execute_reply": "2025-03-04T16:17:53.194134Z",
     "shell.execute_reply.started": "2025-03-04T16:17:53.188188Z"
    }
   },
   "outputs": [],
   "source": [
    "# SamplingParams??"
   ]
  },
  {
   "cell_type": "markdown",
   "id": "b131125c-e1c0-46d2-bc5e-6c6d655e3be8",
   "metadata": {},
   "source": [
    "### SamplingParams"
   ]
  },
  {
   "cell_type": "markdown",
   "id": "dae5ec07-7de9-45b2-8881-e3844a61b9bb",
   "metadata": {},
   "source": [
    "- `stop`, ` stop_token_ids`\n",
    "    - `stop=stop_condition`,"
   ]
  }
 ],
 "metadata": {
  "kernelspec": {
   "display_name": "Python 3 (ipykernel)",
   "language": "python",
   "name": "python3"
  },
  "language_info": {
   "codemirror_mode": {
    "name": "ipython",
    "version": 3
   },
   "file_extension": ".py",
   "mimetype": "text/x-python",
   "name": "python",
   "nbconvert_exporter": "python",
   "pygments_lexer": "ipython3",
   "version": "3.9.0"
  }
 },
 "nbformat": 4,
 "nbformat_minor": 5
}
