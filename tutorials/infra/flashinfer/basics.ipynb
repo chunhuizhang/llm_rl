{
 "cells": [
  {
   "cell_type": "markdown",
   "id": "a52da9d4-8c51-408d-a18b-7bac56b91cd2",
   "metadata": {},
   "source": [
    "- FlashInfer is not available. Falling back to the PyTorch-native implementation of **top-p** & **top-k** sampling. For the best performance, please install FlashInfer."
   ]
  }
 ],
 "metadata": {
  "kernelspec": {
   "display_name": "Python 3 (ipykernel)",
   "language": "python",
   "name": "python3"
  },
  "language_info": {
   "codemirror_mode": {
    "name": "ipython",
    "version": 3
   },
   "file_extension": ".py",
   "mimetype": "text/x-python",
   "name": "python",
   "nbconvert_exporter": "python",
   "pygments_lexer": "ipython3",
   "version": "3.10.0"
  }
 },
 "nbformat": 4,
 "nbformat_minor": 5
}
