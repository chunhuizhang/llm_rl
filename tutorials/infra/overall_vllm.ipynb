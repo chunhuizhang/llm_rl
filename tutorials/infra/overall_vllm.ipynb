{
 "cells": [
  {
   "cell_type": "markdown",
   "id": "5247872d-ae23-4ebd-8b9e-44ba07096e20",
   "metadata": {},
   "source": [
    "- vllm 的版本问题：`pip show vllm`\n",
    "    - veRL now supports vLLM>=0.8.2 when using FSDP as the training backend. Please refer to this document for installation guide and more information. Please avoid vllm 0.7.x which contains bugs that may lead to OOMs and unexpected errors.\n",
    "- environment variables\n",
    "    - https://docs.vllm.ai/en/latest/serving/env_vars.html\n",
    "    - VLLM_ATTENTION_BACKEND （ Backend for attention computation）\n",
    "        - `export VLLM_ATTENTION_BACKEND=XFORMERS`\n",
    "        - verl 的启动脚本需要指定，否则有可能在训练过程中报 `RuntimeError: CUDA error: an illegal memory access was encountered`"
   ]
  },
  {
   "cell_type": "markdown",
   "id": "e044268f-a739-4763-a009-647b5990d6bd",
   "metadata": {},
   "source": [
    "### SamplingParameters"
   ]
  },
  {
   "cell_type": "markdown",
   "id": "acafa539-3798-441d-a9dc-e5f96c7020cb",
   "metadata": {},
   "source": [
    "- `SamplingParams`\n",
    "    - `max_tokens`: Maximum number of tokens to generate per output sequence.\n",
    "    - `ignore_eos`：default false；\n",
    "        - `resp.outputs[0].token_ids`\n",
    "            - qwen 末尾是 `<|endoftext|>`\n",
    "    - `stop`, ` stop_token_ids`\n",
    "        - `stop=stop_condition`"
   ]
  }
 ],
 "metadata": {
  "kernelspec": {
   "display_name": "verl",
   "language": "python",
   "name": "verl"
  },
  "language_info": {
   "codemirror_mode": {
    "name": "ipython",
    "version": 3
   },
   "file_extension": ".py",
   "mimetype": "text/x-python",
   "name": "python",
   "nbconvert_exporter": "python",
   "pygments_lexer": "ipython3",
   "version": "3.9.0"
  }
 },
 "nbformat": 4,
 "nbformat_minor": 5
}
