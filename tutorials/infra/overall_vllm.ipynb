{
 "cells": [
  {
   "cell_type": "markdown",
   "id": "5247872d-ae23-4ebd-8b9e-44ba07096e20",
   "metadata": {},
   "source": [
    "- environment variables\n",
    "    - https://docs.vllm.ai/en/latest/serving/env_vars.html\n",
    "    - VLLM_ATTENTION_BACKEND （ Backend for attention computation）\n",
    "        - `export VLLM_ATTENTION_BACKEND=XFORMERS`\n",
    "        - verl 的启动脚本需要指定，否则有可能在训练过程中报 `RuntimeError: CUDA error: an illegal memory access was encountered`"
   ]
  }
 ],
 "metadata": {
  "kernelspec": {
   "display_name": "verl",
   "language": "python",
   "name": "verl"
  },
  "language_info": {
   "codemirror_mode": {
    "name": "ipython",
    "version": 3
   },
   "file_extension": ".py",
   "mimetype": "text/x-python",
   "name": "python",
   "nbconvert_exporter": "python",
   "pygments_lexer": "ipython3",
   "version": "3.9.0"
  }
 },
 "nbformat": 4,
 "nbformat_minor": 5
}
