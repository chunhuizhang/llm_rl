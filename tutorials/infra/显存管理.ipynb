{
 "cells": [
  {
   "cell_type": "markdown",
   "id": "47548544-12d0-4a02-a29b-f178f07fc309",
   "metadata": {},
   "source": [
    "### verl: vllm & fsdp"
   ]
  },
  {
   "cell_type": "markdown",
   "id": "8ef3df50-765f-4e30-b3fd-49a894402c54",
   "metadata": {},
   "source": [
    "- torch\n",
    "    - 调用 `empty_cache()` 会释放 PyTorch 中所有未使用的缓存内存，以便其他 GPU 应用程序可以使用这些内存。\n",
    "- vllm\n",
    "    - vllm has its own caching memory allocator CuMemAllocator\n",
    "        - https://github.com/vllm-project/vllm/blob/v0.7.3/vllm/device_allocator/cumem.py#L103\n",
    "- https://github.com/vllm-project/vllm/issues/15254\n",
    "    - (old_weights + kv_cache) + new_weights\n",
    "```python\n",
    "params = self.fsdp_module.state_dict() # new weights on GPU\n",
    "self.inference_engine.wake_up() # old weights + kv_cache memory allocated -> this can cause OOM for big models!\n",
    "self.inference_engine.llm_engine.model_executor.driver_worker.worker.model_runner.model.load_weights([(name, param) for name, param in params.items())])\n",
    "```"
   ]
  },
  {
   "cell_type": "code",
   "execution_count": null,
   "id": "2b156478-a7e4-4df1-a40e-a32d6de1f586",
   "metadata": {},
   "outputs": [],
   "source": []
  }
 ],
 "metadata": {
  "kernelspec": {
   "display_name": "Python 3 (ipykernel)",
   "language": "python",
   "name": "python3"
  },
  "language_info": {
   "codemirror_mode": {
    "name": "ipython",
    "version": 3
   },
   "file_extension": ".py",
   "mimetype": "text/x-python",
   "name": "python",
   "nbconvert_exporter": "python",
   "pygments_lexer": "ipython3",
   "version": "3.10.0"
  }
 },
 "nbformat": 4,
 "nbformat_minor": 5
}
