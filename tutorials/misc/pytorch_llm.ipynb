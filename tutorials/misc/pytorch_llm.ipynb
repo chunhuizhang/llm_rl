{
 "cells": [
  {
   "cell_type": "markdown",
   "id": "7d06848b-4cf0-4dea-ac9b-dc82129447a7",
   "metadata": {},
   "source": [
    "- $r_t = \\frac{\\pi_{\\theta_{\\text{new}}}(o_t | s_t)}{\\pi_{\\theta_{\\text{old}}}(o_t | s_t)} = \\exp\\left(\\log\\left(\\frac{\\pi_{\\theta_{\\text{new}}}(o_t | s_t)}{\\pi_{\\theta_{\\text{old}}}(o_t | s_t)}\\right)\\right) = \\exp(\\log \\pi_{\\theta_{\\text{new}}}(o_t | s_t) - \\log \\pi_{\\theta_{\\text{old}}}(o_t | s_t))$\n",
    "    - 模型直接输出的是未经归一化的`logits`。我们不直接用`softmax`得到概率，而是用`F.log_softmax`一步到位得到对数概率，这在数值上更稳定。"
   ]
  }
 ],
 "metadata": {
  "kernelspec": {
   "display_name": "Python 3 (ipykernel)",
   "language": "python",
   "name": "python3"
  },
  "language_info": {
   "codemirror_mode": {
    "name": "ipython",
    "version": 3
   },
   "file_extension": ".py",
   "mimetype": "text/x-python",
   "name": "python",
   "nbconvert_exporter": "python",
   "pygments_lexer": "ipython3",
   "version": "3.10.0"
  }
 },
 "nbformat": 4,
 "nbformat_minor": 5
}
